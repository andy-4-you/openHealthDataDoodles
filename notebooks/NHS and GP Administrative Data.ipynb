{
 "cells": [
  {
   "cell_type": "markdown",
   "metadata": {},
   "source": [
    "# NHS and GP Administrative Data\n",
    "\n",
    "Notebook showing how to import administrative data for GP practices and additionally place it into a SQLite database. *(SQLite is a simple file based SQL database that \"just works\".)*\n",
    "\n",
    "Data file download URLs identfied via:\n",
    "\n",
    "- GP Practices: http://systems.digital.nhs.uk/data/ods/datadownloads/gppractice\n",
    "- High Level Admin: http://systems.digital.nhs.uk/data/ods/datadownloads/haandsa\n",
    "- Trusts: http://systems.digital.nhs.uk/data/ods/datadownloads/othernhs"
   ]
  },
  {
   "cell_type": "code",
   "execution_count": 1,
   "metadata": {
    "collapsed": true
   },
   "outputs": [],
   "source": [
    "#!pip install pandas\n",
    "#pandas is a python library for working with tabular datasets\n",
    "#It can be used to import data from CSV files and Excel spreadsheets\n",
    "import pandas as pd"
   ]
  },
  {
   "cell_type": "code",
   "execution_count": 2,
   "metadata": {
    "collapsed": false
   },
   "outputs": [],
   "source": [
    "#SQLite is a file based SQL database included in the Python distribution\n",
    "import sqlite3\n",
    "#If you want to build the database from scratch, delete any outstanding copy\n",
    "#Uncomment and run the following command line (!) command\n",
    "!rm nhsadmin.sqlite"
   ]
  },
  {
   "cell_type": "code",
   "execution_count": 3,
   "metadata": {
    "collapsed": true
   },
   "outputs": [],
   "source": [
    "#Create a connection to the database\n",
    "con = sqlite3.connect(\"nhsadmin.sqlite\")"
   ]
  },
  {
   "cell_type": "code",
   "execution_count": 4,
   "metadata": {
    "collapsed": false
   },
   "outputs": [],
   "source": [
    "#This function helps download and unpack data files\n",
    "def downloader(typ,url=None):\n",
    "    !rm downloads/{typ}.zip\n",
    "    if url is None:\n",
    "        url='http://systems.digital.nhs.uk/data/ods/datadownloads/data-files/{typ}.zip'.format(typ=typ)\n",
    "    #Download the data from the HSCIC website\n",
    "    !wget -P downloads/ {url}\n",
    "    !rm -r data/{typ}/\n",
    "    #Unzip the downloaded files into a subdirectory of the data folder, making sure the data dir exists first\n",
    "    !mkdir -p data\n",
    "    #The -o flag is overkill - if we hadn't deleted the original folder it would overwirte any similar files\n",
    "    !unzip -o -d data/{typ} downloads/{typ}.zip"
   ]
  },
  {
   "cell_type": "code",
   "execution_count": 5,
   "metadata": {
    "collapsed": true
   },
   "outputs": [],
   "source": [
    "def getData(typ,dates=None):\n",
    "    downloader(typ)\n",
    "    if dates is None: df = pd.read_csv('data/{typ}/{typ}.csv'.format(typ=typ),header=None)\n",
    "    else: df = pd.read_csv('data/{typ}/{typ}.csv'.format(typ=typ),header=None,parse_dates=dates)\n",
    "    return df"
   ]
  },
  {
   "cell_type": "markdown",
   "metadata": {},
   "source": [
    "## epraccur"
   ]
  },
  {
   "cell_type": "code",
   "execution_count": 6,
   "metadata": {
    "collapsed": false
   },
   "outputs": [
    {
     "name": "stdout",
     "output_type": "stream",
     "text": [
      "--2016-09-25 17:50:42--  http://systems.digital.nhs.uk/data/ods/datadownloads/data-files/epraccur.zip\n",
      "Resolving systems.digital.nhs.uk... 194.189.27.101\n",
      "Connecting to systems.digital.nhs.uk|194.189.27.101|:80... connected.\n",
      "HTTP request sent, awaiting response... 200 OK\n",
      "Length: 597146 (583K) [application/zip]\n",
      "Saving to: 'downloads/epraccur.zip'\n",
      "\n",
      "epraccur.zip        100%[=====================>] 583.15K  1.26MB/s   in 0.5s   \n",
      "\n",
      "2016-09-25 17:50:44 (1.26 MB/s) - 'downloads/epraccur.zip' saved [597146/597146]\n",
      "\n",
      "Archive:  downloads/epraccur.zip\n",
      "  inflating: data/epraccur/epraccur.csv  \n",
      "  inflating: data/epraccur/epraccur.pdf  \n"
     ]
    }
   ],
   "source": [
    "#via http://systems.digital.nhs.uk/data/ods/datadownloads/gppractice\n",
    "#epraccur is administrative info about GP practices - practice codes, address, etc etc\n",
    "\n",
    "EPRACCUR='epraccur'\n",
    "epraccur= getData(EPRACCUR)"
   ]
  },
  {
   "cell_type": "code",
   "execution_count": 7,
   "metadata": {
    "collapsed": false
   },
   "outputs": [
    {
     "data": {
      "text/plain": [
       "Int64Index([ 0,  1,  2,  3,  4,  5,  6,  7,  8,  9, 10, 11, 12, 13, 14, 15, 16,\n",
       "            17, 18, 19, 20, 21, 22, 23, 24, 25, 26],\n",
       "           dtype='int64')"
      ]
     },
     "execution_count": 7,
     "metadata": {},
     "output_type": "execute_result"
    }
   ],
   "source": [
    "epraccur.columns"
   ]
  },
  {
   "cell_type": "code",
   "execution_count": 8,
   "metadata": {
    "collapsed": true
   },
   "outputs": [],
   "source": [
    "#Update the column names\n",
    "#Really, we should do this by loading in the Excel version of the file\n",
    "#and then extracting the metadata from the spreadsheet to identify the column names\n",
    "#The following information is extracted from the metadata PDF\n",
    "cols=['Organisation Code','Name','National Grouping','High Level Health Geography',\n",
    "      'Address Line 1','Address Line 2','Address Line 3','Address Line 4','Address Line 5','Postcode',\n",
    "      'Open Date','Close Date','Status Code','Organisation Sub-Type code',\n",
    "      'Commissioner','Join Provider/Purchaser Date','Left Provider/Purchaser Date','Contact Telephone Number',\n",
    "      'Null','Null','Null',\n",
    "      'Amended Record Indicator','Null',\n",
    "      'Provider/Purchaser','Null','Prescribing Setting','Null']"
   ]
  },
  {
   "cell_type": "code",
   "execution_count": 9,
   "metadata": {
    "collapsed": false
   },
   "outputs": [
    {
     "data": {
      "text/html": [
       "<div>\n",
       "<table border=\"1\" class=\"dataframe\">\n",
       "  <thead>\n",
       "    <tr style=\"text-align: right;\">\n",
       "      <th></th>\n",
       "      <th>Organisation Code</th>\n",
       "      <th>Name</th>\n",
       "      <th>National Grouping</th>\n",
       "      <th>High Level Health Geography</th>\n",
       "      <th>Address Line 1</th>\n",
       "      <th>Address Line 2</th>\n",
       "      <th>Address Line 3</th>\n",
       "      <th>Address Line 4</th>\n",
       "      <th>Address Line 5</th>\n",
       "      <th>Postcode</th>\n",
       "      <th>...</th>\n",
       "      <th>Close Date</th>\n",
       "      <th>Status Code</th>\n",
       "      <th>Organisation Sub-Type code</th>\n",
       "      <th>Commissioner</th>\n",
       "      <th>Join Provider/Purchaser Date</th>\n",
       "      <th>Left Provider/Purchaser Date</th>\n",
       "      <th>Contact Telephone Number</th>\n",
       "      <th>Amended Record Indicator</th>\n",
       "      <th>Provider/Purchaser</th>\n",
       "      <th>Prescribing Setting</th>\n",
       "    </tr>\n",
       "  </thead>\n",
       "  <tbody>\n",
       "    <tr>\n",
       "      <th>0</th>\n",
       "      <td>A81001</td>\n",
       "      <td>THE DENSHAM SURGERY</td>\n",
       "      <td>Y54</td>\n",
       "      <td>Q74</td>\n",
       "      <td>THE HEALTH CENTRE</td>\n",
       "      <td>LAWSON STREET</td>\n",
       "      <td>STOCKTON-ON-TEES</td>\n",
       "      <td>CLEVELAND</td>\n",
       "      <td>NaN</td>\n",
       "      <td>TS18 1HU</td>\n",
       "      <td>...</td>\n",
       "      <td>NaN</td>\n",
       "      <td>A</td>\n",
       "      <td>B</td>\n",
       "      <td>00K</td>\n",
       "      <td>20130401.0</td>\n",
       "      <td>NaN</td>\n",
       "      <td>01642 672351</td>\n",
       "      <td>0</td>\n",
       "      <td>00K</td>\n",
       "      <td>4</td>\n",
       "    </tr>\n",
       "    <tr>\n",
       "      <th>1</th>\n",
       "      <td>A81002</td>\n",
       "      <td>QUEENS PARK MEDICAL CENTRE</td>\n",
       "      <td>Y54</td>\n",
       "      <td>Q74</td>\n",
       "      <td>QUEENS PARK MEDICAL CTR</td>\n",
       "      <td>FARRER STREET</td>\n",
       "      <td>STOCKTON ON TEES</td>\n",
       "      <td>CLEVELAND</td>\n",
       "      <td>NaN</td>\n",
       "      <td>TS18 2AW</td>\n",
       "      <td>...</td>\n",
       "      <td>NaN</td>\n",
       "      <td>A</td>\n",
       "      <td>B</td>\n",
       "      <td>00K</td>\n",
       "      <td>20130401.0</td>\n",
       "      <td>NaN</td>\n",
       "      <td>01642 679681</td>\n",
       "      <td>0</td>\n",
       "      <td>00K</td>\n",
       "      <td>4</td>\n",
       "    </tr>\n",
       "    <tr>\n",
       "      <th>2</th>\n",
       "      <td>A81003</td>\n",
       "      <td>VICTORIA MEDICAL PRACTICE</td>\n",
       "      <td>Y54</td>\n",
       "      <td>Q74</td>\n",
       "      <td>THE HEALTH CENTRE</td>\n",
       "      <td>VICTORIA ROAD</td>\n",
       "      <td>HARTLEPOOL</td>\n",
       "      <td>CLEVELAND</td>\n",
       "      <td>NaN</td>\n",
       "      <td>TS26 8DB</td>\n",
       "      <td>...</td>\n",
       "      <td>NaN</td>\n",
       "      <td>A</td>\n",
       "      <td>B</td>\n",
       "      <td>00K</td>\n",
       "      <td>20130401.0</td>\n",
       "      <td>NaN</td>\n",
       "      <td>01429 272945</td>\n",
       "      <td>0</td>\n",
       "      <td>00K</td>\n",
       "      <td>4</td>\n",
       "    </tr>\n",
       "  </tbody>\n",
       "</table>\n",
       "<p>3 rows × 21 columns</p>\n",
       "</div>"
      ],
      "text/plain": [
       "  Organisation Code                        Name National Grouping  \\\n",
       "0            A81001         THE DENSHAM SURGERY               Y54   \n",
       "1            A81002  QUEENS PARK MEDICAL CENTRE               Y54   \n",
       "2            A81003   VICTORIA MEDICAL PRACTICE               Y54   \n",
       "\n",
       "  High Level Health Geography           Address Line 1 Address Line 2  \\\n",
       "0                         Q74        THE HEALTH CENTRE  LAWSON STREET   \n",
       "1                         Q74  QUEENS PARK MEDICAL CTR  FARRER STREET   \n",
       "2                         Q74        THE HEALTH CENTRE  VICTORIA ROAD   \n",
       "\n",
       "     Address Line 3 Address Line 4 Address Line 5  Postcode  \\\n",
       "0  STOCKTON-ON-TEES      CLEVELAND            NaN  TS18 1HU   \n",
       "1  STOCKTON ON TEES      CLEVELAND            NaN  TS18 2AW   \n",
       "2        HARTLEPOOL      CLEVELAND            NaN  TS26 8DB   \n",
       "\n",
       "          ...          Close Date  Status Code Organisation Sub-Type code  \\\n",
       "0         ...                 NaN            A                          B   \n",
       "1         ...                 NaN            A                          B   \n",
       "2         ...                 NaN            A                          B   \n",
       "\n",
       "  Commissioner Join Provider/Purchaser Date  Left Provider/Purchaser Date  \\\n",
       "0          00K                   20130401.0                           NaN   \n",
       "1          00K                   20130401.0                           NaN   \n",
       "2          00K                   20130401.0                           NaN   \n",
       "\n",
       "   Contact Telephone Number Amended Record Indicator  Provider/Purchaser  \\\n",
       "0              01642 672351                        0                 00K   \n",
       "1              01642 679681                        0                 00K   \n",
       "2              01429 272945                        0                 00K   \n",
       "\n",
       "  Prescribing Setting  \n",
       "0                   4  \n",
       "1                   4  \n",
       "2                   4  \n",
       "\n",
       "[3 rows x 21 columns]"
      ]
     },
     "execution_count": 9,
     "metadata": {},
     "output_type": "execute_result"
    }
   ],
   "source": [
    "#Set the column names\n",
    "epraccur.columns=cols\n",
    "#Drop the \"Available for future use\" columns\n",
    "epraccur.drop('Null', axis=1, inplace=True)\n",
    "#preview the data\n",
    "epraccur.head(3)"
   ]
  },
  {
   "cell_type": "code",
   "execution_count": 10,
   "metadata": {
    "collapsed": false
   },
   "outputs": [
    {
     "data": {
      "text/html": [
       "<div>\n",
       "<table border=\"1\" class=\"dataframe\">\n",
       "  <thead>\n",
       "    <tr style=\"text-align: right;\">\n",
       "      <th></th>\n",
       "      <th>Organisation Code</th>\n",
       "      <th>Name</th>\n",
       "      <th>National Grouping</th>\n",
       "      <th>High Level Health Geography</th>\n",
       "      <th>Address Line 1</th>\n",
       "      <th>Address Line 2</th>\n",
       "      <th>Address Line 3</th>\n",
       "      <th>Address Line 4</th>\n",
       "      <th>Address Line 5</th>\n",
       "      <th>Postcode</th>\n",
       "      <th>...</th>\n",
       "      <th>Close Date</th>\n",
       "      <th>Status Code</th>\n",
       "      <th>Organisation Sub-Type code</th>\n",
       "      <th>Commissioner</th>\n",
       "      <th>Join Provider/Purchaser Date</th>\n",
       "      <th>Left Provider/Purchaser Date</th>\n",
       "      <th>Contact Telephone Number</th>\n",
       "      <th>Amended Record Indicator</th>\n",
       "      <th>Provider/Purchaser</th>\n",
       "      <th>Prescribing Setting</th>\n",
       "    </tr>\n",
       "  </thead>\n",
       "  <tbody>\n",
       "    <tr>\n",
       "      <th>5255</th>\n",
       "      <td>J84003</td>\n",
       "      <td>VENTNOR MEDICAL CENTRE</td>\n",
       "      <td>Y57</td>\n",
       "      <td>Q70</td>\n",
       "      <td>VENTNOR MEDICAL CENTRE</td>\n",
       "      <td>3 ALBERT STREET</td>\n",
       "      <td>VENTNOR</td>\n",
       "      <td>ISLE OF WIGHT</td>\n",
       "      <td>NaN</td>\n",
       "      <td>PO38 1EZ</td>\n",
       "      <td>...</td>\n",
       "      <td>NaN</td>\n",
       "      <td>A</td>\n",
       "      <td>B</td>\n",
       "      <td>10L</td>\n",
       "      <td>20130401.0</td>\n",
       "      <td>NaN</td>\n",
       "      <td>01983 857288</td>\n",
       "      <td>0</td>\n",
       "      <td>10L</td>\n",
       "      <td>4</td>\n",
       "    </tr>\n",
       "    <tr>\n",
       "      <th>5256</th>\n",
       "      <td>J84004</td>\n",
       "      <td>EAST COWES MEDICAL CENTRE</td>\n",
       "      <td>Y57</td>\n",
       "      <td>Q70</td>\n",
       "      <td>EAST COWES MEDICAL CENTRE</td>\n",
       "      <td>CHURCH PATH</td>\n",
       "      <td>EAST COWES</td>\n",
       "      <td>ISLE OF WIGHT</td>\n",
       "      <td>NaN</td>\n",
       "      <td>PO32 6RP</td>\n",
       "      <td>...</td>\n",
       "      <td>NaN</td>\n",
       "      <td>A</td>\n",
       "      <td>B</td>\n",
       "      <td>10L</td>\n",
       "      <td>20130401.0</td>\n",
       "      <td>NaN</td>\n",
       "      <td>01983 284333</td>\n",
       "      <td>0</td>\n",
       "      <td>10L</td>\n",
       "      <td>4</td>\n",
       "    </tr>\n",
       "    <tr>\n",
       "      <th>5257</th>\n",
       "      <td>J84005</td>\n",
       "      <td>ESPLANADE SURGERY</td>\n",
       "      <td>Y57</td>\n",
       "      <td>Q70</td>\n",
       "      <td>THE ESPLANADE SURGERY</td>\n",
       "      <td>19 THE ESPLANADE</td>\n",
       "      <td>RYDE</td>\n",
       "      <td>ISLE OF WIGHT</td>\n",
       "      <td>NaN</td>\n",
       "      <td>PO33 2EH</td>\n",
       "      <td>...</td>\n",
       "      <td>NaN</td>\n",
       "      <td>A</td>\n",
       "      <td>B</td>\n",
       "      <td>10L</td>\n",
       "      <td>20130401.0</td>\n",
       "      <td>NaN</td>\n",
       "      <td>01983 618388</td>\n",
       "      <td>0</td>\n",
       "      <td>10L</td>\n",
       "      <td>4</td>\n",
       "    </tr>\n",
       "  </tbody>\n",
       "</table>\n",
       "<p>3 rows × 21 columns</p>\n",
       "</div>"
      ],
      "text/plain": [
       "     Organisation Code                       Name National Grouping  \\\n",
       "5255            J84003     VENTNOR MEDICAL CENTRE               Y57   \n",
       "5256            J84004  EAST COWES MEDICAL CENTRE               Y57   \n",
       "5257            J84005          ESPLANADE SURGERY               Y57   \n",
       "\n",
       "     High Level Health Geography             Address Line 1    Address Line 2  \\\n",
       "5255                         Q70     VENTNOR MEDICAL CENTRE   3 ALBERT STREET   \n",
       "5256                         Q70  EAST COWES MEDICAL CENTRE       CHURCH PATH   \n",
       "5257                         Q70      THE ESPLANADE SURGERY  19 THE ESPLANADE   \n",
       "\n",
       "     Address Line 3 Address Line 4 Address Line 5  Postcode  \\\n",
       "5255        VENTNOR  ISLE OF WIGHT            NaN  PO38 1EZ   \n",
       "5256     EAST COWES  ISLE OF WIGHT            NaN  PO32 6RP   \n",
       "5257           RYDE  ISLE OF WIGHT            NaN  PO33 2EH   \n",
       "\n",
       "             ...          Close Date  Status Code Organisation Sub-Type code  \\\n",
       "5255         ...                 NaN            A                          B   \n",
       "5256         ...                 NaN            A                          B   \n",
       "5257         ...                 NaN            A                          B   \n",
       "\n",
       "     Commissioner Join Provider/Purchaser Date  Left Provider/Purchaser Date  \\\n",
       "5255          10L                   20130401.0                           NaN   \n",
       "5256          10L                   20130401.0                           NaN   \n",
       "5257          10L                   20130401.0                           NaN   \n",
       "\n",
       "      Contact Telephone Number Amended Record Indicator  Provider/Purchaser  \\\n",
       "5255              01983 857288                        0                 10L   \n",
       "5256              01983 284333                        0                 10L   \n",
       "5257              01983 618388                        0                 10L   \n",
       "\n",
       "     Prescribing Setting  \n",
       "5255                   4  \n",
       "5256                   4  \n",
       "5257                   4  \n",
       "\n",
       "[3 rows x 21 columns]"
      ]
     },
     "execution_count": 10,
     "metadata": {},
     "output_type": "execute_result"
    }
   ],
   "source": [
    "#Example showing how to filter on Parent Organisation Code\n",
    "epraccur[epraccur['Commissioner']=='10L'].head(3)"
   ]
  },
  {
   "cell_type": "markdown",
   "metadata": {},
   "source": [
    "### Storing the Data in a SQLite3 Database\n",
    "If we store several administrative files in the same database, we can run linked queries over them using SQL."
   ]
  },
  {
   "cell_type": "code",
   "execution_count": 11,
   "metadata": {
    "collapsed": false
   },
   "outputs": [
    {
     "name": "stderr",
     "output_type": "stream",
     "text": [
      "/usr/local/lib/python3.5/site-packages/pandas/core/generic.py:1165: UserWarning: The spaces in these column names will not be changed. In pandas versions < 0.14, spaces were converted to underscores.\n",
      "  chunksize=chunksize, dtype=dtype)\n"
     ]
    }
   ],
   "source": [
    "tmp=epraccur.set_index(['Organisation Code'])\n",
    "#If the table exists, replace it, under the assumption we are using a more recent version of the data\n",
    "tmp.to_sql(con=con, name=EPRACCUR,if_exists='replace')"
   ]
  },
  {
   "cell_type": "code",
   "execution_count": 12,
   "metadata": {
    "collapsed": false
   },
   "outputs": [
    {
     "data": {
      "text/html": [
       "<div>\n",
       "<table border=\"1\" class=\"dataframe\">\n",
       "  <thead>\n",
       "    <tr style=\"text-align: right;\">\n",
       "      <th></th>\n",
       "      <th>Organisation Code</th>\n",
       "      <th>Name</th>\n",
       "      <th>National Grouping</th>\n",
       "      <th>High Level Health Geography</th>\n",
       "      <th>Address Line 1</th>\n",
       "      <th>Address Line 2</th>\n",
       "      <th>Address Line 3</th>\n",
       "      <th>Address Line 4</th>\n",
       "      <th>Address Line 5</th>\n",
       "      <th>Postcode</th>\n",
       "      <th>...</th>\n",
       "      <th>Close Date</th>\n",
       "      <th>Status Code</th>\n",
       "      <th>Organisation Sub-Type code</th>\n",
       "      <th>Commissioner</th>\n",
       "      <th>Join Provider/Purchaser Date</th>\n",
       "      <th>Left Provider/Purchaser Date</th>\n",
       "      <th>Contact Telephone Number</th>\n",
       "      <th>Amended Record Indicator</th>\n",
       "      <th>Provider/Purchaser</th>\n",
       "      <th>Prescribing Setting</th>\n",
       "    </tr>\n",
       "  </thead>\n",
       "  <tbody>\n",
       "    <tr>\n",
       "      <th>0</th>\n",
       "      <td>J84007</td>\n",
       "      <td>ST.HELENS MEDICAL CENTRE</td>\n",
       "      <td>Y57</td>\n",
       "      <td>Q70</td>\n",
       "      <td>ST.HELENS MEDICAL CENTRE</td>\n",
       "      <td>UPPER GREEN ROAD</td>\n",
       "      <td>ST.HELENS</td>\n",
       "      <td>ISLE OF WIGHT</td>\n",
       "      <td>None</td>\n",
       "      <td>PO33 1UG</td>\n",
       "      <td>...</td>\n",
       "      <td>None</td>\n",
       "      <td>A</td>\n",
       "      <td>B</td>\n",
       "      <td>10L</td>\n",
       "      <td>20130401.0</td>\n",
       "      <td>None</td>\n",
       "      <td>01983 871828</td>\n",
       "      <td>0</td>\n",
       "      <td>10L</td>\n",
       "      <td>4</td>\n",
       "    </tr>\n",
       "  </tbody>\n",
       "</table>\n",
       "<p>1 rows × 21 columns</p>\n",
       "</div>"
      ],
      "text/plain": [
       "  Organisation Code                      Name National Grouping  \\\n",
       "0            J84007  ST.HELENS MEDICAL CENTRE               Y57   \n",
       "\n",
       "  High Level Health Geography            Address Line 1    Address Line 2  \\\n",
       "0                         Q70  ST.HELENS MEDICAL CENTRE  UPPER GREEN ROAD   \n",
       "\n",
       "  Address Line 3 Address Line 4 Address Line 5  Postcode         ...          \\\n",
       "0      ST.HELENS  ISLE OF WIGHT           None  PO33 1UG         ...           \n",
       "\n",
       "   Close Date Status Code Organisation Sub-Type code Commissioner  \\\n",
       "0        None           A                          B          10L   \n",
       "\n",
       "  Join Provider/Purchaser Date  Left Provider/Purchaser Date  \\\n",
       "0                   20130401.0                          None   \n",
       "\n",
       "  Contact Telephone Number Amended Record Indicator  Provider/Purchaser  \\\n",
       "0             01983 871828                        0                 10L   \n",
       "\n",
       "  Prescribing Setting  \n",
       "0                   4  \n",
       "\n",
       "[1 rows x 21 columns]"
      ]
     },
     "execution_count": 12,
     "metadata": {},
     "output_type": "execute_result"
    }
   ],
   "source": [
    "#We can now run a SQL query over the data\n",
    "orgcode='J84007'\n",
    "pd.read_sql_query('SELECT * from {typ} where \"Organisation Code\"=\"{orgcode}\"'.format(typ=EPRACCUR,orgcode=orgcode), con)"
   ]
  },
  {
   "cell_type": "markdown",
   "metadata": {},
   "source": [
    "## Trusts"
   ]
  },
  {
   "cell_type": "code",
   "execution_count": 13,
   "metadata": {
    "collapsed": false
   },
   "outputs": [
    {
     "name": "stdout",
     "output_type": "stream",
     "text": [
      "--2016-09-25 17:50:45--  http://systems.digital.nhs.uk/data/ods/datadownloads/data-files/etrust.zip\n",
      "Resolving systems.digital.nhs.uk... 194.189.27.101\n",
      "Connecting to systems.digital.nhs.uk|194.189.27.101|:80... connected.\n",
      "HTTP request sent, awaiting response... 200 OK\n",
      "Length: 717137 (700K) [application/zip]\n",
      "Saving to: 'downloads/etrust.zip'\n",
      "\n",
      "etrust.zip          100%[=====================>] 700.33K  1.39MB/s   in 0.5s   \n",
      "\n",
      "2016-09-25 17:50:46 (1.39 MB/s) - 'downloads/etrust.zip' saved [717137/717137]\n",
      "\n",
      "Archive:  downloads/etrust.zip\n",
      "  inflating: data/etrust/etrust.csv  \n",
      "  inflating: data/etrust/etrust.pdf  \n"
     ]
    },
    {
     "data": {
      "text/html": [
       "<div>\n",
       "<table border=\"1\" class=\"dataframe\">\n",
       "  <thead>\n",
       "    <tr style=\"text-align: right;\">\n",
       "      <th></th>\n",
       "      <th>0</th>\n",
       "      <th>1</th>\n",
       "      <th>2</th>\n",
       "      <th>3</th>\n",
       "      <th>4</th>\n",
       "      <th>5</th>\n",
       "      <th>6</th>\n",
       "      <th>7</th>\n",
       "      <th>8</th>\n",
       "      <th>9</th>\n",
       "      <th>...</th>\n",
       "      <th>17</th>\n",
       "      <th>18</th>\n",
       "      <th>19</th>\n",
       "      <th>20</th>\n",
       "      <th>21</th>\n",
       "      <th>22</th>\n",
       "      <th>23</th>\n",
       "      <th>24</th>\n",
       "      <th>25</th>\n",
       "      <th>26</th>\n",
       "    </tr>\n",
       "  </thead>\n",
       "  <tbody>\n",
       "    <tr>\n",
       "      <th>0</th>\n",
       "      <td>R1A</td>\n",
       "      <td>WORCESTERSHIRE HEALTH AND CARE NHS TRUST</td>\n",
       "      <td>Y55</td>\n",
       "      <td>Q77</td>\n",
       "      <td>ISAAC MADDOX HOUSE</td>\n",
       "      <td>SHRUB HILL INDUSTRIAL ESTATE</td>\n",
       "      <td>NaN</td>\n",
       "      <td>WORCESTER</td>\n",
       "      <td>WORCESTERSHIRE</td>\n",
       "      <td>WR4 9RW</td>\n",
       "      <td>...</td>\n",
       "      <td>NaN</td>\n",
       "      <td>NaN</td>\n",
       "      <td>NaN</td>\n",
       "      <td>NaN</td>\n",
       "      <td>0</td>\n",
       "      <td>NaN</td>\n",
       "      <td>F</td>\n",
       "      <td>NaN</td>\n",
       "      <td>NaN</td>\n",
       "      <td>NaN</td>\n",
       "    </tr>\n",
       "    <tr>\n",
       "      <th>1</th>\n",
       "      <td>R1A01</td>\n",
       "      <td>PATHWAYS SUPPORT SERVICES</td>\n",
       "      <td>Y55</td>\n",
       "      <td>Q77</td>\n",
       "      <td>30A TENBY STREET</td>\n",
       "      <td>NaN</td>\n",
       "      <td>NaN</td>\n",
       "      <td>BIRMINGHAM</td>\n",
       "      <td>WEST MIDLANDS</td>\n",
       "      <td>B1 3EE</td>\n",
       "      <td>...</td>\n",
       "      <td>NaN</td>\n",
       "      <td>NaN</td>\n",
       "      <td>NaN</td>\n",
       "      <td>NaN</td>\n",
       "      <td>0</td>\n",
       "      <td>NaN</td>\n",
       "      <td>F</td>\n",
       "      <td>NaN</td>\n",
       "      <td>NaN</td>\n",
       "      <td>NaN</td>\n",
       "    </tr>\n",
       "  </tbody>\n",
       "</table>\n",
       "<p>2 rows × 27 columns</p>\n",
       "</div>"
      ],
      "text/plain": [
       "      0                                         1    2    3   \\\n",
       "0    R1A  WORCESTERSHIRE HEALTH AND CARE NHS TRUST  Y55  Q77   \n",
       "1  R1A01                 PATHWAYS SUPPORT SERVICES  Y55  Q77   \n",
       "\n",
       "                   4                             5    6           7   \\\n",
       "0  ISAAC MADDOX HOUSE  SHRUB HILL INDUSTRIAL ESTATE  NaN   WORCESTER   \n",
       "1    30A TENBY STREET                           NaN  NaN  BIRMINGHAM   \n",
       "\n",
       "               8        9  ...  17  18  19  20  21  22  23  24  25  26  \n",
       "0  WORCESTERSHIRE  WR4 9RW ... NaN NaN NaN NaN   0 NaN   F NaN NaN NaN  \n",
       "1   WEST MIDLANDS   B1 3EE ... NaN NaN NaN NaN   0 NaN   F NaN NaN NaN  \n",
       "\n",
       "[2 rows x 27 columns]"
      ]
     },
     "execution_count": 13,
     "metadata": {},
     "output_type": "execute_result"
    }
   ],
   "source": [
    "ETRUST='etrust'\n",
    "\n",
    "#via http://systems.digital.nhs.uk/data/ods/datadownloads/othernhs\n",
    "etrust= getData(ETRUST)\n",
    "etrust.head(2)"
   ]
  },
  {
   "cell_type": "code",
   "execution_count": 14,
   "metadata": {
    "collapsed": false
   },
   "outputs": [],
   "source": [
    "cols=['Organisation Code','Name','National Grouping','High Level Health Geography',\n",
    "      'Address Line 1','Address Line 2','Address Line 3','Address Line 4','Address Line 5','Postcode',\n",
    "      'Open Date','Close Date','Null','Null',\n",
    "      'Null','Null','Null','Contact Telephone Number',\n",
    "      'Null','Null','Null',\n",
    "      'Amended Record Indicator','Null',\n",
    "      'GOR Code','Null','Null','Null']"
   ]
  },
  {
   "cell_type": "code",
   "execution_count": 15,
   "metadata": {
    "collapsed": false
   },
   "outputs": [
    {
     "data": {
      "text/html": [
       "<div>\n",
       "<table border=\"1\" class=\"dataframe\">\n",
       "  <thead>\n",
       "    <tr style=\"text-align: right;\">\n",
       "      <th></th>\n",
       "      <th>Organisation Code</th>\n",
       "      <th>Name</th>\n",
       "      <th>National Grouping</th>\n",
       "      <th>High Level Health Geography</th>\n",
       "      <th>Address Line 1</th>\n",
       "      <th>Address Line 2</th>\n",
       "      <th>Address Line 3</th>\n",
       "      <th>Address Line 4</th>\n",
       "      <th>Address Line 5</th>\n",
       "      <th>Postcode</th>\n",
       "      <th>Open Date</th>\n",
       "      <th>Close Date</th>\n",
       "      <th>Contact Telephone Number</th>\n",
       "      <th>Amended Record Indicator</th>\n",
       "      <th>GOR Code</th>\n",
       "    </tr>\n",
       "  </thead>\n",
       "  <tbody>\n",
       "    <tr>\n",
       "      <th>0</th>\n",
       "      <td>R1A</td>\n",
       "      <td>WORCESTERSHIRE HEALTH AND CARE NHS TRUST</td>\n",
       "      <td>Y55</td>\n",
       "      <td>Q77</td>\n",
       "      <td>ISAAC MADDOX HOUSE</td>\n",
       "      <td>SHRUB HILL INDUSTRIAL ESTATE</td>\n",
       "      <td>NaN</td>\n",
       "      <td>WORCESTER</td>\n",
       "      <td>WORCESTERSHIRE</td>\n",
       "      <td>WR4 9RW</td>\n",
       "      <td>20110701</td>\n",
       "      <td>NaN</td>\n",
       "      <td>NaN</td>\n",
       "      <td>0</td>\n",
       "      <td>F</td>\n",
       "    </tr>\n",
       "    <tr>\n",
       "      <th>1</th>\n",
       "      <td>R1A01</td>\n",
       "      <td>PATHWAYS SUPPORT SERVICES</td>\n",
       "      <td>Y55</td>\n",
       "      <td>Q77</td>\n",
       "      <td>30A TENBY STREET</td>\n",
       "      <td>NaN</td>\n",
       "      <td>NaN</td>\n",
       "      <td>BIRMINGHAM</td>\n",
       "      <td>WEST MIDLANDS</td>\n",
       "      <td>B1 3EE</td>\n",
       "      <td>20110701</td>\n",
       "      <td>NaN</td>\n",
       "      <td>NaN</td>\n",
       "      <td>0</td>\n",
       "      <td>F</td>\n",
       "    </tr>\n",
       "  </tbody>\n",
       "</table>\n",
       "</div>"
      ],
      "text/plain": [
       "  Organisation Code                                      Name  \\\n",
       "0               R1A  WORCESTERSHIRE HEALTH AND CARE NHS TRUST   \n",
       "1             R1A01                 PATHWAYS SUPPORT SERVICES   \n",
       "\n",
       "  National Grouping High Level Health Geography      Address Line 1  \\\n",
       "0               Y55                         Q77  ISAAC MADDOX HOUSE   \n",
       "1               Y55                         Q77    30A TENBY STREET   \n",
       "\n",
       "                 Address Line 2 Address Line 3 Address Line 4  Address Line 5  \\\n",
       "0  SHRUB HILL INDUSTRIAL ESTATE            NaN      WORCESTER  WORCESTERSHIRE   \n",
       "1                           NaN            NaN     BIRMINGHAM   WEST MIDLANDS   \n",
       "\n",
       "  Postcode  Open Date  Close Date  Contact Telephone Number  \\\n",
       "0  WR4 9RW   20110701         NaN                       NaN   \n",
       "1   B1 3EE   20110701         NaN                       NaN   \n",
       "\n",
       "   Amended Record Indicator GOR Code  \n",
       "0                         0        F  \n",
       "1                         0        F  "
      ]
     },
     "execution_count": 15,
     "metadata": {},
     "output_type": "execute_result"
    }
   ],
   "source": [
    "etrust.columns=cols\n",
    "etrust.drop('Null', axis=1, inplace=True)\n",
    "\n",
    "etrust.head(2)"
   ]
  },
  {
   "cell_type": "code",
   "execution_count": 16,
   "metadata": {
    "collapsed": false
   },
   "outputs": [
    {
     "data": {
      "text/html": [
       "<div>\n",
       "<table border=\"1\" class=\"dataframe\">\n",
       "  <thead>\n",
       "    <tr style=\"text-align: right;\">\n",
       "      <th></th>\n",
       "      <th>Organisation Code</th>\n",
       "      <th>Name</th>\n",
       "      <th>National Grouping</th>\n",
       "      <th>High Level Health Geography</th>\n",
       "      <th>Address Line 1</th>\n",
       "      <th>Address Line 2</th>\n",
       "      <th>Address Line 3</th>\n",
       "      <th>Address Line 4</th>\n",
       "      <th>Address Line 5</th>\n",
       "      <th>Postcode</th>\n",
       "      <th>Open Date</th>\n",
       "      <th>Close Date</th>\n",
       "      <th>Contact Telephone Number</th>\n",
       "      <th>Amended Record Indicator</th>\n",
       "      <th>GOR Code</th>\n",
       "    </tr>\n",
       "  </thead>\n",
       "  <tbody>\n",
       "    <tr>\n",
       "      <th>1226</th>\n",
       "      <td>R1F</td>\n",
       "      <td>ISLE OF WIGHT NHS TRUST</td>\n",
       "      <td>Y57</td>\n",
       "      <td>Q70</td>\n",
       "      <td>ST MARY'S HOSPITAL</td>\n",
       "      <td>PARKHURST ROAD</td>\n",
       "      <td>NaN</td>\n",
       "      <td>NEWPORT</td>\n",
       "      <td>ISLE OF WIGHT</td>\n",
       "      <td>PO30 5TG</td>\n",
       "      <td>20120401</td>\n",
       "      <td>NaN</td>\n",
       "      <td>NaN</td>\n",
       "      <td>0</td>\n",
       "      <td>J</td>\n",
       "    </tr>\n",
       "    <tr>\n",
       "      <th>1284</th>\n",
       "      <td>R1FHQ</td>\n",
       "      <td>ISLE OF WIGHT NHS - HQ</td>\n",
       "      <td>Y57</td>\n",
       "      <td>Q70</td>\n",
       "      <td>ST MARY'S HOSPITAL</td>\n",
       "      <td>PARKHURST ROAD</td>\n",
       "      <td>NaN</td>\n",
       "      <td>NEWPORT</td>\n",
       "      <td>ISLE OF WIGHT</td>\n",
       "      <td>PO30 5TG</td>\n",
       "      <td>20120401</td>\n",
       "      <td>NaN</td>\n",
       "      <td>NaN</td>\n",
       "      <td>0</td>\n",
       "      <td>J</td>\n",
       "    </tr>\n",
       "  </tbody>\n",
       "</table>\n",
       "</div>"
      ],
      "text/plain": [
       "     Organisation Code                     Name National Grouping  \\\n",
       "1226               R1F  ISLE OF WIGHT NHS TRUST               Y57   \n",
       "1284             R1FHQ   ISLE OF WIGHT NHS - HQ               Y57   \n",
       "\n",
       "     High Level Health Geography      Address Line 1  Address Line 2  \\\n",
       "1226                         Q70  ST MARY'S HOSPITAL  PARKHURST ROAD   \n",
       "1284                         Q70  ST MARY'S HOSPITAL  PARKHURST ROAD   \n",
       "\n",
       "     Address Line 3 Address Line 4 Address Line 5  Postcode  Open Date  \\\n",
       "1226            NaN        NEWPORT  ISLE OF WIGHT  PO30 5TG   20120401   \n",
       "1284            NaN        NEWPORT  ISLE OF WIGHT  PO30 5TG   20120401   \n",
       "\n",
       "      Close Date  Contact Telephone Number  Amended Record Indicator GOR Code  \n",
       "1226         NaN                       NaN                         0        J  \n",
       "1284         NaN                       NaN                         0        J  "
      ]
     },
     "execution_count": 16,
     "metadata": {},
     "output_type": "execute_result"
    }
   ],
   "source": [
    "etrust[etrust['Name'].str.lower().str.contains('Wight'.lower())].head(2)"
   ]
  },
  {
   "cell_type": "markdown",
   "metadata": {},
   "source": [
    "### Storing the Data in a SQLite3 Database"
   ]
  },
  {
   "cell_type": "code",
   "execution_count": 17,
   "metadata": {
    "collapsed": false
   },
   "outputs": [
    {
     "name": "stderr",
     "output_type": "stream",
     "text": [
      "/usr/local/lib/python3.5/site-packages/pandas/core/generic.py:1165: UserWarning: The spaces in these column names will not be changed. In pandas versions < 0.14, spaces were converted to underscores.\n",
      "  chunksize=chunksize, dtype=dtype)\n"
     ]
    }
   ],
   "source": [
    "tmp=etrust.set_index(['Organisation Code'])\n",
    "#If the table exists, replace it, under the assumption we are using a more recent version of the data\n",
    "tmp.to_sql(con=con, name=ETRUST,if_exists='replace')"
   ]
  },
  {
   "cell_type": "code",
   "execution_count": 18,
   "metadata": {
    "collapsed": false
   },
   "outputs": [
    {
     "data": {
      "text/html": [
       "<div>\n",
       "<table border=\"1\" class=\"dataframe\">\n",
       "  <thead>\n",
       "    <tr style=\"text-align: right;\">\n",
       "      <th></th>\n",
       "      <th>Organisation Code</th>\n",
       "      <th>Name</th>\n",
       "      <th>National Grouping</th>\n",
       "      <th>High Level Health Geography</th>\n",
       "      <th>Address Line 1</th>\n",
       "      <th>Address Line 2</th>\n",
       "      <th>Address Line 3</th>\n",
       "      <th>Address Line 4</th>\n",
       "      <th>Address Line 5</th>\n",
       "      <th>Postcode</th>\n",
       "      <th>Open Date</th>\n",
       "      <th>Close Date</th>\n",
       "      <th>Contact Telephone Number</th>\n",
       "      <th>Amended Record Indicator</th>\n",
       "      <th>GOR Code</th>\n",
       "    </tr>\n",
       "  </thead>\n",
       "  <tbody>\n",
       "    <tr>\n",
       "      <th>0</th>\n",
       "      <td>R1F</td>\n",
       "      <td>ISLE OF WIGHT NHS TRUST</td>\n",
       "      <td>Y57</td>\n",
       "      <td>Q70</td>\n",
       "      <td>ST MARY'S HOSPITAL</td>\n",
       "      <td>PARKHURST ROAD</td>\n",
       "      <td>None</td>\n",
       "      <td>NEWPORT</td>\n",
       "      <td>ISLE OF WIGHT</td>\n",
       "      <td>PO30 5TG</td>\n",
       "      <td>20120401</td>\n",
       "      <td>None</td>\n",
       "      <td>None</td>\n",
       "      <td>0</td>\n",
       "      <td>J</td>\n",
       "    </tr>\n",
       "  </tbody>\n",
       "</table>\n",
       "</div>"
      ],
      "text/plain": [
       "  Organisation Code                     Name National Grouping  \\\n",
       "0               R1F  ISLE OF WIGHT NHS TRUST               Y57   \n",
       "\n",
       "  High Level Health Geography      Address Line 1  Address Line 2  \\\n",
       "0                         Q70  ST MARY'S HOSPITAL  PARKHURST ROAD   \n",
       "\n",
       "  Address Line 3 Address Line 4 Address Line 5  Postcode  Open Date  \\\n",
       "0           None        NEWPORT  ISLE OF WIGHT  PO30 5TG   20120401   \n",
       "\n",
       "  Close Date Contact Telephone Number  Amended Record Indicator GOR Code  \n",
       "0       None                     None                         0        J  "
      ]
     },
     "execution_count": 18,
     "metadata": {},
     "output_type": "execute_result"
    }
   ],
   "source": [
    "orgcode='R1F'\n",
    "pd.read_sql_query('SELECT * from {typ} where \"Organisation Code\"=\"{orgcode}\"'.format(typ=ETRUST,orgcode=orgcode), con)"
   ]
  },
  {
   "cell_type": "markdown",
   "metadata": {},
   "source": [
    "## CCGs"
   ]
  },
  {
   "cell_type": "code",
   "execution_count": 19,
   "metadata": {
    "collapsed": false
   },
   "outputs": [
    {
     "name": "stdout",
     "output_type": "stream",
     "text": [
      "--2016-09-25 17:50:47--  http://systems.digital.nhs.uk/data/ods/datadownloads/data-files/eccg.zip\n",
      "Resolving systems.digital.nhs.uk... 194.189.27.101\n",
      "Connecting to systems.digital.nhs.uk|194.189.27.101|:80... connected.\n",
      "HTTP request sent, awaiting response... 200 OK\n",
      "Length: 19824 (19K) [application/zip]\n",
      "Saving to: 'downloads/eccg.zip'\n",
      "\n",
      "eccg.zip            100%[=====================>]  19.36K  --.-KB/s   in 0.04s  \n",
      "\n",
      "2016-09-25 17:50:47 (541 KB/s) - 'downloads/eccg.zip' saved [19824/19824]\n",
      "\n",
      "Archive:  downloads/eccg.zip\n",
      "  inflating: data/eccg/eccg.csv      \n",
      "  inflating: data/eccg/eccg.pdf      \n"
     ]
    },
    {
     "data": {
      "text/html": [
       "<div>\n",
       "<table border=\"1\" class=\"dataframe\">\n",
       "  <thead>\n",
       "    <tr style=\"text-align: right;\">\n",
       "      <th></th>\n",
       "      <th>0</th>\n",
       "      <th>1</th>\n",
       "      <th>2</th>\n",
       "      <th>3</th>\n",
       "      <th>4</th>\n",
       "      <th>5</th>\n",
       "      <th>6</th>\n",
       "      <th>7</th>\n",
       "      <th>8</th>\n",
       "      <th>9</th>\n",
       "      <th>...</th>\n",
       "      <th>17</th>\n",
       "      <th>18</th>\n",
       "      <th>19</th>\n",
       "      <th>20</th>\n",
       "      <th>21</th>\n",
       "      <th>22</th>\n",
       "      <th>23</th>\n",
       "      <th>24</th>\n",
       "      <th>25</th>\n",
       "      <th>26</th>\n",
       "    </tr>\n",
       "  </thead>\n",
       "  <tbody>\n",
       "    <tr>\n",
       "      <th>0</th>\n",
       "      <td>00C</td>\n",
       "      <td>NHS DARLINGTON CCG</td>\n",
       "      <td>Y54</td>\n",
       "      <td>Q74</td>\n",
       "      <td>DR PIPER HOUSE</td>\n",
       "      <td>KING STREET</td>\n",
       "      <td>NaN</td>\n",
       "      <td>DARLINGTON</td>\n",
       "      <td>COUNTY DURHAM</td>\n",
       "      <td>DL3 6JL</td>\n",
       "      <td>...</td>\n",
       "      <td>NaN</td>\n",
       "      <td>NaN</td>\n",
       "      <td>NaN</td>\n",
       "      <td>NaN</td>\n",
       "      <td>0</td>\n",
       "      <td>NaN</td>\n",
       "      <td>NaN</td>\n",
       "      <td>NaN</td>\n",
       "      <td>NaN</td>\n",
       "      <td>NaN</td>\n",
       "    </tr>\n",
       "    <tr>\n",
       "      <th>1</th>\n",
       "      <td>00D</td>\n",
       "      <td>NHS DURHAM DALES, EASINGTON AND SEDGEFIELD CCG</td>\n",
       "      <td>Y54</td>\n",
       "      <td>Q74</td>\n",
       "      <td>SEDGEFIELD COMMUNITY HOSPITAL</td>\n",
       "      <td>SALTERS LANE</td>\n",
       "      <td>SEDGEFIELD</td>\n",
       "      <td>STOCKTON-ON-TEES</td>\n",
       "      <td>CLEVELAND</td>\n",
       "      <td>TS21 3EE</td>\n",
       "      <td>...</td>\n",
       "      <td>NaN</td>\n",
       "      <td>NaN</td>\n",
       "      <td>NaN</td>\n",
       "      <td>NaN</td>\n",
       "      <td>0</td>\n",
       "      <td>NaN</td>\n",
       "      <td>NaN</td>\n",
       "      <td>NaN</td>\n",
       "      <td>NaN</td>\n",
       "      <td>NaN</td>\n",
       "    </tr>\n",
       "  </tbody>\n",
       "</table>\n",
       "<p>2 rows × 27 columns</p>\n",
       "</div>"
      ],
      "text/plain": [
       "    0                                               1    2    3   \\\n",
       "0  00C                              NHS DARLINGTON CCG  Y54  Q74   \n",
       "1  00D  NHS DURHAM DALES, EASINGTON AND SEDGEFIELD CCG  Y54  Q74   \n",
       "\n",
       "                              4             5           6                 7   \\\n",
       "0                 DR PIPER HOUSE   KING STREET         NaN        DARLINGTON   \n",
       "1  SEDGEFIELD COMMUNITY HOSPITAL  SALTERS LANE  SEDGEFIELD  STOCKTON-ON-TEES   \n",
       "\n",
       "              8         9  ...  17  18  19  20  21  22  23  24  25  26  \n",
       "0  COUNTY DURHAM   DL3 6JL ... NaN NaN NaN NaN   0 NaN NaN NaN NaN NaN  \n",
       "1      CLEVELAND  TS21 3EE ... NaN NaN NaN NaN   0 NaN NaN NaN NaN NaN  \n",
       "\n",
       "[2 rows x 27 columns]"
      ]
     },
     "execution_count": 19,
     "metadata": {},
     "output_type": "execute_result"
    }
   ],
   "source": [
    "#via http://systems.digital.nhs.uk/data/ods/datadownloads/othernhs\n",
    "ECCG='eccg'\n",
    "eccg= getData(ECCG)\n",
    "eccg.head(2)"
   ]
  },
  {
   "cell_type": "code",
   "execution_count": 20,
   "metadata": {
    "collapsed": true
   },
   "outputs": [],
   "source": [
    "cols=['Organisation Code','Name','National Grouping','High Level Health Geography',\n",
    "      'Address Line 1','Address Line 2','Address Line 3','Address Line 4','Address Line 5','Postcode',\n",
    "      'Open Date','Close Date','Null','Organisation Sub-Type Code',\n",
    "      'Null','Null','Null','Null',\n",
    "      'Null','Null','Null',\n",
    "      'Amended Record Indicator','Null',\n",
    "      'Null','Null','Null','Null']"
   ]
  },
  {
   "cell_type": "code",
   "execution_count": 21,
   "metadata": {
    "collapsed": false
   },
   "outputs": [
    {
     "data": {
      "text/html": [
       "<div>\n",
       "<table border=\"1\" class=\"dataframe\">\n",
       "  <thead>\n",
       "    <tr style=\"text-align: right;\">\n",
       "      <th></th>\n",
       "      <th>Organisation Code</th>\n",
       "      <th>Name</th>\n",
       "      <th>National Grouping</th>\n",
       "      <th>High Level Health Geography</th>\n",
       "      <th>Address Line 1</th>\n",
       "      <th>Address Line 2</th>\n",
       "      <th>Address Line 3</th>\n",
       "      <th>Address Line 4</th>\n",
       "      <th>Address Line 5</th>\n",
       "      <th>Postcode</th>\n",
       "      <th>Open Date</th>\n",
       "      <th>Close Date</th>\n",
       "      <th>Organisation Sub-Type Code</th>\n",
       "      <th>Amended Record Indicator</th>\n",
       "    </tr>\n",
       "  </thead>\n",
       "  <tbody>\n",
       "    <tr>\n",
       "      <th>0</th>\n",
       "      <td>00C</td>\n",
       "      <td>NHS DARLINGTON CCG</td>\n",
       "      <td>Y54</td>\n",
       "      <td>Q74</td>\n",
       "      <td>DR PIPER HOUSE</td>\n",
       "      <td>KING STREET</td>\n",
       "      <td>NaN</td>\n",
       "      <td>DARLINGTON</td>\n",
       "      <td>COUNTY DURHAM</td>\n",
       "      <td>DL3 6JL</td>\n",
       "      <td>20130401</td>\n",
       "      <td>NaN</td>\n",
       "      <td>C</td>\n",
       "      <td>0</td>\n",
       "    </tr>\n",
       "    <tr>\n",
       "      <th>1</th>\n",
       "      <td>00D</td>\n",
       "      <td>NHS DURHAM DALES, EASINGTON AND SEDGEFIELD CCG</td>\n",
       "      <td>Y54</td>\n",
       "      <td>Q74</td>\n",
       "      <td>SEDGEFIELD COMMUNITY HOSPITAL</td>\n",
       "      <td>SALTERS LANE</td>\n",
       "      <td>SEDGEFIELD</td>\n",
       "      <td>STOCKTON-ON-TEES</td>\n",
       "      <td>CLEVELAND</td>\n",
       "      <td>TS21 3EE</td>\n",
       "      <td>20130401</td>\n",
       "      <td>NaN</td>\n",
       "      <td>C</td>\n",
       "      <td>0</td>\n",
       "    </tr>\n",
       "  </tbody>\n",
       "</table>\n",
       "</div>"
      ],
      "text/plain": [
       "  Organisation Code                                            Name  \\\n",
       "0               00C                              NHS DARLINGTON CCG   \n",
       "1               00D  NHS DURHAM DALES, EASINGTON AND SEDGEFIELD CCG   \n",
       "\n",
       "  National Grouping High Level Health Geography  \\\n",
       "0               Y54                         Q74   \n",
       "1               Y54                         Q74   \n",
       "\n",
       "                  Address Line 1 Address Line 2 Address Line 3  \\\n",
       "0                 DR PIPER HOUSE    KING STREET            NaN   \n",
       "1  SEDGEFIELD COMMUNITY HOSPITAL   SALTERS LANE     SEDGEFIELD   \n",
       "\n",
       "     Address Line 4 Address Line 5  Postcode  Open Date  Close Date  \\\n",
       "0        DARLINGTON  COUNTY DURHAM   DL3 6JL   20130401         NaN   \n",
       "1  STOCKTON-ON-TEES      CLEVELAND  TS21 3EE   20130401         NaN   \n",
       "\n",
       "  Organisation Sub-Type Code  Amended Record Indicator  \n",
       "0                          C                         0  \n",
       "1                          C                         0  "
      ]
     },
     "execution_count": 21,
     "metadata": {},
     "output_type": "execute_result"
    }
   ],
   "source": [
    "eccg.columns=cols\n",
    "eccg.drop('Null', axis=1, inplace=True)\n",
    "eccg.head(2)"
   ]
  },
  {
   "cell_type": "code",
   "execution_count": 22,
   "metadata": {
    "collapsed": false
   },
   "outputs": [
    {
     "data": {
      "text/html": [
       "<div>\n",
       "<table border=\"1\" class=\"dataframe\">\n",
       "  <thead>\n",
       "    <tr style=\"text-align: right;\">\n",
       "      <th></th>\n",
       "      <th>Organisation Code</th>\n",
       "      <th>Name</th>\n",
       "      <th>National Grouping</th>\n",
       "      <th>High Level Health Geography</th>\n",
       "      <th>Address Line 1</th>\n",
       "      <th>Address Line 2</th>\n",
       "      <th>Address Line 3</th>\n",
       "      <th>Address Line 4</th>\n",
       "      <th>Address Line 5</th>\n",
       "      <th>Postcode</th>\n",
       "      <th>Open Date</th>\n",
       "      <th>Close Date</th>\n",
       "      <th>Organisation Sub-Type Code</th>\n",
       "      <th>Amended Record Indicator</th>\n",
       "    </tr>\n",
       "  </thead>\n",
       "  <tbody>\n",
       "    <tr>\n",
       "      <th>171</th>\n",
       "      <td>10L</td>\n",
       "      <td>NHS ISLE OF WIGHT CCG</td>\n",
       "      <td>Y57</td>\n",
       "      <td>Q70</td>\n",
       "      <td>SOUTH BLOCK</td>\n",
       "      <td>ST MARY'S HOSPITAL</td>\n",
       "      <td>PARKHURST ROAD</td>\n",
       "      <td>NEWPORT</td>\n",
       "      <td>ISLE OF WIGHT</td>\n",
       "      <td>PO30 5TG</td>\n",
       "      <td>20130401</td>\n",
       "      <td>NaN</td>\n",
       "      <td>C</td>\n",
       "      <td>0</td>\n",
       "    </tr>\n",
       "  </tbody>\n",
       "</table>\n",
       "</div>"
      ],
      "text/plain": [
       "    Organisation Code                   Name National Grouping  \\\n",
       "171               10L  NHS ISLE OF WIGHT CCG               Y57   \n",
       "\n",
       "    High Level Health Geography Address Line 1      Address Line 2  \\\n",
       "171                         Q70    SOUTH BLOCK  ST MARY'S HOSPITAL   \n",
       "\n",
       "     Address Line 3 Address Line 4 Address Line 5  Postcode  Open Date  \\\n",
       "171  PARKHURST ROAD        NEWPORT  ISLE OF WIGHT  PO30 5TG   20130401   \n",
       "\n",
       "     Close Date Organisation Sub-Type Code  Amended Record Indicator  \n",
       "171         NaN                          C                         0  "
      ]
     },
     "execution_count": 22,
     "metadata": {},
     "output_type": "execute_result"
    }
   ],
   "source": [
    "eccg[eccg['Name'].str.lower().str.contains('Wight'.lower())]"
   ]
  },
  {
   "cell_type": "markdown",
   "metadata": {},
   "source": [
    "### Storing the Data in a SQLite3 Database"
   ]
  },
  {
   "cell_type": "code",
   "execution_count": 23,
   "metadata": {
    "collapsed": false
   },
   "outputs": [
    {
     "name": "stderr",
     "output_type": "stream",
     "text": [
      "/usr/local/lib/python3.5/site-packages/pandas/core/generic.py:1165: UserWarning: The spaces in these column names will not be changed. In pandas versions < 0.14, spaces were converted to underscores.\n",
      "  chunksize=chunksize, dtype=dtype)\n"
     ]
    }
   ],
   "source": [
    "tmp=eccg.set_index(['Organisation Code'])\n",
    "#If the table exists, replace it, under the assumption we are using a more recent version of the data\n",
    "tmp.to_sql(con=con, name=ECCG,if_exists='replace')"
   ]
  },
  {
   "cell_type": "code",
   "execution_count": 24,
   "metadata": {
    "collapsed": false
   },
   "outputs": [
    {
     "data": {
      "text/html": [
       "<div>\n",
       "<table border=\"1\" class=\"dataframe\">\n",
       "  <thead>\n",
       "    <tr style=\"text-align: right;\">\n",
       "      <th></th>\n",
       "      <th>Organisation Code</th>\n",
       "      <th>Name</th>\n",
       "      <th>National Grouping</th>\n",
       "      <th>High Level Health Geography</th>\n",
       "      <th>Address Line 1</th>\n",
       "      <th>Address Line 2</th>\n",
       "      <th>Address Line 3</th>\n",
       "      <th>Address Line 4</th>\n",
       "      <th>Address Line 5</th>\n",
       "      <th>Postcode</th>\n",
       "      <th>Open Date</th>\n",
       "      <th>Close Date</th>\n",
       "      <th>Organisation Sub-Type Code</th>\n",
       "      <th>Amended Record Indicator</th>\n",
       "    </tr>\n",
       "  </thead>\n",
       "  <tbody>\n",
       "    <tr>\n",
       "      <th>0</th>\n",
       "      <td>10L</td>\n",
       "      <td>NHS ISLE OF WIGHT CCG</td>\n",
       "      <td>Y57</td>\n",
       "      <td>Q70</td>\n",
       "      <td>SOUTH BLOCK</td>\n",
       "      <td>ST MARY'S HOSPITAL</td>\n",
       "      <td>PARKHURST ROAD</td>\n",
       "      <td>NEWPORT</td>\n",
       "      <td>ISLE OF WIGHT</td>\n",
       "      <td>PO30 5TG</td>\n",
       "      <td>20130401</td>\n",
       "      <td>None</td>\n",
       "      <td>C</td>\n",
       "      <td>0</td>\n",
       "    </tr>\n",
       "  </tbody>\n",
       "</table>\n",
       "</div>"
      ],
      "text/plain": [
       "  Organisation Code                   Name National Grouping  \\\n",
       "0               10L  NHS ISLE OF WIGHT CCG               Y57   \n",
       "\n",
       "  High Level Health Geography Address Line 1      Address Line 2  \\\n",
       "0                         Q70    SOUTH BLOCK  ST MARY'S HOSPITAL   \n",
       "\n",
       "   Address Line 3 Address Line 4 Address Line 5  Postcode  Open Date  \\\n",
       "0  PARKHURST ROAD        NEWPORT  ISLE OF WIGHT  PO30 5TG   20130401   \n",
       "\n",
       "  Close Date Organisation Sub-Type Code  Amended Record Indicator  \n",
       "0       None                          C                         0  "
      ]
     },
     "execution_count": 24,
     "metadata": {},
     "output_type": "execute_result"
    }
   ],
   "source": [
    "orgcode='10L'\n",
    "pd.read_sql_query('SELECT * from {typ} where \"Organisation Code\"=\"{orgcode}\"'.format(typ=ECCG,orgcode=orgcode), con)"
   ]
  },
  {
   "cell_type": "code",
   "execution_count": 25,
   "metadata": {
    "collapsed": false
   },
   "outputs": [
    {
     "data": {
      "text/html": [
       "<div>\n",
       "<table border=\"1\" class=\"dataframe\">\n",
       "  <thead>\n",
       "    <tr style=\"text-align: right;\">\n",
       "      <th></th>\n",
       "      <th>code</th>\n",
       "      <th>Name</th>\n",
       "    </tr>\n",
       "  </thead>\n",
       "  <tbody>\n",
       "    <tr>\n",
       "      <th>0</th>\n",
       "      <td>J84003</td>\n",
       "      <td>VENTNOR MEDICAL CENTRE</td>\n",
       "    </tr>\n",
       "    <tr>\n",
       "      <th>1</th>\n",
       "      <td>J84004</td>\n",
       "      <td>EAST COWES MEDICAL CENTRE</td>\n",
       "    </tr>\n",
       "    <tr>\n",
       "      <th>2</th>\n",
       "      <td>J84005</td>\n",
       "      <td>ESPLANADE SURGERY</td>\n",
       "    </tr>\n",
       "    <tr>\n",
       "      <th>3</th>\n",
       "      <td>J84007</td>\n",
       "      <td>ST.HELENS MEDICAL CENTRE</td>\n",
       "    </tr>\n",
       "    <tr>\n",
       "      <th>4</th>\n",
       "      <td>J84008</td>\n",
       "      <td>ARGYLL HOUSE</td>\n",
       "    </tr>\n",
       "    <tr>\n",
       "      <th>5</th>\n",
       "      <td>J84010</td>\n",
       "      <td>SHANKLIN MEDICAL CENTRE</td>\n",
       "    </tr>\n",
       "    <tr>\n",
       "      <th>6</th>\n",
       "      <td>J84011</td>\n",
       "      <td>CARISBROOKE HEALTH CENTRE</td>\n",
       "    </tr>\n",
       "    <tr>\n",
       "      <th>7</th>\n",
       "      <td>J84012</td>\n",
       "      <td>TOWER HOUSE SURGERY</td>\n",
       "    </tr>\n",
       "    <tr>\n",
       "      <th>8</th>\n",
       "      <td>J84013</td>\n",
       "      <td>SANDOWN HEALTH CENTRE</td>\n",
       "    </tr>\n",
       "    <tr>\n",
       "      <th>9</th>\n",
       "      <td>J84014</td>\n",
       "      <td>THE DOWER HOUSE</td>\n",
       "    </tr>\n",
       "    <tr>\n",
       "      <th>10</th>\n",
       "      <td>J84015</td>\n",
       "      <td>COWES MEDICAL CENTRE</td>\n",
       "    </tr>\n",
       "    <tr>\n",
       "      <th>11</th>\n",
       "      <td>J84016</td>\n",
       "      <td>SOUTH WIGHT MEDICAL PRACTICE</td>\n",
       "    </tr>\n",
       "    <tr>\n",
       "      <th>12</th>\n",
       "      <td>J84017</td>\n",
       "      <td>MEDINA HEALTHCARE</td>\n",
       "    </tr>\n",
       "    <tr>\n",
       "      <th>13</th>\n",
       "      <td>J84018</td>\n",
       "      <td>GROVE HOUSE SURGERY</td>\n",
       "    </tr>\n",
       "    <tr>\n",
       "      <th>14</th>\n",
       "      <td>J84019</td>\n",
       "      <td>WEST WIGHT MEDICAL PRACTICE</td>\n",
       "    </tr>\n",
       "    <tr>\n",
       "      <th>15</th>\n",
       "      <td>J84020</td>\n",
       "      <td>BEECH GROVE SURGERY</td>\n",
       "    </tr>\n",
       "    <tr>\n",
       "      <th>16</th>\n",
       "      <td>J84602</td>\n",
       "      <td>GARFIELD ROAD SURGERY</td>\n",
       "    </tr>\n",
       "    <tr>\n",
       "      <th>17</th>\n",
       "      <td>J84606</td>\n",
       "      <td>DR IRIS</td>\n",
       "    </tr>\n",
       "    <tr>\n",
       "      <th>18</th>\n",
       "      <td>Y00355</td>\n",
       "      <td>RYDE OUTPATIENTS DEPARTMENT</td>\n",
       "    </tr>\n",
       "    <tr>\n",
       "      <th>19</th>\n",
       "      <td>Y00438</td>\n",
       "      <td>INTERMEDIATE CARE SERVICES</td>\n",
       "    </tr>\n",
       "    <tr>\n",
       "      <th>20</th>\n",
       "      <td>Y00588</td>\n",
       "      <td>ISLAND HEALTH LINE</td>\n",
       "    </tr>\n",
       "    <tr>\n",
       "      <th>21</th>\n",
       "      <td>Y01856</td>\n",
       "      <td>STOMA CARE (ST MARY'S HOSPITAL)</td>\n",
       "    </tr>\n",
       "    <tr>\n",
       "      <th>22</th>\n",
       "      <td>Y01857</td>\n",
       "      <td>PARKINSON'S DISEASE SPECIALIST CLINIC</td>\n",
       "    </tr>\n",
       "    <tr>\n",
       "      <th>23</th>\n",
       "      <td>Y01858</td>\n",
       "      <td>PRIMARY CARE PRESCRIBING TEAM</td>\n",
       "    </tr>\n",
       "    <tr>\n",
       "      <th>24</th>\n",
       "      <td>Y02694</td>\n",
       "      <td>COMMUNITY DERMATOLOGY SERVICE</td>\n",
       "    </tr>\n",
       "    <tr>\n",
       "      <th>25</th>\n",
       "      <td>Y02758</td>\n",
       "      <td>BEACON HEALTH</td>\n",
       "    </tr>\n",
       "    <tr>\n",
       "      <th>26</th>\n",
       "      <td>Y03833</td>\n",
       "      <td>ISLE OF WIGHT NHS TRUST NMP</td>\n",
       "    </tr>\n",
       "  </tbody>\n",
       "</table>\n",
       "</div>"
      ],
      "text/plain": [
       "      code                                   Name\n",
       "0   J84003                 VENTNOR MEDICAL CENTRE\n",
       "1   J84004              EAST COWES MEDICAL CENTRE\n",
       "2   J84005                      ESPLANADE SURGERY\n",
       "3   J84007               ST.HELENS MEDICAL CENTRE\n",
       "4   J84008                           ARGYLL HOUSE\n",
       "5   J84010                SHANKLIN MEDICAL CENTRE\n",
       "6   J84011              CARISBROOKE HEALTH CENTRE\n",
       "7   J84012                    TOWER HOUSE SURGERY\n",
       "8   J84013                  SANDOWN HEALTH CENTRE\n",
       "9   J84014                        THE DOWER HOUSE\n",
       "10  J84015                   COWES MEDICAL CENTRE\n",
       "11  J84016           SOUTH WIGHT MEDICAL PRACTICE\n",
       "12  J84017                      MEDINA HEALTHCARE\n",
       "13  J84018                    GROVE HOUSE SURGERY\n",
       "14  J84019            WEST WIGHT MEDICAL PRACTICE\n",
       "15  J84020                    BEECH GROVE SURGERY\n",
       "16  J84602                  GARFIELD ROAD SURGERY\n",
       "17  J84606                                DR IRIS\n",
       "18  Y00355            RYDE OUTPATIENTS DEPARTMENT\n",
       "19  Y00438             INTERMEDIATE CARE SERVICES\n",
       "20  Y00588                     ISLAND HEALTH LINE\n",
       "21  Y01856        STOMA CARE (ST MARY'S HOSPITAL)\n",
       "22  Y01857  PARKINSON'S DISEASE SPECIALIST CLINIC\n",
       "23  Y01858          PRIMARY CARE PRESCRIBING TEAM\n",
       "24  Y02694          COMMUNITY DERMATOLOGY SERVICE\n",
       "25  Y02758                          BEACON HEALTH\n",
       "26  Y03833            ISLE OF WIGHT NHS TRUST NMP"
      ]
     },
     "execution_count": 25,
     "metadata": {},
     "output_type": "execute_result"
    }
   ],
   "source": [
    "#We can now see the benefit of having data from mulitple source data files in the same database\n",
    "#For example, we can run queries across joined tables such as finding GP Practices by CCG\n",
    "ccg='NHS ISLE OF WIGHT CCG'\n",
    "q='''\n",
    "SELECT epraccur.\"Organisation Code\" as code, epraccur.Name as Name \n",
    "FROM eccg, epraccur \n",
    "WHERE eccg.Name=\"{}\" AND eccg.\"Organisation Code\"=epraccur.Commissioner'''\n",
    "\n",
    "pd.read_sql_query(q.format(ccg), con)"
   ]
  },
  {
   "cell_type": "markdown",
   "metadata": {},
   "source": [
    "## Practices in a CCG - epcmem"
   ]
  },
  {
   "cell_type": "code",
   "execution_count": 26,
   "metadata": {
    "collapsed": false
   },
   "outputs": [
    {
     "name": "stdout",
     "output_type": "stream",
     "text": [
      "--2016-09-25 17:50:48--  http://systems.digital.nhs.uk/data/ods/datadownloads/data-files/epcmem.zip\n",
      "Resolving systems.digital.nhs.uk... 194.189.27.101\n",
      "Connecting to systems.digital.nhs.uk|194.189.27.101|:80... connected.\n",
      "HTTP request sent, awaiting response... 200 OK\n",
      "Length: 205985 (201K) [application/zip]\n",
      "Saving to: 'downloads/epcmem.zip'\n",
      "\n",
      "epcmem.zip          100%[=====================>] 201.16K  1.05MB/s   in 0.2s   \n",
      "\n",
      "2016-09-25 17:50:48 (1.05 MB/s) - 'downloads/epcmem.zip' saved [205985/205985]\n",
      "\n",
      "Archive:  downloads/epcmem.zip\n",
      "  inflating: data/epcmem/epcmem.csv  \n",
      "  inflating: data/epcmem/epcmem.pdf  \n"
     ]
    },
    {
     "data": {
      "text/html": [
       "<div>\n",
       "<table border=\"1\" class=\"dataframe\">\n",
       "  <thead>\n",
       "    <tr style=\"text-align: right;\">\n",
       "      <th></th>\n",
       "      <th>0</th>\n",
       "      <th>1</th>\n",
       "      <th>2</th>\n",
       "      <th>3</th>\n",
       "      <th>4</th>\n",
       "      <th>5</th>\n",
       "    </tr>\n",
       "  </thead>\n",
       "  <tbody>\n",
       "    <tr>\n",
       "      <th>0</th>\n",
       "      <td>A81001</td>\n",
       "      <td>4QP36</td>\n",
       "      <td>W</td>\n",
       "      <td>1999-04-01</td>\n",
       "      <td>2001-03-31</td>\n",
       "      <td>0</td>\n",
       "    </tr>\n",
       "    <tr>\n",
       "      <th>1</th>\n",
       "      <td>A81001</td>\n",
       "      <td>5E1</td>\n",
       "      <td>W</td>\n",
       "      <td>2001-04-01</td>\n",
       "      <td>2013-03-31</td>\n",
       "      <td>0</td>\n",
       "    </tr>\n",
       "  </tbody>\n",
       "</table>\n",
       "</div>"
      ],
      "text/plain": [
       "        0      1  2          3          4  5\n",
       "0  A81001  4QP36  W 1999-04-01 2001-03-31  0\n",
       "1  A81001    5E1  W 2001-04-01 2013-03-31  0"
      ]
     },
     "execution_count": 26,
     "metadata": {},
     "output_type": "execute_result"
    }
   ],
   "source": [
    "#via http://systems.digital.nhs.uk/data/ods/datadownloads/gppractice\n",
    "EPCMEM='epcmem'\n",
    "epcmem=getData(EPCMEM,dates=[3,4])\n",
    "epcmem.head(2)"
   ]
  },
  {
   "cell_type": "code",
   "execution_count": 27,
   "metadata": {
    "collapsed": false
   },
   "outputs": [],
   "source": [
    "cols=['Organisation Code','Parent Organisation Code',\n",
    "'Parent Organisation Type','Join Parent Date','Left Parent Date','Amended Record Indicator']"
   ]
  },
  {
   "cell_type": "code",
   "execution_count": 28,
   "metadata": {
    "collapsed": false
   },
   "outputs": [
    {
     "data": {
      "text/html": [
       "<div>\n",
       "<table border=\"1\" class=\"dataframe\">\n",
       "  <thead>\n",
       "    <tr style=\"text-align: right;\">\n",
       "      <th></th>\n",
       "      <th>Organisation Code</th>\n",
       "      <th>Parent Organisation Code</th>\n",
       "      <th>Parent Organisation Type</th>\n",
       "      <th>Join Parent Date</th>\n",
       "      <th>Left Parent Date</th>\n",
       "      <th>Amended Record Indicator</th>\n",
       "    </tr>\n",
       "  </thead>\n",
       "  <tbody>\n",
       "    <tr>\n",
       "      <th>0</th>\n",
       "      <td>A81001</td>\n",
       "      <td>4QP36</td>\n",
       "      <td>W</td>\n",
       "      <td>1999-04-01</td>\n",
       "      <td>2001-03-31</td>\n",
       "      <td>0</td>\n",
       "    </tr>\n",
       "    <tr>\n",
       "      <th>1</th>\n",
       "      <td>A81001</td>\n",
       "      <td>5E1</td>\n",
       "      <td>W</td>\n",
       "      <td>2001-04-01</td>\n",
       "      <td>2013-03-31</td>\n",
       "      <td>0</td>\n",
       "    </tr>\n",
       "  </tbody>\n",
       "</table>\n",
       "</div>"
      ],
      "text/plain": [
       "  Organisation Code Parent Organisation Code Parent Organisation Type  \\\n",
       "0            A81001                    4QP36                        W   \n",
       "1            A81001                      5E1                        W   \n",
       "\n",
       "  Join Parent Date Left Parent Date  Amended Record Indicator  \n",
       "0       1999-04-01       2001-03-31                         0  \n",
       "1       2001-04-01       2013-03-31                         0  "
      ]
     },
     "execution_count": 28,
     "metadata": {},
     "output_type": "execute_result"
    }
   ],
   "source": [
    "epcmem.columns=cols\n",
    "epcmem.head(2)"
   ]
  },
  {
   "cell_type": "markdown",
   "metadata": {},
   "source": [
    "### Storing the Data in a SQLite3 Database"
   ]
  },
  {
   "cell_type": "code",
   "execution_count": 29,
   "metadata": {
    "collapsed": false
   },
   "outputs": [
    {
     "name": "stderr",
     "output_type": "stream",
     "text": [
      "/usr/local/lib/python3.5/site-packages/pandas/core/generic.py:1165: UserWarning: The spaces in these column names will not be changed. In pandas versions < 0.14, spaces were converted to underscores.\n",
      "  chunksize=chunksize, dtype=dtype)\n"
     ]
    }
   ],
   "source": [
    "tmp=epcmem.set_index(['Organisation Code','Parent Organisation Code'])\n",
    "#If the table exists, replace it, under the assumption we are using a more recent version of the data\n",
    "tmp.to_sql(con=con, name=EPCMEM,if_exists='replace')"
   ]
  },
  {
   "cell_type": "code",
   "execution_count": 30,
   "metadata": {
    "collapsed": false
   },
   "outputs": [
    {
     "data": {
      "text/html": [
       "<div>\n",
       "<table border=\"1\" class=\"dataframe\">\n",
       "  <thead>\n",
       "    <tr style=\"text-align: right;\">\n",
       "      <th></th>\n",
       "      <th>Organisation Code</th>\n",
       "      <th>Parent Organisation Code</th>\n",
       "      <th>Parent Organisation Type</th>\n",
       "      <th>Join Parent Date</th>\n",
       "      <th>Left Parent Date</th>\n",
       "      <th>Amended Record Indicator</th>\n",
       "    </tr>\n",
       "  </thead>\n",
       "  <tbody>\n",
       "    <tr>\n",
       "      <th>0</th>\n",
       "      <td>A81001</td>\n",
       "      <td>00K</td>\n",
       "      <td>W</td>\n",
       "      <td>2013-04-01 00:00:00</td>\n",
       "      <td>None</td>\n",
       "      <td>0</td>\n",
       "    </tr>\n",
       "    <tr>\n",
       "      <th>1</th>\n",
       "      <td>A81001</td>\n",
       "      <td>4QP36</td>\n",
       "      <td>W</td>\n",
       "      <td>1999-04-01 00:00:00</td>\n",
       "      <td>2001-03-31 00:00:00</td>\n",
       "      <td>0</td>\n",
       "    </tr>\n",
       "    <tr>\n",
       "      <th>2</th>\n",
       "      <td>A81001</td>\n",
       "      <td>5E1</td>\n",
       "      <td>W</td>\n",
       "      <td>2001-04-01 00:00:00</td>\n",
       "      <td>2013-03-31 00:00:00</td>\n",
       "      <td>0</td>\n",
       "    </tr>\n",
       "  </tbody>\n",
       "</table>\n",
       "</div>"
      ],
      "text/plain": [
       "  Organisation Code Parent Organisation Code Parent Organisation Type  \\\n",
       "0            A81001                      00K                        W   \n",
       "1            A81001                    4QP36                        W   \n",
       "2            A81001                      5E1                        W   \n",
       "\n",
       "      Join Parent Date     Left Parent Date  Amended Record Indicator  \n",
       "0  2013-04-01 00:00:00                 None                         0  \n",
       "1  1999-04-01 00:00:00  2001-03-31 00:00:00                         0  \n",
       "2  2001-04-01 00:00:00  2013-03-31 00:00:00                         0  "
      ]
     },
     "execution_count": 30,
     "metadata": {},
     "output_type": "execute_result"
    }
   ],
   "source": [
    "orgcode='A81001'\n",
    "pd.read_sql_query('SELECT * from {typ} where \"Organisation Code\"=\"{orgcode}\"'.format(typ=EPCMEM,orgcode=orgcode), con)"
   ]
  },
  {
   "cell_type": "markdown",
   "metadata": {},
   "source": [
    "## Practice Members"
   ]
  },
  {
   "cell_type": "code",
   "execution_count": 31,
   "metadata": {
    "collapsed": false
   },
   "outputs": [
    {
     "name": "stdout",
     "output_type": "stream",
     "text": [
      "--2016-09-25 17:50:49--  http://systems.digital.nhs.uk/data/ods/datadownloads/data-files/epracmem.zip\n",
      "Resolving systems.digital.nhs.uk... 194.189.27.101\n",
      "Connecting to systems.digital.nhs.uk|194.189.27.101|:80... connected.\n",
      "HTTP request sent, awaiting response... 200 OK\n",
      "Length: 1210110 (1.2M) [application/zip]\n",
      "Saving to: 'downloads/epracmem.zip'\n",
      "\n",
      "epracmem.zip        100%[=====================>]   1.15M  1.49MB/s   in 0.8s   \n",
      "\n",
      "2016-09-25 17:50:50 (1.49 MB/s) - 'downloads/epracmem.zip' saved [1210110/1210110]\n",
      "\n",
      "Archive:  downloads/epracmem.zip\n",
      "  inflating: data/epracmem/epracmem.csv  \n",
      "  inflating: data/epracmem/epracmem.pdf  \n"
     ]
    },
    {
     "data": {
      "text/html": [
       "<div>\n",
       "<table border=\"1\" class=\"dataframe\">\n",
       "  <thead>\n",
       "    <tr style=\"text-align: right;\">\n",
       "      <th></th>\n",
       "      <th>0</th>\n",
       "      <th>1</th>\n",
       "      <th>2</th>\n",
       "      <th>3</th>\n",
       "      <th>4</th>\n",
       "      <th>5</th>\n",
       "    </tr>\n",
       "  </thead>\n",
       "  <tbody>\n",
       "    <tr>\n",
       "      <th>0</th>\n",
       "      <td>G0102005</td>\n",
       "      <td>H81600</td>\n",
       "      <td>P</td>\n",
       "      <td>1974-04-01</td>\n",
       "      <td>1991-04-01</td>\n",
       "      <td>0</td>\n",
       "    </tr>\n",
       "    <tr>\n",
       "      <th>1</th>\n",
       "      <td>G0102926</td>\n",
       "      <td>D81001</td>\n",
       "      <td>P</td>\n",
       "      <td>1974-04-01</td>\n",
       "      <td>1991-12-31</td>\n",
       "      <td>0</td>\n",
       "    </tr>\n",
       "  </tbody>\n",
       "</table>\n",
       "</div>"
      ],
      "text/plain": [
       "          0       1  2          3          4  5\n",
       "0  G0102005  H81600  P 1974-04-01 1991-04-01  0\n",
       "1  G0102926  D81001  P 1974-04-01 1991-12-31  0"
      ]
     },
     "execution_count": 31,
     "metadata": {},
     "output_type": "execute_result"
    }
   ],
   "source": [
    "EPRACMEM='epracmem'\n",
    "epracmem=getData(EPRACMEM,dates=[3,4])\n",
    "epracmem.head(2)"
   ]
  },
  {
   "cell_type": "code",
   "execution_count": 32,
   "metadata": {
    "collapsed": true
   },
   "outputs": [],
   "source": [
    "cols=['Practitioner Code','Parent Organisation Code','Parent Organisation Type','Join Parent Date',\n",
    "      'Left Parent Date','Amended Record Indicator']"
   ]
  },
  {
   "cell_type": "code",
   "execution_count": 33,
   "metadata": {
    "collapsed": false
   },
   "outputs": [
    {
     "data": {
      "text/html": [
       "<div>\n",
       "<table border=\"1\" class=\"dataframe\">\n",
       "  <thead>\n",
       "    <tr style=\"text-align: right;\">\n",
       "      <th></th>\n",
       "      <th>Practitioner Code</th>\n",
       "      <th>Parent Organisation Code</th>\n",
       "      <th>Parent Organisation Type</th>\n",
       "      <th>Join Parent Date</th>\n",
       "      <th>Left Parent Date</th>\n",
       "      <th>Amended Record Indicator</th>\n",
       "    </tr>\n",
       "  </thead>\n",
       "  <tbody>\n",
       "    <tr>\n",
       "      <th>0</th>\n",
       "      <td>G0102005</td>\n",
       "      <td>H81600</td>\n",
       "      <td>P</td>\n",
       "      <td>1974-04-01</td>\n",
       "      <td>1991-04-01</td>\n",
       "      <td>0</td>\n",
       "    </tr>\n",
       "    <tr>\n",
       "      <th>1</th>\n",
       "      <td>G0102926</td>\n",
       "      <td>D81001</td>\n",
       "      <td>P</td>\n",
       "      <td>1974-04-01</td>\n",
       "      <td>1991-12-31</td>\n",
       "      <td>0</td>\n",
       "    </tr>\n",
       "  </tbody>\n",
       "</table>\n",
       "</div>"
      ],
      "text/plain": [
       "  Practitioner Code Parent Organisation Code Parent Organisation Type  \\\n",
       "0          G0102005                   H81600                        P   \n",
       "1          G0102926                   D81001                        P   \n",
       "\n",
       "  Join Parent Date Left Parent Date  Amended Record Indicator  \n",
       "0       1974-04-01       1991-04-01                         0  \n",
       "1       1974-04-01       1991-12-31                         0  "
      ]
     },
     "execution_count": 33,
     "metadata": {},
     "output_type": "execute_result"
    }
   ],
   "source": [
    "epracmem.columns=cols\n",
    "epracmem.head(2)"
   ]
  },
  {
   "cell_type": "code",
   "execution_count": 34,
   "metadata": {
    "collapsed": false
   },
   "outputs": [
    {
     "data": {
      "text/html": [
       "<div>\n",
       "<table border=\"1\" class=\"dataframe\">\n",
       "  <thead>\n",
       "    <tr style=\"text-align: right;\">\n",
       "      <th></th>\n",
       "      <th>Practitioner Code</th>\n",
       "      <th>Parent Organisation Code</th>\n",
       "      <th>Parent Organisation Type</th>\n",
       "      <th>Join Parent Date</th>\n",
       "      <th>Left Parent Date</th>\n",
       "      <th>Amended Record Indicator</th>\n",
       "    </tr>\n",
       "  </thead>\n",
       "  <tbody>\n",
       "    <tr>\n",
       "      <th>10181</th>\n",
       "      <td>G3335046</td>\n",
       "      <td>J84020</td>\n",
       "      <td>P</td>\n",
       "      <td>1974-04-01</td>\n",
       "      <td>2006-05-17</td>\n",
       "      <td>0</td>\n",
       "    </tr>\n",
       "    <tr>\n",
       "      <th>12450</th>\n",
       "      <td>G3370324</td>\n",
       "      <td>J84020</td>\n",
       "      <td>P</td>\n",
       "      <td>1974-04-01</td>\n",
       "      <td>2006-04-01</td>\n",
       "      <td>0</td>\n",
       "    </tr>\n",
       "    <tr>\n",
       "      <th>48301</th>\n",
       "      <td>G8337043</td>\n",
       "      <td>J84020</td>\n",
       "      <td>P</td>\n",
       "      <td>2003-07-07</td>\n",
       "      <td>2008-09-30</td>\n",
       "      <td>0</td>\n",
       "    </tr>\n",
       "    <tr>\n",
       "      <th>59043</th>\n",
       "      <td>G8549718</td>\n",
       "      <td>J84020</td>\n",
       "      <td>P</td>\n",
       "      <td>2006-03-20</td>\n",
       "      <td>NaT</td>\n",
       "      <td>0</td>\n",
       "    </tr>\n",
       "    <tr>\n",
       "      <th>62086</th>\n",
       "      <td>G8637358</td>\n",
       "      <td>J84020</td>\n",
       "      <td>P</td>\n",
       "      <td>2006-05-02</td>\n",
       "      <td>NaT</td>\n",
       "      <td>0</td>\n",
       "    </tr>\n",
       "    <tr>\n",
       "      <th>108472</th>\n",
       "      <td>G9508552</td>\n",
       "      <td>J84020</td>\n",
       "      <td>P</td>\n",
       "      <td>1995-08-14</td>\n",
       "      <td>NaT</td>\n",
       "      <td>0</td>\n",
       "    </tr>\n",
       "    <tr>\n",
       "      <th>115777</th>\n",
       "      <td>G9710832</td>\n",
       "      <td>J84020</td>\n",
       "      <td>P</td>\n",
       "      <td>1997-11-17</td>\n",
       "      <td>2005-04-30</td>\n",
       "      <td>0</td>\n",
       "    </tr>\n",
       "  </tbody>\n",
       "</table>\n",
       "</div>"
      ],
      "text/plain": [
       "       Practitioner Code Parent Organisation Code Parent Organisation Type  \\\n",
       "10181           G3335046                   J84020                        P   \n",
       "12450           G3370324                   J84020                        P   \n",
       "48301           G8337043                   J84020                        P   \n",
       "59043           G8549718                   J84020                        P   \n",
       "62086           G8637358                   J84020                        P   \n",
       "108472          G9508552                   J84020                        P   \n",
       "115777          G9710832                   J84020                        P   \n",
       "\n",
       "       Join Parent Date Left Parent Date  Amended Record Indicator  \n",
       "10181        1974-04-01       2006-05-17                         0  \n",
       "12450        1974-04-01       2006-04-01                         0  \n",
       "48301        2003-07-07       2008-09-30                         0  \n",
       "59043        2006-03-20              NaT                         0  \n",
       "62086        2006-05-02              NaT                         0  \n",
       "108472       1995-08-14              NaT                         0  \n",
       "115777       1997-11-17       2005-04-30                         0  "
      ]
     },
     "execution_count": 34,
     "metadata": {},
     "output_type": "execute_result"
    }
   ],
   "source": [
    "epracmem[epracmem['Parent Organisation Code']=='J84020']"
   ]
  },
  {
   "cell_type": "markdown",
   "metadata": {},
   "source": [
    "### Storing the Data in a SQLite3 Database"
   ]
  },
  {
   "cell_type": "markdown",
   "metadata": {},
   "source": [
    "## egdpprac"
   ]
  },
  {
   "cell_type": "code",
   "execution_count": 35,
   "metadata": {
    "collapsed": false
   },
   "outputs": [
    {
     "name": "stdout",
     "output_type": "stream",
     "text": [
      "--2016-09-25 17:50:51--  http://systems.digital.nhs.uk/data/ods/datadownloads/data-files/egdpprac.zip\n",
      "Resolving systems.digital.nhs.uk... 194.189.27.101\n",
      "Connecting to systems.digital.nhs.uk|194.189.27.101|:80... connected.\n",
      "HTTP request sent, awaiting response... 200 OK\n",
      "Length: 375667 (367K) [application/zip]\n",
      "Saving to: 'downloads/egdpprac.zip'\n",
      "\n",
      "egdpprac.zip        100%[=====================>] 366.86K  1.22MB/s   in 0.3s   \n",
      "\n",
      "2016-09-25 17:50:51 (1.22 MB/s) - 'downloads/egdpprac.zip' saved [375667/375667]\n",
      "\n",
      "Archive:  downloads/egdpprac.zip\n",
      "  inflating: data/egdpprac/egdpprac.csv  \n",
      "  inflating: data/egdpprac/egdpprac.pdf  \n"
     ]
    },
    {
     "data": {
      "text/html": [
       "<div>\n",
       "<table border=\"1\" class=\"dataframe\">\n",
       "  <thead>\n",
       "    <tr style=\"text-align: right;\">\n",
       "      <th></th>\n",
       "      <th>0</th>\n",
       "      <th>1</th>\n",
       "      <th>2</th>\n",
       "      <th>3</th>\n",
       "      <th>4</th>\n",
       "      <th>5</th>\n",
       "      <th>6</th>\n",
       "      <th>7</th>\n",
       "      <th>8</th>\n",
       "      <th>9</th>\n",
       "      <th>...</th>\n",
       "      <th>17</th>\n",
       "      <th>18</th>\n",
       "      <th>19</th>\n",
       "      <th>20</th>\n",
       "      <th>21</th>\n",
       "      <th>22</th>\n",
       "      <th>23</th>\n",
       "      <th>24</th>\n",
       "      <th>25</th>\n",
       "      <th>26</th>\n",
       "    </tr>\n",
       "  </thead>\n",
       "  <tbody>\n",
       "    <tr>\n",
       "      <th>0</th>\n",
       "      <td>V00002</td>\n",
       "      <td>DENTAL SURGERY</td>\n",
       "      <td>Y52</td>\n",
       "      <td>Q37</td>\n",
       "      <td>DENTAL SURGERY</td>\n",
       "      <td>22 MARTYRS AVENUE</td>\n",
       "      <td>CRAWLEY</td>\n",
       "      <td>WEST SUSSEX</td>\n",
       "      <td>NaN</td>\n",
       "      <td>RH11 7RZ</td>\n",
       "      <td>...</td>\n",
       "      <td>NaN</td>\n",
       "      <td>NaN</td>\n",
       "      <td>NaN</td>\n",
       "      <td>NaN</td>\n",
       "      <td>0</td>\n",
       "      <td>NaN</td>\n",
       "      <td>NaN</td>\n",
       "      <td>NaN</td>\n",
       "      <td>NaN</td>\n",
       "      <td>NaN</td>\n",
       "    </tr>\n",
       "    <tr>\n",
       "      <th>1</th>\n",
       "      <td>V00003</td>\n",
       "      <td>CRABTREE ROAD DENTAL PRACTICE</td>\n",
       "      <td>Y57</td>\n",
       "      <td>Q81</td>\n",
       "      <td>CRABTREE ROAD DENTAL PRACTICE</td>\n",
       "      <td>25 CRABTREE ROAD</td>\n",
       "      <td>CRAWLEY</td>\n",
       "      <td>WEST SUSSEX</td>\n",
       "      <td>NaN</td>\n",
       "      <td>RH11 7HL</td>\n",
       "      <td>...</td>\n",
       "      <td>NaN</td>\n",
       "      <td>NaN</td>\n",
       "      <td>NaN</td>\n",
       "      <td>NaN</td>\n",
       "      <td>0</td>\n",
       "      <td>NaN</td>\n",
       "      <td>NaN</td>\n",
       "      <td>NaN</td>\n",
       "      <td>NaN</td>\n",
       "      <td>NaN</td>\n",
       "    </tr>\n",
       "  </tbody>\n",
       "</table>\n",
       "<p>2 rows × 27 columns</p>\n",
       "</div>"
      ],
      "text/plain": [
       "       0                              1    2    3   \\\n",
       "0  V00002                 DENTAL SURGERY  Y52  Q37   \n",
       "1  V00003  CRABTREE ROAD DENTAL PRACTICE  Y57  Q81   \n",
       "\n",
       "                              4                  5        6            7   \\\n",
       "0                 DENTAL SURGERY  22 MARTYRS AVENUE  CRAWLEY  WEST SUSSEX   \n",
       "1  CRABTREE ROAD DENTAL PRACTICE   25 CRABTREE ROAD  CRAWLEY  WEST SUSSEX   \n",
       "\n",
       "    8         9  ...  17  18  19  20 21  22  23  24  25  26  \n",
       "0  NaN  RH11 7RZ ... NaN NaN NaN NaN  0 NaN NaN NaN NaN NaN  \n",
       "1  NaN  RH11 7HL ... NaN NaN NaN NaN  0 NaN NaN NaN NaN NaN  \n",
       "\n",
       "[2 rows x 27 columns]"
      ]
     },
     "execution_count": 35,
     "metadata": {},
     "output_type": "execute_result"
    }
   ],
   "source": [
    "EGDPPRAC='egdpprac'\n",
    "egdpprac=getData(EGDPPRAC)\n",
    "egdpprac.head(2)"
   ]
  },
  {
   "cell_type": "markdown",
   "metadata": {},
   "source": [
    "### Storing the Data in a SQLite3 Database"
   ]
  },
  {
   "cell_type": "code",
   "execution_count": 36,
   "metadata": {
    "collapsed": false
   },
   "outputs": [
    {
     "name": "stdout",
     "output_type": "stream",
     "text": [
      "--2016-09-25 17:50:52--  http://systems.digital.nhs.uk/data/ods/datadownloads/data-files/egparc.zip\n",
      "Resolving systems.digital.nhs.uk... 194.189.27.101\n",
      "Connecting to systems.digital.nhs.uk|194.189.27.101|:80... connected.\n",
      "HTTP request sent, awaiting response... 200 OK\n",
      "Length: 474533 (463K) [application/zip]\n",
      "Saving to: 'downloads/egparc.zip'\n",
      "\n",
      "egparc.zip          100%[=====================>] 463.41K  1.28MB/s   in 0.4s   \n",
      "\n",
      "2016-09-25 17:50:52 (1.28 MB/s) - 'downloads/egparc.zip' saved [474533/474533]\n",
      "\n",
      "Archive:  downloads/egparc.zip\n",
      "  inflating: data/egparc/egparc.csv  \n",
      "  inflating: data/egparc/egparc.pdf  \n"
     ]
    },
    {
     "data": {
      "text/html": [
       "<div>\n",
       "<table border=\"1\" class=\"dataframe\">\n",
       "  <thead>\n",
       "    <tr style=\"text-align: right;\">\n",
       "      <th></th>\n",
       "      <th>0</th>\n",
       "      <th>1</th>\n",
       "      <th>2</th>\n",
       "      <th>3</th>\n",
       "      <th>4</th>\n",
       "      <th>5</th>\n",
       "      <th>6</th>\n",
       "      <th>7</th>\n",
       "      <th>8</th>\n",
       "      <th>9</th>\n",
       "      <th>...</th>\n",
       "      <th>17</th>\n",
       "      <th>18</th>\n",
       "      <th>19</th>\n",
       "      <th>20</th>\n",
       "      <th>21</th>\n",
       "      <th>22</th>\n",
       "      <th>23</th>\n",
       "      <th>24</th>\n",
       "      <th>25</th>\n",
       "      <th>26</th>\n",
       "    </tr>\n",
       "  </thead>\n",
       "  <tbody>\n",
       "    <tr>\n",
       "      <th>0</th>\n",
       "      <td>G0107275</td>\n",
       "      <td>ANGEL AM</td>\n",
       "      <td>Y10</td>\n",
       "      <td>QAJ</td>\n",
       "      <td>NIGHTINGALE HOUSE</td>\n",
       "      <td>105 NIGHTINGALE LANE</td>\n",
       "      <td>BALHAM</td>\n",
       "      <td>LONDON</td>\n",
       "      <td>NaN</td>\n",
       "      <td>SW12 8NB</td>\n",
       "      <td>...</td>\n",
       "      <td>0181 6733495</td>\n",
       "      <td>NaN</td>\n",
       "      <td>NaN</td>\n",
       "      <td>NaN</td>\n",
       "      <td>0</td>\n",
       "      <td>NaN</td>\n",
       "      <td>NaN</td>\n",
       "      <td>NaN</td>\n",
       "      <td>NaN</td>\n",
       "      <td>NaN</td>\n",
       "    </tr>\n",
       "    <tr>\n",
       "      <th>1</th>\n",
       "      <td>G0108180</td>\n",
       "      <td>ANDERSEN HJ</td>\n",
       "      <td>Y10</td>\n",
       "      <td>QAH</td>\n",
       "      <td>123 EVELINA ROAD</td>\n",
       "      <td>DULWICH</td>\n",
       "      <td>LONDON</td>\n",
       "      <td>NaN</td>\n",
       "      <td>NaN</td>\n",
       "      <td>SE15 3HD</td>\n",
       "      <td>...</td>\n",
       "      <td>071 6393126</td>\n",
       "      <td>NaN</td>\n",
       "      <td>NaN</td>\n",
       "      <td>NaN</td>\n",
       "      <td>0</td>\n",
       "      <td>NaN</td>\n",
       "      <td>NaN</td>\n",
       "      <td>NaN</td>\n",
       "      <td>NaN</td>\n",
       "      <td>NaN</td>\n",
       "    </tr>\n",
       "  </tbody>\n",
       "</table>\n",
       "<p>2 rows × 27 columns</p>\n",
       "</div>"
      ],
      "text/plain": [
       "         0            1    2    3                  4                     5   \\\n",
       "0  G0107275     ANGEL AM  Y10  QAJ  NIGHTINGALE HOUSE  105 NIGHTINGALE LANE   \n",
       "1  G0108180  ANDERSEN HJ  Y10  QAH   123 EVELINA ROAD               DULWICH   \n",
       "\n",
       "       6       7    8         9  ...            17  18  19  20 21  22  23  24  \\\n",
       "0  BALHAM  LONDON  NaN  SW12 8NB ...  0181 6733495 NaN NaN NaN  0 NaN NaN NaN   \n",
       "1  LONDON     NaN  NaN  SE15 3HD ...   071 6393126 NaN NaN NaN  0 NaN NaN NaN   \n",
       "\n",
       "   25  26  \n",
       "0 NaN NaN  \n",
       "1 NaN NaN  \n",
       "\n",
       "[2 rows x 27 columns]"
      ]
     },
     "execution_count": 36,
     "metadata": {},
     "output_type": "execute_result"
    }
   ],
   "source": [
    "EGPARC='egparc'\n",
    "egparc=getData(EGPARC)\n",
    "egparc.head(2)"
   ]
  },
  {
   "cell_type": "markdown",
   "metadata": {},
   "source": [
    "### Storing the Data in a SQLite3 Database"
   ]
  },
  {
   "cell_type": "markdown",
   "metadata": {},
   "source": [
    "## egpcur"
   ]
  },
  {
   "cell_type": "code",
   "execution_count": 37,
   "metadata": {
    "collapsed": false
   },
   "outputs": [
    {
     "name": "stdout",
     "output_type": "stream",
     "text": [
      "--2016-09-25 17:50:53--  http://systems.digital.nhs.uk/data/ods/datadownloads/data-files/egparc.zip\n",
      "Resolving systems.digital.nhs.uk... 194.189.27.101\n",
      "Connecting to systems.digital.nhs.uk|194.189.27.101|:80... connected.\n",
      "HTTP request sent, awaiting response... 200 OK\n",
      "Length: 474533 (463K) [application/zip]\n",
      "Saving to: 'downloads/egparc.zip'\n",
      "\n",
      "egparc.zip          100%[=====================>] 463.41K  1.30MB/s   in 0.3s   \n",
      "\n",
      "2016-09-25 17:50:53 (1.30 MB/s) - 'downloads/egparc.zip' saved [474533/474533]\n",
      "\n",
      "Archive:  downloads/egparc.zip\n",
      "  inflating: data/egparc/egparc.csv  \n",
      "  inflating: data/egparc/egparc.pdf  \n"
     ]
    },
    {
     "data": {
      "text/html": [
       "<div>\n",
       "<table border=\"1\" class=\"dataframe\">\n",
       "  <thead>\n",
       "    <tr style=\"text-align: right;\">\n",
       "      <th></th>\n",
       "      <th>0</th>\n",
       "      <th>1</th>\n",
       "      <th>2</th>\n",
       "      <th>3</th>\n",
       "      <th>4</th>\n",
       "      <th>5</th>\n",
       "      <th>6</th>\n",
       "      <th>7</th>\n",
       "      <th>8</th>\n",
       "      <th>9</th>\n",
       "      <th>...</th>\n",
       "      <th>17</th>\n",
       "      <th>18</th>\n",
       "      <th>19</th>\n",
       "      <th>20</th>\n",
       "      <th>21</th>\n",
       "      <th>22</th>\n",
       "      <th>23</th>\n",
       "      <th>24</th>\n",
       "      <th>25</th>\n",
       "      <th>26</th>\n",
       "    </tr>\n",
       "  </thead>\n",
       "  <tbody>\n",
       "    <tr>\n",
       "      <th>0</th>\n",
       "      <td>G0107275</td>\n",
       "      <td>ANGEL AM</td>\n",
       "      <td>Y10</td>\n",
       "      <td>QAJ</td>\n",
       "      <td>NIGHTINGALE HOUSE</td>\n",
       "      <td>105 NIGHTINGALE LANE</td>\n",
       "      <td>BALHAM</td>\n",
       "      <td>LONDON</td>\n",
       "      <td>NaN</td>\n",
       "      <td>SW12 8NB</td>\n",
       "      <td>...</td>\n",
       "      <td>0181 6733495</td>\n",
       "      <td>NaN</td>\n",
       "      <td>NaN</td>\n",
       "      <td>NaN</td>\n",
       "      <td>0</td>\n",
       "      <td>NaN</td>\n",
       "      <td>NaN</td>\n",
       "      <td>NaN</td>\n",
       "      <td>NaN</td>\n",
       "      <td>NaN</td>\n",
       "    </tr>\n",
       "    <tr>\n",
       "      <th>1</th>\n",
       "      <td>G0108180</td>\n",
       "      <td>ANDERSEN HJ</td>\n",
       "      <td>Y10</td>\n",
       "      <td>QAH</td>\n",
       "      <td>123 EVELINA ROAD</td>\n",
       "      <td>DULWICH</td>\n",
       "      <td>LONDON</td>\n",
       "      <td>NaN</td>\n",
       "      <td>NaN</td>\n",
       "      <td>SE15 3HD</td>\n",
       "      <td>...</td>\n",
       "      <td>071 6393126</td>\n",
       "      <td>NaN</td>\n",
       "      <td>NaN</td>\n",
       "      <td>NaN</td>\n",
       "      <td>0</td>\n",
       "      <td>NaN</td>\n",
       "      <td>NaN</td>\n",
       "      <td>NaN</td>\n",
       "      <td>NaN</td>\n",
       "      <td>NaN</td>\n",
       "    </tr>\n",
       "  </tbody>\n",
       "</table>\n",
       "<p>2 rows × 27 columns</p>\n",
       "</div>"
      ],
      "text/plain": [
       "         0            1    2    3                  4                     5   \\\n",
       "0  G0107275     ANGEL AM  Y10  QAJ  NIGHTINGALE HOUSE  105 NIGHTINGALE LANE   \n",
       "1  G0108180  ANDERSEN HJ  Y10  QAH   123 EVELINA ROAD               DULWICH   \n",
       "\n",
       "       6       7    8         9  ...            17  18  19  20 21  22  23  24  \\\n",
       "0  BALHAM  LONDON  NaN  SW12 8NB ...  0181 6733495 NaN NaN NaN  0 NaN NaN NaN   \n",
       "1  LONDON     NaN  NaN  SE15 3HD ...   071 6393126 NaN NaN NaN  0 NaN NaN NaN   \n",
       "\n",
       "   25  26  \n",
       "0 NaN NaN  \n",
       "1 NaN NaN  \n",
       "\n",
       "[2 rows x 27 columns]"
      ]
     },
     "execution_count": 37,
     "metadata": {},
     "output_type": "execute_result"
    }
   ],
   "source": [
    "EGPARC='egparc'\n",
    "egparc=getData(EGPARC)\n",
    "egparc.head(2)"
   ]
  },
  {
   "cell_type": "markdown",
   "metadata": {},
   "source": [
    "### Storing the Data in a SQLite3 Database"
   ]
  },
  {
   "cell_type": "markdown",
   "metadata": {},
   "source": [
    "## epracarc"
   ]
  },
  {
   "cell_type": "code",
   "execution_count": 38,
   "metadata": {
    "collapsed": false
   },
   "outputs": [
    {
     "name": "stdout",
     "output_type": "stream",
     "text": [
      "--2016-09-25 17:50:54--  http://systems.digital.nhs.uk/data/ods/datadownloads/data-files/epracarc.zip\n",
      "Resolving systems.digital.nhs.uk... 194.189.27.101\n",
      "Connecting to systems.digital.nhs.uk|194.189.27.101|:80... connected.\n",
      "HTTP request sent, awaiting response... 200 OK\n",
      "Length: 187761 (183K) [application/zip]\n",
      "Saving to: 'downloads/epracarc.zip'\n",
      "\n",
      "epracarc.zip        100%[=====================>] 183.36K  1.06MB/s   in 0.2s   \n",
      "\n",
      "2016-09-25 17:50:54 (1.06 MB/s) - 'downloads/epracarc.zip' saved [187761/187761]\n",
      "\n",
      "Archive:  downloads/epracarc.zip\n",
      "  inflating: data/epracarc/epracarc.csv  \n",
      "  inflating: data/epracarc/epracarc.pdf  \n"
     ]
    }
   ],
   "source": [
    "EPRACARC='epracarc'\n",
    "epracarc=getData(EPRACARC)"
   ]
  },
  {
   "cell_type": "markdown",
   "metadata": {},
   "source": [
    "### Storing the Data in a SQLite3 Database"
   ]
  },
  {
   "cell_type": "code",
   "execution_count": null,
   "metadata": {
    "collapsed": true
   },
   "outputs": [],
   "source": []
  }
 ],
 "metadata": {
  "kernelspec": {
   "display_name": "Python 3",
   "language": "python",
   "name": "python3"
  },
  "language_info": {
   "codemirror_mode": {
    "name": "ipython",
    "version": 3
   },
   "file_extension": ".py",
   "mimetype": "text/x-python",
   "name": "python",
   "nbconvert_exporter": "python",
   "pygments_lexer": "ipython3",
   "version": "3.5.1"
  },
  "widgets": {
   "state": {},
   "version": "1.1.2"
  }
 },
 "nbformat": 4,
 "nbformat_minor": 0
}
