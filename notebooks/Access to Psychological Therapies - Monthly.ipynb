{
 "cells": [
  {
   "cell_type": "markdown",
   "metadata": {},
   "source": [
    "# Psychological Therapies - Monthly Reports\n",
    "\n",
    "http://content.digital.nhs.uk/iaptmonthly\n",
    "e.g. Monthly data file: http://content.digital.nhs.uk/catalogue/PUB21575\n",
    "\n",
    "Historical data: http://content.digital.nhs.uk/iaptreports\n",
    "\n",
    "See also the annual report: http://www.content.digital.nhs.uk/catalogue/PUB22110"
   ]
  },
  {
   "cell_type": "markdown",
   "metadata": {},
   "source": [
    "## About\n",
    "This notebook:\n",
    "    \n",
    "- downloads data from monthly reports, stores it in a sqlite database and retrieves it into a pandas dataframe\n",
    "- loads in column metadata and represents it in a metadata dict\n",
    "- explores several bespoke approaches to generating sentences from columns\n",
    "- ends up with a generic cell list textualiser function that allows customised reporting"
   ]
  },
  {
   "cell_type": "code",
   "execution_count": 1,
   "metadata": {
    "collapsed": false
   },
   "outputs": [],
   "source": [
    "import pandas as pd\n",
    "import re\n",
    "import inflect\n",
    "p = inflect.engine()\n",
    "\n",
    "#http://stackoverflow.com/a/3847369\n",
    "ls = lambda s: s[:1].lower() + s[1:] if s else ''"
   ]
  },
  {
   "cell_type": "code",
   "execution_count": 2,
   "metadata": {
    "collapsed": false
   },
   "outputs": [],
   "source": [
    "pd.set_option('display.max_colwidth',500)"
   ]
  },
  {
   "cell_type": "code",
   "execution_count": null,
   "metadata": {
    "collapsed": false
   },
   "outputs": [],
   "source": [
    "#metadata\n",
    "url='http://content.digital.nhs.uk/media/20844/IAPT-month-metadata/xls/IAPT-month-metadata.xlsx'\n",
    "!mkdir -p metadata/\n",
    "!wget -P metadata/ http://content.digital.nhs.uk/media/20844/IAPT-month-metadata/xls/IAPT-month-metadata.xlsx"
   ]
  },
  {
   "cell_type": "code",
   "execution_count": 3,
   "metadata": {
    "collapsed": false
   },
   "outputs": [
    {
     "data": {
      "text/plain": [
       "['Front sheet',\n",
       " 'Version history',\n",
       " 'Monthly data measures',\n",
       " 'Quarterly data measures',\n",
       " 'IAPT v1.5 derivations',\n",
       " 'Related DQ measures',\n",
       " 'Glossary']"
      ]
     },
     "execution_count": 3,
     "metadata": {},
     "output_type": "execute_result"
    }
   ],
   "source": [
    "xl=pd.ExcelFile('metadata/IAPT-month-metadata.xlsx')\n",
    "xl.sheet_names"
   ]
  },
  {
   "cell_type": "code",
   "execution_count": 4,
   "metadata": {
    "collapsed": false
   },
   "outputs": [
    {
     "data": {
      "text/html": [
       "<div>\n",
       "<table border=\"1\" class=\"dataframe\">\n",
       "  <thead>\n",
       "    <tr style=\"text-align: right;\">\n",
       "      <th></th>\n",
       "      <th>Monthly measure reference number</th>\n",
       "      <th>Executive Summary (National)</th>\n",
       "      <th>Monthly CSV data file field name</th>\n",
       "      <th>Related quarterly measure reference number</th>\n",
       "      <th>IC derivation reference numbers</th>\n",
       "      <th>Related DQ metric IDs</th>\n",
       "      <th>Description of measure\n",
       "(where possible measures are described in terms of the classes of information defined in NHS Data Dictionary)</th>\n",
       "      <th>Construction\n",
       "(For all measures ensure IC_Use_Pathway_Flag is \"Y\")</th>\n",
       "      <th>Notes</th>\n",
       "    </tr>\n",
       "  </thead>\n",
       "  <tbody>\n",
       "    <tr>\n",
       "      <th>0</th>\n",
       "      <td>n/a</td>\n",
       "      <td>NaN</td>\n",
       "      <td>CCG</td>\n",
       "      <td>n/a</td>\n",
       "      <td>RE04</td>\n",
       "      <td>n/a</td>\n",
       "      <td>The organisation code of the CCG the measures relate to</td>\n",
       "      <td>R.IC_CCG</td>\n",
       "      <td>NaN</td>\n",
       "    </tr>\n",
       "    <tr>\n",
       "      <th>1</th>\n",
       "      <td>n/a</td>\n",
       "      <td>NaN</td>\n",
       "      <td>Provider</td>\n",
       "      <td>n/a</td>\n",
       "      <td>n/a</td>\n",
       "      <td>n/a</td>\n",
       "      <td>The organisation code (code of provider) the measures relate to</td>\n",
       "      <td>R.ORGCODEPROVIDER</td>\n",
       "      <td>NaN</td>\n",
       "    </tr>\n",
       "    <tr>\n",
       "      <th>2</th>\n",
       "      <td>n/a</td>\n",
       "      <td>NaN</td>\n",
       "      <td>GroupType</td>\n",
       "      <td>n/a</td>\n",
       "      <td>n/a</td>\n",
       "      <td>n/a</td>\n",
       "      <td>The organisational group type the measures relate to (\"England\", \"CCG\", \"Provider\" or \"CCG/Provider\")</td>\n",
       "      <td>Hardcoded during NHS Digital processing</td>\n",
       "      <td>NaN</td>\n",
       "    </tr>\n",
       "    <tr>\n",
       "      <th>3</th>\n",
       "      <td>n/a</td>\n",
       "      <td>NaN</td>\n",
       "      <td>Month</td>\n",
       "      <td>n/a</td>\n",
       "      <td>n/a</td>\n",
       "      <td>n/a</td>\n",
       "      <td>The reporting month</td>\n",
       "      <td>Month and year from reference table (linked on H.MONTH_ID)</td>\n",
       "      <td>NaN</td>\n",
       "    </tr>\n",
       "    <tr>\n",
       "      <th>4</th>\n",
       "      <td>imm01</td>\n",
       "      <td>Referrals received</td>\n",
       "      <td>ReferralsReceived</td>\n",
       "      <td>iqm01</td>\n",
       "      <td>HE01, RE01, RE02</td>\n",
       "      <td>1, 7, 8, 11, 14, 101, 102, 108, 109, 111, 112, 123</td>\n",
       "      <td>Referrals with a referral request received date in the month</td>\n",
       "      <td>Count of distinct(IC_PATHWAY_ID) where REFRECDATE is in the period</td>\n",
       "      <td>Monthly equivalent of line 1 of previous quarterly reports</td>\n",
       "    </tr>\n",
       "  </tbody>\n",
       "</table>\n",
       "</div>"
      ],
      "text/plain": [
       "  Monthly measure reference number  Executive Summary (National)  \\\n",
       "0                               n/a                          NaN   \n",
       "1                               n/a                          NaN   \n",
       "2                               n/a                          NaN   \n",
       "3                               n/a                          NaN   \n",
       "4                             imm01           Referrals received   \n",
       "\n",
       "  Monthly CSV data file field name Related quarterly measure reference number  \\\n",
       "0                              CCG                                        n/a   \n",
       "1                         Provider                                        n/a   \n",
       "2                        GroupType                                        n/a   \n",
       "3                            Month                                        n/a   \n",
       "4                ReferralsReceived                                      iqm01   \n",
       "\n",
       "  IC derivation reference numbers  \\\n",
       "0                            RE04   \n",
       "1                             n/a   \n",
       "2                             n/a   \n",
       "3                             n/a   \n",
       "4                HE01, RE01, RE02   \n",
       "\n",
       "                                Related DQ metric IDs  \\\n",
       "0                                                 n/a   \n",
       "1                                                 n/a   \n",
       "2                                                 n/a   \n",
       "3                                                 n/a   \n",
       "4  1, 7, 8, 11, 14, 101, 102, 108, 109, 111, 112, 123   \n",
       "\n",
       "  Description of measure\\n(where possible measures are described in terms of the classes of information defined in NHS Data Dictionary)  \\\n",
       "0                                                                               The organisation code of the CCG the measures relate to   \n",
       "1                                                                       The organisation code (code of provider) the measures relate to   \n",
       "2                                 The organisational group type the measures relate to (\"England\", \"CCG\", \"Provider\" or \"CCG/Provider\")   \n",
       "3                                                                                                                   The reporting month   \n",
       "4                                                                          Referrals with a referral request received date in the month   \n",
       "\n",
       "   Construction\\n(For all measures ensure IC_Use_Pathway_Flag is \"Y\")  \\\n",
       "0                                                            R.IC_CCG   \n",
       "1                                                   R.ORGCODEPROVIDER   \n",
       "2                             Hardcoded during NHS Digital processing   \n",
       "3          Month and year from reference table (linked on H.MONTH_ID)   \n",
       "4  Count of distinct(IC_PATHWAY_ID) where REFRECDATE is in the period   \n",
       "\n",
       "                                                        Notes  \n",
       "0                                                         NaN  \n",
       "1                                                         NaN  \n",
       "2                                                         NaN  \n",
       "3                                                         NaN  \n",
       "4  Monthly equivalent of line 1 of previous quarterly reports  "
      ]
     },
     "execution_count": 4,
     "metadata": {},
     "output_type": "execute_result"
    }
   ],
   "source": [
    "metadata=pd.read_excel('metadata/IAPT-month-metadata.xlsx',sheetname='Monthly data measures',skiprows=6)\n",
    "metadata.head(5)"
   ]
  },
  {
   "cell_type": "code",
   "execution_count": 5,
   "metadata": {
    "collapsed": false
   },
   "outputs": [],
   "source": [
    "shortcol={'monthlymeasureref':'Monthly measure reference number ',\n",
    "          'execSummary':'Executive Summary (National)',\n",
    "          'colname':'Monthly CSV data file field name',\n",
    "          'quarterlymeasureref':'Related quarterly measure reference number',\n",
    "          'refnum':'IC derivation reference numbers',\n",
    "          'metricid':'Related DQ metric IDs',\n",
    "          'desc':'Description of measure\\n(where possible measures are described in terms of the classes of information defined in NHS Data Dictionary)',\n",
    "          'construction':'Construction\\n(For all measures ensure IC_Use_Pathway_Flag is \"Y\")',\n",
    "          'notes':'Notes'}"
   ]
  },
  {
   "cell_type": "code",
   "execution_count": 6,
   "metadata": {
    "collapsed": false
   },
   "outputs": [],
   "source": [
    "metadataDesc=metadata[[shortcol['colname'],shortcol['desc']]].dropna()\n",
    "metadataDesc.columns=['colname','desc']\n",
    "metadataDict=dict(zip(metadataDesc['colname'], metadataDesc['desc']))"
   ]
  },
  {
   "cell_type": "markdown",
   "metadata": {},
   "source": [
    "## Monthly Data File"
   ]
  },
  {
   "cell_type": "code",
   "execution_count": 7,
   "metadata": {
    "collapsed": true
   },
   "outputs": [],
   "source": [
    "import sqlite3\n",
    "#!rm iapt.sqlite\n",
    "con_iapt = sqlite3.connect(\"iapt.sqlite\")"
   ]
  },
  {
   "cell_type": "code",
   "execution_count": null,
   "metadata": {
    "collapsed": false
   },
   "outputs": [],
   "source": [
    "#cursor = con_iapt.cursor()\n",
    "#cursor.execute('DROP TABLE IF EXISTS monthly')\n",
    "#con_iapt.commit()"
   ]
  },
  {
   "cell_type": "code",
   "execution_count": null,
   "metadata": {
    "collapsed": true
   },
   "outputs": [],
   "source": [
    "def db_loader(con,url):\n",
    "    months=[]\n",
    "    if len(pd.read_sql_query(\"SELECT name FROM sqlite_master WHERE type='table' AND name='monthly'\",con_iapt)):\n",
    "        months=pd.read_sql_query('SELECT DISTINCT Month FROM monthly', con)['Month'].tolist()\n",
    "    df=pd.read_csv(url, na_values='*')\n",
    "    if df['Month'].unique()[0] not in months:\n",
    "        df.set_index(['Month','CCG','Provider']).to_sql(con=con, name='monthly',if_exists='append')"
   ]
  },
  {
   "cell_type": "code",
   "execution_count": null,
   "metadata": {
    "collapsed": false
   },
   "outputs": [],
   "source": [
    "url='http://content.digital.nhs.uk/catalogue/PUB21431/IAPT-month-May-2016-final-data.csv'\n",
    "db_loader(con_iapt,url)"
   ]
  },
  {
   "cell_type": "code",
   "execution_count": null,
   "metadata": {
    "collapsed": false
   },
   "outputs": [],
   "source": [
    "pd.read_sql_query(\"SELECT * FROM monthly WHERE CCG='10L'\",con_iapt)"
   ]
  },
  {
   "cell_type": "code",
   "execution_count": null,
   "metadata": {
    "collapsed": false
   },
   "outputs": [],
   "source": [
    "#monthly data file example\n",
    "url='http://content.digital.nhs.uk/catalogue/PUB21575/IAPT-month-jun-2016-final-data.csv'\n",
    "db_loader(con_iapt,url)"
   ]
  },
  {
   "cell_type": "code",
   "execution_count": null,
   "metadata": {
    "collapsed": false
   },
   "outputs": [],
   "source": [
    "pd.read_sql_query(\"SELECT * FROM monthly WHERE CCG='10L'\",con_iapt)"
   ]
  },
  {
   "cell_type": "code",
   "execution_count": 8,
   "metadata": {
    "collapsed": true
   },
   "outputs": [],
   "source": [
    "df_jun2016=pd.read_sql_query(\"SELECT * FROM monthly WHERE Month='Jun-16'\",con_iapt)"
   ]
  },
  {
   "cell_type": "code",
   "execution_count": 9,
   "metadata": {
    "collapsed": false
   },
   "outputs": [
    {
     "data": {
      "text/html": [
       "<div>\n",
       "<table border=\"1\" class=\"dataframe\">\n",
       "  <thead>\n",
       "    <tr style=\"text-align: right;\">\n",
       "      <th></th>\n",
       "      <th>Month</th>\n",
       "      <th>CCG</th>\n",
       "      <th>Provider</th>\n",
       "      <th>CCGName</th>\n",
       "      <th>ProviderName</th>\n",
       "      <th>GroupType</th>\n",
       "      <th>ReferralsReceived</th>\n",
       "      <th>SelfReferrals</th>\n",
       "      <th>FirstAssessment</th>\n",
       "      <th>FirstAssessment28days</th>\n",
       "      <th>...</th>\n",
       "      <th>MeanHISessions</th>\n",
       "      <th>MeanCBTSessions</th>\n",
       "      <th>MeanCouplesSessions</th>\n",
       "      <th>MeanOtherHISessions</th>\n",
       "      <th>MeanLiSessions</th>\n",
       "      <th>ImprovementRate</th>\n",
       "      <th>RecoveryRate</th>\n",
       "      <th>ReliableRecoveryRate</th>\n",
       "      <th>FirstTreatment6WeeksFinishedCourseRate</th>\n",
       "      <th>FirstTreatment18WeeksFinishedCourseRate</th>\n",
       "    </tr>\n",
       "  </thead>\n",
       "  <tbody>\n",
       "    <tr>\n",
       "      <th>888</th>\n",
       "      <td>Jun-16</td>\n",
       "      <td>10L</td>\n",
       "      <td>R1F</td>\n",
       "      <td>NHS ISLE OF WIGHT CCG</td>\n",
       "      <td>ISLE OF WIGHT NHS TRUST</td>\n",
       "      <td>CCG/Provider</td>\n",
       "      <td>325.0</td>\n",
       "      <td>310.0</td>\n",
       "      <td>245.0</td>\n",
       "      <td>210.0</td>\n",
       "      <td>...</td>\n",
       "      <td>7.2</td>\n",
       "      <td>6.6</td>\n",
       "      <td>10.9</td>\n",
       "      <td>13.5</td>\n",
       "      <td>5.0</td>\n",
       "      <td>63.7</td>\n",
       "      <td>49.2</td>\n",
       "      <td>46.3</td>\n",
       "      <td>92.9</td>\n",
       "      <td>100.0</td>\n",
       "    </tr>\n",
       "    <tr>\n",
       "      <th>889</th>\n",
       "      <td>Jun-16</td>\n",
       "      <td>10L</td>\n",
       "      <td>RDYDL</td>\n",
       "      <td>NHS ISLE OF WIGHT CCG</td>\n",
       "      <td>PSYCHOLOGICAL THERAPIES SOUTHHAMPTON OFFICE</td>\n",
       "      <td>CCG/Provider</td>\n",
       "      <td>NaN</td>\n",
       "      <td>NaN</td>\n",
       "      <td>NaN</td>\n",
       "      <td>NaN</td>\n",
       "      <td>...</td>\n",
       "      <td>NaN</td>\n",
       "      <td>NaN</td>\n",
       "      <td>NaN</td>\n",
       "      <td>NaN</td>\n",
       "      <td>NaN</td>\n",
       "      <td>NaN</td>\n",
       "      <td>NaN</td>\n",
       "      <td>NaN</td>\n",
       "      <td>NaN</td>\n",
       "      <td>NaN</td>\n",
       "    </tr>\n",
       "    <tr>\n",
       "      <th>890</th>\n",
       "      <td>Jun-16</td>\n",
       "      <td>10L</td>\n",
       "      <td>all</td>\n",
       "      <td>NHS ISLE OF WIGHT CCG</td>\n",
       "      <td>all Providers</td>\n",
       "      <td>CCG</td>\n",
       "      <td>325.0</td>\n",
       "      <td>310.0</td>\n",
       "      <td>245.0</td>\n",
       "      <td>210.0</td>\n",
       "      <td>...</td>\n",
       "      <td>7.2</td>\n",
       "      <td>6.6</td>\n",
       "      <td>10.9</td>\n",
       "      <td>13.5</td>\n",
       "      <td>5.0</td>\n",
       "      <td>63.7</td>\n",
       "      <td>49.2</td>\n",
       "      <td>46.3</td>\n",
       "      <td>92.9</td>\n",
       "      <td>100.0</td>\n",
       "    </tr>\n",
       "  </tbody>\n",
       "</table>\n",
       "<p>3 rows × 87 columns</p>\n",
       "</div>"
      ],
      "text/plain": [
       "      Month  CCG Provider                CCGName  \\\n",
       "888  Jun-16  10L      R1F  NHS ISLE OF WIGHT CCG   \n",
       "889  Jun-16  10L    RDYDL  NHS ISLE OF WIGHT CCG   \n",
       "890  Jun-16  10L      all  NHS ISLE OF WIGHT CCG   \n",
       "\n",
       "                                    ProviderName     GroupType  \\\n",
       "888                      ISLE OF WIGHT NHS TRUST  CCG/Provider   \n",
       "889  PSYCHOLOGICAL THERAPIES SOUTHHAMPTON OFFICE  CCG/Provider   \n",
       "890                                all Providers           CCG   \n",
       "\n",
       "     ReferralsReceived  SelfReferrals  FirstAssessment  FirstAssessment28days  \\\n",
       "888              325.0          310.0            245.0                  210.0   \n",
       "889                NaN            NaN              NaN                    NaN   \n",
       "890              325.0          310.0            245.0                  210.0   \n",
       "\n",
       "                      ...                     MeanHISessions  MeanCBTSessions  \\\n",
       "888                   ...                                7.2              6.6   \n",
       "889                   ...                                NaN              NaN   \n",
       "890                   ...                                7.2              6.6   \n",
       "\n",
       "     MeanCouplesSessions  MeanOtherHISessions  MeanLiSessions  \\\n",
       "888                 10.9                 13.5             5.0   \n",
       "889                  NaN                  NaN             NaN   \n",
       "890                 10.9                 13.5             5.0   \n",
       "\n",
       "     ImprovementRate  RecoveryRate  ReliableRecoveryRate  \\\n",
       "888             63.7          49.2                  46.3   \n",
       "889              NaN           NaN                   NaN   \n",
       "890             63.7          49.2                  46.3   \n",
       "\n",
       "     FirstTreatment6WeeksFinishedCourseRate  \\\n",
       "888                                    92.9   \n",
       "889                                     NaN   \n",
       "890                                    92.9   \n",
       "\n",
       "     FirstTreatment18WeeksFinishedCourseRate  \n",
       "888                                    100.0  \n",
       "889                                      NaN  \n",
       "890                                    100.0  \n",
       "\n",
       "[3 rows x 87 columns]"
      ]
     },
     "execution_count": 9,
     "metadata": {},
     "output_type": "execute_result"
    }
   ],
   "source": [
    "ccgCode='10L'\n",
    "df_jun2016[df_jun2016['CCG']==ccgCode].dropna(axis=1,how='all')"
   ]
  },
  {
   "cell_type": "code",
   "execution_count": null,
   "metadata": {
    "collapsed": false
   },
   "outputs": [],
   "source": [
    "# Column names\n",
    "#df_jun2016.columns.tolist()\n",
    "'''\n",
    " 'FirstToSecondTreatmentOver28days',\n",
    " 'FirstToSecondTreatmentOver90days',\n",
    " 'MeanWaitEnteredTreatment',\n",
    " 'MedianWaitEnteredTreatment',\n",
    " 'MeanWaitFinishedCourse',\n",
    " 'MedianWaitFinishedCourse',\n",
    " 'FirstADSMOnly',\n",
    " 'NoADSM',\n",
    " 'PairedADSM',\n",
    " 'FirstPHQOnly',\n",
    " 'NoPHQ',\n",
    " 'PairedPHQ',\n",
    " 'PairedADSMPHQ',\n",
    " 'OffSickPay',\n",
    " 'AptFinishedCourseTreatment',\n",
    " 'MeanAptFinishedCourseTreatment',\n",
    " 'MedianAptFinishedCourseTreatment',\n",
    " 'MaxAptFinishedCourseTreatment',\n",
    " 'MinAptFinishedCourseTreatment',\n",
    " 'OpenReferralNoActivity60days',\n",
    " 'OpenReferralNoActivity61to90days',\n",
    " 'OpenReferralNoActivity91to120days',\n",
    " 'OpenReferralNoActivityOver120days',\n",
    " 'NotCaseness',\n",
    " 'Recovery',\n",
    " 'Improvement',\n",
    " 'Deterioration',\n",
    " 'NoReliableChange',\n",
    " 'ReliableRecovery',\n",
    " 'SecondTreatment',\n",
    " 'MeanHISessions',\n",
    " 'MeanCBTSessions',\n",
    " 'MeanBPDSessions',\n",
    " 'MeanCounsellingSessions',\n",
    " 'MeanIPTSessions',\n",
    " 'MeanCouplesSessions',\n",
    " 'MeanBehavActSessions',\n",
    " 'MeanOtherHISessions',\n",
    " 'MeanLiSessions',\n",
    " 'ImprovementRate',\n",
    " 'RecoveryRate',\n",
    " 'ReliableRecoveryRate',\n",
    " 'FirstTreatment6WeeksFinishedCourseRate',\n",
    " 'FirstTreatment18WeeksFinishedCourseRate'\n",
    " '''\n",
    "pass"
   ]
  },
  {
   "cell_type": "markdown",
   "metadata": {},
   "source": [
    "## Reporting Utility Functions"
   ]
  },
  {
   "cell_type": "code",
   "execution_count": 10,
   "metadata": {
    "collapsed": false
   },
   "outputs": [],
   "source": [
    "def report_rows(df,ccg,provider='all',period=None):\n",
    "    if provider!='all':\n",
    "        rows=df[(df['CCG']==ccg) & (df['Provider']==provider)]\n",
    "    else:\n",
    "        rows=df[(df['CCG']==ccg)]\n",
    "    #period is a 2 tuple: (colname,[periods])\n",
    "    if period is not None:\n",
    "        if isinstance(period[1],str): period= (period[0], [period[1]] )\n",
    "        rows=rows[rows[period[0]].isin(period[1])]\n",
    "    return rows\n",
    "\n",
    "def report_referral(df,series_reporter,ccg,provider='all',period=None):\n",
    "    rows=report_rows(df,ccg,provider,period)\n",
    "    tmp=rows[['CCG','Provider']][:]\n",
    "    tmp['txt']= rows.apply(series_reporter,axis=1)\n",
    "    return tmp\n",
    "\n",
    "def report_referrals(df,series_reporters,ccg,provider='all',period=None):\n",
    "    tmp=pd.DataFrame()\n",
    "    for series_reporter in series_reporters:\n",
    "        tmp=pd.concat([tmp,report_referral(df,series_reporter,ccg,provider=provider,period=period)])\n",
    "    return tmp\n",
    "\n",
    "def printer(df):\n",
    "    df.apply(lambda x:print(x['txt']),axis=1)"
   ]
  },
  {
   "cell_type": "markdown",
   "metadata": {},
   "source": [
    "## Bespoke Reporting\n",
    "\n",
    "Getting a feel for structures for reporting on differnt columns and groups of related columns."
   ]
  },
  {
   "cell_type": "code",
   "execution_count": 11,
   "metadata": {
    "collapsed": true
   },
   "outputs": [],
   "source": [
    "df=df_jun2016\n",
    "def series_referrals(row):\n",
    "    txt='''\n",
    "In {period}, across the {ccg}, {provider} received {ReferralsReceived} referrals,\n",
    "of which {SelfReferrals} were self-referrals.\n",
    "    '''.format(period=row['Month'],\n",
    "               ccg=row['CCGName'],\n",
    "               provider=row['ProviderName'],\n",
    "               ReferralsReceived=row['ReferralsReceived'],\n",
    "               SelfReferrals=row['SelfReferrals']\n",
    "              )\n",
    "    return txt"
   ]
  },
  {
   "cell_type": "code",
   "execution_count": 12,
   "metadata": {
    "collapsed": false
   },
   "outputs": [
    {
     "name": "stdout",
     "output_type": "stream",
     "text": [
      "\n",
      "In Jun-16, across the NHS ISLE OF WIGHT CCG, ISLE OF WIGHT NHS TRUST received 325.0 referrals,\n",
      "of which 310.0 were self-referrals.\n",
      "    \n"
     ]
    }
   ],
   "source": [
    "printer(report_referral(df,series_referrals,'10L','R1F'))"
   ]
  },
  {
   "cell_type": "code",
   "execution_count": 13,
   "metadata": {
    "collapsed": false
   },
   "outputs": [],
   "source": [
    "def series_referrals2(row):\n",
    "    txt='''\n",
    "In {period}, across the {ccg}, {provider} received {ReferralsReceived} referrals ({md1}), \\\n",
    "of which {SelfReferrals} were self-referrals ({md2}).\n",
    "    '''.format(period=row['Month'],\n",
    "               ccg=row['CCGName'],\n",
    "               provider=row['ProviderName'],\n",
    "               ReferralsReceived=row['ReferralsReceived'],\n",
    "               SelfReferrals=row['SelfReferrals'],\n",
    "               md1=ls(metadataDict['ReferralsReceived']),\n",
    "               md2=ls(metadataDict['SelfReferrals'])\n",
    "              )\n",
    "    return txt"
   ]
  },
  {
   "cell_type": "code",
   "execution_count": 14,
   "metadata": {
    "collapsed": false
   },
   "outputs": [
    {
     "name": "stdout",
     "output_type": "stream",
     "text": [
      "\n",
      "In Jun-16, across the NHS ISLE OF WIGHT CCG, ISLE OF WIGHT NHS TRUST received 325.0 referrals (referrals with a referral request received date in the month), of which 310.0 were self-referrals (referrals with a referral request received date in the month with a source of referral for mental health of 'self').\n",
      "    \n"
     ]
    }
   ],
   "source": [
    "printer(report_referral(df,series_referrals2,'10L','R1F'))"
   ]
  },
  {
   "cell_type": "code",
   "execution_count": 15,
   "metadata": {
    "collapsed": false
   },
   "outputs": [],
   "source": [
    "#Generate some custom labels corresponding to column names\n",
    "lookups={\n",
    "    'FirstAssessment':('first assessments',''),\n",
    "    'FirstAssessment28days':('first assessments','within 28 days'),\n",
    "    'FirstAssessment29to56days':('first assessments','between 29 and 56 days'),\n",
    "    'FirstAssessment57to90days':('first assessments','between 57 and 90 days'),\n",
    "    'FirstAssessmentOver90days':('first assessments','over 90 days'),\n",
    "    'EndedBeforeAssessment':('ended before assessment',''),\n",
    "    'WaitingForAssessment':('waiting for assessment',''),\n",
    "    'WaitingForAssessmentOver90days':('waiting for assessment','over 90 days'),\n",
    "    'FirstTreatment':('first treatments',''),\n",
    "    'FirstTreatment28days':('first treatments','within 28 days'),\n",
    "    'FirstTreatment29to56days':('first treatments','between 29 and 56 days'),\n",
    "    'FirstTreatment57to90days':('first treatments','between 57 and 90 days'),\n",
    "    'FirstTreatmentOver90days':('first treatments','between 57 and 90 days'),\n",
    "    'FirstTreatment6Weeks':('first treatments','within 6 weeks'),\n",
    "    'FirstTreatment18Weeks':('first treatments','within 18 weeks'),\n",
    "    'FirstTreatment6WeeksFinishedCourse':('first treatments','finished course within 6 weeks'),\n",
    "    'FirstTreatment18WeeksFinishedCourse':('first treatments','finished course within 18 weeks'),\n",
    "    'EndedBeforeTreatment':('ended before treatment',''),\n",
    "    'WaitingForTreatment':('waiting for treatment',''),\n",
    "    'WaitingForTreatment0to2weeks':('waiting for treatment','for 0 to 2 weeks'),\n",
    "    'WaitingForTreatment0to4weeks':('waiting for treatment','for 0 to 4 weeks'),\n",
    "    'WaitingForTreatment0to6weeks':('waiting for treatment','for 0 to 6 weeks'),\n",
    "    'WaitingForTreatment0to12weeks':('waiting for treatment','for 0 to 12 weeks'),\n",
    "    'WaitingForTreatment0to18weeks':('waiting for treatment','for 0 to 18 weeks'),\n",
    "    'WaitingForTreatmentOver18weeks':('waiting for treatment','for over 18 weeks'),\n",
    "    'WaitingForTreatmentOver90days':('waiting for treatment','for over 90 days'),\n",
    "    'EndedReferrals':('referrals ended',''),\n",
    " 'EndedNotSuitable':('referrals ended','not suitable'),\n",
    " 'EndedSignposted':('referrals ended','signposted'),\n",
    " 'EndedMutualAgreement':('referrals ended','by mutual agreement'),\n",
    " 'EndedReferredElsewhere':('referrals ended','referred elsewhere'),\n",
    " 'EndedDeclined':('referrals ended','declined'),\n",
    " 'EndedDeceasedAssessedOnly':('referrals ended','deceased (assessed only)'),\n",
    " 'EndedUnknownAssessedOnly':('referrals ended','unknown (assessed only)'),\n",
    " 'EndedSteppedUp':('referrals ended','stepped up'),\n",
    " 'EndedSteppedDown':('referrals ended','steppd down'),\n",
    " 'EndedCompleted':('referrals ended','completed'),\n",
    " 'EndedDroppedOut':('referrals ended','dropped out'),\n",
    " 'EndedReferredNonIAPT':('referrals ended','referred non-IAPT'),\n",
    " 'EndedDeceasedTreated':('referrals ended','deceased (treated)'),\n",
    " 'EndedUnknownTreated':('referrals ended','unknown (treated)'),\n",
    " 'EndedInvalid':('referrals ended','invalid'),\n",
    " 'EndedNoReasonRecorded':('referrals ended','no reason recorded'),\n",
    " 'EndedSeenNotTreated':('referrals ended','seen but not treated'),\n",
    " 'EndedTreatedOnce':('referrals ended','treated once'),\n",
    " 'FinishedCourseTreatment':('referrals ended','finished the course of treatment'),\n",
    " 'EndedNotSeen':('referrals ended','not seen'),\n",
    "     'Appointments':('appointments',''),\n",
    " 'AptCancelledPatient':('appointments','cancelled by patient'),\n",
    " 'AptDNA':('appointments','did not attend (DNA)'),\n",
    " 'AptCancelledProvider':('appointments','cancelled by provider'),\n",
    " 'AptAttended':('appointments','attended'),\n",
    " 'AptAttendedLate':('appointments','attended late'),\n",
    " 'AptLateNotSeen':('appointments','late and not seen'),\n",
    " 'GuideSelfHelpBookApts':('aptType',''),\n",
    " 'NonGuideSelfHelpBookApts':('aptType',''),\n",
    " 'GuideSelfHelpCompApts':('aptType',''),\n",
    " 'NonGuideSelfHelpCompApts':('aptType',''),\n",
    " 'BehavActLIApts':('aptType',''),\n",
    " 'StructPhysActApts':('aptType',''),\n",
    " 'AntePostNatalCounselApts':('aptType',''),\n",
    " 'PsychoEducPeerSuppApts':('aptType',''),\n",
    " 'OtherLIApts':('aptType',''),\n",
    " 'EmploySuppLIApts':('aptType',''),\n",
    " 'AppRelaxApts':('aptType',''),\n",
    " 'BehavActHIApts':('aptType',''),\n",
    " 'CoupleTherapyDepApts':('aptType',''),\n",
    " 'CollabCareApts':('aptType',''),\n",
    " 'CounselDepApts':('aptType',''),\n",
    " 'BPDApts':('aptType',''),\n",
    " 'EyeMoveDesenReproApts':('aptType',''),\n",
    " 'MindfulApts':('aptType',''),\n",
    " 'OtherHIApts':('aptType',''),\n",
    " 'EmploySuppHIApts':('aptType',''),\n",
    " 'CBTApts':('aptType',''),\n",
    " 'IPTApts':('aptType','')\n",
    "}"
   ]
  },
  {
   "cell_type": "code",
   "execution_count": 16,
   "metadata": {
    "collapsed": false
   },
   "outputs": [],
   "source": [
    "#DONE\n",
    "#'FirstAssessment','FirstAssessment28days', 'FirstAssessment29to56days', 'FirstAssessment57to90days', 'FirstAssessmentOver90days', 'EndedBeforeAssessment','WaitingForAssessment', 'WaitingForAssessmentOver90days'\n",
    "def series_assessment_all(row):\n",
    "    txt='''\n",
    "In all, there were {FirstAssessment} first assessments:\n",
    "    \n",
    "    - {FirstAssessment28days} within 28 days;\n",
    "    - {FirstAssessment29to56days} between 29 and 56 days;\n",
    "    - {FirstAssessment57to90days} between 57 and 90 days;\n",
    "    - {FirstAssessmentOver90days} over 90 days;\n",
    "\n",
    "{EndedBeforeAssessment} ended before assessment, {WaitingForAssessment} are waiting for assessment,\n",
    " and {WaitingForAssessmentOver90days} have been waiting for assessment for over 90 days.\n",
    "    '''.format(\n",
    "        FirstAssessment=row['FirstAssessment'],\n",
    "        FirstAssessment28days=row['FirstAssessment28days'],\n",
    "        FirstAssessment29to56days=row['FirstAssessment29to56days'],\n",
    "        FirstAssessment57to90days=row['FirstAssessment57to90days'],\n",
    "        FirstAssessmentOver90days=row['FirstAssessmentOver90days'],\n",
    "        EndedBeforeAssessment=row['EndedBeforeAssessment'],\n",
    "        WaitingForAssessment=row['WaitingForAssessment'],\n",
    "        WaitingForAssessmentOver90days=row['WaitingForAssessmentOver90days']\n",
    "    )\n",
    "    return txt\n",
    "\n",
    "def series_assessment_nonzero(row):\n",
    "    if row['FirstAssessment']==0:\n",
    "        txt='There were no {} ({}).'.format(lookups['FirstAssessment'][0], ls(metadataDict['FirstAssessment']))\n",
    "    else:\n",
    "        txt='''In all, there were {issue} {typ}: '''.format(issue=row['FirstAssessment'],typ=lookups['FirstAssessment'][0])\n",
    "        for i in ['FirstAssessment28days','FirstAssessment29to56days','FirstAssessment57to90days','FirstAssessmentOver90days']:\n",
    "            if row[i]>0: txt='{txt}\\n\\t- {cnt} {period}'.format(txt=txt,cnt=row[i],period=lookups[i][1])\n",
    "    tl=[]\n",
    "    txt=txt+'\\n'\n",
    "    for i in ['EndedBeforeAssessment','WaitingForAssessment','WaitingForAssessmentOver90days']:\n",
    "        if row[i]>0: tl.append('{cnt} {typ} {period}'.format(cnt=row[i],typ=lookups[i][0],period=lookups[i][1]).strip())\n",
    "    if len(tl):\n",
    "        txt='{txt}\\n{tl}'.format(txt=txt,tl=', '.join(tl))\n",
    "    return txt+'\\n'"
   ]
  },
  {
   "cell_type": "code",
   "execution_count": 17,
   "metadata": {
    "collapsed": false
   },
   "outputs": [
    {
     "name": "stdout",
     "output_type": "stream",
     "text": [
      "In all, there were 245.0 first assessments: \n",
      "\t- 210.0 within 28 days\n",
      "\t- 35.0 between 29 and 56 days\n",
      "\n",
      "120.0 ended before assessment, 190.0 waiting for assessment, 10.0 waiting for assessment over 90 days\n",
      "\n"
     ]
    }
   ],
   "source": [
    "printer(report_referral(df,series_assessment_nonzero,'10L','R1F'))"
   ]
  },
  {
   "cell_type": "code",
   "execution_count": 18,
   "metadata": {
    "collapsed": false
   },
   "outputs": [],
   "source": [
    "#DONE\n",
    "def series_treatment_nonzero(row,metadata=True):\n",
    "    typ=['FirstTreatment28days','FirstTreatment29to56days','FirstTreatment57to90days',\n",
    "                  'FirstTreatmentOver90days','FirstTreatment6Weeks','FirstTreatment18Weeks']\n",
    "    if row['FirstTreatment']==0: txt= 'There were no {} ({}).'.format(lookups['FirstTreatment'][0],ls(metadataDict['FirstTreatment']))\n",
    "    else:\n",
    "        txt='''In all, there were {issue} {typ} ({md}): '''.format(issue=row['FirstTreatment'],typ=lookups['FirstTreatment'][0],md=ls(metadataDict['FirstTreatment']))\n",
    "        for i in typ:\n",
    "            if row[i]>0: txt='{txt}\\n\\t- {cnt} {period}'.format(txt=txt,cnt=row[i],period=lookups[i][1])\n",
    "\n",
    "    txt=txt+'\\n\\n'\n",
    "    for i in ['FirstTreatment6WeeksFinishedCourse','FirstTreatment18WeeksFinishedCourse']:\n",
    "        if row[i]>0:\n",
    "            txt=txt+'{cnt} {period}{md}.\\n'.format(cnt=row[i],\n",
    "                                                  period=lookups[i][1],\n",
    "                                                  md=' ({})'.format(ls(metadataDict[i])) if metadata else ''\n",
    "                                                 )\n",
    "    for i in ['EndedBeforeTreatment']:\n",
    "        if row[i]>0: txt=txt+'{cnt} {period}{md}.\\n'.format(cnt=row[i],\n",
    "                                                           period=lookups[i][0],\n",
    "                                                           md=' ({})'.format(ls(metadataDict[i])) if metadata else ''\n",
    "                                                          )\n",
    "    return txt+'\\n'"
   ]
  },
  {
   "cell_type": "code",
   "execution_count": 19,
   "metadata": {
    "collapsed": false
   },
   "outputs": [
    {
     "name": "stdout",
     "output_type": "stream",
     "text": [
      "In all, there were 255.0 first treatments (referrals with a first treatment appointment (entered treatment) in the month): \n",
      "\t- 215.0 within 28 days\n",
      "\t- 40.0 between 29 and 56 days\n",
      "\t- 250.0 within 6 weeks\n",
      "\t- 255.0 within 18 weeks\n",
      "\n",
      "170.0 finished course within 6 weeks (referrals that finished a course of treatment in the month waiting 42 days or less for first treatment).\n",
      "180.0 finished course within 18 weeks (referrals that finished a course of treatment in the month waiting 126 days or less for first treatment).\n",
      "105.0 ended before treatment (referrals with an end date in the month before first treatment).\n",
      "\n",
      "\n"
     ]
    }
   ],
   "source": [
    "printer(report_referral(df,series_treatment_nonzero,'10L','R1F'))"
   ]
  },
  {
   "cell_type": "code",
   "execution_count": 20,
   "metadata": {
    "collapsed": true
   },
   "outputs": [],
   "source": [
    "#DONE\n",
    "def series_waiting_nonzero(row):\n",
    "    typ=['WaitingForTreatment0to2weeks','WaitingForTreatment0to4weeks','WaitingForTreatment0to6weeks',\n",
    "                  'WaitingForTreatment0to12weeks','WaitingForTreatment0to18weeks','WaitingForTreatmentOver18weeks',\n",
    "                  'WaitingForTreatmentOver90days']\n",
    "    if row['WaitingForTreatment']==0: txt= 'There were no {} ({}).'.format(lookups['WaitingForTreatment'][0],ls(metadataDict['WaitingForTreatment']))\n",
    "    else:\n",
    "        txt='''In all, there were {issue} {typ} ({md}): '''.format(issue=row['WaitingForTreatment'],typ=lookups['WaitingForTreatment'][0],md=ls(metadataDict['WaitingForTreatment']))\n",
    "        for i in typ:\n",
    "            if row[i]>0: txt='{txt}\\n\\t- {cnt} {period}'.format(txt=txt,cnt=row[i],period=lookups[i][1])\n",
    "    return txt+'\\n'"
   ]
  },
  {
   "cell_type": "code",
   "execution_count": 21,
   "metadata": {
    "collapsed": false
   },
   "outputs": [
    {
     "name": "stdout",
     "output_type": "stream",
     "text": [
      "In all, there were 170.0 waiting for treatment (referrals yet to have a first treatment at the end of the month): \n",
      "\t- 120.0 for 0 to 2 weeks\n",
      "\t- 155.0 for 0 to 4 weeks\n",
      "\t- 165.0 for 0 to 6 weeks\n",
      "\t- 165.0 for 0 to 12 weeks\n",
      "\t- 165.0 for 0 to 18 weeks\n",
      "\n"
     ]
    }
   ],
   "source": [
    "printer(report_referral(df,series_waiting_nonzero,'10L','R1F'))"
   ]
  },
  {
   "cell_type": "code",
   "execution_count": 29,
   "metadata": {
    "collapsed": false
   },
   "outputs": [],
   "source": [
    "#DONE\n",
    "def series_appointments_nonzero(row):\n",
    "    typ=['AptAttended','AptCancelledPatient','AptCancelledProvider',\n",
    "                  'AptDNA','AptAttendedLate','AptLateNotSeen']\n",
    "    df=row[typ].T.dropna()\n",
    "    if row['Appointments']==0: txt= 'There were no {}.'.format(lookups['Appointments'][0],ls(metadataDict['Appointments']))\n",
    "    else:\n",
    "        txt='''In all, there were {issue} {typ} ({md}), of which:'''.format(issue=row['Appointments'],typ=lookups['Appointments'][0],md=ls(metadataDict['Appointments']))\n",
    "        for i,trow in df.sort_values(ascending=False).iteritems():\n",
    "            if trow>0: txt='{txt}\\n\\t- {cnt} {period}'.format(txt=txt,cnt=trow,period=lookups[i][1])\n",
    "    return txt+'\\n'"
   ]
  },
  {
   "cell_type": "code",
   "execution_count": 30,
   "metadata": {
    "collapsed": false
   },
   "outputs": [
    {
     "name": "stdout",
     "output_type": "stream",
     "text": [
      "In all, there were 1195.0 appointments (appointments in the month), of which:\n",
      "\t- 1090.0 attended\n",
      "\t- 45.0 did not attend (DNA)\n",
      "\t- 30.0 attended late\n",
      "\t- 30.0 cancelled by patient\n",
      "\n"
     ]
    }
   ],
   "source": [
    "printer(report_referral(df,series_appointments_nonzero,'10L','R1F'))"
   ]
  },
  {
   "cell_type": "code",
   "execution_count": 31,
   "metadata": {
    "collapsed": true
   },
   "outputs": [],
   "source": [
    "#DONE\n",
    "def series_appointmentTypes_nonzero(row):\n",
    "    typ=[ 'GuideSelfHelpBookApts','NonGuideSelfHelpBookApts','GuideSelfHelpCompApts','NonGuideSelfHelpCompApts',\n",
    "        'BehavActLIApts','StructPhysActApts','AntePostNatalCounselApts','PsychoEducPeerSuppApts',\n",
    "        'OtherLIApts','EmploySuppLIApts','AppRelaxApts','BehavActHIApts','CoupleTherapyDepApts',\n",
    "        'CollabCareApts','CounselDepApts','BPDApts','EyeMoveDesenReproApts','MindfulApts', 'OtherHIApts',\n",
    "        'EmploySuppHIApts','CBTApts','IPTApts']\n",
    "    txt='The appointments types included:'\n",
    "    for i in typ:\n",
    "        if row[i]>0: txt='{txt}\\n\\t- {typ} appointments: {cnt}'.format(txt=txt,cnt=row[i],typ=metadataDict[i].split('Appointments in the month')[0])\n",
    "    return txt+'\\n'"
   ]
  },
  {
   "cell_type": "code",
   "execution_count": 32,
   "metadata": {
    "collapsed": false
   },
   "outputs": [
    {
     "name": "stdout",
     "output_type": "stream",
     "text": [
      "The appointments types included:\n",
      "\t- Number of Guided Self Help (Book) treatment  appointments: 10.0\n",
      "\t- Number of Non - Guided Self Help (Book) treatment  appointments: 10.0\n",
      "\t- Number of Guided Self Help (Computer) treatment  appointments: 60.0\n",
      "\t- Number of Behavioural Activation (Low Intensity) treatment  appointments: 45.0\n",
      "\t- Number of Psychoeducational Peer Support treatment  appointments: 90.0\n",
      "\t- Number of Other Low Intensity treatment  appointments: 135.0\n",
      "\t- Number of Couples Therapy for Depression treatment  appointments: 20.0\n",
      "\t- Number of Eye Movement Desensitisation Reprocessing treatment  appointments: 55.0\n",
      "\t- Number of Cognitive Behaviour Therapy (CBT) treatment  appointments: 695.0\n",
      "\t- Number of Interpersonal Psycho Therapy (IPT) treatment  appointments: 30.0\n",
      "\n"
     ]
    }
   ],
   "source": [
    "printer(report_referral(df,series_appointmentTypes_nonzero,'10L','R1F'))"
   ]
  },
  {
   "cell_type": "code",
   "execution_count": 33,
   "metadata": {
    "collapsed": false
   },
   "outputs": [
    {
     "name": "stdout",
     "output_type": "stream",
     "text": [
      "The appointment types included:\n",
      "\t- Cognitive Behaviour Therapy (CBT) treatment appointments: 695.0\n",
      "\t- Other Low Intensity treatment appointments: 135.0\n",
      "\t- Psychoeducational Peer Support treatment appointments: 90.0\n",
      "\t- Guided Self Help (Computer) treatment appointments: 60.0\n",
      "\t- Eye Movement Desensitisation Reprocessing treatment appointments: 55.0\n",
      "\t- Behavioural Activation (Low Intensity) treatment appointments: 45.0\n",
      "\t- Interpersonal Psycho Therapy (IPT) treatment appointments: 30.0\n",
      "\t- Couples Therapy for Depression treatment appointments: 20.0\n",
      "\t- Non - Guided Self Help (Book) treatment appointments: 10.0\n",
      "\t- Guided Self Help (Book) treatment appointments: 10.0\n",
      "\n"
     ]
    }
   ],
   "source": [
    "#DONE\n",
    "def series_appointmentTypes2_nonzero(row):\n",
    "    typ=[ 'GuideSelfHelpBookApts','NonGuideSelfHelpBookApts','GuideSelfHelpCompApts','NonGuideSelfHelpCompApts',\n",
    "        'BehavActLIApts','StructPhysActApts','AntePostNatalCounselApts','PsychoEducPeerSuppApts',\n",
    "        'OtherLIApts','EmploySuppLIApts','AppRelaxApts','BehavActHIApts','CoupleTherapyDepApts',\n",
    "        'CollabCareApts','CounselDepApts','BPDApts','EyeMoveDesenReproApts','MindfulApts', 'OtherHIApts',\n",
    "        'EmploySuppHIApts','CBTApts','IPTApts']\n",
    "    df=row[typ].T.dropna()\n",
    "    txt='The appointment types included:'\n",
    "    for i,trow in df.sort_values(ascending=False).iteritems():\n",
    "        if trow>0: txt='{txt}\\n\\t- {typ} appointments: {cnt}'.format(txt=txt,cnt=trow,\n",
    "                                                                     typ=metadataDict[i].split('Appointments in the month')[0].replace('Number of','').strip())\n",
    "    return txt+'\\n'\n",
    "\n",
    "printer(report_referral(df,series_appointmentTypes2_nonzero,'10L','R1F'))"
   ]
  },
  {
   "cell_type": "code",
   "execution_count": 34,
   "metadata": {
    "collapsed": false
   },
   "outputs": [
    {
     "name": "stdout",
     "output_type": "stream",
     "text": [
      "\n",
      "In Jun-16, across the NHS ISLE OF WIGHT CCG, ISLE OF WIGHT NHS TRUST received 325.0 referrals,\n",
      "of which 310.0 were self-referrals.\n",
      "    \n",
      "In all, there were 245.0 first assessments: \n",
      "\t- 210.0 within 28 days\n",
      "\t- 35.0 between 29 and 56 days\n",
      "\n",
      "120.0 ended before assessment, 190.0 waiting for assessment, 10.0 waiting for assessment over 90 days\n",
      "\n",
      "In all, there were 255.0 first treatments (referrals with a first treatment appointment (entered treatment) in the month): \n",
      "\t- 215.0 within 28 days\n",
      "\t- 40.0 between 29 and 56 days\n",
      "\t- 250.0 within 6 weeks\n",
      "\t- 255.0 within 18 weeks\n",
      "\n",
      "170.0 finished course within 6 weeks (referrals that finished a course of treatment in the month waiting 42 days or less for first treatment).\n",
      "180.0 finished course within 18 weeks (referrals that finished a course of treatment in the month waiting 126 days or less for first treatment).\n",
      "105.0 ended before treatment (referrals with an end date in the month before first treatment).\n",
      "\n",
      "\n",
      "In all, there were 170.0 waiting for treatment (referrals yet to have a first treatment at the end of the month): \n",
      "\t- 120.0 for 0 to 2 weeks\n",
      "\t- 155.0 for 0 to 4 weeks\n",
      "\t- 165.0 for 0 to 6 weeks\n",
      "\t- 165.0 for 0 to 12 weeks\n",
      "\t- 165.0 for 0 to 18 weeks\n",
      "\n",
      "\n",
      "In all, 365.0 referrals ended, including:     \n",
      "\t- 30.0 signposted\n",
      "\t- 20.0 by mutual agreement\n",
      "\t- 185.0 completed\n",
      "\t- 10.0 referred non-IAPT\n",
      "\t- 120.0 invalid\n",
      "\t- 75.0 treated once\n",
      "\t- 180.0 finished the course of treatment\n",
      "\t- 100.0 not seen\n",
      "In all, there were 1195.0 appointments (appointments in the month), of which:\n",
      "\t- 1090.0 attended\n",
      "\t- 45.0 did not attend (DNA)\n",
      "\t- 30.0 attended late\n",
      "\t- 30.0 cancelled by patient\n",
      "\n",
      "The appointment types included:\n",
      "\t- Cognitive Behaviour Therapy (CBT) treatment appointments: 695.0\n",
      "\t- Other Low Intensity treatment appointments: 135.0\n",
      "\t- Psychoeducational Peer Support treatment appointments: 90.0\n",
      "\t- Guided Self Help (Computer) treatment appointments: 60.0\n",
      "\t- Eye Movement Desensitisation Reprocessing treatment appointments: 55.0\n",
      "\t- Behavioural Activation (Low Intensity) treatment appointments: 45.0\n",
      "\t- Interpersonal Psycho Therapy (IPT) treatment appointments: 30.0\n",
      "\t- Couples Therapy for Depression treatment appointments: 20.0\n",
      "\t- Non - Guided Self Help (Book) treatment appointments: 10.0\n",
      "\t- Guided Self Help (Book) treatment appointments: 10.0\n",
      "\n"
     ]
    }
   ],
   "source": [
    "printer(report_referrals(df,[series_referrals,series_assessment_nonzero,series_treatment_nonzero,series_waiting_nonzero,\n",
    "                         series_ended_nonzero,series_appointments_nonzero,series_appointmentTypes2_nonzero],'10L','R1F'))\n"
   ]
  },
  {
   "cell_type": "markdown",
   "metadata": {
    "collapsed": true
   },
   "source": [
    "It would be much more convenient to specify a generic reporting function and then pass values into it..."
   ]
  },
  {
   "cell_type": "markdown",
   "metadata": {
    "collapsed": true
   },
   "source": [
    "## Generic Reporting\n",
    "\n",
    "Generic functions for reporting on the contents of one or more cells."
   ]
  },
  {
   "cell_type": "code",
   "execution_count": 397,
   "metadata": {
    "collapsed": false
   },
   "outputs": [],
   "source": [
    "def series_lister_item(numFirst,cnt,typ,prefix,suffix,extractor,replacer,lower):\n",
    "    if extractor is not None:\n",
    "        rs=re.search(extractor,typ)\n",
    "        if rs:\n",
    "            typ=rs.group(1)\n",
    "    if replacer is not None:\n",
    "        typ=re.sub(replacer[0],replacer[1],typ)\n",
    "    if numFirst:\n",
    "        txt='{prefix}{cnt} {typ}{suffix}'.format(cnt=cnt,typ=ls(typ) if lower else typ,\n",
    "                                                      prefix=prefix,suffix=suffix)\n",
    "    else:\n",
    "        txt='{prefix}{typ}: {cnt}{suffix}'.format(cnt=cnt,typ=typ,\n",
    "                                                       prefix=prefix,suffix=suffix)\n",
    "    return txt\n",
    "    \n",
    "def series_lister_nonzero(row,cols,metadata,sort=False,numFirst=False,prefix='\\n',suffix='',\n",
    "                          header='',extractor=None,replacer=None,lower=False):\n",
    "    txt=header\n",
    "    if sort:\n",
    "        df=row[cols].T.dropna()\n",
    "        for i,trow in df.sort_values(ascending=False).iteritems():\n",
    "            typ=metadata[i]\n",
    "            if pd.notnull(trow):\n",
    "                txt='{txt}{item}'.format(txt=txt,item=series_lister_item(numFirst,trow,typ,prefix,suffix,extractor,replacer,lower))\n",
    "    else:\n",
    "        for i in cols:\n",
    "            typ=metadata[i]\n",
    "            if pd.notnull(row[i]):\n",
    "                txt='{txt}{item}'.format(txt=txt,item=series_lister_item(numFirst,row[i],typ,prefix,suffix,extractor,replacer,lower))\n",
    "                \n",
    "    return txt+'\\n'\n",
    "\n",
    "def generic_reporter(df,setup,ccg,provider='all',reference=None,period=None):\n",
    "    rows=report_rows(df,ccg,provider,period)\n",
    "    cols=['CCG','Provider']\n",
    "    if isinstance(reference, str): cols.append(reference)\n",
    "\n",
    "    tmp=rows[cols][:]\n",
    "    tmp['txt']= rows.apply(lambda x: series_lister_nonzero(x,**setup),axis=1)\n",
    "    \n",
    "    #Need to identify multiple reports\n",
    "    if reference is None and len(rows)>1: reference=True\n",
    "    if reference: tmp['txt']=tmp.apply(lambda x: '[{}: {}{}] {}'.format(x['CCG'],x['Provider'],\n",
    "                                                                        '' if not isinstance(reference, str) else ', {}'.format(x[reference]),\n",
    "                                                                        x['txt']),axis=1)\n",
    "\n",
    "    return tmp"
   ]
  },
  {
   "cell_type": "code",
   "execution_count": 398,
   "metadata": {
    "collapsed": false
   },
   "outputs": [],
   "source": [
    "#Groups of related columns to be reported on separately\n",
    "openreferrals=['OpenReferralNoActivity60days',\n",
    " 'OpenReferralNoActivity61to90days',\n",
    " 'OpenReferralNoActivity91to120days',\n",
    " 'OpenReferralNoActivityOver120days'\n",
    "]\n",
    "\n",
    "waiting=['WaitingForTreatment0to2weeks','WaitingForTreatment0to4weeks','WaitingForTreatment0to6weeks',\n",
    "                  'WaitingForTreatment0to12weeks','WaitingForTreatment0to18weeks','WaitingForTreatmentOver18weeks',\n",
    "                  'WaitingForTreatmentOver90days']\n",
    "\n",
    "appts=['AptAttended','AptCancelledPatient','AptCancelledProvider',\n",
    "                  'AptDNA','AptAttendedLate','AptLateNotSeen']\n",
    "\n",
    "ended=['EndedNotSuitable','EndedSignposted','EndedMutualAgreement',\n",
    "                  'EndedReferredElsewhere','EndedDeclined','EndedDeceasedAssessedOnly',\n",
    "                  'EndedUnknownAssessedOnly','EndedSteppedUp','EndedSteppedDown','EndedCompleted',\n",
    "                  'EndedDroppedOut','EndedReferredNonIAPT','EndedDeceasedTreated',\n",
    "                  'EndedUnknownTreated','EndedInvalid','EndedNoReasonRecorded',\n",
    "                  'EndedSeenNotTreated','EndedTreatedOnce', 'FinishedCourseTreatment','EndedNotSeen'\n",
    "                 ]\n",
    "\n",
    "apptTypes=[ 'GuideSelfHelpBookApts','NonGuideSelfHelpBookApts','GuideSelfHelpCompApts','NonGuideSelfHelpCompApts',\n",
    "        'BehavActLIApts','StructPhysActApts','AntePostNatalCounselApts','PsychoEducPeerSuppApts',\n",
    "        'OtherLIApts','EmploySuppLIApts','AppRelaxApts','BehavActHIApts','CoupleTherapyDepApts',\n",
    "        'CollabCareApts','CounselDepApts','BPDApts','EyeMoveDesenReproApts','MindfulApts', 'OtherHIApts',\n",
    "        'EmploySuppHIApts','CBTApts','IPTApts']\n",
    "\n",
    "\n",
    "firstTreatment=['FirstTreatment28days','FirstTreatment29to56days','FirstTreatment57to90days',\n",
    "                  'FirstTreatmentOver90days','FirstTreatment6Weeks','FirstTreatment18Weeks']\n",
    "\n",
    "firstAssessment=[    'FirstAssessment','FirstAssessment28days','FirstAssessment29to56days',\n",
    "    'FirstAssessment57to90days', 'FirstAssessmentOver90days', 'EndedBeforeAssessment', 'WaitingForAssessment',\n",
    "    'WaitingForAssessmentOver90days',\n",
    "]\n",
    "\n",
    "\n",
    "outcomes=['NotCaseness','Recovery','Improvement', 'Deterioration', 'NoReliableChange', 'ReliableRecovery']\n",
    "\n",
    "endcourse=['FirstADSMOnly', 'NoADSM', 'PairedADSM','FirstPHQOnly',\n",
    " 'NoPHQ','PairedPHQ', 'PairedADSMPHQ', 'OffSickPay']\n",
    "\n",
    "longwait=['FirstToSecondTreatmentOver28days',\n",
    " 'FirstToSecondTreatmentOver90days']\n",
    "\n",
    "avwaiting=[ 'MeanWaitEnteredTreatment','MedianWaitEnteredTreatment', 'MeanWaitFinishedCourse',\n",
    "           'MedianWaitFinishedCourse']\n",
    "\n",
    "\n",
    "quickfinish=[ 'FirstTreatment6WeeksFinishedCourseRate','FirstTreatment18WeeksFinishedCourseRate']\n",
    "\n",
    "outcomerate=[ 'ImprovementRate', 'RecoveryRate', 'ReliableRecoveryRate']\n",
    "\n",
    "morethan2=['MeanAptFinishedCourseTreatment', 'MedianAptFinishedCourseTreatment',\n",
    " 'MaxAptFinishedCourseTreatment','MinAptFinishedCourseTreatment',\n",
    "           'MeanCBTSessions', 'MeanBPDSessions', 'MeanCounsellingSessions', 'MeanIPTSessions',\n",
    " 'MeanCouplesSessions', 'MeanBehavActSessions', 'MeanOtherHISessions', 'MeanLiSessions',\n",
    "          'AptFinishedCourseTreatment','MeanHISessions']"
   ]
  },
  {
   "cell_type": "code",
   "execution_count": 399,
   "metadata": {
    "collapsed": false
   },
   "outputs": [],
   "source": [
    "#dirtyMetadataDataCleaner\n",
    "kk=[k for k in metadataDict.keys()]\n",
    "for k in ['WaitingForTreatment0to2weeks','WaitingForTreatment0to4weeks','WaitingForTreatment0to6weeks',\n",
    "                  'WaitingForTreatment0to12weeks','WaitingForTreatment0to18weeks','WaitingForTreatmentOver18weeks',\n",
    "                  'WaitingForTreatmentOver90days','MeanLiSessions']:\n",
    "    for i in kk:\n",
    "        if i.lower()==k.lower():metadataDict[k]=metadataDict[i]\n",
    "    "
   ]
  },
  {
   "cell_type": "code",
   "execution_count": 400,
   "metadata": {
    "collapsed": false
   },
   "outputs": [],
   "source": [
    "#Report focus\n",
    "ccg='10L'\n",
    "provider='R1F'"
   ]
  },
  {
   "cell_type": "code",
   "execution_count": 450,
   "metadata": {
    "collapsed": false,
    "scrolled": false
   },
   "outputs": [
    {
     "name": "stdout",
     "output_type": "stream",
     "text": [
      "Report for CCG 10L and provider R1F\n",
      "\n",
      "Appointments in the month: 1195.0.\n",
      "\n",
      "Appointment types:\n",
      "\t- 695.0 Cognitive Behaviour Therapy (CBT) treatment appointments;\n",
      "\t- 135.0 Other Low Intensity treatment appointments;\n",
      "\t- 90.0 Psychoeducational Peer Support treatment appointments;\n",
      "\t- 60.0 Guided Self Help (Computer) treatment appointments;\n",
      "\t- 55.0 Eye Movement Desensitisation Reprocessing treatment appointments;\n",
      "\t- 45.0 Behavioural Activation (Low Intensity) treatment appointments;\n",
      "\t- 30.0 Interpersonal Psycho Therapy (IPT) treatment appointments;\n",
      "\t- 20.0 Couples Therapy for Depression treatment appointments;\n",
      "\t- 10.0 Non - Guided Self Help (Book) treatment appointments;\n",
      "\t- 10.0 Guided Self Help (Book) treatment appointments;\n",
      "\n",
      "Appointment attendance:\n",
      "\t- 1090.0 attended on time.\n",
      "\t- 30.0 cancelled appointments - patient.\n",
      "\t- 45.0 did not attend.\n",
      "\t- 30.0 arrived late but was seen.\n",
      "\n",
      "\n",
      "Referrals with first assessment in the month: 245.0.\n",
      "Referrals that waited fewer than 29 days for first assessment: 210.0.\n",
      "Referrals that waited between 29 to 56 days for first assessment: 35.0.\n",
      "Referrals that with an end date before first assessment: 120.0.\n",
      "Referrals yet to have a first assessment at the end of the month: 190.0.\n",
      "Referrals yet to have a first assessment who have been waiting over 90 days at the end of the month: 10.0.\n",
      "\n",
      "Proportion of referrals that finished a course of treatment  (end date in the month and a minimum of two attended treatment appointments in the course of the referral) that waited:\n",
      "\t- less than 6 weeks to enter treatment, expressed as a percentage.: 92.9.\n",
      "\t- less than 18 weeks to enter treatment, expressed as a percentage.: 100.0.\n",
      "\n",
      "\n",
      "Referrals with a first treatment appointment (entered treatment) in the month: 255.0.\n",
      "\n",
      "\n",
      "Referrals yet to have a first treatment at the end of the month: 170.0.\n",
      "\n",
      "Referrals that entered treatment in the month that waited:\n",
      "\t- fewer than 29 days for first treatment: 215.0.\n",
      "\t- between 29 to 56 days for first treatment: 40.0.\n",
      "\t- 42 days or less for first treatment: 250.0.\n",
      "\t- 126 days or less for first treatment: 255.0.\n",
      "\n",
      "\n",
      "Referrals with an end date in the month: 365.0.\n",
      "\n",
      "\n",
      "Referrals with an end date in the month before first treatment: 105.0.\n",
      "\n",
      "The ended referrals included:\n",
      "\t- 185.0 Completed scheduled treatment.\n",
      "\t- 180.0 Referrals with an end date in the month that had at least two treatment sessions (excluding follow up).\n",
      "\t- 120.0 Referrals with an end date in the month - Improving Access to Psychological Therapies care spell end code is an invalid code.\n",
      "\t- 100.0 Referrals with an end date in the month that had no appointments.\n",
      "\t- 75.0 Referrals with an end date in the month that had a single treatment session (excluding follow up).\n",
      "\t- 30.0 Not Suitable for IAPT service, signposted elsewhere.\n",
      "\t- 20.0 Discharge by mutual agreement following advice and support.\n",
      "\t- 10.0 Referred to non IAPT service.\n",
      "\n",
      "Referrals with an end date in the month that finished a course of treatment:\n",
      "\t- and show reliable improvement: 115.0.\n",
      "\t- where the service user has moved to recovery: 85.0.\n",
      "\t- and show reliable recovery (has moved to recovery and show reliable improvement): 80.0.\n",
      "\t- and show no reliable change: 55.0.\n",
      "\t- and show reliable deterioration: 10.0.\n",
      "\t- where the service user was not at caseness at initial assessment: 5.0.\n",
      "\n",
      "\n",
      "Referrals that finished a course of treatment in the month waiting 42 days or less for first treatment: 170.0.\n",
      "Referrals that finished a course of treatment in the month waiting 126 days or less for first treatment: 180.0.\n",
      "\n",
      "Referrals with an end date in the month that finished a course of treatment:\n",
      "\t- and had paired anxiety measures and PHQ9 scores recorded: 180.0.\n",
      "\t- and had paired PHQ9 scores recorded: 180.0.\n",
      "\t- and had paired anxiety measures recorded: 180.0.\n",
      "\t- where patient has moved off sick pay : 10.0.\n",
      "\n",
      "Proportion of referrals that finished a course of treatment (end date in the month and a minimum of two attended treatment appointments in the course of the referral):\n",
      "\t- that showed reliable improvement, expressed as a percentage.: 63.7.\n",
      "\t- having started treatment at caseness that moved to recovery, expressed as a percentage.: 49.2.\n",
      "\t- having started treatment at caseness that showed reliable recovery, expressed as a percentage.: 46.3.\n",
      "\n",
      "Waiting periods for referrals yet to have first treatment:\n",
      "\t- 120.0 0 to 2 weeks.\n",
      "\t- 155.0 0 to 4 weeks.\n",
      "\t- 165.0 0 to 6 weeks.\n",
      "\t- 165.0 0 to 12 weeks.\n",
      "\t- 165.0 0 to 18 weeks.\n",
      "\n",
      "\n",
      "Referrals with a Second treatment appointment in the month: 165.0.\n",
      "\n",
      "\n",
      "Referrals that waited over 28 days between first and second treatment appointment (where the second treatment appointment occurred within the month): 30.0.\n",
      "\n",
      "For referrals with an end date in the month after at least two treatments:\n",
      "\t- Appointments: 1225.0.\n",
      "\t- Maximum number of treatment appointments: 31.0.\n",
      "\t- Mean number of Other High Intensity treatment appointments: 13.5.\n",
      "\t- Mean number of Couples Therapy for Depression treatment appointments: 10.9.\n",
      "\t- Mean number of High Intensity treatment appointments for referrals with Appointments in the month after at least two treatments: 7.2.\n",
      "\t- Mean number of treatment appointments: 6.7.\n",
      "\t- Mean number of Cognitive Behaviour Therapy (CBT) treatment appointments: 6.6.\n",
      "\t- Mean number of Low Intensity treatment appointments: 5.0.\n",
      "\t- Median number of treatment appointments: 4.0.\n",
      "\t- Minimum number of treatment appointments: 2.0.\n",
      "\n",
      "Waiting time in days between the referral received date and the date of first therapeutic session:\n",
      "\t- Mean, where the referral entered treatment in the month: 17.3.\n",
      "\t- Median, where the referral entered treatment in the month: 16.0.\n",
      "\t- Mean, where the referral finished a course of treatment in the month: 20.0.\n",
      "\t- Median, where the referral finished a course of treatment in the month: 19.5.\n",
      "\n",
      "Open referrals with no activity at end of the month:\n",
      "\t- 570.0 for fewer than 61 days.\n",
      "\t- 25.0 for 61-90 days.\n",
      "\t- 5.0 for 91-120 days.\n",
      "\t- 5.0 for more than 120 days.\n",
      "\n"
     ]
    }
   ],
   "source": [
    "#Literal printing\n",
    "print('Report for CCG {} and provider {}'.format(ccg,provider))\n",
    "      \n",
    "printer(generic_reporter(df,{'metadata':metadataDict,'header':'',\n",
    "                          'cols':['Appointments'],'sort':True,'numFirst':False,'prefix':\"\\n\",'suffix':'.'},ccg,provider))\n",
    "\n",
    "\n",
    "printer(generic_reporter(df,{'metadata':metadataDict,'sort':True,'cols':apptTypes,'numFirst':True,\n",
    "                          'header':'Appointment types:',\n",
    "                          'prefix':\"\\n\\t- \",'suffix':' appointments;',\n",
    "                         'extractor':\"Number of (.*) Appointments in the month where attended or did not attend code is  'attended on time' or 'arrived late but was seen'\"},ccg,provider))\n",
    "\n",
    "\n",
    "printer(generic_reporter(df,{'metadata':metadataDict,'header':'Appointment attendance:',\n",
    "                          'extractor':\"Appointments in the month where attended or did not attend code is '(.*)'+?\",\n",
    "                          'cols':appts,'numFirst':True,'prefix':\"\\n\\t- \",'suffix':'.'},ccg,provider))\n",
    "\n",
    "\n",
    "\n",
    "printer(generic_reporter(df,{'metadata':metadataDict,'header':'',\n",
    "                          'cols':firstAssessment,'sort':False,'numFirst':False,'prefix':\"\\n\",'suffix':'.'},ccg,provider))\n",
    "\n",
    "\n",
    "\n",
    "printer(generic_reporter(df,{'metadata':metadataDict,'header':'Proportion of referrals that finished a course of treatment  (end date in the month and a minimum of two attended treatment appointments in the course of the referral) that waited:',\n",
    "                          'extractor':\"Proportion of referrals that finished a course of treatment  \\(end date in the month and a minimum of two attended treatment appointments in the course of the referral\\) that waited (.*)$\",\n",
    "                          'cols':quickfinish,'sort':False,'numFirst':False,'prefix':\"\\n\\t- \",'suffix':'.'},ccg,provider))\n",
    "\n",
    "printer(generic_reporter(df,{'metadata':metadataDict,'header':'',\n",
    "                          'cols':['FirstTreatment'],'sort':True,'numFirst':False,'prefix':\"\\n\",'suffix':'.'},ccg,provider))\n",
    "\n",
    "printer(generic_reporter(df,{'metadata':metadataDict,'header':'',\n",
    "                          'cols':['WaitingForTreatment'],'sort':True,'numFirst':False,'prefix':\"\\n\",'suffix':'.'},ccg,provider))\n",
    "\n",
    "printer(generic_reporter(df,{'metadata':metadataDict,'header':'Referrals that entered treatment in the month that waited:',\n",
    "                          'extractor':'Referrals that entered treatment in the month that waited (.*)',\n",
    "                          'cols':firstTreatment,'numFirst':False,'prefix':\"\\n\\t- \",'suffix':'.'},ccg,provider))\n",
    "\n",
    "\n",
    "\n",
    "printer(generic_reporter(df,{'metadata':metadataDict,'header':'',\n",
    "                          'cols':['EndedReferrals'],'sort':True,'numFirst':False,'prefix':\"\\n\",'suffix':'.'},ccg,provider))\n",
    "\n",
    "printer(generic_reporter(df,{'metadata':metadataDict,'header':'',\n",
    "                          'cols':['EndedBeforeTreatment'],'sort':True,'numFirst':False,'prefix':\"\\n\",'suffix':'.'},ccg,provider))\n",
    "\n",
    "\n",
    "printer(generic_reporter(df,{'metadata':metadataDict,'header':'The ended referrals included:',\n",
    "                          'extractor':\"^Referrals with an end date in the month - Improving Access to Psychological Therapies care spell end code is '?(.*)'+?$\",\n",
    "                          'cols':ended,'sort':True,'numFirst':True,'prefix':\"\\n\\t- \",'suffix':'.'},ccg,provider))\n",
    "\n",
    "\n",
    "printer(generic_reporter(df,{'metadata':metadataDict,'header':'Referrals with an end date in the month that finished a course of treatment:',\n",
    "                          'extractor':\"Referrals with an end date in the month that finished a course of treatment (.*)$\",\n",
    "                          'cols':outcomes,'sort':True,'numFirst':False,'prefix':\"\\n\\t- \",'suffix':'.'},ccg,provider))\n",
    "\n",
    "\n",
    "printer(generic_reporter(df,{'metadata':metadataDict,'header':'',\n",
    "                          'cols':['FirstTreatment6WeeksFinishedCourse','FirstTreatment18WeeksFinishedCourse'],\n",
    "                          'sort':False,'numFirst':False,'prefix':\"\\n\",'suffix':'.'},ccg,provider))\n",
    "\n",
    "printer(generic_reporter(df,{'metadata':metadataDict,'header':'Referrals with an end date in the month that finished a course of treatment:',\n",
    "                          'extractor':\"Referrals with an end date in the month that finished a course of treatment (.*)$\",\n",
    "                          'cols':endcourse,'sort':True,'numFirst':False,'prefix':\"\\n\\t- \",'suffix':'.'},ccg,provider))\n",
    "\n",
    "\n",
    "\n",
    "printer(generic_reporter(df,{'metadata':metadataDict,'header':'Proportion of referrals that finished a course of treatment (end date in the month and a minimum of two attended treatment appointments in the course of the referral):',\n",
    "                          'extractor':\"Proportion of referrals that finished a course of treatment \\(end date in the month and a minimum of two attended treatment appointments in the course of the referral\\) (.*)$\",\n",
    "                          'cols':outcomerate,'sort':False,'numFirst':False,'prefix':\"\\n\\t- \",'suffix':'.'},ccg,provider))\n",
    "\n",
    "\n",
    "printer(generic_reporter(df,{'metadata':metadataDict,'header':'Waiting periods for referrals yet to have first treatment:',\n",
    "                          'extractor':\"Referrals yet to have a first treatment who have been waiting (.*) at the end of the month\",\n",
    "                          'cols':waiting,'sort':False,'numFirst':True,'prefix':\"\\n\\t- \",'suffix':'.'},ccg,provider))\n",
    "\n",
    "printer(generic_reporter(df,{'metadata':metadataDict,'header':'',\n",
    "                          'cols':['SecondTreatment'],'numFirst':False,'prefix':\"\\n\",'suffix':'.'},ccg,provider))\n",
    "\n",
    "\n",
    "printer(generic_reporter(df,{'metadata':metadataDict,'header':'',\n",
    "                          'cols':longwait,'sort':True,'numFirst':False,'prefix':\"\\n\",'suffix':'.'},ccg,provider))\n",
    "\n",
    "\n",
    "printer(generic_reporter(df,{'metadata':metadataDict,'header':'For referrals with an end date in the month after at least two treatments:',\n",
    "                          'extractor':\"(.*) for referrals with an end date in the month after at least two treatments\",\n",
    "                          'cols':morethan2,'sort':True,'numFirst':False,'prefix':\"\\n\\t- \",'suffix':'.'},ccg,provider))\n",
    "\n",
    "\n",
    "\n",
    " \n",
    "printer(generic_reporter(df,{'metadata':metadataDict,'header':'Waiting time in days between the referral received date and the date of first therapeutic session:',\n",
    "                          'replacer':(\" waiting time in days between the (referral request|referral) received date and the date of first therapeutic session\",''),\n",
    "                          'cols':avwaiting,'sort':False,'numFirst':False,'prefix':\"\\n\\t- \",'suffix':'.'},ccg,provider))\n",
    "\n",
    "\n",
    "\n",
    "printer(generic_reporter(df,{'metadata':metadataDict,'cols':openreferrals,'numFirst':True,\n",
    "                          'header':'Open referrals with no activity at end of the month:',\n",
    "                          'extractor':\"Open referrals with no activity at end of the month (.*)$\",\n",
    "                          'prefix':\"\\n\\t- \",'suffix':'.'},ccg,provider))"
   ]
  },
  {
   "cell_type": "code",
   "execution_count": 40,
   "metadata": {
    "collapsed": false
   },
   "outputs": [
    {
     "name": "stdout",
     "output_type": "stream",
     "text": [
      "\n",
      "Appointments in the month: 1195.0.\n",
      "\n",
      "Appointment types:\n",
      "\t- 695.0 Cognitive Behaviour Therapy (CBT) treatment appointments;\n",
      "\t- 135.0 Other Low Intensity treatment appointments;\n",
      "\t- 90.0 Psychoeducational Peer Support treatment appointments;\n",
      "\t- 60.0 Guided Self Help (Computer) treatment appointments;\n",
      "\t- 55.0 Eye Movement Desensitisation Reprocessing treatment appointments;\n",
      "\t- 45.0 Behavioural Activation (Low Intensity) treatment appointments;\n",
      "\t- 30.0 Interpersonal Psycho Therapy (IPT) treatment appointments;\n",
      "\t- 20.0 Couples Therapy for Depression treatment appointments;\n",
      "\t- 10.0 Non - Guided Self Help (Book) treatment appointments;\n",
      "\t- 10.0 Guided Self Help (Book) treatment appointments;\n",
      "\n",
      "Appointment attendance:\n",
      "\t- 1090.0 attended on time.\n",
      "\t- 30.0 cancelled appointments - patient.\n",
      "\t- 45.0 did not attend.\n",
      "\t- 30.0 arrived late but was seen.\n",
      "\n"
     ]
    }
   ],
   "source": [
    "#List append\n",
    "ddl=[]\n",
    "ddl.append(generic_reporter(df,{'metadata':metadataDict,'header':'',\n",
    "                          'cols':['Appointments'],'sort':True,'numFirst':False,'prefix':\"\\n\",'suffix':'.'},ccg,provider))\n",
    "\n",
    "\n",
    "ddl.append(generic_reporter(df,{'metadata':metadataDict,'sort':True,'cols':apptTypes,'numFirst':True,\n",
    "                          'header':'Appointment types:',\n",
    "                          'prefix':\"\\n\\t- \",'suffix':' appointments;',\n",
    "                         'extractor':\"Number of (.*) Appointments in the month where attended or did not attend code is  'attended on time' or 'arrived late but was seen'\"},ccg,provider))\n",
    "\n",
    "\n",
    "ddl.append(generic_reporter(df,{'metadata':metadataDict,'header':'Appointment attendance:',\n",
    "                          'extractor':\"Appointments in the month where attended or did not attend code is '(.*)'+?\",\n",
    "                          'cols':appts,'numFirst':True,'prefix':\"\\n\\t- \",'suffix':'.'},ccg,provider))\n",
    "for i in ddl:\n",
    "    printer(i)"
   ]
  },
  {
   "cell_type": "code",
   "execution_count": 41,
   "metadata": {
    "collapsed": false
   },
   "outputs": [
    {
     "name": "stdout",
     "output_type": "stream",
     "text": [
      "\n",
      "Appointments in the month: 1195.0.\n",
      "\n",
      "Appointment types:\n",
      "\t- 695.0 Cognitive Behaviour Therapy (CBT) treatment appointments;\n",
      "\t- 135.0 Other Low Intensity treatment appointments;\n",
      "\t- 90.0 Psychoeducational Peer Support treatment appointments;\n",
      "\t- 60.0 Guided Self Help (Computer) treatment appointments;\n",
      "\t- 55.0 Eye Movement Desensitisation Reprocessing treatment appointments;\n",
      "\t- 45.0 Behavioural Activation (Low Intensity) treatment appointments;\n",
      "\t- 30.0 Interpersonal Psycho Therapy (IPT) treatment appointments;\n",
      "\t- 20.0 Couples Therapy for Depression treatment appointments;\n",
      "\t- 10.0 Non - Guided Self Help (Book) treatment appointments;\n",
      "\t- 10.0 Guided Self Help (Book) treatment appointments;\n",
      "\n",
      "Appointment attendance:\n",
      "\t- 1090.0 attended on time.\n",
      "\t- 30.0 cancelled appointments - patient.\n",
      "\t- 45.0 did not attend.\n",
      "\t- 30.0 arrived late but was seen.\n",
      "\n"
     ]
    }
   ],
   "source": [
    "#Dataframe report items\n",
    "ddf=pd.DataFrame()\n",
    "def ddf_build(row):\n",
    "    global ddf\n",
    "    ddf=pd.concat([ddf,row])\n",
    "    return\n",
    "\n",
    "def rowprinter(row):\n",
    "    print(row['txt'])\n",
    "    return\n",
    "    \n",
    "ddf_build(generic_reporter(df,{'metadata':metadataDict,'header':'',\n",
    "                          'cols':['Appointments'],'sort':True,'numFirst':False,'prefix':\"\\n\",'suffix':'.'},ccg,provider))\n",
    "\n",
    "\n",
    "ddf_build(generic_reporter(df,{'metadata':metadataDict,'sort':True,'cols':apptTypes,'numFirst':True,\n",
    "                          'header':'Appointment types:',\n",
    "                          'prefix':\"\\n\\t- \",'suffix':' appointments;',\n",
    "                         'extractor':\"Number of (.*) Appointments in the month where attended or did not attend code is  'attended on time' or 'arrived late but was seen'\"},ccg,provider))\n",
    "\n",
    "\n",
    "ddf_build(generic_reporter(df,{'metadata':metadataDict,'header':'Appointment attendance:',\n",
    "                          'extractor':\"Appointments in the month where attended or did not attend code is '(.*)'+?\",\n",
    "                          'cols':appts,'numFirst':True,'prefix':\"\\n\\t- \",'suffix':'.'},ccg,provider))\n",
    "#for i in ddl:\n",
    "#    printer(i)\n",
    "ddf.apply(rowprinter,axis=1)\n",
    "pass"
   ]
  },
  {
   "cell_type": "code",
   "execution_count": 42,
   "metadata": {
    "collapsed": false
   },
   "outputs": [
    {
     "name": "stdout",
     "output_type": "stream",
     "text": [
      "Report for CCG 10L, provider R1F\n",
      "\n",
      "Appointments in the month: 1195.0.\n",
      "\n",
      "Appointment types:\n",
      "\t- 695.0 Cognitive Behaviour Therapy (CBT) treatment appointments;\n",
      "\t- 135.0 Other Low Intensity treatment appointments;\n",
      "\t- 90.0 Psychoeducational Peer Support treatment appointments;\n",
      "\t- 60.0 Guided Self Help (Computer) treatment appointments;\n",
      "\t- 55.0 Eye Movement Desensitisation Reprocessing treatment appointments;\n",
      "\t- 45.0 Behavioural Activation (Low Intensity) treatment appointments;\n",
      "\t- 30.0 Interpersonal Psycho Therapy (IPT) treatment appointments;\n",
      "\t- 20.0 Couples Therapy for Depression treatment appointments;\n",
      "\t- 10.0 Non - Guided Self Help (Book) treatment appointments;\n",
      "\t- 10.0 Guided Self Help (Book) treatment appointments;\n",
      "\n",
      "Appointment attendance:\n",
      "\t- 1090.0 attended on time.\n",
      "\t- 30.0 cancelled appointments - patient.\n",
      "\t- 45.0 did not attend.\n",
      "\t- 30.0 arrived late but was seen.\n",
      "\n"
     ]
    }
   ],
   "source": [
    "#Tidy things up by creating objects for each report?\n",
    "class storyBlock():\n",
    "    def __init__(self):\n",
    "        self.ddf = pd.DataFrame()\n",
    "    \n",
    "    def add(self,row):\n",
    "        if type(row)==dict:\n",
    "            row=pd.DataFrame([row])\n",
    "        self.ddf=pd.concat([self.ddf,row])\n",
    "        \n",
    "    def rowprinter(self,row):\n",
    "         print(row['txt'])\n",
    "    \n",
    "    def printer(self):\n",
    "        self.ddf.apply(rowprinter,axis=1)\n",
    "        \n",
    "    def printer_groupby(self,group,splitter='\\n'):\n",
    "        for n,g in self.ddf.groupby(group):\n",
    "            print(splitter)\n",
    "            g.apply(rowprinter,axis=1)\n",
    "        \n",
    "s=storyBlock()\n",
    "s.add({'ccg':ccg,'provider':provider,'txt':'Report for CCG {}, provider {}'.format(ccg,provider)})\n",
    "s.add(generic_reporter(df,{'metadata':metadataDict,'header':'',\n",
    "                          'cols':['Appointments'],'sort':True,'numFirst':False,'prefix':\"\\n\",'suffix':'.'},ccg,provider))\n",
    "\n",
    "\n",
    "s.add(generic_reporter(df,{'metadata':metadataDict,'sort':True,'cols':apptTypes,'numFirst':True,\n",
    "                          'header':'Appointment types:',\n",
    "                          'prefix':\"\\n\\t- \",'suffix':' appointments;',\n",
    "                         'extractor':\"Number of (.*) Appointments in the month where attended or did not attend code is  'attended on time' or 'arrived late but was seen'\"},ccg,provider))\n",
    "\n",
    "\n",
    "s.add(generic_reporter(df,{'metadata':metadataDict,'header':'Appointment attendance:',\n",
    "                          'extractor':\"Appointments in the month where attended or did not attend code is '(.*)'+?\",\n",
    "                          'cols':appts,'numFirst':True,'prefix':\"\\n\\t- \",'suffix':'.'},ccg,provider))\n",
    "\n",
    "s.printer()"
   ]
  },
  {
   "cell_type": "markdown",
   "metadata": {},
   "source": [
    "## Comparisons\n",
    "\n",
    "Explore comparing periods."
   ]
  },
  {
   "cell_type": "code",
   "execution_count": 43,
   "metadata": {
    "collapsed": false
   },
   "outputs": [],
   "source": [
    "def report_rows_comparator(df,ccg,provider='all',periods=None):\n",
    "    if periods is None: return report_rows(df,ccg,provider)\n",
    "    if provider!='all':\n",
    "        rows=df[(df['CCG']==ccg) & (df['Provider']==provider) & (df[periods[0]].isin(periods[1]))]\n",
    "    else:\n",
    "        rows=df[(df['CCG']==ccg) & (df[periods[0]].isin(periods[1]))]\n",
    "    return rows"
   ]
  },
  {
   "cell_type": "code",
   "execution_count": 44,
   "metadata": {
    "collapsed": false
   },
   "outputs": [
    {
     "data": {
      "text/html": [
       "<div>\n",
       "<table border=\"1\" class=\"dataframe\">\n",
       "  <thead>\n",
       "    <tr style=\"text-align: right;\">\n",
       "      <th></th>\n",
       "      <th>Month</th>\n",
       "      <th>CCG</th>\n",
       "      <th>Provider</th>\n",
       "      <th>CCGName</th>\n",
       "      <th>ProviderName</th>\n",
       "      <th>GroupType</th>\n",
       "      <th>ReferralsReceived</th>\n",
       "      <th>SelfReferrals</th>\n",
       "      <th>FirstAssessment</th>\n",
       "      <th>FirstAssessment28days</th>\n",
       "      <th>...</th>\n",
       "      <th>MeanIPTSessions</th>\n",
       "      <th>MeanCouplesSessions</th>\n",
       "      <th>MeanBehavActSessions</th>\n",
       "      <th>MeanOtherHISessions</th>\n",
       "      <th>MeanLiSessions</th>\n",
       "      <th>ImprovementRate</th>\n",
       "      <th>RecoveryRate</th>\n",
       "      <th>ReliableRecoveryRate</th>\n",
       "      <th>FirstTreatment6WeeksFinishedCourseRate</th>\n",
       "      <th>FirstTreatment18WeeksFinishedCourseRate</th>\n",
       "    </tr>\n",
       "  </thead>\n",
       "  <tbody>\n",
       "    <tr>\n",
       "      <th>1085</th>\n",
       "      <td>May-16</td>\n",
       "      <td>10L</td>\n",
       "      <td>R1F</td>\n",
       "      <td>NHS ISLE OF WIGHT CCG</td>\n",
       "      <td>ISLE OF WIGHT NHS TRUST</td>\n",
       "      <td>CCG/Provider</td>\n",
       "      <td>275.0</td>\n",
       "      <td>265.0</td>\n",
       "      <td>210.0</td>\n",
       "      <td>160.0</td>\n",
       "      <td>...</td>\n",
       "      <td>NaN</td>\n",
       "      <td>NaN</td>\n",
       "      <td>NaN</td>\n",
       "      <td>9.6</td>\n",
       "      <td>5.3</td>\n",
       "      <td>64.4</td>\n",
       "      <td>52.1</td>\n",
       "      <td>50.0</td>\n",
       "      <td>95.9</td>\n",
       "      <td>100.0</td>\n",
       "    </tr>\n",
       "    <tr>\n",
       "      <th>2319</th>\n",
       "      <td>Jun-16</td>\n",
       "      <td>10L</td>\n",
       "      <td>R1F</td>\n",
       "      <td>NHS ISLE OF WIGHT CCG</td>\n",
       "      <td>ISLE OF WIGHT NHS TRUST</td>\n",
       "      <td>CCG/Provider</td>\n",
       "      <td>325.0</td>\n",
       "      <td>310.0</td>\n",
       "      <td>245.0</td>\n",
       "      <td>210.0</td>\n",
       "      <td>...</td>\n",
       "      <td>NaN</td>\n",
       "      <td>10.9</td>\n",
       "      <td>NaN</td>\n",
       "      <td>13.5</td>\n",
       "      <td>5.0</td>\n",
       "      <td>63.7</td>\n",
       "      <td>49.2</td>\n",
       "      <td>46.3</td>\n",
       "      <td>92.9</td>\n",
       "      <td>100.0</td>\n",
       "    </tr>\n",
       "  </tbody>\n",
       "</table>\n",
       "<p>2 rows × 128 columns</p>\n",
       "</div>"
      ],
      "text/plain": [
       "       Month  CCG Provider                CCGName             ProviderName  \\\n",
       "1085  May-16  10L      R1F  NHS ISLE OF WIGHT CCG  ISLE OF WIGHT NHS TRUST   \n",
       "2319  Jun-16  10L      R1F  NHS ISLE OF WIGHT CCG  ISLE OF WIGHT NHS TRUST   \n",
       "\n",
       "         GroupType  ReferralsReceived  SelfReferrals  FirstAssessment  \\\n",
       "1085  CCG/Provider              275.0          265.0            210.0   \n",
       "2319  CCG/Provider              325.0          310.0            245.0   \n",
       "\n",
       "      FirstAssessment28days                   ...                     \\\n",
       "1085                  160.0                   ...                      \n",
       "2319                  210.0                   ...                      \n",
       "\n",
       "      MeanIPTSessions  MeanCouplesSessions  MeanBehavActSessions  \\\n",
       "1085              NaN                  NaN                   NaN   \n",
       "2319              NaN                 10.9                   NaN   \n",
       "\n",
       "      MeanOtherHISessions  MeanLiSessions  ImprovementRate  RecoveryRate  \\\n",
       "1085                  9.6             5.3             64.4          52.1   \n",
       "2319                 13.5             5.0             63.7          49.2   \n",
       "\n",
       "      ReliableRecoveryRate  FirstTreatment6WeeksFinishedCourseRate  \\\n",
       "1085                  50.0                                    95.9   \n",
       "2319                  46.3                                    92.9   \n",
       "\n",
       "      FirstTreatment18WeeksFinishedCourseRate  \n",
       "1085                                    100.0  \n",
       "2319                                    100.0  \n",
       "\n",
       "[2 rows x 128 columns]"
      ]
     },
     "execution_count": 44,
     "metadata": {},
     "output_type": "execute_result"
    }
   ],
   "source": [
    "df2=pd.read_sql_query(\"SELECT * FROM monthly\",con_iapt)\n",
    "report_rows(df2,'10L','R1F',('Month',['Jun-16','May-16']))"
   ]
  },
  {
   "cell_type": "code",
   "execution_count": 47,
   "metadata": {
    "collapsed": false
   },
   "outputs": [],
   "source": [
    "s=storyBlock()\n",
    "\n",
    "s.add({'ccg':ccg,'provider':provider,'txt':'Report for CCG {}, provider {}'.format(ccg,provider)})\n",
    "s.add(generic_reporter(df2,{'metadata':metadataDict,'header':'',\n",
    "                          'cols':['Appointments'],'sort':True,'numFirst':False,'prefix':\"\\n\",'suffix':'.'},ccg,provider,reference='Month'))\n",
    "\n",
    "setup={'metadata':metadataDict,'header':'Appointment attendance:',\n",
    "                          'extractor':\"Appointments in the month where attended or did not attend code is '(.*)'+?\",\n",
    "                          'cols':appts,'numFirst':True,'prefix':\"\\n\\t- \",'suffix':'.'}\n",
    "s.add(generic_reporter(df2,setup,ccg,provider,reference=\"Month\"))"
   ]
  },
  {
   "cell_type": "code",
   "execution_count": 48,
   "metadata": {
    "collapsed": false
   },
   "outputs": [
    {
     "name": "stdout",
     "output_type": "stream",
     "text": [
      "Report for CCG 10L, provider R1F\n",
      "[10L: R1F, May-16] \n",
      "Appointments in the month: 1225.0.\n",
      "\n",
      "[10L: R1F, Jun-16] \n",
      "Appointments in the month: 1195.0.\n",
      "\n",
      "[10L: R1F, May-16] Appointment attendance:\n",
      "\t- 1100.0 attended on time.\n",
      "\t- 25.0 cancelled appointments - patient.\n",
      "\t- 5.0 cancelled or postponed by health care provider.\n",
      "\t- 65.0 did not attend.\n",
      "\t- 30.0 arrived late but was seen.\n",
      "\n",
      "[10L: R1F, Jun-16] Appointment attendance:\n",
      "\t- 1090.0 attended on time.\n",
      "\t- 30.0 cancelled appointments - patient.\n",
      "\t- 45.0 did not attend.\n",
      "\t- 30.0 arrived late but was seen.\n",
      "\n"
     ]
    }
   ],
   "source": [
    "s.printer()"
   ]
  },
  {
   "cell_type": "code",
   "execution_count": 49,
   "metadata": {
    "collapsed": false
   },
   "outputs": [
    {
     "name": "stdout",
     "output_type": "stream",
     "text": [
      "-----\n",
      "[10L: R1F, Jun-16] \n",
      "Appointments in the month: 1195.0.\n",
      "\n",
      "[10L: R1F, Jun-16] Appointment attendance:\n",
      "\t- 1090.0 attended on time.\n",
      "\t- 30.0 cancelled appointments - patient.\n",
      "\t- 45.0 did not attend.\n",
      "\t- 30.0 arrived late but was seen.\n",
      "\n",
      "-----\n",
      "[10L: R1F, May-16] \n",
      "Appointments in the month: 1225.0.\n",
      "\n",
      "[10L: R1F, May-16] Appointment attendance:\n",
      "\t- 1100.0 attended on time.\n",
      "\t- 25.0 cancelled appointments - patient.\n",
      "\t- 5.0 cancelled or postponed by health care provider.\n",
      "\t- 65.0 did not attend.\n",
      "\t- 30.0 arrived late but was seen.\n",
      "\n"
     ]
    }
   ],
   "source": [
    "s.printer_groupby(['CCG','Provider','Month'],splitter='-----')"
   ]
  },
  {
   "cell_type": "markdown",
   "metadata": {},
   "source": [
    "## Comparing Two Periods\n",
    "\n",
    "Need to be able to construct sentences of the form:\n",
    "\n",
    "- *The blah blah was NN (updownX compared to MM previously).*\n",
    "- *NN (MM previously) blah blah*\n",
    "- *NN (MM previously, LL a year ago) blah blah*"
   ]
  },
  {
   "cell_type": "code",
   "execution_count": 227,
   "metadata": {
    "collapsed": false
   },
   "outputs": [
    {
     "data": {
      "text/html": [
       "<div>\n",
       "<table border=\"1\" class=\"dataframe\">\n",
       "  <thead>\n",
       "    <tr style=\"text-align: right;\">\n",
       "      <th></th>\n",
       "      <th>id</th>\n",
       "      <th>period</th>\n",
       "      <th>val</th>\n",
       "      <th>val2</th>\n",
       "    </tr>\n",
       "  </thead>\n",
       "  <tbody>\n",
       "    <tr>\n",
       "      <th>0</th>\n",
       "      <td>aa</td>\n",
       "      <td>jan</td>\n",
       "      <td>1</td>\n",
       "      <td>3</td>\n",
       "    </tr>\n",
       "    <tr>\n",
       "      <th>1</th>\n",
       "      <td>aa</td>\n",
       "      <td>feb</td>\n",
       "      <td>2</td>\n",
       "      <td>4</td>\n",
       "    </tr>\n",
       "    <tr>\n",
       "      <th>2</th>\n",
       "      <td>bb</td>\n",
       "      <td>jan</td>\n",
       "      <td>5</td>\n",
       "      <td>10</td>\n",
       "    </tr>\n",
       "    <tr>\n",
       "      <th>3</th>\n",
       "      <td>bb</td>\n",
       "      <td>feb</td>\n",
       "      <td>4</td>\n",
       "      <td>8</td>\n",
       "    </tr>\n",
       "    <tr>\n",
       "      <th>4</th>\n",
       "      <td>cc</td>\n",
       "      <td>jan</td>\n",
       "      <td>3</td>\n",
       "      <td>6</td>\n",
       "    </tr>\n",
       "    <tr>\n",
       "      <th>5</th>\n",
       "      <td>cc</td>\n",
       "      <td>feb</td>\n",
       "      <td>3</td>\n",
       "      <td>6</td>\n",
       "    </tr>\n",
       "  </tbody>\n",
       "</table>\n",
       "</div>"
      ],
      "text/plain": [
       "   id period  val  val2\n",
       "0  aa    jan    1     3\n",
       "1  aa    feb    2     4\n",
       "2  bb    jan    5    10\n",
       "3  bb    feb    4     8\n",
       "4  cc    jan    3     6\n",
       "5  cc    feb    3     6"
      ]
     },
     "execution_count": 227,
     "metadata": {},
     "output_type": "execute_result"
    }
   ],
   "source": [
    "#Simple dataset\n",
    "diff2=pd.DataFrame([{'id':'aa','val':1,'val2':3,'period':'jan'},{'id':'aa','val':2,'val2':4,'period':'feb'},\n",
    "                   {'id':'bb','val':5,'val2':10,'period':'jan'},{'id':'bb','val':4,'val2':8,'period':'feb'},\n",
    "                   {'id':'cc','val':3,'val2':6,'period':'jan'},{'id':'cc','val':3,'val2':6,'period':'feb'}])\n",
    "diff2"
   ]
  },
  {
   "cell_type": "code",
   "execution_count": 228,
   "metadata": {
    "collapsed": false
   },
   "outputs": [
    {
     "data": {
      "text/html": [
       "<div>\n",
       "<table border=\"1\" class=\"dataframe\">\n",
       "  <thead>\n",
       "    <tr style=\"text-align: right;\">\n",
       "      <th>period</th>\n",
       "      <th>feb</th>\n",
       "      <th>jan</th>\n",
       "    </tr>\n",
       "    <tr>\n",
       "      <th>id</th>\n",
       "      <th></th>\n",
       "      <th></th>\n",
       "    </tr>\n",
       "  </thead>\n",
       "  <tbody>\n",
       "    <tr>\n",
       "      <th>aa</th>\n",
       "      <td>2</td>\n",
       "      <td>1</td>\n",
       "    </tr>\n",
       "    <tr>\n",
       "      <th>bb</th>\n",
       "      <td>4</td>\n",
       "      <td>5</td>\n",
       "    </tr>\n",
       "    <tr>\n",
       "      <th>cc</th>\n",
       "      <td>3</td>\n",
       "      <td>3</td>\n",
       "    </tr>\n",
       "  </tbody>\n",
       "</table>\n",
       "</div>"
      ],
      "text/plain": [
       "period  feb  jan\n",
       "id              \n",
       "aa        2    1\n",
       "bb        4    5\n",
       "cc        3    3"
      ]
     },
     "execution_count": 228,
     "metadata": {},
     "output_type": "execute_result"
    }
   ],
   "source": [
    "#Assume we have just one column in diffferent periods\n",
    "diff2p=diff2.pivot(index='id',columns='period',values='val')\n",
    "diff2p"
   ]
  },
  {
   "cell_type": "code",
   "execution_count": 474,
   "metadata": {
    "collapsed": false
   },
   "outputs": [],
   "source": [
    "#Report on the difference between any two values in their own cols\n",
    "def comparator_onecol(row,curr,prev, diff=True, prevterm='the previous value of',prevval=False,endchar='',numformat=None):\n",
    "    curr=row[curr]\n",
    "    prev=row[prev]\n",
    "    diffval=curr-prev\n",
    "    if diffval==0:\n",
    "        txt='{curr}, the same as {prevterm}{prev}{endchar}'.format(prevterm=prevterm,curr=curr,\n",
    "                                                           prev= '' if not prevval else ' {}'.format(prev),\n",
    "                                                           diff='' if not diff else ', {}'.format(prev),\n",
    "                                                                  endchar=endchar)\n",
    "    elif diffval<0:\n",
    "        txt='{curr}, {diff}less than {prevterm}{prev}{endchar}'.format(prevterm=prevterm,curr=curr,\n",
    "                                                        prev='' if not prevval else ' {}'.format(prev),\n",
    "                                                        diff='' if not diff else '{} '.format(abs(diffval)),\n",
    "                                                                      endchar=endchar)\n",
    "    elif diffval>0:\n",
    "        txt='{curr}, {diff}greater than {prevterm}{prev}{endchar}'.format(prevterm=prevterm,curr=curr,\n",
    "                                                           prev='' if not prevval else ' {}'.format(prev),\n",
    "                                                           diff='' if not diff else '{} '.format(diffval),\n",
    "                                                           endchar=endchar)\n",
    "    else:\n",
    "        if pd.notnull(curr) and pd.isnull(prev):\n",
    "            txt='{}, (no previous value given)'.format(curr)\n",
    "        elif pd.isnull(curr) and pd.notnull(prev):\n",
    "            txt='{} previously (no current value available)'.format(prev)\n",
    "        else: txt='no values available'\n",
    "    return txt"
   ]
  },
  {
   "cell_type": "code",
   "execution_count": 475,
   "metadata": {
    "collapsed": false
   },
   "outputs": [
    {
     "data": {
      "text/plain": [
       "id\n",
       "aa    2, 1 greater than the previous value of 1\n",
       "bb       4, 1 less than the previous value of 5\n",
       "cc       3, the same as the previous value of 3\n",
       "dtype: object"
      ]
     },
     "execution_count": 475,
     "metadata": {},
     "output_type": "execute_result"
    }
   ],
   "source": [
    "#Preview report\n",
    "diff2p.apply(lambda x: comparator_onecol(x,'feb','jan',diff=True,prevval=True),axis=1)"
   ]
  },
  {
   "cell_type": "code",
   "execution_count": 476,
   "metadata": {
    "collapsed": false
   },
   "outputs": [
    {
     "data": {
      "text/html": [
       "<div>\n",
       "<table border=\"1\" class=\"dataframe\">\n",
       "  <thead>\n",
       "    <tr>\n",
       "      <th></th>\n",
       "      <th colspan=\"2\" halign=\"left\">val</th>\n",
       "      <th colspan=\"2\" halign=\"left\">val2</th>\n",
       "    </tr>\n",
       "    <tr>\n",
       "      <th>period</th>\n",
       "      <th>feb</th>\n",
       "      <th>jan</th>\n",
       "      <th>feb</th>\n",
       "      <th>jan</th>\n",
       "    </tr>\n",
       "    <tr>\n",
       "      <th>id</th>\n",
       "      <th></th>\n",
       "      <th></th>\n",
       "      <th></th>\n",
       "      <th></th>\n",
       "    </tr>\n",
       "  </thead>\n",
       "  <tbody>\n",
       "    <tr>\n",
       "      <th>aa</th>\n",
       "      <td>2</td>\n",
       "      <td>1</td>\n",
       "      <td>4</td>\n",
       "      <td>3</td>\n",
       "    </tr>\n",
       "    <tr>\n",
       "      <th>bb</th>\n",
       "      <td>4</td>\n",
       "      <td>5</td>\n",
       "      <td>8</td>\n",
       "      <td>10</td>\n",
       "    </tr>\n",
       "    <tr>\n",
       "      <th>cc</th>\n",
       "      <td>3</td>\n",
       "      <td>3</td>\n",
       "      <td>6</td>\n",
       "      <td>6</td>\n",
       "    </tr>\n",
       "  </tbody>\n",
       "</table>\n",
       "</div>"
      ],
      "text/plain": [
       "       val     val2    \n",
       "period feb jan  feb jan\n",
       "id                     \n",
       "aa       2   1    4   3\n",
       "bb       4   5    8  10\n",
       "cc       3   3    6   6"
      ]
     },
     "execution_count": 476,
     "metadata": {},
     "output_type": "execute_result"
    }
   ],
   "source": [
    "#How do we cope with multiple cols in current and previous states?\n",
    "diff3p=diff2.pivot(index='id',columns='period')\n",
    "diff3p"
   ]
  },
  {
   "cell_type": "code",
   "execution_count": 477,
   "metadata": {
    "collapsed": false
   },
   "outputs": [
    {
     "data": {
      "text/html": [
       "<div>\n",
       "<table border=\"1\" class=\"dataframe\">\n",
       "  <thead>\n",
       "    <tr>\n",
       "      <th></th>\n",
       "      <th colspan=\"2\" halign=\"left\">val2</th>\n",
       "      <th colspan=\"2\" halign=\"left\">val</th>\n",
       "    </tr>\n",
       "    <tr>\n",
       "      <th>period</th>\n",
       "      <th>feb</th>\n",
       "      <th>jan</th>\n",
       "      <th>feb</th>\n",
       "      <th>jan</th>\n",
       "    </tr>\n",
       "    <tr>\n",
       "      <th>id</th>\n",
       "      <th></th>\n",
       "      <th></th>\n",
       "      <th></th>\n",
       "      <th></th>\n",
       "    </tr>\n",
       "  </thead>\n",
       "  <tbody>\n",
       "    <tr>\n",
       "      <th>aa</th>\n",
       "      <td>4</td>\n",
       "      <td>3</td>\n",
       "      <td>2</td>\n",
       "      <td>1</td>\n",
       "    </tr>\n",
       "    <tr>\n",
       "      <th>bb</th>\n",
       "      <td>8</td>\n",
       "      <td>10</td>\n",
       "      <td>4</td>\n",
       "      <td>5</td>\n",
       "    </tr>\n",
       "    <tr>\n",
       "      <th>cc</th>\n",
       "      <td>6</td>\n",
       "      <td>6</td>\n",
       "      <td>3</td>\n",
       "      <td>3</td>\n",
       "    </tr>\n",
       "  </tbody>\n",
       "</table>\n",
       "</div>"
      ],
      "text/plain": [
       "       val2     val    \n",
       "period  feb jan feb jan\n",
       "id                     \n",
       "aa        4   3   2   1\n",
       "bb        8  10   4   5\n",
       "cc        6   6   3   3"
      ]
     },
     "execution_count": 477,
     "metadata": {},
     "output_type": "execute_result"
    }
   ],
   "source": [
    "diff3p[['val2','val']]"
   ]
  },
  {
   "cell_type": "code",
   "execution_count": 478,
   "metadata": {
    "collapsed": false
   },
   "outputs": [
    {
     "data": {
      "text/html": [
       "<div>\n",
       "<table border=\"1\" class=\"dataframe\">\n",
       "  <thead>\n",
       "    <tr style=\"text-align: right;\">\n",
       "      <th>period</th>\n",
       "      <th>feb</th>\n",
       "      <th>jan</th>\n",
       "    </tr>\n",
       "    <tr>\n",
       "      <th>id</th>\n",
       "      <th></th>\n",
       "      <th></th>\n",
       "    </tr>\n",
       "  </thead>\n",
       "  <tbody>\n",
       "    <tr>\n",
       "      <th>aa</th>\n",
       "      <td>4</td>\n",
       "      <td>3</td>\n",
       "    </tr>\n",
       "    <tr>\n",
       "      <th>bb</th>\n",
       "      <td>8</td>\n",
       "      <td>10</td>\n",
       "    </tr>\n",
       "    <tr>\n",
       "      <th>cc</th>\n",
       "      <td>6</td>\n",
       "      <td>6</td>\n",
       "    </tr>\n",
       "  </tbody>\n",
       "</table>\n",
       "</div>"
      ],
      "text/plain": [
       "period  feb  jan\n",
       "id              \n",
       "aa        4    3\n",
       "bb        8   10\n",
       "cc        6    6"
      ]
     },
     "execution_count": 478,
     "metadata": {},
     "output_type": "execute_result"
    }
   ],
   "source": [
    "diff3p[['val2','val']]['val2']"
   ]
  },
  {
   "cell_type": "code",
   "execution_count": 479,
   "metadata": {
    "collapsed": false
   },
   "outputs": [
    {
     "data": {
      "text/plain": [
       "period\n",
       "feb     8\n",
       "jan    10\n",
       "Name: bb, dtype: int64"
      ]
     },
     "execution_count": 479,
     "metadata": {},
     "output_type": "execute_result"
    }
   ],
   "source": [
    "diff3p[['val2','val']]['val2'].ix['bb']"
   ]
  },
  {
   "cell_type": "code",
   "execution_count": 480,
   "metadata": {
    "collapsed": false
   },
   "outputs": [
    {
     "data": {
      "text/html": [
       "<div>\n",
       "<table border=\"1\" class=\"dataframe\">\n",
       "  <thead>\n",
       "    <tr style=\"text-align: right;\">\n",
       "      <th></th>\n",
       "      <th>Month</th>\n",
       "      <th>CCG</th>\n",
       "      <th>Provider</th>\n",
       "      <th>CCGName</th>\n",
       "      <th>ProviderName</th>\n",
       "      <th>GroupType</th>\n",
       "      <th>ReferralsReceived</th>\n",
       "      <th>SelfReferrals</th>\n",
       "      <th>FirstAssessment</th>\n",
       "      <th>FirstAssessment28days</th>\n",
       "      <th>...</th>\n",
       "      <th>MeanIPTSessions</th>\n",
       "      <th>MeanCouplesSessions</th>\n",
       "      <th>MeanBehavActSessions</th>\n",
       "      <th>MeanOtherHISessions</th>\n",
       "      <th>MeanLiSessions</th>\n",
       "      <th>ImprovementRate</th>\n",
       "      <th>RecoveryRate</th>\n",
       "      <th>ReliableRecoveryRate</th>\n",
       "      <th>FirstTreatment6WeeksFinishedCourseRate</th>\n",
       "      <th>FirstTreatment18WeeksFinishedCourseRate</th>\n",
       "    </tr>\n",
       "  </thead>\n",
       "  <tbody>\n",
       "    <tr>\n",
       "      <th>1085</th>\n",
       "      <td>May-16</td>\n",
       "      <td>10L</td>\n",
       "      <td>R1F</td>\n",
       "      <td>NHS ISLE OF WIGHT CCG</td>\n",
       "      <td>ISLE OF WIGHT NHS TRUST</td>\n",
       "      <td>CCG/Provider</td>\n",
       "      <td>275.0</td>\n",
       "      <td>265.0</td>\n",
       "      <td>210.0</td>\n",
       "      <td>160.0</td>\n",
       "      <td>...</td>\n",
       "      <td>NaN</td>\n",
       "      <td>NaN</td>\n",
       "      <td>NaN</td>\n",
       "      <td>9.6</td>\n",
       "      <td>5.3</td>\n",
       "      <td>64.4</td>\n",
       "      <td>52.1</td>\n",
       "      <td>50.0</td>\n",
       "      <td>95.9</td>\n",
       "      <td>100.0</td>\n",
       "    </tr>\n",
       "    <tr>\n",
       "      <th>2319</th>\n",
       "      <td>Jun-16</td>\n",
       "      <td>10L</td>\n",
       "      <td>R1F</td>\n",
       "      <td>NHS ISLE OF WIGHT CCG</td>\n",
       "      <td>ISLE OF WIGHT NHS TRUST</td>\n",
       "      <td>CCG/Provider</td>\n",
       "      <td>325.0</td>\n",
       "      <td>310.0</td>\n",
       "      <td>245.0</td>\n",
       "      <td>210.0</td>\n",
       "      <td>...</td>\n",
       "      <td>NaN</td>\n",
       "      <td>10.9</td>\n",
       "      <td>NaN</td>\n",
       "      <td>13.5</td>\n",
       "      <td>5.0</td>\n",
       "      <td>63.7</td>\n",
       "      <td>49.2</td>\n",
       "      <td>46.3</td>\n",
       "      <td>92.9</td>\n",
       "      <td>100.0</td>\n",
       "    </tr>\n",
       "  </tbody>\n",
       "</table>\n",
       "<p>2 rows × 128 columns</p>\n",
       "</div>"
      ],
      "text/plain": [
       "       Month  CCG Provider                CCGName             ProviderName  \\\n",
       "1085  May-16  10L      R1F  NHS ISLE OF WIGHT CCG  ISLE OF WIGHT NHS TRUST   \n",
       "2319  Jun-16  10L      R1F  NHS ISLE OF WIGHT CCG  ISLE OF WIGHT NHS TRUST   \n",
       "\n",
       "         GroupType  ReferralsReceived  SelfReferrals  FirstAssessment  \\\n",
       "1085  CCG/Provider              275.0          265.0            210.0   \n",
       "2319  CCG/Provider              325.0          310.0            245.0   \n",
       "\n",
       "      FirstAssessment28days                   ...                     \\\n",
       "1085                  160.0                   ...                      \n",
       "2319                  210.0                   ...                      \n",
       "\n",
       "      MeanIPTSessions  MeanCouplesSessions  MeanBehavActSessions  \\\n",
       "1085              NaN                  NaN                   NaN   \n",
       "2319              NaN                 10.9                   NaN   \n",
       "\n",
       "      MeanOtherHISessions  MeanLiSessions  ImprovementRate  RecoveryRate  \\\n",
       "1085                  9.6             5.3             64.4          52.1   \n",
       "2319                 13.5             5.0             63.7          49.2   \n",
       "\n",
       "      ReliableRecoveryRate  FirstTreatment6WeeksFinishedCourseRate  \\\n",
       "1085                  50.0                                    95.9   \n",
       "2319                  46.3                                    92.9   \n",
       "\n",
       "      FirstTreatment18WeeksFinishedCourseRate  \n",
       "1085                                    100.0  \n",
       "2319                                    100.0  \n",
       "\n",
       "[2 rows x 128 columns]"
      ]
     },
     "execution_count": 480,
     "metadata": {},
     "output_type": "execute_result"
    }
   ],
   "source": [
    "rows=report_rows(df2,ccg,provider,('Month',['Jun-16','May-16']) )\n",
    "rows"
   ]
  },
  {
   "cell_type": "code",
   "execution_count": 481,
   "metadata": {
    "collapsed": false
   },
   "outputs": [
    {
     "data": {
      "text/html": [
       "<div>\n",
       "<table border=\"1\" class=\"dataframe\">\n",
       "  <thead>\n",
       "    <tr>\n",
       "      <th></th>\n",
       "      <th></th>\n",
       "      <th colspan=\"2\" halign=\"left\">FirstAssessment</th>\n",
       "      <th colspan=\"2\" halign=\"left\">FirstAssessment28days</th>\n",
       "    </tr>\n",
       "    <tr>\n",
       "      <th></th>\n",
       "      <th>Month</th>\n",
       "      <th>Jun-16</th>\n",
       "      <th>May-16</th>\n",
       "      <th>Jun-16</th>\n",
       "      <th>May-16</th>\n",
       "    </tr>\n",
       "    <tr>\n",
       "      <th>CCG</th>\n",
       "      <th>Provider</th>\n",
       "      <th></th>\n",
       "      <th></th>\n",
       "      <th></th>\n",
       "      <th></th>\n",
       "    </tr>\n",
       "  </thead>\n",
       "  <tbody>\n",
       "    <tr>\n",
       "      <th>10L</th>\n",
       "      <th>R1F</th>\n",
       "      <td>245.0</td>\n",
       "      <td>210.0</td>\n",
       "      <td>210.0</td>\n",
       "      <td>160.0</td>\n",
       "    </tr>\n",
       "  </tbody>\n",
       "</table>\n",
       "</div>"
      ],
      "text/plain": [
       "             FirstAssessment        FirstAssessment28days       \n",
       "Month                 Jun-16 May-16                Jun-16 May-16\n",
       "CCG Provider                                                    \n",
       "10L R1F                245.0  210.0                 210.0  160.0"
      ]
     },
     "execution_count": 481,
     "metadata": {},
     "output_type": "execute_result"
    }
   ],
   "source": [
    "cols=['FirstAssessment','FirstAssessment28days']\n",
    "core=['CCG','Provider']\n",
    "rows[core+cols+['Month']].set_index(core).pivot(columns='Month')"
   ]
  },
  {
   "cell_type": "code",
   "execution_count": 482,
   "metadata": {
    "collapsed": false
   },
   "outputs": [
    {
     "data": {
      "text/html": [
       "<div>\n",
       "<table border=\"1\" class=\"dataframe\">\n",
       "  <thead>\n",
       "    <tr style=\"text-align: right;\">\n",
       "      <th>Month</th>\n",
       "      <th>CCG</th>\n",
       "      <th>Provider</th>\n",
       "      <th>Jun-16</th>\n",
       "      <th>May-16</th>\n",
       "    </tr>\n",
       "  </thead>\n",
       "  <tbody>\n",
       "    <tr>\n",
       "      <th>0</th>\n",
       "      <td>10L</td>\n",
       "      <td>R1F</td>\n",
       "      <td>210.0</td>\n",
       "      <td>160.0</td>\n",
       "    </tr>\n",
       "  </tbody>\n",
       "</table>\n",
       "</div>"
      ],
      "text/plain": [
       "Month  CCG Provider  Jun-16  May-16\n",
       "0      10L      R1F   210.0   160.0"
      ]
     },
     "execution_count": 482,
     "metadata": {},
     "output_type": "execute_result"
    }
   ],
   "source": [
    "rows[core+cols+['Month']].set_index(core).pivot(columns='Month')['FirstAssessment28days'].reset_index()"
   ]
  },
  {
   "cell_type": "code",
   "execution_count": 483,
   "metadata": {
    "collapsed": false
   },
   "outputs": [],
   "source": [
    "'''def series_lister_item_comparator(numFirst,cnt,typ,prefix,suffix,extractor,replacer,lower):\n",
    "    if extractor is not None:\n",
    "        rs=re.search(extractor,typ)\n",
    "        if rs:\n",
    "            typ=rs.group(1)\n",
    "    if replacer is not None:\n",
    "        typ=re.sub(replacer[0],replacer[1],typ)\n",
    "    if numFirst:\n",
    "        txt='{prefix}{cnt} {typ}{suffix}'.format(cnt=cnt,typ=ls(typ) if lower else typ,\n",
    "                                                      prefix=prefix,suffix=suffix)\n",
    "    else:\n",
    "        txt='{prefix}{typ}: {cnt}{suffix}'.format(cnt=cnt,typ=typ,\n",
    "                                                       prefix=prefix,suffix=suffix)\n",
    "    return txt'''\n",
    "\n",
    "from collections import OrderedDict\n",
    "\n",
    "def series_lister_nonzero_comparator(row,period,cols,metadata,sort=False,numFirst=False,prefix='\\n',suffix='',\n",
    "                          header='',extractor=None,replacer=None,lower=False):\n",
    "    txt=header\n",
    "    \n",
    "    #get values for each col, then order cols\n",
    "    od={}\n",
    "    for i in cols:\n",
    "        if pd.notnull(row[i][period[1][0]]) and pd.notnull(row[i][period[1][1]]):\n",
    "            od[i]=row[i][period[1][0]]\n",
    "    cols=od\n",
    "    if sort:\n",
    "        cols=OrderedDict(sorted(od.items()))\n",
    "    for i in cols:\n",
    "        typ=metadata[i]\n",
    "        val=comparator_onecol(row[i],period[1][0],period[1][1],diff=True,prevval=True)\n",
    "        txt='{txt}{item}'.format(txt=txt,item=series_lister_item(numFirst,val,typ,prefix,suffix,extractor,replacer,lower))      \n",
    "    return txt+'\\n'\n",
    "\n",
    "def generic_reporter_comparator(df,setup,ccg,provider='all',reference=None,period=None):\n",
    "    rows=report_rows(df,ccg,provider,period)\n",
    "\n",
    "    core=['CCG','Provider']\n",
    "    cols=setup['cols']\n",
    "    rows=rows[core+cols+[period[0]]].set_index(core).pivot(columns=period[0])\n",
    "\n",
    "    #if isinstance(reference, str): core.append(reference)\n",
    "\n",
    "    tmp=rows.copy()\n",
    "\n",
    "    tmp['txt']= rows.apply(lambda x: series_lister_nonzero_comparator(x,period,**setup),axis=1)\n",
    "    tmp=tmp.reset_index()\n",
    "    \n",
    "\n",
    "    #Need to identify multiple reports\n",
    "    if reference is None and len(rows)>1: reference=True\n",
    "    if reference: tmp['txt']=tmp.apply(lambda x: '[{}: {}{}] {}'.format(x['CCG'],x['Provider'],\n",
    "                                                                        '', #if not isinstance(reference, str) else ', {}'.format(x[reference]),\n",
    "                                                                        x['txt']),axis=1)\n",
    "    tmp=tmp[core+['txt']]\n",
    "    tmp.columns = tmp.columns.get_level_values(0)\n",
    "    return tmp"
   ]
  },
  {
   "cell_type": "code",
   "execution_count": 484,
   "metadata": {
    "collapsed": false
   },
   "outputs": [
    {
     "data": {
      "text/html": [
       "<div>\n",
       "<table border=\"1\" class=\"dataframe\">\n",
       "  <thead>\n",
       "    <tr style=\"text-align: right;\">\n",
       "      <th></th>\n",
       "      <th>CCG</th>\n",
       "      <th>Provider</th>\n",
       "      <th>txt</th>\n",
       "    </tr>\n",
       "  </thead>\n",
       "  <tbody>\n",
       "    <tr>\n",
       "      <th>0</th>\n",
       "      <td>10L</td>\n",
       "      <td>R1F</td>\n",
       "      <td>Appointment attendance:\\n\\t- 1090.0, 10.0 less than the previous value of 1100.0 attended on time.\\n\\t- 30.0, 5.0 greater than the previous value of 25.0 cancelled appointments - patient.\\n\\t- 45.0, 20.0 less than the previous value of 65.0 did not attend.\\n\\t- 30.0, the same as the previous value of 30.0 arrived late but was seen.\\n</td>\n",
       "    </tr>\n",
       "  </tbody>\n",
       "</table>\n",
       "</div>"
      ],
      "text/plain": [
       "   CCG Provider  \\\n",
       "0  10L      R1F   \n",
       "\n",
       "                                                                                                                                                                                                                                                                                                                                               txt  \n",
       "0  Appointment attendance:\\n\\t- 1090.0, 10.0 less than the previous value of 1100.0 attended on time.\\n\\t- 30.0, 5.0 greater than the previous value of 25.0 cancelled appointments - patient.\\n\\t- 45.0, 20.0 less than the previous value of 65.0 did not attend.\\n\\t- 30.0, the same as the previous value of 30.0 arrived late but was seen.\\n  "
      ]
     },
     "execution_count": 484,
     "metadata": {},
     "output_type": "execute_result"
    }
   ],
   "source": [
    "setup['sort']=False\n",
    "xx=generic_reporter_comparator(df2,setup,ccg,provider,period=('Month',['Jun-16','May-16']))\n",
    "xx"
   ]
  },
  {
   "cell_type": "code",
   "execution_count": 485,
   "metadata": {
    "collapsed": false
   },
   "outputs": [
    {
     "data": {
      "text/html": [
       "<div>\n",
       "<table border=\"1\" class=\"dataframe\">\n",
       "  <thead>\n",
       "    <tr style=\"text-align: right;\">\n",
       "      <th></th>\n",
       "      <th>CCG</th>\n",
       "      <th>Provider</th>\n",
       "      <th>txt</th>\n",
       "    </tr>\n",
       "  </thead>\n",
       "  <tbody>\n",
       "    <tr>\n",
       "      <th>0</th>\n",
       "      <td>10L</td>\n",
       "      <td>R1F</td>\n",
       "      <td>Appointment attendance:\\n\\t- did not attend: 45.0, 20.0 less than the previous value of 65.0.\\n\\t- attended on time: 1090.0, 10.0 less than the previous value of 1100.0.\\n\\t- cancelled appointments - patient: 30.0, 5.0 greater than the previous value of 25.0.\\n\\t- arrived late but was seen: 30.0, the same as the previous value of 30.0.\\n</td>\n",
       "    </tr>\n",
       "  </tbody>\n",
       "</table>\n",
       "</div>"
      ],
      "text/plain": [
       "   CCG Provider  \\\n",
       "0  10L      R1F   \n",
       "\n",
       "                                                                                                                                                                                                                                                                                                                                                   txt  \n",
       "0  Appointment attendance:\\n\\t- did not attend: 45.0, 20.0 less than the previous value of 65.0.\\n\\t- attended on time: 1090.0, 10.0 less than the previous value of 1100.0.\\n\\t- cancelled appointments - patient: 30.0, 5.0 greater than the previous value of 25.0.\\n\\t- arrived late but was seen: 30.0, the same as the previous value of 30.0.\\n  "
      ]
     },
     "execution_count": 485,
     "metadata": {},
     "output_type": "execute_result"
    }
   ],
   "source": [
    "setup['sort']=True\n",
    "generic_reporter_comparator(df2,{'metadata':metadataDict,'header':'Appointment attendance:',\n",
    "                          'extractor':\"Appointments in the month where attended or did not attend code is '(.*)'+?\",\n",
    "                          'cols':appts,'numFirst':False,'prefix':\"\\n\\t- \",'suffix':'.'},ccg,provider,\n",
    "                period=('Month',['Jun-16','May-16']))"
   ]
  },
  {
   "cell_type": "code",
   "execution_count": 486,
   "metadata": {
    "collapsed": false
   },
   "outputs": [
    {
     "data": {
      "text/plain": [
       "pandas.core.frame.DataFrame"
      ]
     },
     "execution_count": 486,
     "metadata": {},
     "output_type": "execute_result"
    }
   ],
   "source": [
    "type(generic_reporter_comparator(df2,{'metadata':metadataDict,'header':'Appointment attendance:',\n",
    "                          'extractor':\"Appointments in the month where attended or did not attend code is '(.*)'+?\",\n",
    "                          'cols':appts,'numFirst':True,'prefix':\"\\n\\t- \",'suffix':'.'},\n",
    "                       ccg,provider,period=('Month',['Jun-16','May-16'])))"
   ]
  },
  {
   "cell_type": "code",
   "execution_count": 487,
   "metadata": {
    "collapsed": false
   },
   "outputs": [
    {
     "name": "stdout",
     "output_type": "stream",
     "text": [
      "Report for CCG 10L, provider R1F\n",
      "\n",
      "Appointments in the month: 1195.0, 30.0 less than the previous value of 1225.0.\n",
      "\n",
      "Appointment types:\n",
      "\t- Behavioural Activation (Low Intensity) treatment: 45.0, 15.0 greater than the previous value of 30.0 appointments;\n",
      "\t- Cognitive Behaviour Therapy (CBT) treatment: 695.0, 50.0 less than the previous value of 745.0 appointments;\n",
      "\t- Couples Therapy for Depression treatment: 20.0, 15.0 less than the previous value of 35.0 appointments;\n",
      "\t- Eye Movement Desensitisation Reprocessing treatment: 55.0, 10.0 less than the previous value of 65.0 appointments;\n",
      "\t- Guided Self Help (Computer) treatment: 60.0, 5.0 greater than the previous value of 55.0 appointments;\n",
      "\t- Interpersonal Psycho Therapy (IPT) treatment: 30.0, 15.0 greater than the previous value of 15.0 appointments;\n",
      "\t- Non - Guided Self Help (Book) treatment: 10.0, the same as the previous value of 10.0 appointments;\n",
      "\t- Other Low Intensity treatment: 135.0, 20.0 less than the previous value of 155.0 appointments;\n",
      "\t- Psychoeducational Peer Support treatment: 90.0, 30.0 greater than the previous value of 60.0 appointments;\n",
      "\n",
      "Appointment attendance:\n",
      "\t- did not attend: 45.0, 20.0 less than the previous value of 65.0.\n",
      "\t- attended on time: 1090.0, 10.0 less than the previous value of 1100.0.\n",
      "\t- cancelled appointments - patient: 30.0, 5.0 greater than the previous value of 25.0.\n",
      "\t- arrived late but was seen: 30.0, the same as the previous value of 30.0.\n",
      "\n"
     ]
    }
   ],
   "source": [
    "s=storyBlock()\n",
    "s.add({'ccg':ccg,'provider':provider,'txt':'Report for CCG {}, provider {}'.format(ccg,provider)})\n",
    "s.add(generic_reporter_comparator(df2,{'metadata':metadataDict,'header':'',\n",
    "                          'cols':['Appointments'],'sort':True,'numFirst':False,'prefix':\"\\n\",'suffix':'.'},\n",
    "                       ccg,provider,period=('Month',['Jun-16','May-16'])))\n",
    "\n",
    "\n",
    "s.add(generic_reporter_comparator(df2,{'metadata':metadataDict,'sort':True,'cols':apptTypes,'numFirst':False,\n",
    "                          'header':'Appointment types:',\n",
    "                          'prefix':\"\\n\\t- \",'suffix':' appointments;',\n",
    "                         'extractor':\"Number of (.*) Appointments in the month where attended or did not attend code is  'attended on time' or 'arrived late but was seen'\"},\n",
    "                       ccg,provider,period=('Month',['Jun-16','May-16'])))\n",
    "\n",
    "\n",
    "s.add(generic_reporter_comparator(df2,{'metadata':metadataDict,'header':'Appointment attendance:',\n",
    "                          'extractor':\"Appointments in the month where attended or did not attend code is '(.*)'+?\",\n",
    "                          'cols':appts,'numFirst':False,'prefix':\"\\n\\t- \",'suffix':'.'},\n",
    "                       ccg,provider,period=('Month',['Jun-16','May-16'])))\n",
    "\n",
    "s.printer()"
   ]
  },
  {
   "cell_type": "code",
   "execution_count": null,
   "metadata": {
    "collapsed": true
   },
   "outputs": [],
   "source": []
  }
 ],
 "metadata": {
  "kernelspec": {
   "display_name": "Python 3",
   "language": "python",
   "name": "python3"
  },
  "language_info": {
   "codemirror_mode": {
    "name": "ipython",
    "version": 3
   },
   "file_extension": ".py",
   "mimetype": "text/x-python",
   "name": "python",
   "nbconvert_exporter": "python",
   "pygments_lexer": "ipython3",
   "version": "3.5.1"
  },
  "widgets": {
   "state": {},
   "version": "1.1.2"
  }
 },
 "nbformat": 4,
 "nbformat_minor": 0
}
