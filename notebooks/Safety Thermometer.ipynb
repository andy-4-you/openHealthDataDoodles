{
 "cells": [
  {
   "cell_type": "markdown",
   "metadata": {},
   "source": [
    "# NHS Safety Thermometer - Harm Tables\n",
    "\n",
    "http://content.digital.nhs.uk/catalogue/PUB21605\n",
    "\n",
    "Report http://www.content.digital.nhs.uk/catalogue/PUB21604\n",
    "\n",
    "I'm not totally clear on the interpretation of these tables - this notebook just seeks to explore (mechanically) how we can use them as lookups for data about particular establishments. Whether that is a meaningful thing to do is another matter.\n",
    "\n",
    "Scroll down to the end for examples of pulling out data related to:\n",
    "\n",
    "- particular postcode districts\n",
    "- particular classes of establishiment (for example, care homes)"
   ]
  },
  {
   "cell_type": "code",
   "execution_count": 2,
   "metadata": {
    "collapsed": true
   },
   "outputs": [],
   "source": [
    "import pandas as pd"
   ]
  },
  {
   "cell_type": "code",
   "execution_count": 3,
   "metadata": {
    "collapsed": false
   },
   "outputs": [
    {
     "name": "stdout",
     "output_type": "stream",
     "text": [
      "--2016-10-24 16:01:39--  http://content.digital.nhs.uk/catalogue/PUB21605/nhs-safe-dat-sep-2015-sep-2016-harm-tab.xlsx\n",
      "Resolving content.digital.nhs.uk... 194.189.27.28\n",
      "Connecting to content.digital.nhs.uk|194.189.27.28|:80... connected.\n",
      "HTTP request sent, awaiting response... 200 OK\n",
      "Length: 1167406 (1.1M) [application/vnd.ms-excel.12]\n",
      "Last-modified header missing -- time-stamps turned off.\n",
      "--2016-10-24 16:01:40--  http://content.digital.nhs.uk/catalogue/PUB21605/nhs-safe-dat-sep-2015-sep-2016-harm-tab.xlsx\n",
      "Reusing existing connection to content.digital.nhs.uk:80.\n",
      "HTTP request sent, awaiting response... 200 OK\n",
      "Length: 1167406 (1.1M) [application/vnd.ms-excel.12]\n",
      "Saving to: 'data/nhs-safe-dat-sep-2015-sep-2016-harm-tab.xlsx'\n",
      "\n",
      "nhs-safe-dat-sep-20 100%[=====================>]   1.11M  2.15MB/s   in 0.5s   \n",
      "\n",
      "2016-10-24 16:01:40 (2.15 MB/s) - 'data/nhs-safe-dat-sep-2015-sep-2016-harm-tab.xlsx' saved [1167406/1167406]\n",
      "\n"
     ]
    }
   ],
   "source": [
    "#Get the data file\n",
    "!mkdir -p data/\n",
    "!wget -N -P data/ http://content.digital.nhs.uk/catalogue/PUB21605/nhs-safe-dat-sep-2015-sep-2016-harm-tab.xlsx"
   ]
  },
  {
   "cell_type": "code",
   "execution_count": 3,
   "metadata": {
    "collapsed": false
   },
   "outputs": [
    {
     "data": {
      "text/plain": [
       "['Cover',\n",
       " 'Patients',\n",
       " 'Surveys',\n",
       " 'Harm Free#',\n",
       " 'Ulcers#',\n",
       " 'Falls#',\n",
       " 'VTE#',\n",
       " 'UTI#',\n",
       " 'Harm Free%',\n",
       " 'Ulcers%',\n",
       " 'Falls%',\n",
       " 'VTE%',\n",
       " 'UTI%']"
      ]
     },
     "execution_count": 3,
     "metadata": {},
     "output_type": "execute_result"
    }
   ],
   "source": [
    "#Preview the sheetnames\n",
    "xl=pd.ExcelFile('data/nhs-safe-dat-sep-2015-sep-2016-harm-tab.xlsx')\n",
    "xl.sheet_names"
   ]
  },
  {
   "cell_type": "code",
   "execution_count": 4,
   "metadata": {
    "collapsed": false
   },
   "outputs": [
    {
     "data": {
      "text/html": [
       "<div>\n",
       "<table border=\"1\" class=\"dataframe\">\n",
       "  <thead>\n",
       "    <tr style=\"text-align: right;\">\n",
       "      <th></th>\n",
       "      <th>Organisation</th>\n",
       "      <th>Org Code</th>\n",
       "      <th>Sep15</th>\n",
       "      <th>Oct15</th>\n",
       "      <th>Nov15</th>\n",
       "      <th>Dec15</th>\n",
       "      <th>Jan16</th>\n",
       "      <th>Feb16</th>\n",
       "      <th>Mar16</th>\n",
       "      <th>Apr16</th>\n",
       "      <th>May16</th>\n",
       "      <th>Jun16</th>\n",
       "      <th>Jul16</th>\n",
       "      <th>Aug16</th>\n",
       "      <th>Sep16</th>\n",
       "    </tr>\n",
       "  </thead>\n",
       "  <tbody>\n",
       "    <tr>\n",
       "      <th>0</th>\n",
       "      <td>2GETHER NHS FOUNDATION TRUST</td>\n",
       "      <td>RTQ</td>\n",
       "      <td>102.0</td>\n",
       "      <td>99.0</td>\n",
       "      <td>108.0</td>\n",
       "      <td>97.0</td>\n",
       "      <td>96.0</td>\n",
       "      <td>90.0</td>\n",
       "      <td>90.0</td>\n",
       "      <td>100.0</td>\n",
       "      <td>81.0</td>\n",
       "      <td>102.0</td>\n",
       "      <td>71.0</td>\n",
       "      <td>78.0</td>\n",
       "      <td>81.0</td>\n",
       "    </tr>\n",
       "    <tr>\n",
       "      <th>1</th>\n",
       "      <td>5 BOROUGHS PARTNERSHIP NHS FOUNDATION TRUST</td>\n",
       "      <td>RTV</td>\n",
       "      <td>408.0</td>\n",
       "      <td>381.0</td>\n",
       "      <td>424.0</td>\n",
       "      <td>432.0</td>\n",
       "      <td>416.0</td>\n",
       "      <td>446.0</td>\n",
       "      <td>170.0</td>\n",
       "      <td>279.0</td>\n",
       "      <td>422.0</td>\n",
       "      <td>349.0</td>\n",
       "      <td>216.0</td>\n",
       "      <td>307.0</td>\n",
       "      <td>210.0</td>\n",
       "    </tr>\n",
       "    <tr>\n",
       "      <th>2</th>\n",
       "      <td>AARON COURT CARE HOME</td>\n",
       "      <td>VLT23</td>\n",
       "      <td>9.0</td>\n",
       "      <td>6.0</td>\n",
       "      <td>8.0</td>\n",
       "      <td>NaN</td>\n",
       "      <td>6.0</td>\n",
       "      <td>8.0</td>\n",
       "      <td>NaN</td>\n",
       "      <td>12.0</td>\n",
       "      <td>8.0</td>\n",
       "      <td>8.0</td>\n",
       "      <td>7.0</td>\n",
       "      <td>NaN</td>\n",
       "      <td>NaN</td>\n",
       "    </tr>\n",
       "    <tr>\n",
       "      <th>3</th>\n",
       "      <td>AARONDALE CARE CENTRE</td>\n",
       "      <td>VLYTK</td>\n",
       "      <td>44.0</td>\n",
       "      <td>45.0</td>\n",
       "      <td>43.0</td>\n",
       "      <td>NaN</td>\n",
       "      <td>41.0</td>\n",
       "      <td>35.0</td>\n",
       "      <td>36.0</td>\n",
       "      <td>40.0</td>\n",
       "      <td>43.0</td>\n",
       "      <td>42.0</td>\n",
       "      <td>40.0</td>\n",
       "      <td>43.0</td>\n",
       "      <td>43.0</td>\n",
       "    </tr>\n",
       "    <tr>\n",
       "      <th>4</th>\n",
       "      <td>ABBENDON</td>\n",
       "      <td>VLXTD</td>\n",
       "      <td>21.0</td>\n",
       "      <td>21.0</td>\n",
       "      <td>22.0</td>\n",
       "      <td>21.0</td>\n",
       "      <td>20.0</td>\n",
       "      <td>19.0</td>\n",
       "      <td>20.0</td>\n",
       "      <td>21.0</td>\n",
       "      <td>21.0</td>\n",
       "      <td>NaN</td>\n",
       "      <td>22.0</td>\n",
       "      <td>21.0</td>\n",
       "      <td>22.0</td>\n",
       "    </tr>\n",
       "  </tbody>\n",
       "</table>\n",
       "</div>"
      ],
      "text/plain": [
       "                                  Organisation Org Code  Sep15  Oct15  Nov15  \\\n",
       "0                 2GETHER NHS FOUNDATION TRUST      RTQ  102.0   99.0  108.0   \n",
       "1  5 BOROUGHS PARTNERSHIP NHS FOUNDATION TRUST      RTV  408.0  381.0  424.0   \n",
       "2                        AARON COURT CARE HOME    VLT23    9.0    6.0    8.0   \n",
       "3                        AARONDALE CARE CENTRE    VLYTK   44.0   45.0   43.0   \n",
       "4                                     ABBENDON    VLXTD   21.0   21.0   22.0   \n",
       "\n",
       "   Dec15  Jan16  Feb16  Mar16  Apr16  May16  Jun16  Jul16  Aug16  Sep16  \n",
       "0   97.0   96.0   90.0   90.0  100.0   81.0  102.0   71.0   78.0   81.0  \n",
       "1  432.0  416.0  446.0  170.0  279.0  422.0  349.0  216.0  307.0  210.0  \n",
       "2    NaN    6.0    8.0    NaN   12.0    8.0    8.0    7.0    NaN    NaN  \n",
       "3    NaN   41.0   35.0   36.0   40.0   43.0   42.0   40.0   43.0   43.0  \n",
       "4   21.0   20.0   19.0   20.0   21.0   21.0    NaN   22.0   21.0   22.0  "
      ]
     },
     "execution_count": 4,
     "metadata": {},
     "output_type": "execute_result"
    }
   ],
   "source": [
    "#Have a peak one of the sheets\n",
    "df=pd.read_excel('data/nhs-safe-dat-sep-2015-sep-2016-harm-tab.xlsx', sheetname='Harm Free#')\n",
    "df.dropna(inplace=True,how='all',axis=1)\n",
    "df.head()"
   ]
  },
  {
   "cell_type": "code",
   "execution_count": 5,
   "metadata": {
    "collapsed": true
   },
   "outputs": [],
   "source": [
    "#Let's put the data into a simple db - one table for counts, one for percentages\n",
    "import sqlite3\n",
    "con_safety = sqlite3.connect(\"safetythermometer.sqlite\")"
   ]
  },
  {
   "cell_type": "code",
   "execution_count": 6,
   "metadata": {
    "collapsed": false
   },
   "outputs": [
    {
     "data": {
      "text/plain": [
       "Index(['Organisation', 'Org Code', 'Sep15', 'Oct15', 'Nov15', 'Dec15', 'Jan16',\n",
       "       'Feb16', 'Mar16', 'Apr16', 'May16', 'Jun16', 'Jul16', 'Aug16', 'Sep16'],\n",
       "      dtype='object')"
      ]
     },
     "execution_count": 6,
     "metadata": {},
     "output_type": "execute_result"
    }
   ],
   "source": [
    "df.columns"
   ]
  },
  {
   "cell_type": "code",
   "execution_count": 20,
   "metadata": {
    "collapsed": false
   },
   "outputs": [],
   "source": [
    "#This loader will populate the db\n",
    "def quickload(typ,table):\n",
    "    ''' typ: # or %; table:: counts or percentages'''\n",
    "    for sheet in [name for name in xl.sheet_names if name.endswith(typ)]:\n",
    "        df=pd.read_excel('data/nhs-safe-dat-sep-2015-sep-2016-harm-tab.xlsx', sheetname=sheet)\n",
    "        df.dropna(inplace=True,how='all',axis=1)\n",
    "        df=pd.melt(df,id_vars=['Organisation','Org Code'],var_name='Month',value_name='Value').dropna()\n",
    "        df['Indicator']=sheet.strip(typ)\n",
    "        df.set_index(['Organisation','Org Code','Month']).to_sql(con=con_safety, name=table,if_exists='append')"
   ]
  },
  {
   "cell_type": "code",
   "execution_count": 56,
   "metadata": {
    "collapsed": false
   },
   "outputs": [],
   "source": [
    "##Comment out and run the following to load the db after throwing away the old one\n",
    "#!rm safetythermometer.sqlite\n",
    "#quickload('#','counts')\n",
    "#quickload('%','percentages')"
   ]
  },
  {
   "cell_type": "code",
   "execution_count": 7,
   "metadata": {
    "collapsed": false
   },
   "outputs": [
    {
     "data": {
      "text/html": [
       "<div>\n",
       "<table border=\"1\" class=\"dataframe\">\n",
       "  <thead>\n",
       "    <tr style=\"text-align: right;\">\n",
       "      <th></th>\n",
       "      <th>Organisation</th>\n",
       "      <th>Org Code</th>\n",
       "      <th>Month</th>\n",
       "      <th>Value</th>\n",
       "      <th>Indicator</th>\n",
       "    </tr>\n",
       "  </thead>\n",
       "  <tbody>\n",
       "    <tr>\n",
       "      <th>0</th>\n",
       "      <td>2GETHER NHS FOUNDATION TRUST</td>\n",
       "      <td>RTQ</td>\n",
       "      <td>Sep15</td>\n",
       "      <td>102.0</td>\n",
       "      <td>Harm Free</td>\n",
       "    </tr>\n",
       "    <tr>\n",
       "      <th>1</th>\n",
       "      <td>2GETHER NHS FOUNDATION TRUST</td>\n",
       "      <td>RTQ</td>\n",
       "      <td>Oct15</td>\n",
       "      <td>99.0</td>\n",
       "      <td>Harm Free</td>\n",
       "    </tr>\n",
       "    <tr>\n",
       "      <th>2</th>\n",
       "      <td>2GETHER NHS FOUNDATION TRUST</td>\n",
       "      <td>RTQ</td>\n",
       "      <td>Nov15</td>\n",
       "      <td>108.0</td>\n",
       "      <td>Harm Free</td>\n",
       "    </tr>\n",
       "    <tr>\n",
       "      <th>3</th>\n",
       "      <td>2GETHER NHS FOUNDATION TRUST</td>\n",
       "      <td>RTQ</td>\n",
       "      <td>Dec15</td>\n",
       "      <td>97.0</td>\n",
       "      <td>Harm Free</td>\n",
       "    </tr>\n",
       "    <tr>\n",
       "      <th>4</th>\n",
       "      <td>2GETHER NHS FOUNDATION TRUST</td>\n",
       "      <td>RTQ</td>\n",
       "      <td>Jan16</td>\n",
       "      <td>96.0</td>\n",
       "      <td>Harm Free</td>\n",
       "    </tr>\n",
       "  </tbody>\n",
       "</table>\n",
       "</div>"
      ],
      "text/plain": [
       "                   Organisation Org Code  Month  Value  Indicator\n",
       "0  2GETHER NHS FOUNDATION TRUST      RTQ  Sep15  102.0  Harm Free\n",
       "1  2GETHER NHS FOUNDATION TRUST      RTQ  Oct15   99.0  Harm Free\n",
       "2  2GETHER NHS FOUNDATION TRUST      RTQ  Nov15  108.0  Harm Free\n",
       "3  2GETHER NHS FOUNDATION TRUST      RTQ  Dec15   97.0  Harm Free\n",
       "4  2GETHER NHS FOUNDATION TRUST      RTQ  Jan16   96.0  Harm Free"
      ]
     },
     "execution_count": 7,
     "metadata": {},
     "output_type": "execute_result"
    }
   ],
   "source": [
    "pd.read_sql_query('SELECT * FROM counts where \"Org Code\"=\"RTQ\"',con_safety).head()"
   ]
  },
  {
   "cell_type": "markdown",
   "metadata": {},
   "source": [
    "The organisation codes aren't very specific - we can't tell from just the code what sort of establishment it refers to or what area it's in. "
   ]
  },
  {
   "cell_type": "code",
   "execution_count": 8,
   "metadata": {
    "collapsed": false
   },
   "outputs": [
    {
     "data": {
      "text/html": [
       "<div>\n",
       "<table border=\"1\" class=\"dataframe\">\n",
       "  <thead>\n",
       "    <tr style=\"text-align: right;\">\n",
       "      <th></th>\n",
       "      <th>Org Code</th>\n",
       "      <th>Organisation</th>\n",
       "    </tr>\n",
       "  </thead>\n",
       "  <tbody>\n",
       "    <tr>\n",
       "      <th>0</th>\n",
       "      <td>RTQ</td>\n",
       "      <td>2GETHER NHS FOUNDATION TRUST</td>\n",
       "    </tr>\n",
       "    <tr>\n",
       "      <th>1</th>\n",
       "      <td>RTV</td>\n",
       "      <td>5 BOROUGHS PARTNERSHIP NHS FOUNDATION TRUST</td>\n",
       "    </tr>\n",
       "  </tbody>\n",
       "</table>\n",
       "</div>"
      ],
      "text/plain": [
       "  Org Code                                 Organisation\n",
       "0      RTQ                 2GETHER NHS FOUNDATION TRUST\n",
       "1      RTV  5 BOROUGHS PARTNERSHIP NHS FOUNDATION TRUST"
      ]
     },
     "execution_count": 8,
     "metadata": {},
     "output_type": "execute_result"
    }
   ],
   "source": [
    "#Get a list of org codes in the report for a particular month]\n",
    "month='Sep15'\n",
    "orgs_c=pd.read_sql_query('SELECT DISTINCT \"Org Code\", Organisation FROM counts WHERE Month=\"{}\"'.format(month),con_safety)\n",
    "orgs_c.head(2)"
   ]
  },
  {
   "cell_type": "code",
   "execution_count": 9,
   "metadata": {
    "collapsed": false
   },
   "outputs": [
    {
     "data": {
      "text/plain": [
       "783"
      ]
     },
     "execution_count": 9,
     "metadata": {},
     "output_type": "execute_result"
    }
   ],
   "source": [
    "#How many orgs are there?\n",
    "len(orgs_c)"
   ]
  },
  {
   "cell_type": "markdown",
   "metadata": {},
   "source": [
    "For a wider lookup, we need to resort to various admin tables. I've pulled these into various tables in a `nhsadmin.sqlite` database (described in the *NHS and GP Administrative Data.ipynb* notebook).\n",
    "\n",
    "I'm going to start by fishing a bit, looking up each code against the different organisation type tables."
   ]
  },
  {
   "cell_type": "code",
   "execution_count": 10,
   "metadata": {
    "collapsed": false
   },
   "outputs": [
    {
     "data": {
      "text/html": [
       "<div>\n",
       "<table border=\"1\" class=\"dataframe\">\n",
       "  <thead>\n",
       "    <tr style=\"text-align: right;\">\n",
       "      <th></th>\n",
       "      <th>Org Code</th>\n",
       "      <th>Table</th>\n",
       "    </tr>\n",
       "  </thead>\n",
       "  <tbody>\n",
       "    <tr>\n",
       "      <th>0</th>\n",
       "      <td>RTQ</td>\n",
       "      <td>etrust</td>\n",
       "    </tr>\n",
       "    <tr>\n",
       "      <th>0</th>\n",
       "      <td>RTV</td>\n",
       "      <td>etrust</td>\n",
       "    </tr>\n",
       "    <tr>\n",
       "      <th>0</th>\n",
       "      <td>VLT23</td>\n",
       "      <td>ecarehomesite</td>\n",
       "    </tr>\n",
       "    <tr>\n",
       "      <th>0</th>\n",
       "      <td>VLYTK</td>\n",
       "      <td>ecarehomesite</td>\n",
       "    </tr>\n",
       "    <tr>\n",
       "      <th>0</th>\n",
       "      <td>VLXTD</td>\n",
       "      <td>ecarehomesite</td>\n",
       "    </tr>\n",
       "  </tbody>\n",
       "</table>\n",
       "</div>"
      ],
      "text/plain": [
       "  Org Code          Table\n",
       "0      RTQ         etrust\n",
       "0      RTV         etrust\n",
       "0    VLT23  ecarehomesite\n",
       "0    VLYTK  ecarehomesite\n",
       "0    VLXTD  ecarehomesite"
      ]
     },
     "execution_count": 10,
     "metadata": {},
     "output_type": "execute_result"
    }
   ],
   "source": [
    "con_admin = sqlite3.connect(\"nhsadmin.sqlite\")\n",
    "\n",
    "lookup=pd.DataFrame()\n",
    "\n",
    "#For each code\n",
    "for c in orgs_c['Org Code'].tolist():\n",
    "    #and for each administrative table\n",
    "    for t in pd.read_sql_query('SELECT name FROM sqlite_master WHERE type = \"table\"',con_admin)['name'].tolist():\n",
    "        #Look up to see if the code exists in the table\n",
    "        if len(pd.read_sql_query('SELECT \"Organisation Code\" FROM {} WHERE \"Organisation Code\"=\"{}\" LIMIT 1'.format(t,c), con_admin)):\n",
    "            lookup=pd.concat([lookup,pd.DataFrame([{'Org Code':c,'Table':t}])])\n",
    "lookup.head()"
   ]
  },
  {
   "cell_type": "code",
   "execution_count": 11,
   "metadata": {
    "collapsed": false
   },
   "outputs": [
    {
     "data": {
      "text/plain": [
       "ecarehomesite_ecarehomesucc    72\n",
       "etrust_ehospice                69\n",
       "ehospice_enonnhs               12\n",
       "Name: Table, dtype: int64"
      ]
     },
     "execution_count": 11,
     "metadata": {},
     "output_type": "execute_result"
    }
   ],
   "source": [
    "#Look to see whether the same code appears in multiple tables\n",
    "lookup.groupby(['Org Code']).filter(lambda x: len(x) > 1).groupby(['Org Code']).aggregate(lambda x: '_'.join(x['Table']))['Table'].value_counts()"
   ]
  },
  {
   "cell_type": "markdown",
   "metadata": {},
   "source": [
    "So for sake of convenience, let's check codes against tables in order, removing them from a fetch list as they're matched, and ordering the tables at least in part `ecarehomesite`, `ecarehomesucc`, `ehospice`, `enonnhs` and `etrust`, noting (conveniently) that these are alphabetically ordered"
   ]
  },
  {
   "cell_type": "code",
   "execution_count": 12,
   "metadata": {
    "collapsed": false
   },
   "outputs": [
    {
     "data": {
      "text/plain": [
       "['eabeydispgp',\n",
       " 'ecarehomehq',\n",
       " 'ecarehomesite',\n",
       " 'ecarehomesucc',\n",
       " 'eccg',\n",
       " 'eccgsite',\n",
       " 'edispensary',\n",
       " 'egdpprac',\n",
       " 'egparc',\n",
       " 'egpcur',\n",
       " 'ehospice',\n",
       " 'enonnhs',\n",
       " 'enurse',\n",
       " 'epcdp',\n",
       " 'epcmem',\n",
       " 'epharmacyhq',\n",
       " 'ephp',\n",
       " 'ephpsite',\n",
       " 'epracarc',\n",
       " 'epraccur',\n",
       " 'epracmem',\n",
       " 'etrust']"
      ]
     },
     "execution_count": 12,
     "metadata": {},
     "output_type": "execute_result"
    }
   ],
   "source": [
    "tables=pd.read_sql_query('SELECT name FROM sqlite_master WHERE type = \"table\"',con_admin)['name'].tolist()\n",
    "tables.sort()\n",
    "tables"
   ]
  },
  {
   "cell_type": "code",
   "execution_count": 13,
   "metadata": {
    "collapsed": false
   },
   "outputs": [
    {
     "data": {
      "text/html": [
       "<div>\n",
       "<table border=\"1\" class=\"dataframe\">\n",
       "  <thead>\n",
       "    <tr style=\"text-align: right;\">\n",
       "      <th></th>\n",
       "      <th>Org Code</th>\n",
       "      <th>Table</th>\n",
       "    </tr>\n",
       "  </thead>\n",
       "  <tbody>\n",
       "    <tr>\n",
       "      <th>0</th>\n",
       "      <td>RTQ</td>\n",
       "      <td>etrust</td>\n",
       "    </tr>\n",
       "    <tr>\n",
       "      <th>0</th>\n",
       "      <td>RTV</td>\n",
       "      <td>etrust</td>\n",
       "    </tr>\n",
       "    <tr>\n",
       "      <th>0</th>\n",
       "      <td>VLT23</td>\n",
       "      <td>ecarehomesite</td>\n",
       "    </tr>\n",
       "    <tr>\n",
       "      <th>0</th>\n",
       "      <td>VLYTK</td>\n",
       "      <td>ecarehomesite</td>\n",
       "    </tr>\n",
       "    <tr>\n",
       "      <th>0</th>\n",
       "      <td>VLXTD</td>\n",
       "      <td>ecarehomesite</td>\n",
       "    </tr>\n",
       "  </tbody>\n",
       "</table>\n",
       "</div>"
      ],
      "text/plain": [
       "  Org Code          Table\n",
       "0      RTQ         etrust\n",
       "0      RTV         etrust\n",
       "0    VLT23  ecarehomesite\n",
       "0    VLYTK  ecarehomesite\n",
       "0    VLXTD  ecarehomesite"
      ]
     },
     "execution_count": 13,
     "metadata": {},
     "output_type": "execute_result"
    }
   ],
   "source": [
    "lookup=pd.DataFrame()\n",
    "\n",
    "#For each code\n",
    "for c in orgs_c['Org Code'].tolist():\n",
    "    #and for each administrative table\n",
    "    for t in tables:\n",
    "        #Look up to see if the code exists in the table\n",
    "        if len(pd.read_sql_query('SELECT \"Organisation Code\" FROM {} WHERE \"Organisation Code\"=\"{}\" LIMIT 1'.format(t,c), con_admin)):\n",
    "            lookup=pd.concat([lookup,pd.DataFrame([{'Org Code':c,'Table':t}])])\n",
    "            #if it does exist in this table, don't check any other tables\n",
    "            break\n",
    "lookup.head()"
   ]
  },
  {
   "cell_type": "markdown",
   "metadata": {},
   "source": [
    "## Missing Data\n",
    "Ignoring pursuing this for now, other than just to flag up what's missing so we can try to find out why at a later date..."
   ]
  },
  {
   "cell_type": "code",
   "execution_count": 14,
   "metadata": {
    "collapsed": false
   },
   "outputs": [
    {
     "data": {
      "text/plain": [
       "14"
      ]
     },
     "execution_count": 14,
     "metadata": {},
     "output_type": "execute_result"
    }
   ],
   "source": [
    "#How many are we missing?\n",
    "len(orgs_c)-len(lookup)"
   ]
  },
  {
   "cell_type": "code",
   "execution_count": 15,
   "metadata": {
    "collapsed": false
   },
   "outputs": [
    {
     "data": {
      "text/plain": [
       "{'5PT',\n",
       " '8DW09',\n",
       " '8G827',\n",
       " '8HN51',\n",
       " 'A0432',\n",
       " 'NT507',\n",
       " 'NTE03',\n",
       " 'RNE',\n",
       " 'TAD',\n",
       " 'TAE',\n",
       " 'TAF',\n",
       " 'TAH',\n",
       " 'VLYFS',\n",
       " 'VLYOQ'}"
      ]
     },
     "execution_count": 15,
     "metadata": {},
     "output_type": "execute_result"
    }
   ],
   "source": [
    "#Which are we missing?\n",
    "missing= set(orgs_c['Org Code'].tolist())-set(lookup['Org Code'].tolist())\n",
    "missing"
   ]
  },
  {
   "cell_type": "code",
   "execution_count": 16,
   "metadata": {
    "collapsed": false
   },
   "outputs": [
    {
     "data": {
      "text/plain": [
       "Organisation                                         Org Code\n",
       "BLACK COUNTRY PARTNERSHIP NHS FOUNDATION TRUST       RNE         65\n",
       "BLACKWELL VALE CARE HOME                             A0432       65\n",
       "BRADFORD DISTRICT CARE TRUST                         TAD         65\n",
       "CAMDEN AND ISLINGTON NHS FOUNDATION TRUST            TAF         65\n",
       "CARE.UK - SOUTHAMPTON NHS TREATMENT CENTRE           NT507       65\n",
       "CHARLTON COURT                                       VLYFS       35\n",
       "CLAREMONT HOSPITAL                                   NTE03       50\n",
       "KEECH HOSPICE CARE                                   8G827       55\n",
       "MANCHESTER MENTAL HEALTH AND SOCIAL CARE TRUST       TAE         65\n",
       "PARTNERSHIPS IN CARE LTD                             8HN51       65\n",
       "PEXTON GRANGE NURSING HOME                           VLYOQ       55\n",
       "SHEFFIELD HEALTH & SOCIAL CARE NHS FOUNDATION TRUST  TAH         65\n",
       "SUFFOLK PCT                                          5PT         65\n",
       "WILLEN HOSPICE                                       8DW09       65\n",
       "dtype: int64"
      ]
     },
     "execution_count": 16,
     "metadata": {},
     "output_type": "execute_result"
    }
   ],
   "source": [
    "df=pd.read_sql_query('SELECT * FROM counts',con_safety)\n",
    "df[df['Org Code'].isin(list(missing))].groupby(['Organisation','Org Code']).size()"
   ]
  },
  {
   "cell_type": "markdown",
   "metadata": {},
   "source": [
    "## Quick Report By Area\n",
    "\n",
    "Can we generate some simple reports by area and type of establishment?\n",
    "\n",
    "Establishments in an area can be found by looking up the establishment code filtered by area in each table though we may need to do some poking around to get the right columns (I maybe need to wrtie some simple table wrappers or normalise column names...)\n"
   ]
  },
  {
   "cell_type": "code",
   "execution_count": 17,
   "metadata": {
    "collapsed": false
   },
   "outputs": [
    {
     "data": {
      "text/plain": [
       "array(['etrust', 'ecarehomesite', 'ehospice', 'ephpsite', 'enonnhs', 'ephp'], dtype=object)"
      ]
     },
     "execution_count": 17,
     "metadata": {},
     "output_type": "execute_result"
    }
   ],
   "source": [
    "#What tables do we need to check?\n",
    "lookup['Table'].unique()"
   ]
  },
  {
   "cell_type": "code",
   "execution_count": 18,
   "metadata": {
    "collapsed": true
   },
   "outputs": [],
   "source": [
    "#Metadata describing the tables in the administrative data db is missing - maybe need to add?\n",
    "\n",
    "tableName={\"epraccur\":\"Current Medical Practices and Prescribing Cost Centres\",\n",
    "\"etrust\":\"NHS Trusts and Trust Sites\",\n",
    "\"eccg\":\"Clinical Commissioning Groups\",\n",
    "\"eccgsite\":\"CCG Sites\",\n",
    "\"epcmem\":\"Current and historical records of membership of CCGs, Primary Care Trusts, Primary Care Groups by General Medical Practice\",\n",
    "\"epracmem\":\"current and historical records of membership of practices by GPs\",\n",
    "\"egdpprac\":\"Dental Surgeries\",\n",
    "\"egpcur\":\"Current General Medical Practitioners (GPs)\",\n",
    "\"egparc\":\"Archived GPs\",\n",
    "\"epracarc\":\"Archived GP Practices\",\n",
    "\"ehospice\":\"Hospices\",\n",
    "\"epharmacyhq\":\"Pharmacy Headquarters\",\n",
    "\"edispensary\":\"Dispensaries\",\n",
    "\"enurse\":\"Nurse Prescribers\",\n",
    "\"epcdp\":\"Private Controlled Drug Prescribers\",\n",
    "\"eabeydispgp\":\"Abeyance and Dispersal GP\",\n",
    "\"ecarehomehq\":\"Care Home Headquarters\",\n",
    "\"ecarehomesite\":\"Care Home Sites\",\n",
    "\"ecarehomesucc\":\"Care Home Successors\",\n",
    "\"ephp\":\"Independent Sector Healthcare Providers\",\n",
    "\"ephpsite\":\"Independent Sector Healthcare Provider Sites\",\n",
    "\"enonnhs\":\"Non-NHS Organisations\"}\n",
    "\n",
    "\n",
    "#Would possibly also be good to add a table with cols: code, table, column\n",
    "#that maps different codes onto the admin tables and columns in which they appear.\n",
    "#Also some metadata to make it easier to work out what cols are in each table and how the tables join?"
   ]
  },
  {
   "cell_type": "code",
   "execution_count": 19,
   "metadata": {
    "collapsed": false
   },
   "outputs": [
    {
     "name": "stdout",
     "output_type": "stream",
     "text": [
      "etrust NHS Trusts and Trust Sites ['Organisation Code', 'Name', 'National Grouping', 'High Level Health Geography', 'Address Line 1', 'Address Line 2', 'Address Line 3', 'Address Line 4', 'Address Line 5', 'Postcode', 'Open Date', 'Close Date', 'Contact Telephone Number', 'Amended Record Indicator', 'GOR Code']\n",
      "ecarehomesite Care Home Sites ['Organisation Code', 'Name', 'National Grouping', 'High Level Health Geography', 'Address Line 1', 'Address Line 2', 'Address Line 3', 'Address Line 4', 'Address Line 5', 'Postcode', 'Open Date', 'Close Date', 'Parent Organisation Code', 'Join Parent Date', 'Left Parent Date', 'Contact Telephone Number', 'Amended Record Indicator', 'Current Care Organisation', 'Country']\n",
      "ehospice Hospices ['Organisation Code', 'Name', 'National Grouping', 'High Level Health Geography', 'Address Line 1', 'Address Line 2', 'Address Line 3', 'Address Line 4', 'Address Line 5', 'Postcode', 'Open Date', 'Close Date', 'Organisation Sub-Type Code', 'Contact Telephone Number', 'Amended Record Indicator']\n",
      "ephpsite Independent Sector Healthcare Provider Sites ['Organisation Code', 'Name', 'National Grouping', 'High Level Health Geography', 'Address Line 1', 'Address Line 2', 'Address Line 3', 'Address Line 4', 'Address Line 5', 'Postcode', 'Open Date', 'Close Date', 'Organisation SubType Code', 'Parent Organisation Code', 'Amended Record Indicator']\n",
      "enonnhs Non-NHS Organisations ['Organisation Code', 'Name', 'National Grouping', 'High Level Health Geography', 'Address Line 1', 'Address Line 2', 'Address Line 3', 'Address Line 4', 'Address Line 5', 'Postcode', 'Open Date', 'Close Date', 'Organisation SubType Code', 'Contact Telephone Number', 'Amended Record Indicator']\n",
      "ephp Independent Sector Healthcare Providers ['Organisation Code', 'Name', 'National Grouping', 'High Level Health Geography', 'Address Line 1', 'Address Line 2', 'Address Line 3', 'Address Line 4', 'Address Line 5', 'Postcode', 'Open Date', 'Close Date', 'Amended Record Indicator']\n"
     ]
    }
   ],
   "source": [
    "#preview what columns are available for each table that contains codes also in Safety Thermometer report\n",
    "for t in lookup['Table'].unique():\n",
    "    print(t,tableName[t],pd.read_sql_query('SELECT * FROM {} LIMIT 1'.format(t), con_admin).columns.tolist())"
   ]
  },
  {
   "cell_type": "markdown",
   "metadata": {},
   "source": [
    "The *National Groupings* are quite a high level geography, more general than CCG or Local Authority areas. (Care Home codes are paired with LA codes in CQC inspection quality reports.)\n",
    "\n",
    "So we need another way to find sites in the Isle of Wight Local Authority area, for example.\n",
    "\n",
    "One way is to use the postcode district."
   ]
  },
  {
   "cell_type": "code",
   "execution_count": 175,
   "metadata": {
    "collapsed": false
   },
   "outputs": [
    {
     "data": {
      "text/plain": [
       "'^PO30 |^PO31 |^PO32 |^PO33 |^PO34 |^PO35 |^PO36 |^PO37 |^PO38 |^PO39 |^PO40 |^PO41 '"
      ]
     },
     "execution_count": 175,
     "metadata": {},
     "output_type": "execute_result"
    }
   ],
   "source": [
    "iwPostcodes=[\"PO30\",\"PO31\",\"PO32\",\"PO33\",\"PO34\",\"PO35\",\"PO36\",\"PO37\",\"PO38\",\"PO39\",\"PO40\",\"PO41\"]\n",
    "#We can generate a regular expressions \"startwsith\" list of these\n",
    "#Note the space at the end of the string - this stops us matching MK1 with MK11, MK12 etc\n",
    "'^{} '.format(' |^'.join(iwPostcodes))"
   ]
  },
  {
   "cell_type": "code",
   "execution_count": 43,
   "metadata": {
    "collapsed": false
   },
   "outputs": [
    {
     "data": {
      "text/html": [
       "<div>\n",
       "<table border=\"1\" class=\"dataframe\">\n",
       "  <thead>\n",
       "    <tr style=\"text-align: right;\">\n",
       "      <th></th>\n",
       "      <th>Organisation Code</th>\n",
       "      <th>Name</th>\n",
       "      <th>Postcode</th>\n",
       "    </tr>\n",
       "  </thead>\n",
       "  <tbody>\n",
       "    <tr>\n",
       "      <th>1226</th>\n",
       "      <td>R1F</td>\n",
       "      <td>ISLE OF WIGHT NHS TRUST</td>\n",
       "      <td>PO30 5TG</td>\n",
       "    </tr>\n",
       "    <tr>\n",
       "      <th>1227</th>\n",
       "      <td>R1F01</td>\n",
       "      <td>ST MARY'S HOSPITAL</td>\n",
       "      <td>PO30 5TG</td>\n",
       "    </tr>\n",
       "    <tr>\n",
       "      <th>1228</th>\n",
       "      <td>R1F04</td>\n",
       "      <td>FAIRLEE</td>\n",
       "      <td>PO30 2ER</td>\n",
       "    </tr>\n",
       "    <tr>\n",
       "      <th>1229</th>\n",
       "      <td>R1F10</td>\n",
       "      <td>ARTHUR WEBSTER CLINIC</td>\n",
       "      <td>PO37 7HZ</td>\n",
       "    </tr>\n",
       "    <tr>\n",
       "      <th>1230</th>\n",
       "      <td>R1F15</td>\n",
       "      <td>NEWPORT CLINIC</td>\n",
       "      <td>PO30 1JW</td>\n",
       "    </tr>\n",
       "  </tbody>\n",
       "</table>\n",
       "</div>"
      ],
      "text/plain": [
       "     Organisation Code                     Name  Postcode\n",
       "1226               R1F  ISLE OF WIGHT NHS TRUST  PO30 5TG\n",
       "1227             R1F01       ST MARY'S HOSPITAL  PO30 5TG\n",
       "1228             R1F04                  FAIRLEE  PO30 2ER\n",
       "1229             R1F10    ARTHUR WEBSTER CLINIC  PO37 7HZ\n",
       "1230             R1F15           NEWPORT CLINIC  PO30 1JW"
      ]
     },
     "execution_count": 43,
     "metadata": {},
     "output_type": "execute_result"
    }
   ],
   "source": [
    "etrust=pd.read_sql_query('SELECT \"Organisation Code\", Name,Postcode FROM {}'.format('etrust'),con_admin)\n",
    "etrustiw=etrust[etrust['Postcode'].str.contains('^{} '.format(' |^'.join(iwPostcodes)))]\n",
    "etrustiw.head()"
   ]
  },
  {
   "cell_type": "code",
   "execution_count": 58,
   "metadata": {
    "collapsed": false
   },
   "outputs": [
    {
     "data": {
      "text/html": [
       "<div>\n",
       "<table border=\"1\" class=\"dataframe\">\n",
       "  <thead>\n",
       "    <tr style=\"text-align: right;\">\n",
       "      <th></th>\n",
       "      <th>Organisation</th>\n",
       "      <th>Org Code</th>\n",
       "      <th>Month</th>\n",
       "      <th>Value</th>\n",
       "      <th>Indicator</th>\n",
       "    </tr>\n",
       "  </thead>\n",
       "  <tbody>\n",
       "    <tr>\n",
       "      <th>0</th>\n",
       "      <td>ISLE OF WIGHT NHS TRUST</td>\n",
       "      <td>R1F</td>\n",
       "      <td>Sep15</td>\n",
       "      <td>556.0</td>\n",
       "      <td>Harm Free</td>\n",
       "    </tr>\n",
       "    <tr>\n",
       "      <th>1</th>\n",
       "      <td>ISLE OF WIGHT NHS TRUST</td>\n",
       "      <td>R1F</td>\n",
       "      <td>Sep15</td>\n",
       "      <td>23.0</td>\n",
       "      <td>Ulcers</td>\n",
       "    </tr>\n",
       "    <tr>\n",
       "      <th>2</th>\n",
       "      <td>ISLE OF WIGHT NHS TRUST</td>\n",
       "      <td>R1F</td>\n",
       "      <td>Sep15</td>\n",
       "      <td>1.0</td>\n",
       "      <td>Falls</td>\n",
       "    </tr>\n",
       "    <tr>\n",
       "      <th>3</th>\n",
       "      <td>ISLE OF WIGHT NHS TRUST</td>\n",
       "      <td>R1F</td>\n",
       "      <td>Sep15</td>\n",
       "      <td>5.0</td>\n",
       "      <td>VTE</td>\n",
       "    </tr>\n",
       "    <tr>\n",
       "      <th>4</th>\n",
       "      <td>ISLE OF WIGHT NHS TRUST</td>\n",
       "      <td>R1F</td>\n",
       "      <td>Sep15</td>\n",
       "      <td>1.0</td>\n",
       "      <td>UTI</td>\n",
       "    </tr>\n",
       "  </tbody>\n",
       "</table>\n",
       "</div>"
      ],
      "text/plain": [
       "              Organisation Org Code  Month  Value  Indicator\n",
       "0  ISLE OF WIGHT NHS TRUST      R1F  Sep15  556.0  Harm Free\n",
       "1  ISLE OF WIGHT NHS TRUST      R1F  Sep15   23.0     Ulcers\n",
       "2  ISLE OF WIGHT NHS TRUST      R1F  Sep15    1.0      Falls\n",
       "3  ISLE OF WIGHT NHS TRUST      R1F  Sep15    5.0        VTE\n",
       "4  ISLE OF WIGHT NHS TRUST      R1F  Sep15    1.0        UTI"
      ]
     },
     "execution_count": 58,
     "metadata": {},
     "output_type": "execute_result"
    }
   ],
   "source": [
    "#We can now construct a query that searches the safety table against codes for IW sites of a particular site type\n",
    "pd.read_sql_query('SELECT * \\\n",
    "                      FROM counts WHERE Month=\"{}\" AND \"Org Code\" IN (\"{}\")\\\n",
    "                      '.format(month,'\",\"'.join(etrustiw[\"Organisation Code\"].tolist())),con_safety)\n"
   ]
  },
  {
   "cell_type": "code",
   "execution_count": 206,
   "metadata": {
    "collapsed": false
   },
   "outputs": [],
   "source": [
    "#More generally\n",
    "def reporter_postcodes(samplePostcodes):\n",
    "    results={}\n",
    "    for t in lookup['Table'].unique():\n",
    "        tmp=pd.read_sql_query('SELECT \"Organisation Code\", Name,Postcode FROM {}'.format(t),con_admin)\n",
    "        if isinstance(samplePostcodes,list):\n",
    "            pcl='^{} '.format(' |^'.join(samplePostcodes))\n",
    "        else:\n",
    "            #Also support a such on eg PO, PR more generally?\n",
    "            pcl='^{}'.format(samplePostcodes)\n",
    "        tmpcodes=tmp[tmp['Postcode'].str.contains(pcl)]\n",
    "        samplecodelist='\",\"'.join(tmpcodes[\"Organisation Code\"].tolist())\n",
    "        q='SELECT * \\\n",
    "                          FROM counts WHERE Month=\"{}\" AND \"Org Code\" IN (\"{}\")\\\n",
    "                          '.format(month,samplecodelist)\n",
    "        tmpdf=pd.read_sql_query(q,con_safety)\n",
    "        #results=pd.concat([results,tmpdf])\n",
    "        results[t]=tmpdf[tmpdf['Value']>0]\n",
    "    return results\n"
   ]
  },
  {
   "cell_type": "code",
   "execution_count": 194,
   "metadata": {
    "collapsed": false
   },
   "outputs": [
    {
     "data": {
      "text/plain": [
       "{'ecarehomesite': Empty DataFrame\n",
       " Columns: [Organisation, Org Code, Month, Value, Indicator]\n",
       " Index: [], 'ehospice': Empty DataFrame\n",
       " Columns: [Organisation, Org Code, Month, Value, Indicator]\n",
       " Index: [], 'enonnhs': Empty DataFrame\n",
       " Columns: [Organisation, Org Code, Month, Value, Indicator]\n",
       " Index: [], 'ephp': Empty DataFrame\n",
       " Columns: [Organisation, Org Code, Month, Value, Indicator]\n",
       " Index: [], 'ephpsite': Empty DataFrame\n",
       " Columns: [Organisation, Org Code, Month, Value, Indicator]\n",
       " Index: [], 'etrust':               Organisation Org Code  Month  Value  Indicator\n",
       " 0  ISLE OF WIGHT NHS TRUST      R1F  Sep15  556.0  Harm Free\n",
       " 1  ISLE OF WIGHT NHS TRUST      R1F  Sep15   23.0     Ulcers\n",
       " 2  ISLE OF WIGHT NHS TRUST      R1F  Sep15    1.0      Falls\n",
       " 3  ISLE OF WIGHT NHS TRUST      R1F  Sep15    5.0        VTE\n",
       " 4  ISLE OF WIGHT NHS TRUST      R1F  Sep15    1.0        UTI}"
      ]
     },
     "execution_count": 194,
     "metadata": {},
     "output_type": "execute_result"
    }
   ],
   "source": [
    "reporter_postcodes(iwPostcodes)"
   ]
  },
  {
   "cell_type": "code",
   "execution_count": 207,
   "metadata": {
    "collapsed": false
   },
   "outputs": [
    {
     "data": {
      "text/plain": [
       "{'ecarehomesite': Empty DataFrame\n",
       " Columns: [Organisation, Org Code, Month, Value, Indicator]\n",
       " Index: [], 'ehospice': Empty DataFrame\n",
       " Columns: [Organisation, Org Code, Month, Value, Indicator]\n",
       " Index: [], 'enonnhs': Empty DataFrame\n",
       " Columns: [Organisation, Org Code, Month, Value, Indicator]\n",
       " Index: [], 'ephp': Empty DataFrame\n",
       " Columns: [Organisation, Org Code, Month, Value, Indicator]\n",
       " Index: [], 'ephpsite':                             Organisation Org Code  Month  Value  Indicator\n",
       " 0  NUFFIELD HEALTH - CHICHESTER HOSPITAL    NT212  Sep15    5.0  Harm Free\n",
       " 1            SPIRE - PORTSMOUTH HOSPITAL    NT305  Sep15   15.0  Harm Free, 'etrust':                                Organisation Org Code  Month  Value  Indicator\n",
       " 0                   ISLE OF WIGHT NHS TRUST      R1F  Sep15  556.0  Harm Free\n",
       " 1            PORTSMOUTH HOSPITALS NHS TRUST      RHU  Sep15  978.0  Harm Free\n",
       " 2   SUSSEX PARTNERSHIP NHS FOUNDATION TRUST      RX2  Sep15  205.0  Harm Free\n",
       " 3                   ISLE OF WIGHT NHS TRUST      R1F  Sep15   23.0     Ulcers\n",
       " 4            PORTSMOUTH HOSPITALS NHS TRUST      RHU  Sep15   34.0     Ulcers\n",
       " 5   SUSSEX PARTNERSHIP NHS FOUNDATION TRUST      RX2  Sep15    2.0     Ulcers\n",
       " 6                   ISLE OF WIGHT NHS TRUST      R1F  Sep15    1.0      Falls\n",
       " 7            PORTSMOUTH HOSPITALS NHS TRUST      RHU  Sep15    7.0      Falls\n",
       " 8   SUSSEX PARTNERSHIP NHS FOUNDATION TRUST      RX2  Sep15    3.0      Falls\n",
       " 9                   ISLE OF WIGHT NHS TRUST      R1F  Sep15    5.0        VTE\n",
       " 10           PORTSMOUTH HOSPITALS NHS TRUST      RHU  Sep15    2.0        VTE\n",
       " 12                  ISLE OF WIGHT NHS TRUST      R1F  Sep15    1.0        UTI\n",
       " 13           PORTSMOUTH HOSPITALS NHS TRUST      RHU  Sep15   15.0        UTI\n",
       " 14  SUSSEX PARTNERSHIP NHS FOUNDATION TRUST      RX2  Sep15    2.0        UTI}"
      ]
     },
     "execution_count": 207,
     "metadata": {},
     "output_type": "execute_result"
    }
   ],
   "source": [
    "reporter_postcodes('PO')"
   ]
  },
  {
   "cell_type": "markdown",
   "metadata": {},
   "source": [
    "## Report Against Site Type\n",
    "Also do searches by type, eg care homes, across all areas"
   ]
  },
  {
   "cell_type": "code",
   "execution_count": 199,
   "metadata": {
    "collapsed": true
   },
   "outputs": [],
   "source": [
    "def reporter_sitetype(typ):\n",
    "    tmp=pd.read_sql_query('SELECT \"Organisation Code\", Name,Postcode FROM {}'.format(typ),con_admin)\n",
    "    samplecodelist='\",\"'.join(tmp[\"Organisation Code\"].tolist())\n",
    "    q='SELECT * \\\n",
    "                      FROM counts WHERE Month=\"{}\" AND \"Org Code\" IN (\"{}\")\\\n",
    "                      '.format(month,samplecodelist)\n",
    "    results=pd.read_sql_query(q,con_safety)\n",
    "    results=results[results['Value']>0]\n",
    "    results=pd.merge(results,tmp[['Organisation Code','Postcode']],left_on='Org Code',right_on='Organisation Code')\n",
    "    return results"
   ]
  },
  {
   "cell_type": "code",
   "execution_count": 200,
   "metadata": {
    "collapsed": false
   },
   "outputs": [
    {
     "data": {
      "text/html": [
       "<div>\n",
       "<table border=\"1\" class=\"dataframe\">\n",
       "  <thead>\n",
       "    <tr style=\"text-align: right;\">\n",
       "      <th></th>\n",
       "      <th>Organisation</th>\n",
       "      <th>Org Code</th>\n",
       "      <th>Month</th>\n",
       "      <th>Value</th>\n",
       "      <th>Indicator</th>\n",
       "      <th>Organisation Code</th>\n",
       "      <th>Postcode</th>\n",
       "    </tr>\n",
       "  </thead>\n",
       "  <tbody>\n",
       "    <tr>\n",
       "      <th>0</th>\n",
       "      <td>AARON COURT CARE HOME</td>\n",
       "      <td>VLT23</td>\n",
       "      <td>Sep15</td>\n",
       "      <td>9.0</td>\n",
       "      <td>Harm Free</td>\n",
       "      <td>VLT23</td>\n",
       "      <td>CH65 8EU</td>\n",
       "    </tr>\n",
       "    <tr>\n",
       "      <th>1</th>\n",
       "      <td>AARONDALE CARE CENTRE</td>\n",
       "      <td>VLYTK</td>\n",
       "      <td>Sep15</td>\n",
       "      <td>44.0</td>\n",
       "      <td>Harm Free</td>\n",
       "      <td>VLYTK</td>\n",
       "      <td>PR7 4PF</td>\n",
       "    </tr>\n",
       "    <tr>\n",
       "      <th>2</th>\n",
       "      <td>ABBENDON</td>\n",
       "      <td>VLXTD</td>\n",
       "      <td>Sep15</td>\n",
       "      <td>21.0</td>\n",
       "      <td>Harm Free</td>\n",
       "      <td>VLXTD</td>\n",
       "      <td>PR8 6PE</td>\n",
       "    </tr>\n",
       "    <tr>\n",
       "      <th>3</th>\n",
       "      <td>ABBEY GRANGE NURSING HOME</td>\n",
       "      <td>VLXR8</td>\n",
       "      <td>Sep15</td>\n",
       "      <td>2.0</td>\n",
       "      <td>Harm Free</td>\n",
       "      <td>VLXR8</td>\n",
       "      <td>S5 6UU</td>\n",
       "    </tr>\n",
       "    <tr>\n",
       "      <th>4</th>\n",
       "      <td>ABBEY GRANGE NURSING HOME</td>\n",
       "      <td>VLXR8</td>\n",
       "      <td>Sep15</td>\n",
       "      <td>1.0</td>\n",
       "      <td>Falls</td>\n",
       "      <td>VLXR8</td>\n",
       "      <td>S5 6UU</td>\n",
       "    </tr>\n",
       "  </tbody>\n",
       "</table>\n",
       "</div>"
      ],
      "text/plain": [
       "                Organisation Org Code  Month  Value  Indicator  \\\n",
       "0      AARON COURT CARE HOME    VLT23  Sep15    9.0  Harm Free   \n",
       "1      AARONDALE CARE CENTRE    VLYTK  Sep15   44.0  Harm Free   \n",
       "2                   ABBENDON    VLXTD  Sep15   21.0  Harm Free   \n",
       "3  ABBEY GRANGE NURSING HOME    VLXR8  Sep15    2.0  Harm Free   \n",
       "4  ABBEY GRANGE NURSING HOME    VLXR8  Sep15    1.0      Falls   \n",
       "\n",
       "  Organisation Code  Postcode  \n",
       "0             VLT23  CH65 8EU  \n",
       "1             VLYTK   PR7 4PF  \n",
       "2             VLXTD   PR8 6PE  \n",
       "3             VLXR8    S5 6UU  \n",
       "4             VLXR8    S5 6UU  "
      ]
     },
     "execution_count": 200,
     "metadata": {},
     "output_type": "execute_result"
    }
   ],
   "source": [
    "ch=reporter_sitetype('ecarehomesite')\n",
    "ch.head()"
   ]
  },
  {
   "cell_type": "code",
   "execution_count": 201,
   "metadata": {
    "collapsed": false
   },
   "outputs": [
    {
     "data": {
      "text/plain": [
       "pcDistrict\n",
       "S8      9\n",
       "WN8     9\n",
       "BL8     9\n",
       "PR8     9\n",
       "S4      9\n",
       "PR2     8\n",
       "LS28    8\n",
       "TA1     8\n",
       "BB5     7\n",
       "LA9     7\n",
       "FY8     7\n",
       "CA28    6\n",
       "LA1     6\n",
       "PE37    6\n",
       "M27     6\n",
       "S5      6\n",
       "L40     5\n",
       "CW1     5\n",
       "TA21    5\n",
       "PR9     5\n",
       "DE7     5\n",
       "PR7     5\n",
       "BS26    5\n",
       "LS6     5\n",
       "LS8     5\n",
       "WV3     5\n",
       "WA9     5\n",
       "OL11    5\n",
       "OL1     5\n",
       "L25     4\n",
       "       ..\n",
       "OL13    1\n",
       "PR26    1\n",
       "S12     1\n",
       "S2      1\n",
       "S35     1\n",
       "S36     1\n",
       "OL8     1\n",
       "L23     1\n",
       "SK15    1\n",
       "IP25    1\n",
       "IP20    1\n",
       "HD2     1\n",
       "GU27    1\n",
       "OL16    1\n",
       "OL12    1\n",
       "TA2     1\n",
       "FY5     1\n",
       "M41     1\n",
       "DN6     1\n",
       "DN15    1\n",
       "DL2     1\n",
       "DH7     1\n",
       "SN15    1\n",
       "DE11    1\n",
       "CW9     1\n",
       "LS20    1\n",
       "NR8     1\n",
       "LA14    1\n",
       "NR4     1\n",
       "BA11    1\n",
       "dtype: int64"
      ]
     },
     "execution_count": 201,
     "metadata": {},
     "output_type": "execute_result"
    }
   ],
   "source": [
    "#group on popular postcode district\n",
    "ch['pcDistrict']=ch.apply(lambda x: x['Postcode'].split(' ')[0],axis=1 )\n",
    "ch.groupby(['pcDistrict']).size().sort_values(ascending=False)"
   ]
  },
  {
   "cell_type": "code",
   "execution_count": 204,
   "metadata": {
    "collapsed": false
   },
   "outputs": [
    {
     "data": {
      "text/plain": [
       "{'ecarehomesite':                Organisation Org Code  Month  Value  Indicator\n",
       " 0                  ABBENDON    VLXTD  Sep15   21.0  Harm Free\n",
       " 1             BIRKDALE PARK    VLNGA  Sep15   21.0  Harm Free\n",
       " 2     KINGSLEY NURSING HOME    VLNGW  Sep15   20.0  Harm Free\n",
       " 3   TUDOR BANK NURSING HOME    VLNHA  Sep15   36.0  Harm Free\n",
       " 4          WESTCLIFFE MANOR    VLNHD  Sep15   22.0  Harm Free\n",
       " 5      WILLOWS NURSING HOME    VLYQY  Sep15   21.0  Harm Free\n",
       " 8     KINGSLEY NURSING HOME    VLNGW  Sep15    1.0     Ulcers\n",
       " 10         WESTCLIFFE MANOR    VLNHD  Sep15    2.0     Ulcers\n",
       " 11     WILLOWS NURSING HOME    VLYQY  Sep15    2.0     Ulcers,\n",
       " 'ehospice': Empty DataFrame\n",
       " Columns: [Organisation, Org Code, Month, Value, Indicator]\n",
       " Index: [],\n",
       " 'enonnhs': Empty DataFrame\n",
       " Columns: [Organisation, Org Code, Month, Value, Indicator]\n",
       " Index: [],\n",
       " 'ephp': Empty DataFrame\n",
       " Columns: [Organisation, Org Code, Month, Value, Indicator]\n",
       " Index: [],\n",
       " 'ephpsite': Empty DataFrame\n",
       " Columns: [Organisation, Org Code, Month, Value, Indicator]\n",
       " Index: [],\n",
       " 'etrust':                                 Organisation Org Code  Month  Value  Indicator\n",
       " 0  SOUTHPORT AND ORMSKIRK HOSPITAL NHS TRUST      RVY  Sep15  743.0  Harm Free\n",
       " 1  SOUTHPORT AND ORMSKIRK HOSPITAL NHS TRUST      RVY  Sep15   18.0     Ulcers\n",
       " 2  SOUTHPORT AND ORMSKIRK HOSPITAL NHS TRUST      RVY  Sep15    7.0      Falls\n",
       " 3  SOUTHPORT AND ORMSKIRK HOSPITAL NHS TRUST      RVY  Sep15   13.0        VTE\n",
       " 4  SOUTHPORT AND ORMSKIRK HOSPITAL NHS TRUST      RVY  Sep15    5.0        UTI}"
      ]
     },
     "execution_count": 204,
     "metadata": {},
     "output_type": "execute_result"
    }
   ],
   "source": [
    "#So what's happening in Preston?\n",
    "reporter_postcodes(['PR8'])"
   ]
  },
  {
   "cell_type": "markdown",
   "metadata": {},
   "source": [
    "So we need to distinguish *Harm Free* as a good thing?\n",
    "\n",
    "For generating signals, maybe look to percentages in bad things?"
   ]
  },
  {
   "cell_type": "code",
   "execution_count": null,
   "metadata": {
    "collapsed": true
   },
   "outputs": [],
   "source": []
  }
 ],
 "metadata": {
  "kernelspec": {
   "display_name": "Python 3",
   "language": "python",
   "name": "python3"
  },
  "widgets": {
   "state": {},
   "version": "1.1.2"
  }
 },
 "nbformat": 4,
 "nbformat_minor": 0
}
