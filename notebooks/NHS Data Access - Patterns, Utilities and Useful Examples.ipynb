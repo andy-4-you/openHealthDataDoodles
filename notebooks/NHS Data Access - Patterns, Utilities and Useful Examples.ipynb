{
 "cells": [
  {
   "cell_type": "markdown",
   "metadata": {},
   "source": [
    "# NHS Data Access - Patterns, Utilities and Useful Examples\n",
    "\n",
    "This notebook includes various utilities and examples for accessing and working with NHS opendata datasets."
   ]
  },
  {
   "cell_type": "markdown",
   "metadata": {},
   "source": [
    "## Downloading and Unzipping Files\n",
    "\n",
    "Several code examples for downloading and working with files."
   ]
  },
  {
   "cell_type": "markdown",
   "metadata": {},
   "source": [
    "### Downloading Files in a Linux Environment\n",
    "\n",
    "One of the easiest ways to donwload files in a Linux environment, such as the environment that MyBinder applications run it, is to use the command line tools `wget` and `unzip`."
   ]
  },
  {
   "cell_type": "code",
   "execution_count": null,
   "metadata": {
    "collapsed": true
   },
   "outputs": [],
   "source": [
    "#Specify the URL from which the file will be downloaded\n",
    "url='http://www.cqc.org.uk/sites/default/files/21_September_2016_CQC_directory.zip'\n",
    "\n",
    "#Extract the full filename - split the URL on each / into a list and take the last (-1'th index) list item\n",
    "fn=url.split('/')[-1] #21_September_2016_CQC_directory.zip\n",
    "#Extract the first part of the filename - split the filename into a list on the . and take the first (0'th index) item\n",
    "stub=fn.split('.')[0] #21_September_2016_CQC_directory\n",
    "\n",
    "#Download the data from the CQC website\n",
    "!wget -P downloads/ {url}\n",
    "\n",
    "#Create a temporary download directory if it doesn't already exist\n",
    "!mkdir -p tmp\n",
    "\n",
    "#Remove any previous copies of the file\n",
    "!rm -r tmp/{fn}\n",
    "\n",
    "#Unzip the downloaded files into a subdirectory of the data folder, making sure the data dir exists first\n",
    "#The -o flag is overkill - if we hadn't deleted the original folder it would overwirte any similar files\n",
    "!unzip -o -d tmp/{fn}\n",
    "\n",
    "#Create a data directory if it doesn't already exist\n",
    "!mkdir -p tmp\n",
    "#Move the unzipped csv file from the tmp directory to the data directory, renaming it to locations.csv as we do so\n",
    "!rm data/locations.csv\n",
    "!mv tmp/{stub}.csv  data/locations.csv"
   ]
  },
  {
   "cell_type": "markdown",
   "metadata": {},
   "source": [
    "### Downloading and Accessing a File From a Zip Archive in Python\n",
    "\n",
    "We can download a zip file and then extract files from it using Python commands."
   ]
  },
  {
   "cell_type": "code",
   "execution_count": null,
   "metadata": {
    "collapsed": true
   },
   "outputs": [],
   "source": [
    "#Create a function to grab a zip file from an online location and then grab a specified file from inside it\n",
    "import requests, zipfile, StringIO\n",
    "def zipgrabber(url, f):\n",
    "    r = requests.get(url)\n",
    "    z = zipfile.ZipFile(StringIO.StringIO(r.content))\n",
    "    return z.open(f)"
   ]
  },
  {
   "cell_type": "code",
   "execution_count": null,
   "metadata": {
    "collapsed": true
   },
   "outputs": [],
   "source": [
    "import pandas as pd\n",
    "\n",
    "#Download URL\n",
    "url='http://systems.hscic.gov.uk/data/ods/datadownloads/data-files/xls/epraccur.zip'\n",
    "\n",
    "#zipgrabber(url,'epraccur.xls') extracts the epraccur.xls file from the zip archive\n",
    "#The pandas ExcelFile() function then reads in the contents of the file\n",
    "xl=pd.ExcelFile(zipgrabber(url,'epraccur.xls'))\n",
    "xl.sheet_names"
   ]
  }
 ],
 "metadata": {
  "kernelspec": {
   "display_name": "Python 3",
   "language": "python",
   "name": "python3"
  },
  "language_info": {
   "codemirror_mode": {
    "name": "ipython",
    "version": 3
   },
   "file_extension": ".py",
   "mimetype": "text/x-python",
   "name": "python",
   "nbconvert_exporter": "python",
   "pygments_lexer": "ipython3",
   "version": "3.5.1"
  },
  "widgets": {
   "state": {},
   "version": "1.1.2"
  }
 },
 "nbformat": 4,
 "nbformat_minor": 0
}
