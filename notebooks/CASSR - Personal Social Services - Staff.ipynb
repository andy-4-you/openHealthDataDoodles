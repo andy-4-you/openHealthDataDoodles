{
 "cells": [
  {
   "cell_type": "markdown",
   "metadata": {
    "deletable": true,
    "editable": true
   },
   "source": [
    "# Personal Social Services: Staff of Social Services Departments at 30 September - England, 2016\n",
    "\n",
    "*Information on staff employed (directly and indirectly) by adult social services departments in England as at September 2016. This represents approximately 8 per cent of the overall Adult Social Care workforce.*\n",
    "\n",
    "*CASSR - Council with Adult Social Services Responsibility.*"
   ]
  },
  {
   "cell_type": "code",
   "execution_count": 1,
   "metadata": {
    "collapsed": true,
    "deletable": true,
    "editable": true
   },
   "outputs": [],
   "source": [
    "#Set this to find the info for your council\n",
    "councilCrib='Wight'"
   ]
  },
  {
   "cell_type": "code",
   "execution_count": 2,
   "metadata": {
    "collapsed": true,
    "deletable": true,
    "editable": true
   },
   "outputs": [],
   "source": [
    "#Original data file\n",
    "#http://www.content.digital.nhs.uk/catalogue/PUB23291"
   ]
  },
  {
   "cell_type": "code",
   "execution_count": 3,
   "metadata": {
    "collapsed": true,
    "deletable": true,
    "editable": true
   },
   "outputs": [],
   "source": [
    "import pandas as pd\n",
    "\n",
    "#fn='http://www.content.digital.nhs.uk/catalogue/PUB23291/pss-staff-eng-16-tables.xlsx'\n",
    "\n",
    "#For using a local copy...\n",
    "#!mkdir -p data/\n",
    "#!wget -P data/ http://www.content.digital.nhs.uk/catalogue/PUB23291/pss-staff-eng-16-tables.xlsx\n",
    "fn='data/pss-staff-eng-16-tables.xlsx'"
   ]
  },
  {
   "cell_type": "code",
   "execution_count": 4,
   "metadata": {
    "collapsed": false,
    "deletable": true,
    "editable": true
   },
   "outputs": [
    {
     "data": {
      "text/plain": [
       "dict_keys(['T2', 'T3a', 'T6c(ii)', 'Cover', 'T7a', 'T5', 'T4a', 'T7b(i) and (ii)', 'T6b(i)', 'T3b', 'T4b', 'T8b', 'T1', 'T9', 'T6b(ii)', 'T6a(i)', 'T8a', 'T6a(ii)', 'T6c(i)'])"
      ]
     },
     "execution_count": 4,
     "metadata": {},
     "output_type": "execute_result"
    }
   ],
   "source": [
    "xl=pd.read_excel(fn,sheetname=None)\n",
    "xl.keys()"
   ]
  },
  {
   "cell_type": "code",
   "execution_count": 5,
   "metadata": {
    "collapsed": false,
    "deletable": true,
    "editable": true
   },
   "outputs": [
    {
     "data": {
      "text/plain": [
       "['Notes and definitions:',\n",
       " 'Table 1: Total number of council-employed adult social services jobs, WTE jobs and people (Headcount)',\n",
       " 'Table 2: Number of adult social services jobs by service group and job role group, CASSR level1',\n",
       " 'Table 3a: Employees, starters and leavers, CASSR level',\n",
       " 'Table 3b: Employees and Vacancies by Job Role, CASSR level',\n",
       " 'Table 4a:  Total number of council-employed adult social services jobs, by employment status, England level',\n",
       " 'Table 4b: Employment Status by Care Setting, England level',\n",
       " 'Table 5: Capacity and Utilisation of Serivce, CASSR level',\n",
       " 'Table 6a(i): Gender percentage distribution of adult social services jobs, by Job Role',\n",
       " 'Table 6a(ii): Gender percentage distribution of adult social services jobs, by Job Role, CASSR level',\n",
       " 'Table 6b(i): Age distribution of adult social services jobs, by Job Role',\n",
       " 'Table 6b(ii): Age and Job Role, CASSR level',\n",
       " 'Table 6c(i): Ethnicity of adult social services jobs, by Job Role',\n",
       " 'Table 6c(ii): Ethnicity and Job Role, CASSR level',\n",
       " 'Table 7a:  Median whole time equivalent annual pay of council-employed adult social services jobs, by job roles and region',\n",
       " 'Table 7b(i): Whole time equivalent median annual pay in cash terms of council-employed adult social services jobs, by job roles',\n",
       " 'Table 7b(ii): Whole time equivalent median annual pay in real terms (in 2015 prices) of council-employed adult social services jobs, by job roles',\n",
       " 'Table 8a: Median and average number of sickness days of employees in adult social services jobs in the previous year, by council',\n",
       " 'Table 8b: Number of sickness days for Social Worker and Occupational Therapist jobs, in the previous year',\n",
       " 'Table 9: Qualifications of workers, by CASSR',\n",
       " 'Contact Details']"
      ]
     },
     "execution_count": 5,
     "metadata": {},
     "output_type": "execute_result"
    }
   ],
   "source": [
    "cover=pd.read_excel(fn,sheetname='Cover').dropna(how='all').dropna(how='all',axis=1)\n",
    "cover.iloc[14:35,0].tolist()"
   ]
  },
  {
   "cell_type": "markdown",
   "metadata": {
    "deletable": true,
    "editable": true
   },
   "source": [
    "CASSR sheets have the local breakdown."
   ]
  },
  {
   "cell_type": "code",
   "execution_count": 6,
   "metadata": {
    "collapsed": false,
    "deletable": true,
    "editable": true
   },
   "outputs": [
    {
     "data": {
      "text/plain": [
       "[('Table 2: Number of adult social services jobs by service group and job role group, CASSR level1',\n",
       "  'T2'),\n",
       " ('Table 3a: Employees, starters and leavers, CASSR level', 'T3a'),\n",
       " ('Table 3b: Employees and Vacancies by Job Role, CASSR level', 'T3b'),\n",
       " ('Table 5: Capacity and Utilisation of Serivce, CASSR level', 'T5'),\n",
       " ('Table 6a(ii): Gender percentage distribution of adult social services jobs, by Job Role, CASSR level',\n",
       "  'T6a(ii)'),\n",
       " ('Table 6b(ii): Age and Job Role, CASSR level', 'T6b(ii)'),\n",
       " ('Table 6c(ii): Ethnicity and Job Role, CASSR level', 'T6c(ii)'),\n",
       " ('Table 9: Qualifications of workers, by CASSR', 'T9')]"
      ]
     },
     "execution_count": 6,
     "metadata": {},
     "output_type": "execute_result"
    }
   ],
   "source": [
    "#Use full table name to generate sheet name and associate the two\n",
    "cassrSheets=[(c,c.split(':')[0].replace('able ','')) for c in cover.iloc[:,0] if 'CASSR' in c]\n",
    "cassrSheets"
   ]
  },
  {
   "cell_type": "markdown",
   "metadata": {
    "deletable": true,
    "editable": true
   },
   "source": [
    "Define a function to get the actual data from a particular sheet."
   ]
  },
  {
   "cell_type": "code",
   "execution_count": 7,
   "metadata": {
    "collapsed": false,
    "deletable": true,
    "editable": true
   },
   "outputs": [],
   "source": [
    "def sheetCleaner(df):\n",
    "    #The spreadsheet has the data midway down the sheet with multilevel column headings\n",
    "    #Identify the lower column heading row\n",
    "    cols=df[df.iloc[:,0]=='ONS Code']\n",
    "    #Take all the data in the sheet down from the top multilevel heading\n",
    "    df2=df.iloc[cols.index[0]-1:,:].reset_index(drop=True)\n",
    "    #Set the top left column heading (currently blank)\n",
    "    df2.iloc[0,0]='Base'\n",
    "    #Fill across on top level column headings\n",
    "    df2.iloc[0,:].fillna(method='ffill',inplace=True)\n",
    "    #Set and clean the column headings - remove excessive whitespace and strip\n",
    "    df2.columns=[c.str.replace(r'\\W+',' ').str.strip() for c in [df2.iloc[0,:],df2.iloc[1,:]]]\n",
    "    #The actual data is the datatable less the column headings...\n",
    "    df2=df2[2:]\n",
    "    #clean non-data rows at end\n",
    "    df2.dropna(subset=[('Base','Region')],inplace=True)\n",
    "    return df2\n",
    "\n",
    "def df_grabber(fn,sheet):\n",
    "    #Read in a particular sheet from the spreadsheet\n",
    "    df=pd.read_excel(fn, sheetname=sheet,\n",
    "                     na_values=['*','-']).dropna(how='all').dropna(axis=1,how='all').reset_index(drop=True)\n",
    "    #Return a cleaned dataframe version of the data in that sheet\n",
    "    return sheetCleaner(df)"
   ]
  },
  {
   "cell_type": "code",
   "execution_count": 8,
   "metadata": {
    "collapsed": false,
    "deletable": true,
    "editable": true
   },
   "outputs": [
    {
     "data": {
      "text/html": [
       "<div>\n",
       "<table border=\"1\" class=\"dataframe\">\n",
       "  <thead>\n",
       "    <tr>\n",
       "      <th>0</th>\n",
       "      <th colspan=\"7\" halign=\"left\">Base</th>\n",
       "      <th colspan=\"3\" halign=\"left\">All Direct Care roles</th>\n",
       "      <th colspan=\"3\" halign=\"left\">All Manager Supervisor roles</th>\n",
       "      <th colspan=\"3\" halign=\"left\">All Regulated professions</th>\n",
       "      <th colspan=\"3\" halign=\"left\">All Other roles</th>\n",
       "    </tr>\n",
       "    <tr>\n",
       "      <th>1</th>\n",
       "      <th>ONS Code</th>\n",
       "      <th>Region</th>\n",
       "      <th>Council Code</th>\n",
       "      <th>Council Name</th>\n",
       "      <th>Total adult jobs 20164</th>\n",
       "      <th>Total starters 20154</th>\n",
       "      <th>Total leavers4</th>\n",
       "      <th>Sum of all employees</th>\n",
       "      <th>Starters</th>\n",
       "      <th>Leavers</th>\n",
       "      <th>Sum of all employees</th>\n",
       "      <th>Starters</th>\n",
       "      <th>Leavers</th>\n",
       "      <th>Sum of all employees</th>\n",
       "      <th>Starters</th>\n",
       "      <th>Leavers</th>\n",
       "      <th>Sum of all employees</th>\n",
       "      <th>Starters</th>\n",
       "      <th>Leavers</th>\n",
       "    </tr>\n",
       "  </thead>\n",
       "  <tbody>\n",
       "    <tr>\n",
       "      <th>103</th>\n",
       "      <td>E06000046</td>\n",
       "      <td>South East</td>\n",
       "      <td>803</td>\n",
       "      <td>Isle of Wight Council</td>\n",
       "      <td>475</td>\n",
       "      <td>155</td>\n",
       "      <td>160</td>\n",
       "      <td>300</td>\n",
       "      <td>100</td>\n",
       "      <td>100</td>\n",
       "      <td>50</td>\n",
       "      <td>10</td>\n",
       "      <td>15</td>\n",
       "      <td>50</td>\n",
       "      <td>25</td>\n",
       "      <td>20</td>\n",
       "      <td>75</td>\n",
       "      <td>25</td>\n",
       "      <td>30</td>\n",
       "    </tr>\n",
       "  </tbody>\n",
       "</table>\n",
       "</div>"
      ],
      "text/plain": [
       "0         Base                                                  \\\n",
       "1     ONS Code      Region Council Code           Council Name   \n",
       "103  E06000046  South East          803  Isle of Wight Council   \n",
       "\n",
       "0                                                               \\\n",
       "1   Total adult jobs 20164 Total starters 20154 Total leavers4   \n",
       "103                    475                  155            160   \n",
       "\n",
       "0   All Direct Care roles                  All Manager Supervisor roles  \\\n",
       "1    Sum of all employees Starters Leavers         Sum of all employees   \n",
       "103                   300      100     100                           50   \n",
       "\n",
       "0                    All Regulated professions                   \\\n",
       "1   Starters Leavers      Sum of all employees Starters Leavers   \n",
       "103       10      15                        50       25      20   \n",
       "\n",
       "0        All Other roles                   \n",
       "1   Sum of all employees Starters Leavers  \n",
       "103                   75       25      30  "
      ]
     },
     "execution_count": 8,
     "metadata": {},
     "output_type": "execute_result"
    }
   ],
   "source": [
    "df2=df_grabber(fn,'T3a')\n",
    "df2[df2['Base','Council Name'].str.contains('Wight')]"
   ]
  },
  {
   "cell_type": "code",
   "execution_count": 9,
   "metadata": {
    "collapsed": false,
    "deletable": true,
    "editable": true
   },
   "outputs": [
    {
     "data": {
      "text/html": [
       "<div>\n",
       "<table border=\"1\" class=\"dataframe\">\n",
       "  <thead>\n",
       "    <tr>\n",
       "      <th>0</th>\n",
       "      <th colspan=\"4\" halign=\"left\">Base</th>\n",
       "      <th colspan=\"6\" halign=\"left\">All Job Roles</th>\n",
       "      <th>...</th>\n",
       "      <th colspan=\"4\" halign=\"left\">Regulated Professions</th>\n",
       "      <th colspan=\"6\" halign=\"left\">Other</th>\n",
       "    </tr>\n",
       "    <tr>\n",
       "      <th>1</th>\n",
       "      <th>ONS Code</th>\n",
       "      <th>Region</th>\n",
       "      <th>Council Code</th>\n",
       "      <th>Council Name</th>\n",
       "      <th>Not recorded unknown</th>\n",
       "      <th>White</th>\n",
       "      <th>Mixed Multiple ethnic group</th>\n",
       "      <th>Asian Asian British</th>\n",
       "      <th>Black African Caribbean Black British</th>\n",
       "      <th>Other</th>\n",
       "      <th>...</th>\n",
       "      <th>Mixed Multiple ethnic group</th>\n",
       "      <th>Asian Asian British</th>\n",
       "      <th>Black African Caribbean Black British</th>\n",
       "      <th>Other</th>\n",
       "      <th>Not recorded unknown</th>\n",
       "      <th>White</th>\n",
       "      <th>Mixed Multiple ethnic group</th>\n",
       "      <th>Asian Asian British</th>\n",
       "      <th>Black African Caribbean Black British</th>\n",
       "      <th>Other</th>\n",
       "    </tr>\n",
       "  </thead>\n",
       "  <tbody>\n",
       "    <tr>\n",
       "      <th>103</th>\n",
       "      <td>E06000046</td>\n",
       "      <td>South East</td>\n",
       "      <td>803</td>\n",
       "      <td>Isle of Wight Council</td>\n",
       "      <td>185</td>\n",
       "      <td>435</td>\n",
       "      <td>NaN</td>\n",
       "      <td>NaN</td>\n",
       "      <td>NaN</td>\n",
       "      <td>NaN</td>\n",
       "      <td>...</td>\n",
       "      <td>NaN</td>\n",
       "      <td>NaN</td>\n",
       "      <td>NaN</td>\n",
       "      <td>NaN</td>\n",
       "      <td>15</td>\n",
       "      <td>80</td>\n",
       "      <td>NaN</td>\n",
       "      <td>NaN</td>\n",
       "      <td>NaN</td>\n",
       "      <td>NaN</td>\n",
       "    </tr>\n",
       "  </tbody>\n",
       "</table>\n",
       "<p>1 rows × 34 columns</p>\n",
       "</div>"
      ],
      "text/plain": [
       "0         Base                                                  \\\n",
       "1     ONS Code      Region Council Code           Council Name   \n",
       "103  E06000046  South East          803  Isle of Wight Council   \n",
       "\n",
       "0          All Job Roles                                    \\\n",
       "1   Not recorded unknown White Mixed Multiple ethnic group   \n",
       "103                  185   435                         NaN   \n",
       "\n",
       "0                                                                    ...   \\\n",
       "1   Asian Asian British Black African Caribbean Black British Other  ...    \n",
       "103                 NaN                                   NaN   NaN  ...    \n",
       "\n",
       "0         Regulated Professions                      \\\n",
       "1   Mixed Multiple ethnic group Asian Asian British   \n",
       "103                         NaN                 NaN   \n",
       "\n",
       "0                                                              Other        \\\n",
       "1   Black African Caribbean Black British Other Not recorded unknown White   \n",
       "103                                   NaN   NaN                   15    80   \n",
       "\n",
       "0                                                    \\\n",
       "1   Mixed Multiple ethnic group Asian Asian British   \n",
       "103                         NaN                 NaN   \n",
       "\n",
       "0                                                \n",
       "1   Black African Caribbean Black British Other  \n",
       "103                                   NaN   NaN  \n",
       "\n",
       "[1 rows x 34 columns]"
      ]
     },
     "execution_count": 9,
     "metadata": {},
     "output_type": "execute_result"
    }
   ],
   "source": [
    "df2=df_grabber(fn,'T6c(ii)')\n",
    "df2[df2['Base','Council Name'].str.contains('Wight')]"
   ]
  },
  {
   "cell_type": "code",
   "execution_count": 10,
   "metadata": {
    "collapsed": false,
    "deletable": true,
    "editable": true
   },
   "outputs": [],
   "source": [
    "admincols=['ONS Code', 'Region', 'Council Code', 'Council Name']\n",
    "\n",
    "def subRowReport(group):\n",
    "    nulls=[]\n",
    "    for k in [c for c in group.index if c not in admincols]:\n",
    "        if not pd.isnull(group.ix[k]):\n",
    "            print('\\t\\t{}: {}'.format(k,group.ix[k]))\n",
    "        else:\n",
    "            nulls.append(k)\n",
    "    if nulls: print('\\t\\tZero/unreported counts for: {}'.format(', '.join(nulls)))\n",
    "    \n",
    "def rowReport(row,sheetname):\n",
    "    print('Report on {} ({}) for {} ({}, {})'.format(sheetname.split(':')[1].strip(),sheetname.split(':')[0].strip(),\n",
    "                                                     row['Base','Council Name'],row['Base','ONS Code'],\n",
    "                                                    row['Base','Region']))"
   ]
  },
  {
   "cell_type": "markdown",
   "metadata": {
    "deletable": true,
    "editable": true
   },
   "source": [
    "The following report is a bare bones test to display cell headings and corresponding values for a particular value from each sheet, grouped by top-level heading.\n",
    "\n",
    "We could use this as a basis for a [presentation style report](https://blog.ouseful.info/2017/01/20/a-recipe-for-automatically-going-from-data-to-text-to-reveal-js-slides/) containing automatically produced bullet points, charts etc."
   ]
  },
  {
   "cell_type": "code",
   "execution_count": 11,
   "metadata": {
    "collapsed": false,
    "deletable": true,
    "editable": true,
    "scrolled": false
   },
   "outputs": [
    {
     "name": "stdout",
     "output_type": "stream",
     "text": [
      "Report on Number of adult social services jobs by service group and job role group, CASSR level1 (Table 2) for Isle of Wight Council (E06000046, South East)\n",
      "\n",
      "\tAll services\n",
      "\t\tAll council job roles: 635\n",
      "\t\tDirect Care: 415\n",
      "\t\tManagers Supervisor: 60\n",
      "\t\tRegulated Professions: 70\n",
      "\t\tOther: 95\n",
      "\n",
      "\tResidential\n",
      "\t\tAll job roles: 380\n",
      "\t\tDirect Care: 310\n",
      "\t\tManagers Supervisor: 25\n",
      "\t\tOther: 45\n",
      "\t\tZero/unreported counts for: Regulated Professions\n",
      "\n",
      "\tDay\n",
      "\t\tAll job roles: 10\n",
      "\t\tDirect Care: 5\n",
      "\t\tZero/unreported counts for: Managers Supervisor, Regulated Professions, Other\n",
      "\n",
      "\tDomiciliary\n",
      "\t\tZero/unreported counts for: All job roles, Direct Care, Managers Supervisor, Regulated Professions, Other\n",
      "\n",
      "\tCommunity\n",
      "\t\tAll job roles: 225\n",
      "\t\tDirect Care: 90\n",
      "\t\tManagers Supervisor: 30\n",
      "\t\tRegulated Professions: 60\n",
      "\t\tOther: 45\n",
      "\n",
      "\tOther\n",
      "\t\tAll job roles: 15\n",
      "\t\tRegulated Professions: 5\n",
      "\t\tZero/unreported counts for: Direct Care, Managers Supervisor, Other\n",
      "\n",
      "--------\n",
      "\n",
      "Report on Employees, starters and leavers, CASSR level (Table 3a) for Isle of Wight Council (E06000046, South East)\n",
      "\n",
      "\tBase\n",
      "\t\tTotal adult jobs 20164: 475\n",
      "\t\tTotal starters 20154: 155\n",
      "\t\tTotal leavers4: 160\n",
      "\n",
      "\tAll Direct Care roles\n",
      "\t\tSum of all employees: 300\n",
      "\t\tStarters: 100\n",
      "\t\tLeavers: 100\n",
      "\n",
      "\tAll Manager Supervisor roles\n",
      "\t\tSum of all employees: 50\n",
      "\t\tStarters: 10\n",
      "\t\tLeavers: 15\n",
      "\n",
      "\tAll Regulated professions\n",
      "\t\tSum of all employees: 50\n",
      "\t\tStarters: 25\n",
      "\t\tLeavers: 20\n",
      "\n",
      "\tAll Other roles\n",
      "\t\tSum of all employees: 75\n",
      "\t\tStarters: 25\n",
      "\t\tLeavers: 30\n",
      "\n",
      "--------\n",
      "\n",
      "Report on Employees and Vacancies by Job Role, CASSR level (Table 3b) for Isle of Wight Council (E06000046, South East)\n",
      "\n",
      "\tAll jobs\n",
      "\t\tEmployees: 475\n",
      "\t\tVacancies: 55\n",
      "\n",
      "\tDirect care\n",
      "\t\tEmployees: 300\n",
      "\t\tVacancies: 35\n",
      "\n",
      "\tManagerial\n",
      "\t\tEmployees: 50\n",
      "\t\tVacancies: 5\n",
      "\n",
      "\tProfessional\n",
      "\t\tEmployees: 50\n",
      "\t\tVacancies: 10\n",
      "\n",
      "\tOther\n",
      "\t\tEmployees: 75\n",
      "\t\tVacancies: 10\n",
      "\n",
      "--------\n",
      "\n",
      "Report on Capacity and Utilisation of Serivce, CASSR level (Table 5) for Isle of Wight Council (E06000046, South East)\n",
      "\n",
      "\tTotal\n",
      "\t\tEstablishments teams: 15\n",
      "\t\tCapacity: 150\n",
      "\t\tUtilisation: 125\n",
      "\n",
      "\tCare homes with nursing beds places\n",
      "\t\tZero/unreported counts for: Establishments teams, Capacity, Utilisation\n",
      "\n",
      "\tCare only homes beds places\n",
      "\t\tEstablishments teams: 10\n",
      "\t\tCapacity: 110\n",
      "\t\tUtilisation: 95\n",
      "\n",
      "\tDay care places\n",
      "\t\tCapacity: 40\n",
      "\t\tUtilisation: 30\n",
      "\t\tZero/unreported counts for: Establishments teams\n",
      "\n",
      "\tMeals on wheels service users\n",
      "\t\tZero/unreported counts for: Establishments teams, Capacity, Utilisation\n",
      "\n",
      "--------\n",
      "\n",
      "Report on Gender percentage distribution of adult social services jobs, by Job Role, CASSR level (Table 6a(ii)) for Isle of Wight Council (E06000046, South East)\n",
      "\n",
      "\tAll Job Roles\n",
      "\t\tMale: 145\n",
      "\t\tFemale: 485\n",
      "\t\tZero/unreported counts for: Not recorded Unknown\n",
      "\n",
      "\tDirect Care\n",
      "\t\tMale: 80\n",
      "\t\tFemale: 335\n",
      "\t\tZero/unreported counts for: Not recorded Unknown\n",
      "\n",
      "\tManagers Supervisor\n",
      "\t\tMale: 20\n",
      "\t\tFemale: 40\n",
      "\t\tZero/unreported counts for: Not recorded Unknown\n",
      "\n",
      "\tRegulated Professions\n",
      "\t\tMale: 20\n",
      "\t\tFemale: 50\n",
      "\t\tZero/unreported counts for: Not recorded Unknown\n",
      "\n",
      "\tOther\n",
      "\t\tMale: 30\n",
      "\t\tFemale: 65\n",
      "\t\tZero/unreported counts for: Not recorded Unknown\n",
      "\n",
      "--------\n",
      "\n",
      "Report on Age and Job Role, CASSR level (Table 6b(ii)) for Isle of Wight Council (E06000046, South East)\n",
      "\n",
      "\tAll Job Roles\n",
      "\t\t20 to 24: 30\n",
      "\t\t25 to 29: 35\n",
      "\t\t30 to 34: 40\n",
      "\t\t35 to 39: 50\n",
      "\t\t40 to 44: 55\n",
      "\t\t45 to 49: 85\n",
      "\t\t50 to 54: 115\n",
      "\t\t55 to 59: 105\n",
      "\t\t60 to 64: 75\n",
      "\t\t65 to 69: 20\n",
      "\t\tOver 70: 10\n",
      "\t\tZero/unreported counts for: Not recorded unknown, Under 18, 18 to 19\n",
      "\n",
      "\tDirect Care\n",
      "\t\t20 to 24: 25\n",
      "\t\t25 to 29: 25\n",
      "\t\t30 to 34: 25\n",
      "\t\t35 to 39: 30\n",
      "\t\t40 to 44: 35\n",
      "\t\t45 to 49: 55\n",
      "\t\t50 to 54: 75\n",
      "\t\t55 to 59: 75\n",
      "\t\t60 to 64: 45\n",
      "\t\t65 to 69: 15\n",
      "\t\tOver 70: 10\n",
      "\t\tZero/unreported counts for: Not recorded unknown, Under 18, 18 to 19\n",
      "\n",
      "\tManagers Supervisor\n",
      "\t\t35 to 39: 5\n",
      "\t\t45 to 49: 10\n",
      "\t\t50 to 54: 10\n",
      "\t\t55 to 59: 15\n",
      "\t\t60 to 64: 10\n",
      "\t\tZero/unreported counts for: Not recorded unknown, Under 18, 18 to 19, 20 to 24, 25 to 29, 30 to 34, 40 to 44, 65 to 69, Over 70\n",
      "\n",
      "\tRegulated Professions\n",
      "\t\t35 to 39: 5\n",
      "\t\t40 to 44: 10\n",
      "\t\t45 to 49: 10\n",
      "\t\t50 to 54: 20\n",
      "\t\t55 to 59: 10\n",
      "\t\t60 to 64: 5\n",
      "\t\tZero/unreported counts for: Not recorded unknown, Under 18, 18 to 19, 20 to 24, 25 to 29, 30 to 34, 65 to 69, Over 70\n",
      "\n",
      "\tOther\n",
      "\t\t30 to 34: 10\n",
      "\t\t35 to 39: 10\n",
      "\t\t40 to 44: 10\n",
      "\t\t45 to 49: 10\n",
      "\t\t50 to 54: 15\n",
      "\t\t55 to 59: 10\n",
      "\t\t60 to 64: 15\n",
      "\t\tZero/unreported counts for: Not recorded unknown, Under 18, 18 to 19, 20 to 24, 25 to 29, 65 to 69, Over 70\n",
      "\n",
      "--------\n",
      "\n",
      "Report on Ethnicity and Job Role, CASSR level (Table 6c(ii)) for Isle of Wight Council (E06000046, South East)\n",
      "\n",
      "\tAll Job Roles\n",
      "\t\tNot recorded unknown: 185\n",
      "\t\tWhite: 435\n",
      "\t\tZero/unreported counts for: Mixed Multiple ethnic group, Asian Asian British, Black African Caribbean Black British, Other\n",
      "\n",
      "\tDirect Care\n",
      "\t\tNot recorded unknown: 130\n",
      "\t\tWhite: 275\n",
      "\t\tZero/unreported counts for: Mixed Multiple ethnic group, Asian Asian British, Black African Caribbean Black British, Other\n",
      "\n",
      "\tManagers Supervisor\n",
      "\t\tNot recorded unknown: 20\n",
      "\t\tWhite: 35\n",
      "\t\tZero/unreported counts for: Mixed Multiple ethnic group, Asian Asian British, Black African Caribbean Black British, Other\n",
      "\n",
      "\tRegulated Professions\n",
      "\t\tNot recorded unknown: 20\n",
      "\t\tWhite: 45\n",
      "\t\tZero/unreported counts for: Mixed Multiple ethnic group, Asian Asian British, Black African Caribbean Black British, Other\n",
      "\n",
      "\tOther\n",
      "\t\tNot recorded unknown: 15\n",
      "\t\tWhite: 80\n",
      "\t\tZero/unreported counts for: Mixed Multiple ethnic group, Asian Asian British, Black African Caribbean Black British, Other\n",
      "\n",
      "--------\n",
      "\n",
      "Report on Qualifications of workers, by CASSR (Table 9) for Isle of Wight Council (E06000046, South East)\n",
      "\n",
      "\tHighest Level Qualification worker has achieved\n",
      "\t\tLevel 2: 125\n",
      "\t\tLevel 3: 160\n",
      "\t\tLevel 4: 145\n",
      "\t\tOther relevant social care qualification s: 5\n",
      "\t\tAny other qualification s: 170\n",
      "\t\tNot recorded unknown: 20\n",
      "\t\tZero/unreported counts for: Entry or level 1, No qualifications held\n",
      "\n",
      "--------\n",
      "\n"
     ]
    }
   ],
   "source": [
    "from collections import OrderedDict\n",
    "\n",
    "#Linearise the reports\n",
    "for sheetname, sheet in cassrSheets:\n",
    "    df2=df_grabber(fn,sheet)\n",
    "    df2=df2[df2['Base','Council Name'].str.contains(councilCrib)]\n",
    "    df2.apply(rowReport,sheetname=sheetname,axis=1)\n",
    "\n",
    "    #Within each sheet, go through the top-level heading, and then do a subreport of cols in it\n",
    "    #There's probably a pandas idiomatic way of doing this? Treat levels as groups?\n",
    "    #For now, fudge it - create an ordered dict to represent: toplevelHeading:sublevelHeading\n",
    "    #The ordering preserves the column order from the spreadsheet\n",
    "    coldict=OrderedDict()\n",
    "    for col in df2.columns:\n",
    "        if col[0] not in coldict:\n",
    "            coldict[col[0]]=[]\n",
    "        coldict[col[0]].append(col[1])\n",
    "    #Now we can iterate through the toplevel headings\n",
    "    for k in coldict:\n",
    "        #Ignoring the admin data stuff if there is only admin data\n",
    "        if k=='Base':\n",
    "            nonadmincols=[c for c in df2.xs('Base', level=0, axis=1).columns if c not in admincols]\n",
    "            if not nonadmincols: continue\n",
    "        print('\\n\\t{}'.format(k))\n",
    "        df2.xs(k, level=0, axis=1).apply(subRowReport,axis=1)\n",
    "        \n",
    "    print('\\n--------\\n')\n",
    "#'ONS Code','Region','Council Code','Council Name'"
   ]
  },
  {
   "cell_type": "markdown",
   "metadata": {
    "collapsed": true,
    "deletable": true,
    "editable": true
   },
   "source": [
    "## Report Magic\n",
    "\n",
    "I wonder if we can do report magic? Eg by inspection of a table, write some canned prose around the column headings, then magic the actual values in? Note, null values would be reported in the templated text, which could get a bit clunky.\n",
    "\n",
    "We'd also need to think about how to index keys into multiple tables..."
   ]
  },
  {
   "cell_type": "code",
   "execution_count": 12,
   "metadata": {
    "collapsed": false
   },
   "outputs": [
    {
     "name": "stdout",
     "output_type": "stream",
     "text": [
      "\n",
      "There were 1 job roles across the council, of which 2 were associated with direct care, 3 were managerial/supervisory roles, 4 were in regulated professions and 5 other.\n",
      "\n"
     ]
    }
   ],
   "source": [
    "tmp={'All council job roles':1,'Direct Care':2,'Managers Supervisor':3,'Regulated Professions':4,'Other':5}\n",
    "\n",
    "ll='''\n",
    "There were {All council job roles} job roles across the council, \\\n",
    "of which {Direct Care} were associated with direct care, \\\n",
    "{Managers Supervisor} were managerial/supervisory roles, \\\n",
    "{Regulated Professions} were in regulated professions and {Other} other.\n",
    "'''.format(**tmp)\n",
    "print(ll)"
   ]
  },
  {
   "cell_type": "code",
   "execution_count": 13,
   "metadata": {
    "collapsed": false
   },
   "outputs": [
    {
     "name": "stdout",
     "output_type": "stream",
     "text": [
      "1, 3\n"
     ]
    }
   ],
   "source": [
    "#Can we do nested dicts?\n",
    "tmp={'a':{'b a':1,'c':{'c c':3},'d':4},'e':0}\n",
    "print('{a[b a]}, {a[c][c c]}'.format(**tmp))\n",
    "\n",
    "#but the iniial key eg 'a' does not support spaces?"
   ]
  },
  {
   "cell_type": "markdown",
   "metadata": {},
   "source": [
    "This suggests we can generate a template to report on a simple or nested dict generated from the spreadsheet rows."
   ]
  },
  {
   "cell_type": "code",
   "execution_count": 17,
   "metadata": {
    "collapsed": false
   },
   "outputs": [
    {
     "name": "stdout",
     "output_type": "stream",
     "text": [
      "MultiIndex(levels=[['All Job Roles', 'Base', 'Direct Care', 'Managers Supervisor', 'Other', 'Regulated Professions'], ['Council Code', 'Council Name', 'Female', 'Male', 'Not recorded Unknown', 'ONS Code', 'Region']],\n",
      "           labels=[[1, 1, 1, 1, 0, 0, 0, 2, 2, 2, 3, 3, 3, 5, 5, 5, 4, 4, 4], [5, 6, 0, 1, 3, 2, 4, 3, 2, 4, 3, 2, 4, 3, 2, 4, 3, 2, 4]],\n",
      "           names=[0, 1])\n"
     ]
    },
    {
     "data": {
      "text/html": [
       "<div>\n",
       "<table border=\"1\" class=\"dataframe\">\n",
       "  <thead>\n",
       "    <tr>\n",
       "      <th>0</th>\n",
       "      <th colspan=\"4\" halign=\"left\">Base</th>\n",
       "      <th colspan=\"3\" halign=\"left\">All Job Roles</th>\n",
       "      <th colspan=\"3\" halign=\"left\">Direct Care</th>\n",
       "      <th colspan=\"3\" halign=\"left\">Managers Supervisor</th>\n",
       "      <th colspan=\"3\" halign=\"left\">Regulated Professions</th>\n",
       "      <th colspan=\"3\" halign=\"left\">Other</th>\n",
       "    </tr>\n",
       "    <tr>\n",
       "      <th>1</th>\n",
       "      <th>ONS Code</th>\n",
       "      <th>Region</th>\n",
       "      <th>Council Code</th>\n",
       "      <th>Council Name</th>\n",
       "      <th>Male</th>\n",
       "      <th>Female</th>\n",
       "      <th>Not recorded Unknown</th>\n",
       "      <th>Male</th>\n",
       "      <th>Female</th>\n",
       "      <th>Not recorded Unknown</th>\n",
       "      <th>Male</th>\n",
       "      <th>Female</th>\n",
       "      <th>Not recorded Unknown</th>\n",
       "      <th>Male</th>\n",
       "      <th>Female</th>\n",
       "      <th>Not recorded Unknown</th>\n",
       "      <th>Male</th>\n",
       "      <th>Female</th>\n",
       "      <th>Not recorded Unknown</th>\n",
       "    </tr>\n",
       "  </thead>\n",
       "  <tbody>\n",
       "    <tr>\n",
       "      <th>103</th>\n",
       "      <td>E06000046</td>\n",
       "      <td>South East</td>\n",
       "      <td>803</td>\n",
       "      <td>Isle of Wight Council</td>\n",
       "      <td>145</td>\n",
       "      <td>485</td>\n",
       "      <td>NaN</td>\n",
       "      <td>80</td>\n",
       "      <td>335</td>\n",
       "      <td>NaN</td>\n",
       "      <td>20</td>\n",
       "      <td>40</td>\n",
       "      <td>NaN</td>\n",
       "      <td>20</td>\n",
       "      <td>50</td>\n",
       "      <td>NaN</td>\n",
       "      <td>30</td>\n",
       "      <td>65</td>\n",
       "      <td>NaN</td>\n",
       "    </tr>\n",
       "  </tbody>\n",
       "</table>\n",
       "</div>"
      ],
      "text/plain": [
       "0         Base                                                 All Job Roles  \\\n",
       "1     ONS Code      Region Council Code           Council Name          Male   \n",
       "103  E06000046  South East          803  Isle of Wight Council           145   \n",
       "\n",
       "0                               Direct Care                              \\\n",
       "1   Female Not recorded Unknown        Male Female Not recorded Unknown   \n",
       "103    485                  NaN          80    335                  NaN   \n",
       "\n",
       "0   Managers Supervisor                             Regulated Professions  \\\n",
       "1                  Male Female Not recorded Unknown                  Male   \n",
       "103                  20     40                  NaN                    20   \n",
       "\n",
       "0                               Other                              \n",
       "1   Female Not recorded Unknown  Male Female Not recorded Unknown  \n",
       "103     50                  NaN    30     65                  NaN  "
      ]
     },
     "execution_count": 17,
     "metadata": {},
     "output_type": "execute_result"
    }
   ],
   "source": [
    "sheet='T6a(ii)'\n",
    "ss=df_grabber(fn,sheet)\n",
    "ss=ss[ss['Base','Council Name'].str.contains(councilCrib)]\n",
    "\n",
    "print(ss.columns)\n",
    "ss"
   ]
  },
  {
   "cell_type": "code",
   "execution_count": 48,
   "metadata": {
    "collapsed": false
   },
   "outputs": [],
   "source": [
    "#Write the following template using paths to the appropriate table, top level headings and subheadings\n",
    "\n",
    "\n",
    "l2='''\n",
    "For *{r[T6a(ii)][name]}* ({r[T6a(ii)][key]}), across all job roles there were {r[T6a(ii)][All Job Roles][Male]} males and {r[T6a(ii)][All Job Roles][Female]} females \\\n",
    "({r[T6a(ii)][All Job Roles][Not recorded Unknown]} not recorded or unknown).\n",
    "\n",
    "This breaks down as follows:\n",
    "\n",
    "- in direct care, {r[T6a(ii)][Direct Care][Male]} males and {r[T6a(ii)][Direct Care][Female]} females \\\n",
    "({r[T6a(ii)][Direct Care][Not recorded Unknown]} not recorded or unknown)\n",
    "\n",
    "- in managerial or supervisory roles, {r[T6a(ii)][Managers Supervisor][Male]} males and {r[T6a(ii)][Managers Supervisor][Female]} females \\\n",
    "({r[T6a(ii)][Managers Supervisor][Not recorded Unknown]} not recorded or unknown)\n",
    "\n",
    "- amongst the regulated professions, {r[T6a(ii)][Regulated Professions][Male]} males and {r[T6a(ii)][Regulated Professions][Female]} females \\\n",
    "({r[T6a(ii)][Regulated Professions][Not recorded Unknown]} not recorded or unknown)\n",
    "\n",
    "- and for other roles, {r[T6a(ii)][Other][Male]} males and {r[T6a(ii)][Other][Female]} females \\\n",
    "({r[T6a(ii)][Other][Not recorded Unknown]} not recorded or unknown)\n",
    "'''"
   ]
  },
  {
   "cell_type": "code",
   "execution_count": 50,
   "metadata": {
    "collapsed": false
   },
   "outputs": [
    {
     "name": "stdout",
     "output_type": "stream",
     "text": [
      "\n",
      "For *Table 6a(ii): Gender percentage distribution of adult social services jobs, by Job Role, CASSR level* (T6a(ii)), across all job roles there were 145 males and 485 females (0 not recorded or unknown).\n",
      "\n",
      "This breaks down as follows:\n",
      "\n",
      "- in direct care, 80 males and 335 females (0 not recorded or unknown)\n",
      "\n",
      "- in managerial or supervisory roles, 20 males and 40 females (0 not recorded or unknown)\n",
      "\n",
      "- amongst the regulated professions, 20 males and 50 females (0 not recorded or unknown)\n",
      "\n",
      "- and for other roles, 30 males and 65 females (0 not recorded or unknown)\n",
      "\n"
     ]
    }
   ],
   "source": [
    "#This code churns a sheet into a dict that we can apply to the template.\n",
    "cc={'r':{sheet:{'key':sheet, 'name':[k for k,v in cassrSheets if v==sheet][0]}}}\n",
    "\n",
    "coldict=OrderedDict()\n",
    "for col in ss.columns:\n",
    "    if col[0] not in coldict:\n",
    "        coldict[col[0]]=[]\n",
    "    coldict[col[0]].append(col[1])\n",
    "\n",
    "bb={}\n",
    "#Now we can iterate through the toplevel headings\n",
    "for k in coldict:\n",
    "    #Ignoring the admin data stuff if there is only admin data\n",
    "    if k=='Base':\n",
    "        nonadmincols=[c for c in df2.xs('Base', level=0, axis=1).columns if c not in admincols]\n",
    "        if not nonadmincols: continue\n",
    "    bb[k]=ss[k].fillna(0).to_dict(orient='records')\n",
    "    for v in bb:\n",
    "        cc['r'][sheet][v]=bb[v][0]\n",
    "\n",
    "        \n",
    "#Now we can apply the dict obtained from the churned sheet to the template\n",
    "print(l2.format(**cc))"
   ]
  },
  {
   "cell_type": "markdown",
   "metadata": {},
   "source": [
    "This route suggests we can try to write boilerplate news release templates, with some text for each cell in a row for all sheets. However, for spreadsheets with large numbers of columns this can become unwieldy. Similarly, if a lot of cells contain null values, there will be a lot of redundant text in the report.\n",
    "\n",
    "There is thus a tension between writing compact templated text and defining logic that determines when to apply those templates.\n",
    "\n",
    "And once again, it seems like all we're doing is repeating things like [mail merge](https://support.office.com/en-us/article/Prepare-your-Excel-2016-data-source-for-a-Word-mail-merge-2d802b6b-a3a3-43e5-bb76-2cac7c68673e?ui=en-US&rs=en-US&ad=US), or starting down the path of trying to recreate templating frameworks like Django or Jinja2."
   ]
  },
  {
   "cell_type": "code",
   "execution_count": 51,
   "metadata": {
    "collapsed": false
   },
   "outputs": [
    {
     "ename": "AttributeError",
     "evalue": "'str' object has no attribute '_meta'",
     "output_type": "error",
     "traceback": [
      "\u001b[0;31m---------------------------------------------------------------------------\u001b[0m",
      "\u001b[0;31mAttributeError\u001b[0m                            Traceback (most recent call last)",
      "\u001b[0;32m<ipython-input-51-4eddd820daf3>\u001b[0m in \u001b[0;36m<module>\u001b[0;34m()\u001b[0m\n\u001b[0;32m----> 1\u001b[0;31m \u001b[0ml2\u001b[0m\u001b[0;34m.\u001b[0m\u001b[0m_meta\u001b[0m\u001b[0;34m.\u001b[0m\u001b[0mget_all_field_names\u001b[0m\u001b[0;34m(\u001b[0m\u001b[0;34m)\u001b[0m\u001b[0;34m\u001b[0m\u001b[0m\n\u001b[0m",
      "\u001b[0;31mAttributeError\u001b[0m: 'str' object has no attribute '_meta'"
     ]
    }
   ],
   "source": [
    "l2._meta.get_all_field_names()"
   ]
  },
  {
   "cell_type": "code",
   "execution_count": null,
   "metadata": {
    "collapsed": true
   },
   "outputs": [],
   "source": []
  }
 ],
 "metadata": {
  "kernelspec": {
   "display_name": "Python 3",
   "language": "python",
   "name": "python3"
  },
  "language_info": {
   "codemirror_mode": {
    "name": "ipython",
    "version": 3
   },
   "file_extension": ".py",
   "mimetype": "text/x-python",
   "name": "python",
   "nbconvert_exporter": "python",
   "pygments_lexer": "ipython3",
   "version": "3.5.1"
  }
 },
 "nbformat": 4,
 "nbformat_minor": 0
}
