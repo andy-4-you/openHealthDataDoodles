{
 "cells": [
  {
   "cell_type": "markdown",
   "metadata": {},
   "source": [
    "# GP Contract Services\n",
    "\n",
    "Data on GP Contract services ( http://www.content.digital.nhs.uk/catalogue/PUB22004 ):\n",
    "\n",
    "- Learning disabilities health check scheme (LDHC)\n",
    "- Seasonal influenza vaccination programme (SFLU)\n",
    "- Childhood seasonal influenza vaccination programme (CFLU)\n",
    "- Facilitating timely diagnosis for people with dementia scheme (DEM)\n",
    "- Named accountable GP for all patients (NAGP)"
   ]
  },
  {
   "cell_type": "code",
   "execution_count": 1,
   "metadata": {
    "collapsed": true
   },
   "outputs": [],
   "source": [
    "import pandas as pd\n",
    "import sqlite3"
   ]
  },
  {
   "cell_type": "code",
   "execution_count": 2,
   "metadata": {
    "collapsed": true
   },
   "outputs": [],
   "source": [
    "ALL=4\n",
    "MOST_RECENT=-1"
   ]
  },
  {
   "cell_type": "code",
   "execution_count": 3,
   "metadata": {
    "collapsed": true
   },
   "outputs": [],
   "source": [
    "#SET THIS\n",
    "SHEETS=ALL"
   ]
  },
  {
   "cell_type": "code",
   "execution_count": 4,
   "metadata": {
    "collapsed": false
   },
   "outputs": [],
   "source": [
    "con = sqlite3.connect(\"gpcontracts.sqlite\")"
   ]
  },
  {
   "cell_type": "code",
   "execution_count": 5,
   "metadata": {
    "collapsed": true
   },
   "outputs": [],
   "source": [
    "#http://www.content.digital.nhs.uk/catalogue/PUB22004"
   ]
  },
  {
   "cell_type": "code",
   "execution_count": 6,
   "metadata": {
    "collapsed": true
   },
   "outputs": [],
   "source": [
    "def downloader(typ,url=None):\n",
    "    ''' Download and unzip data file '''\n",
    "    !rm downloads/{typ}.zip\n",
    "    if url is None:\n",
    "        url='http://www.content.digital.nhs.uk/catalogue/PUB22004/{typ}.zip'.format(typ=typ)\n",
    "    #Download the data from the HSCIC website\n",
    "    !wget -P downloads/ {url}\n",
    "    !rm -r data/{typ}/\n",
    "    #Unzip the downloaded files into a subdirectory of the data folder, making sure the data dir exists first\n",
    "    !mkdir -p data\n",
    "    #The -o flag is overkill - if we hadn't deleted the original folder it would overwrite any similar files\n",
    "    !unzip -o -d data/{typ} downloads/{typ}.zip\n",
    "    \n",
    "def downloader_xl(typ,url=None):\n",
    "    if url is None:\n",
    "        url='http://www.content.digital.nhs.uk/catalogue/PUB22004/{typ}_XLS.xlsx'.format(typ=typ)\n",
    "        !rm data/{typ}_XLS.xlsx\n",
    "    #Download the data from the HSCIC website\n",
    "    !wget -P data/ {url}"
   ]
  },
  {
   "cell_type": "code",
   "execution_count": 7,
   "metadata": {
    "collapsed": false
   },
   "outputs": [],
   "source": [
    "def metadata_loader(con,typ,sheet='Note and definitions'):\n",
    "    con.execute('DROP TABLE IF EXISTS metadata_{typ}'.format(typ=typ))\n",
    "    df=pd.read_excel('data/{}_XLS.xlsx'.format(typ),sheet,skiprows=10,header=None)\n",
    "    df.dropna(how='all',inplace=True)\n",
    "    df.dropna(axis=1,how='all',inplace=True)\n",
    "    df=df[:] if len(df) % 2 == 0 else df[:-1]\n",
    "    tmp=pd.DataFrame({'code':df.iloc[::2][0].tolist(), 'explanation':df.iloc[1::2][0].tolist()})\n",
    "    tmp=tmp[tmp['code'].isin(pd.read_sql_query('SELECT * FROM {typ} LIMIT 1'.format(typ=typ),con).columns.tolist())]\n",
    "    tmp=tmp.set_index(['code'])\n",
    "    tmp.to_sql(con=con, name='metadata_{typ}'.format(typ=typ),if_exists='append')"
   ]
  },
  {
   "cell_type": "code",
   "execution_count": 8,
   "metadata": {
    "collapsed": false
   },
   "outputs": [],
   "source": [
    "def db_loader(con,typ,sheets,keys,add_sheet_index=None):\n",
    "    con.execute('DROP TABLE IF EXISTS {}'.format(typ))\n",
    "    dff=pd.DataFrame()\n",
    "    for sheet in sheets:\n",
    "        print(typ,sheet)\n",
    "        df=pd.read_excel('data/{}_XLS.xlsx'.format(typ),sheet,skiprows=9,na_values=[':','X',None])\n",
    "        if add_sheet_index is not None:\n",
    "            df[add_sheet_index]=sheet.strip('\"').strip(\"'\")\n",
    "        dff=pd.concat([dff,df])\n",
    "    tmp=dff.set_index(keys)\n",
    "    #If the table exists, replace it, under the assumption we are using a more recent version of the data\n",
    "    tmp.to_sql(con=con, name=typ,if_exists='append')"
   ]
  },
  {
   "cell_type": "markdown",
   "metadata": {
    "collapsed": true
   },
   "source": [
    "## Learning disabilities health check scheme 2015-16"
   ]
  },
  {
   "cell_type": "code",
   "execution_count": 9,
   "metadata": {
    "collapsed": true
   },
   "outputs": [],
   "source": [
    "typ='LDHC_1516'"
   ]
  },
  {
   "cell_type": "code",
   "execution_count": 10,
   "metadata": {
    "collapsed": false
   },
   "outputs": [
    {
     "name": "stdout",
     "output_type": "stream",
     "text": [
      "--2016-10-21 00:03:31--  http://www.content.digital.nhs.uk/catalogue/PUB22004/LDHC_1516_XLS.xlsx\n",
      "Resolving www.content.digital.nhs.uk... 194.189.27.28\n",
      "Connecting to www.content.digital.nhs.uk|194.189.27.28|:80... connected.\n",
      "HTTP request sent, awaiting response... 200 OK\n",
      "Length: 3409292 (3.3M) [application/vnd.ms-excel.12]\n",
      "Saving to: 'data/LDHC_1516_XLS.xlsx'\n",
      "\n",
      "LDHC_1516_XLS.xlsx  100%[=====================>]   3.25M  2.74MB/s   in 1.2s   \n",
      "\n",
      "2016-10-21 00:03:33 (2.74 MB/s) - 'data/LDHC_1516_XLS.xlsx' saved [3409292/3409292]\n",
      "\n"
     ]
    }
   ],
   "source": [
    "#downloader('LDHC_1516_CSV')\n",
    "downloader_xl(typ)"
   ]
  },
  {
   "cell_type": "code",
   "execution_count": 11,
   "metadata": {
    "collapsed": false
   },
   "outputs": [
    {
     "data": {
      "text/plain": [
       "['Title sheet',\n",
       " 'Note and definitions',\n",
       " 'Data Quality',\n",
       " 'Practice Data Quality',\n",
       " '30 June 2015',\n",
       " '30 September 2015',\n",
       " '30 December 2015',\n",
       " '31 March 2016']"
      ]
     },
     "execution_count": 11,
     "metadata": {},
     "output_type": "execute_result"
    }
   ],
   "source": [
    "xl=pd.ExcelFile('data/{}_XLS.xlsx'.format(typ))\n",
    "xl.sheet_names"
   ]
  },
  {
   "cell_type": "code",
   "execution_count": 12,
   "metadata": {
    "collapsed": false
   },
   "outputs": [
    {
     "data": {
      "text/html": [
       "<div>\n",
       "<table border=\"1\" class=\"dataframe\">\n",
       "  <thead>\n",
       "    <tr style=\"text-align: right;\">\n",
       "      <th></th>\n",
       "      <th>ONS Code</th>\n",
       "      <th>CCG Code</th>\n",
       "      <th>CCG Name</th>\n",
       "      <th>GP practice Code</th>\n",
       "      <th>GP practice Name</th>\n",
       "      <th>Achievement Date</th>\n",
       "      <th>Data Quality Issues</th>\n",
       "      <th>LDHC001 (Maximum)</th>\n",
       "      <th>LDHC001 (Input)</th>\n",
       "      <th>LDHCMI001</th>\n",
       "      <th>...</th>\n",
       "      <th>LDHCMI005</th>\n",
       "      <th>LDHCMI006</th>\n",
       "      <th>LDHCMI007</th>\n",
       "      <th>LDHCMI008</th>\n",
       "      <th>LDHCMI009</th>\n",
       "      <th>LDHCMI0010</th>\n",
       "      <th>LDHCMI0011</th>\n",
       "      <th>LDHCMI0012</th>\n",
       "      <th>LDHCMI0013</th>\n",
       "      <th>LDHCMI0014</th>\n",
       "    </tr>\n",
       "  </thead>\n",
       "  <tbody>\n",
       "    <tr>\n",
       "      <th>0</th>\n",
       "      <td>E38000001</td>\n",
       "      <td>02N</td>\n",
       "      <td>NHS AIREDALE, WHARFEDALE AND CRAVEN CCG</td>\n",
       "      <td>B82007</td>\n",
       "      <td>TOWNHEAD SURGERY</td>\n",
       "      <td>2015-06-30</td>\n",
       "      <td>NaN</td>\n",
       "      <td>35</td>\n",
       "      <td>2</td>\n",
       "      <td>2</td>\n",
       "      <td>...</td>\n",
       "      <td>37.0</td>\n",
       "      <td>1.0</td>\n",
       "      <td>2.0</td>\n",
       "      <td>0.0</td>\n",
       "      <td>1.0</td>\n",
       "      <td>0.0</td>\n",
       "      <td>0.0</td>\n",
       "      <td>0.0</td>\n",
       "      <td>1.0</td>\n",
       "      <td>0.0</td>\n",
       "    </tr>\n",
       "    <tr>\n",
       "      <th>1</th>\n",
       "      <td>E38000001</td>\n",
       "      <td>02N</td>\n",
       "      <td>NHS AIREDALE, WHARFEDALE AND CRAVEN CCG</td>\n",
       "      <td>B82020</td>\n",
       "      <td>CROSSHILLS GROUP PRACTICE</td>\n",
       "      <td>2015-06-30</td>\n",
       "      <td>See data quality table</td>\n",
       "      <td>32</td>\n",
       "      <td>X</td>\n",
       "      <td>X</td>\n",
       "      <td>...</td>\n",
       "      <td>32.0</td>\n",
       "      <td>1.0</td>\n",
       "      <td>0.0</td>\n",
       "      <td>0.0</td>\n",
       "      <td>1.0</td>\n",
       "      <td>0.0</td>\n",
       "      <td>0.0</td>\n",
       "      <td>0.0</td>\n",
       "      <td>0.0</td>\n",
       "      <td>0.0</td>\n",
       "    </tr>\n",
       "    <tr>\n",
       "      <th>2</th>\n",
       "      <td>E38000001</td>\n",
       "      <td>02N</td>\n",
       "      <td>NHS AIREDALE, WHARFEDALE AND CRAVEN CCG</td>\n",
       "      <td>B82053</td>\n",
       "      <td>DYNELEY HOUSE SURGERY</td>\n",
       "      <td>2015-06-30</td>\n",
       "      <td>NaN</td>\n",
       "      <td>NaN</td>\n",
       "      <td>2</td>\n",
       "      <td>2</td>\n",
       "      <td>...</td>\n",
       "      <td>21.0</td>\n",
       "      <td>2.0</td>\n",
       "      <td>2.0</td>\n",
       "      <td>0.0</td>\n",
       "      <td>1.0</td>\n",
       "      <td>0.0</td>\n",
       "      <td>0.0</td>\n",
       "      <td>0.0</td>\n",
       "      <td>1.0</td>\n",
       "      <td>0.0</td>\n",
       "    </tr>\n",
       "  </tbody>\n",
       "</table>\n",
       "<p>3 rows × 23 columns</p>\n",
       "</div>"
      ],
      "text/plain": [
       "    ONS Code CCG Code                                 CCG Name  \\\n",
       "0  E38000001      02N  NHS AIREDALE, WHARFEDALE AND CRAVEN CCG   \n",
       "1  E38000001      02N  NHS AIREDALE, WHARFEDALE AND CRAVEN CCG   \n",
       "2  E38000001      02N  NHS AIREDALE, WHARFEDALE AND CRAVEN CCG   \n",
       "\n",
       "  GP practice Code           GP practice Name Achievement Date  \\\n",
       "0           B82007           TOWNHEAD SURGERY       2015-06-30   \n",
       "1           B82020  CROSSHILLS GROUP PRACTICE       2015-06-30   \n",
       "2           B82053      DYNELEY HOUSE SURGERY       2015-06-30   \n",
       "\n",
       "      Data Quality Issues LDHC001 (Maximum) LDHC001 (Input) LDHCMI001  \\\n",
       "0                     NaN                35               2         2   \n",
       "1  See data quality table                32               X         X   \n",
       "2                     NaN               NaN               2         2   \n",
       "\n",
       "      ...     LDHCMI005 LDHCMI006 LDHCMI007  LDHCMI008  LDHCMI009  LDHCMI0010  \\\n",
       "0     ...          37.0       1.0       2.0        0.0        1.0         0.0   \n",
       "1     ...          32.0       1.0       0.0        0.0        1.0         0.0   \n",
       "2     ...          21.0       2.0       2.0        0.0        1.0         0.0   \n",
       "\n",
       "   LDHCMI0011  LDHCMI0012  LDHCMI0013  LDHCMI0014  \n",
       "0         0.0         0.0         1.0         0.0  \n",
       "1         0.0         0.0         0.0         0.0  \n",
       "2         0.0         0.0         1.0         0.0  \n",
       "\n",
       "[3 rows x 23 columns]"
      ]
     },
     "execution_count": 12,
     "metadata": {},
     "output_type": "execute_result"
    }
   ],
   "source": [
    "df=pd.read_excel('data/{}_XLS.xlsx'.format(typ),xl.sheet_names[SHEETS],skiprows=9,na_values=':')\n",
    "df.head(3)"
   ]
  },
  {
   "cell_type": "code",
   "execution_count": 13,
   "metadata": {
    "collapsed": false
   },
   "outputs": [
    {
     "name": "stdout",
     "output_type": "stream",
     "text": [
      "LDHC_1516 30 June 2015\n",
      "LDHC_1516 30 September 2015\n",
      "LDHC_1516 30 December 2015\n",
      "LDHC_1516 31 March 2016\n"
     ]
    },
    {
     "name": "stderr",
     "output_type": "stream",
     "text": [
      "/usr/local/lib/python3.5/site-packages/pandas/core/generic.py:1165: UserWarning: The spaces in these column names will not be changed. In pandas versions < 0.14, spaces were converted to underscores.\n",
      "  chunksize=chunksize, dtype=dtype)\n"
     ]
    }
   ],
   "source": [
    "#load the database\n",
    "db_loader(con,typ,xl.sheet_names[SHEETS:],['GP practice Code','Achievement Date'])"
   ]
  },
  {
   "cell_type": "code",
   "execution_count": 14,
   "metadata": {
    "collapsed": false,
    "scrolled": false
   },
   "outputs": [
    {
     "data": {
      "text/html": [
       "<div>\n",
       "<table border=\"1\" class=\"dataframe\">\n",
       "  <thead>\n",
       "    <tr style=\"text-align: right;\">\n",
       "      <th></th>\n",
       "      <th>GP practice Code</th>\n",
       "      <th>Achievement Date</th>\n",
       "      <th>ONS Code</th>\n",
       "      <th>CCG Code</th>\n",
       "      <th>CCG Name</th>\n",
       "      <th>GP practice Name</th>\n",
       "      <th>Data Quality Issues</th>\n",
       "      <th>LDHC001 (Maximum)</th>\n",
       "      <th>LDHC001 (Input)</th>\n",
       "      <th>LDHCMI001</th>\n",
       "      <th>...</th>\n",
       "      <th>LDHCMI005</th>\n",
       "      <th>LDHCMI006</th>\n",
       "      <th>LDHCMI007</th>\n",
       "      <th>LDHCMI008</th>\n",
       "      <th>LDHCMI009</th>\n",
       "      <th>LDHCMI0010</th>\n",
       "      <th>LDHCMI0011</th>\n",
       "      <th>LDHCMI0012</th>\n",
       "      <th>LDHCMI0013</th>\n",
       "      <th>LDHCMI0014</th>\n",
       "    </tr>\n",
       "  </thead>\n",
       "  <tbody>\n",
       "    <tr>\n",
       "      <th>0</th>\n",
       "      <td>J84005</td>\n",
       "      <td>2015-06-30 00:00:00</td>\n",
       "      <td>E38000087</td>\n",
       "      <td>10L</td>\n",
       "      <td>NHS ISLE OF WIGHT CCG</td>\n",
       "      <td>ESPLANADE SURGERY</td>\n",
       "      <td>None</td>\n",
       "      <td>63.0</td>\n",
       "      <td>5.0</td>\n",
       "      <td>NaN</td>\n",
       "      <td>...</td>\n",
       "      <td>NaN</td>\n",
       "      <td>NaN</td>\n",
       "      <td>NaN</td>\n",
       "      <td>NaN</td>\n",
       "      <td>NaN</td>\n",
       "      <td>NaN</td>\n",
       "      <td>NaN</td>\n",
       "      <td>NaN</td>\n",
       "      <td>NaN</td>\n",
       "      <td>NaN</td>\n",
       "    </tr>\n",
       "    <tr>\n",
       "      <th>1</th>\n",
       "      <td>J84005</td>\n",
       "      <td>2015-09-30 00:00:00</td>\n",
       "      <td>E38000087</td>\n",
       "      <td>10L</td>\n",
       "      <td>NHS ISLE OF WIGHT CCG</td>\n",
       "      <td>ESPLANADE SURGERY</td>\n",
       "      <td>See data quality table</td>\n",
       "      <td>NaN</td>\n",
       "      <td>2.0</td>\n",
       "      <td>2.0</td>\n",
       "      <td>...</td>\n",
       "      <td>58.0</td>\n",
       "      <td>1.0</td>\n",
       "      <td>2.0</td>\n",
       "      <td>0.0</td>\n",
       "      <td>0.0</td>\n",
       "      <td>0.0</td>\n",
       "      <td>0.0</td>\n",
       "      <td>0.0</td>\n",
       "      <td>7.0</td>\n",
       "      <td>0.0</td>\n",
       "    </tr>\n",
       "    <tr>\n",
       "      <th>2</th>\n",
       "      <td>J84005</td>\n",
       "      <td>2015-12-31 00:00:00</td>\n",
       "      <td>E38000087</td>\n",
       "      <td>10L</td>\n",
       "      <td>NHS ISLE OF WIGHT CCG</td>\n",
       "      <td>ESPLANADE SURGERY</td>\n",
       "      <td>See data quality table</td>\n",
       "      <td>NaN</td>\n",
       "      <td>1.0</td>\n",
       "      <td>1.0</td>\n",
       "      <td>...</td>\n",
       "      <td>58.0</td>\n",
       "      <td>1.0</td>\n",
       "      <td>1.0</td>\n",
       "      <td>0.0</td>\n",
       "      <td>0.0</td>\n",
       "      <td>0.0</td>\n",
       "      <td>0.0</td>\n",
       "      <td>0.0</td>\n",
       "      <td>8.0</td>\n",
       "      <td>0.0</td>\n",
       "    </tr>\n",
       "  </tbody>\n",
       "</table>\n",
       "<p>3 rows × 23 columns</p>\n",
       "</div>"
      ],
      "text/plain": [
       "  GP practice Code     Achievement Date   ONS Code CCG Code  \\\n",
       "0           J84005  2015-06-30 00:00:00  E38000087      10L   \n",
       "1           J84005  2015-09-30 00:00:00  E38000087      10L   \n",
       "2           J84005  2015-12-31 00:00:00  E38000087      10L   \n",
       "\n",
       "                CCG Name   GP practice Name     Data Quality Issues  \\\n",
       "0  NHS ISLE OF WIGHT CCG  ESPLANADE SURGERY                    None   \n",
       "1  NHS ISLE OF WIGHT CCG  ESPLANADE SURGERY  See data quality table   \n",
       "2  NHS ISLE OF WIGHT CCG  ESPLANADE SURGERY  See data quality table   \n",
       "\n",
       "   LDHC001 (Maximum)  LDHC001 (Input)  LDHCMI001     ...      LDHCMI005  \\\n",
       "0               63.0              5.0        NaN     ...            NaN   \n",
       "1                NaN              2.0        2.0     ...           58.0   \n",
       "2                NaN              1.0        1.0     ...           58.0   \n",
       "\n",
       "   LDHCMI006  LDHCMI007  LDHCMI008  LDHCMI009  LDHCMI0010  LDHCMI0011  \\\n",
       "0        NaN        NaN        NaN        NaN         NaN         NaN   \n",
       "1        1.0        2.0        0.0        0.0         0.0         0.0   \n",
       "2        1.0        1.0        0.0        0.0         0.0         0.0   \n",
       "\n",
       "   LDHCMI0012  LDHCMI0013  LDHCMI0014  \n",
       "0         NaN         NaN         NaN  \n",
       "1         0.0         7.0         0.0  \n",
       "2         0.0         8.0         0.0  \n",
       "\n",
       "[3 rows x 23 columns]"
      ]
     },
     "execution_count": 14,
     "metadata": {},
     "output_type": "execute_result"
    }
   ],
   "source": [
    "gpcode='J84005'\n",
    "tmp=pd.read_sql_query('SELECT * from {typ} WHERE \"GP practice Code\"=\"{gpcode}\"'.format(typ=typ,gpcode=gpcode), con)\n",
    "tmp.head(3)"
   ]
  },
  {
   "cell_type": "code",
   "execution_count": 17,
   "metadata": {
    "collapsed": false
   },
   "outputs": [
    {
     "data": {
      "text/html": [
       "<div>\n",
       "<table border=\"1\" class=\"dataframe\">\n",
       "  <thead>\n",
       "    <tr style=\"text-align: right;\">\n",
       "      <th></th>\n",
       "      <th>code</th>\n",
       "      <th>explanation</th>\n",
       "    </tr>\n",
       "  </thead>\n",
       "  <tbody>\n",
       "    <tr>\n",
       "      <th>0</th>\n",
       "      <td>LDHC001 (Maximum)</td>\n",
       "      <td>The number of patients aged 14 years or over i...</td>\n",
       "    </tr>\n",
       "    <tr>\n",
       "      <th>1</th>\n",
       "      <td>LDHC001 (Input)</td>\n",
       "      <td>The number of those patients aged 14 years or ...</td>\n",
       "    </tr>\n",
       "    <tr>\n",
       "      <th>2</th>\n",
       "      <td>LDHCMI001</td>\n",
       "      <td>Quarterly count of registered patients aged 18...</td>\n",
       "    </tr>\n",
       "    <tr>\n",
       "      <th>3</th>\n",
       "      <td>LDHCMI002</td>\n",
       "      <td>Quarterly count of registered patients aged 14...</td>\n",
       "    </tr>\n",
       "    <tr>\n",
       "      <th>4</th>\n",
       "      <td>LDHCMI003</td>\n",
       "      <td>Quarterly count of registered patients aged 18...</td>\n",
       "    </tr>\n",
       "    <tr>\n",
       "      <th>5</th>\n",
       "      <td>LDHCMI004</td>\n",
       "      <td>Quarterly count of registered patients aged 14...</td>\n",
       "    </tr>\n",
       "    <tr>\n",
       "      <th>6</th>\n",
       "      <td>LDHCMI005</td>\n",
       "      <td>Quarterly (cumulative) count of registered pat...</td>\n",
       "    </tr>\n",
       "    <tr>\n",
       "      <th>7</th>\n",
       "      <td>LDHCMI006</td>\n",
       "      <td>Quarterly (cumulative) count of registered pat...</td>\n",
       "    </tr>\n",
       "    <tr>\n",
       "      <th>8</th>\n",
       "      <td>LDHCMI007</td>\n",
       "      <td>Quarterly count of registered patients aged 18...</td>\n",
       "    </tr>\n",
       "    <tr>\n",
       "      <th>9</th>\n",
       "      <td>LDHCMI008</td>\n",
       "      <td>Quarterly count of registered patients aged 14...</td>\n",
       "    </tr>\n",
       "    <tr>\n",
       "      <th>10</th>\n",
       "      <td>LDHCMI009</td>\n",
       "      <td>Quarterly (cumulative) count of registered pat...</td>\n",
       "    </tr>\n",
       "    <tr>\n",
       "      <th>11</th>\n",
       "      <td>LDHCMI0010</td>\n",
       "      <td>Quarterly (cumulative) count of registered pat...</td>\n",
       "    </tr>\n",
       "    <tr>\n",
       "      <th>12</th>\n",
       "      <td>LDHCMI0011</td>\n",
       "      <td>Quarterly (cumulative) count of registered pat...</td>\n",
       "    </tr>\n",
       "    <tr>\n",
       "      <th>13</th>\n",
       "      <td>LDHCMI0012</td>\n",
       "      <td>Quarterly (cumulative) count of registered pat...</td>\n",
       "    </tr>\n",
       "    <tr>\n",
       "      <th>14</th>\n",
       "      <td>LDHCMI0013</td>\n",
       "      <td>Quarterly (cumulative) count of registered pat...</td>\n",
       "    </tr>\n",
       "    <tr>\n",
       "      <th>15</th>\n",
       "      <td>LDHCMI0014</td>\n",
       "      <td>Quarterly (cumulative) count of registered pat...</td>\n",
       "    </tr>\n",
       "  </tbody>\n",
       "</table>\n",
       "</div>"
      ],
      "text/plain": [
       "                 code                                        explanation\n",
       "0   LDHC001 (Maximum)  The number of patients aged 14 years or over i...\n",
       "1     LDHC001 (Input)  The number of those patients aged 14 years or ...\n",
       "2           LDHCMI001  Quarterly count of registered patients aged 18...\n",
       "3           LDHCMI002  Quarterly count of registered patients aged 14...\n",
       "4           LDHCMI003  Quarterly count of registered patients aged 18...\n",
       "5           LDHCMI004  Quarterly count of registered patients aged 14...\n",
       "6           LDHCMI005  Quarterly (cumulative) count of registered pat...\n",
       "7           LDHCMI006  Quarterly (cumulative) count of registered pat...\n",
       "8           LDHCMI007  Quarterly count of registered patients aged 18...\n",
       "9           LDHCMI008  Quarterly count of registered patients aged 14...\n",
       "10          LDHCMI009  Quarterly (cumulative) count of registered pat...\n",
       "11         LDHCMI0010  Quarterly (cumulative) count of registered pat...\n",
       "12         LDHCMI0011  Quarterly (cumulative) count of registered pat...\n",
       "13         LDHCMI0012  Quarterly (cumulative) count of registered pat...\n",
       "14         LDHCMI0013  Quarterly (cumulative) count of registered pat...\n",
       "15         LDHCMI0014  Quarterly (cumulative) count of registered pat..."
      ]
     },
     "execution_count": 17,
     "metadata": {},
     "output_type": "execute_result"
    }
   ],
   "source": [
    "metadata_loader(con,typ,sheet=xl.sheet_names[1])\n",
    "pd.read_sql_query('SELECT * from metadata_{typ}'.format(typ=typ), con)"
   ]
  },
  {
   "cell_type": "markdown",
   "metadata": {},
   "source": [
    "## Seasonal influenza vaccination programme 2015-16.csv"
   ]
  },
  {
   "cell_type": "code",
   "execution_count": 18,
   "metadata": {
    "collapsed": true
   },
   "outputs": [],
   "source": [
    "typ='SFLU_1516'"
   ]
  },
  {
   "cell_type": "code",
   "execution_count": 19,
   "metadata": {
    "collapsed": false
   },
   "outputs": [
    {
     "name": "stdout",
     "output_type": "stream",
     "text": [
      "--2016-10-21 00:06:20--  http://www.content.digital.nhs.uk/catalogue/PUB22004/SFLU_1516_XLS.xlsx\n",
      "Resolving www.content.digital.nhs.uk... 194.189.27.28\n",
      "Connecting to www.content.digital.nhs.uk|194.189.27.28|:80... connected.\n",
      "HTTP request sent, awaiting response... 200 OK\n",
      "Length: 6876759 (6.6M) [application/vnd.ms-excel.12]\n",
      "Saving to: 'data/SFLU_1516_XLS.xlsx'\n",
      "\n",
      "SFLU_1516_XLS.xlsx  100%[=====================>]   6.56M  2.82MB/s   in 2.3s   \n",
      "\n",
      "2016-10-21 00:06:25 (2.82 MB/s) - 'data/SFLU_1516_XLS.xlsx' saved [6876759/6876759]\n",
      "\n"
     ]
    }
   ],
   "source": [
    "#downloader('SFLU_1516_CSV')\n",
    "downloader_xl(typ)"
   ]
  },
  {
   "cell_type": "code",
   "execution_count": 20,
   "metadata": {
    "collapsed": false
   },
   "outputs": [
    {
     "data": {
      "text/plain": [
       "['Title sheet',\n",
       " 'Notes and definitions',\n",
       " 'Data quality',\n",
       " 'Practice data quality',\n",
       " 'September 2015',\n",
       " 'October 2015',\n",
       " 'November 2015',\n",
       " 'December 2015',\n",
       " 'January 2016',\n",
       " 'February 2016',\n",
       " 'March 2016']"
      ]
     },
     "execution_count": 20,
     "metadata": {},
     "output_type": "execute_result"
    }
   ],
   "source": [
    "xl=pd.ExcelFile('data/{}_XLS.xlsx'.format(typ))\n",
    "xl.sheet_names"
   ]
  },
  {
   "cell_type": "code",
   "execution_count": 21,
   "metadata": {
    "collapsed": false
   },
   "outputs": [
    {
     "data": {
      "text/html": [
       "<div>\n",
       "<table border=\"1\" class=\"dataframe\">\n",
       "  <thead>\n",
       "    <tr style=\"text-align: right;\">\n",
       "      <th></th>\n",
       "      <th>ONS Code</th>\n",
       "      <th>CCG Code</th>\n",
       "      <th>CCG Name</th>\n",
       "      <th>Practice Code</th>\n",
       "      <th>Practice Name</th>\n",
       "      <th>Achievement Date</th>\n",
       "      <th>Data Quality</th>\n",
       "      <th>Registered patients (65+)</th>\n",
       "      <th>SFLU001</th>\n",
       "      <th>SFLUMI002</th>\n",
       "      <th>...</th>\n",
       "      <th>SFLUMI011</th>\n",
       "      <th>Registered patients (6m to 9yrs)</th>\n",
       "      <th>SFLU004</th>\n",
       "      <th>SFLU005</th>\n",
       "      <th>SFLUMI001</th>\n",
       "      <th>Registered patients (18+)</th>\n",
       "      <th>SFLUMI012</th>\n",
       "      <th>SFLUMI013</th>\n",
       "      <th>Registered patients (18 to 64yrs)</th>\n",
       "      <th>SFLUMI014</th>\n",
       "    </tr>\n",
       "  </thead>\n",
       "  <tbody>\n",
       "    <tr>\n",
       "      <th>0</th>\n",
       "      <td>E38000001</td>\n",
       "      <td>02N</td>\n",
       "      <td>NHS AIREDALE, WHARFEDALE AND CRAVEN CCG</td>\n",
       "      <td>B82007</td>\n",
       "      <td>TOWNHEAD SURGERY</td>\n",
       "      <td>2015-09-30</td>\n",
       "      <td>NaN</td>\n",
       "      <td>2687.0</td>\n",
       "      <td>247.0</td>\n",
       "      <td>0.0</td>\n",
       "      <td>...</td>\n",
       "      <td>0.0</td>\n",
       "      <td>384.0</td>\n",
       "      <td>0</td>\n",
       "      <td>0</td>\n",
       "      <td>0</td>\n",
       "      <td>7879.0</td>\n",
       "      <td>0.0</td>\n",
       "      <td>0.0</td>\n",
       "      <td>5192.0</td>\n",
       "      <td>0.0</td>\n",
       "    </tr>\n",
       "    <tr>\n",
       "      <th>1</th>\n",
       "      <td>E38000001</td>\n",
       "      <td>02N</td>\n",
       "      <td>NHS AIREDALE, WHARFEDALE AND CRAVEN CCG</td>\n",
       "      <td>B82020</td>\n",
       "      <td>CROSSHILLS GROUP PRACTICE</td>\n",
       "      <td>2015-09-30</td>\n",
       "      <td>NaN</td>\n",
       "      <td>2705.0</td>\n",
       "      <td>534.0</td>\n",
       "      <td>0.0</td>\n",
       "      <td>...</td>\n",
       "      <td>0.0</td>\n",
       "      <td>686.0</td>\n",
       "      <td>0</td>\n",
       "      <td>0</td>\n",
       "      <td>0</td>\n",
       "      <td>9734.0</td>\n",
       "      <td>0.0</td>\n",
       "      <td>0.0</td>\n",
       "      <td>7029.0</td>\n",
       "      <td>0.0</td>\n",
       "    </tr>\n",
       "    <tr>\n",
       "      <th>2</th>\n",
       "      <td>E38000001</td>\n",
       "      <td>02N</td>\n",
       "      <td>NHS AIREDALE, WHARFEDALE AND CRAVEN CCG</td>\n",
       "      <td>B82028</td>\n",
       "      <td>FISHER MEDICAL CENTRE</td>\n",
       "      <td>2015-09-30</td>\n",
       "      <td>NaN</td>\n",
       "      <td>3556.0</td>\n",
       "      <td>440.0</td>\n",
       "      <td>NaN</td>\n",
       "      <td>...</td>\n",
       "      <td>NaN</td>\n",
       "      <td>756.0</td>\n",
       "      <td>0</td>\n",
       "      <td>0</td>\n",
       "      <td>NaN</td>\n",
       "      <td>11618.0</td>\n",
       "      <td>NaN</td>\n",
       "      <td>NaN</td>\n",
       "      <td>8062.0</td>\n",
       "      <td>NaN</td>\n",
       "    </tr>\n",
       "  </tbody>\n",
       "</table>\n",
       "<p>3 rows × 31 columns</p>\n",
       "</div>"
      ],
      "text/plain": [
       "    ONS Code CCG Code                                 CCG Name Practice Code  \\\n",
       "0  E38000001      02N  NHS AIREDALE, WHARFEDALE AND CRAVEN CCG        B82007   \n",
       "1  E38000001      02N  NHS AIREDALE, WHARFEDALE AND CRAVEN CCG        B82020   \n",
       "2  E38000001      02N  NHS AIREDALE, WHARFEDALE AND CRAVEN CCG        B82028   \n",
       "\n",
       "               Practice Name Achievement Date Data Quality  \\\n",
       "0           TOWNHEAD SURGERY       2015-09-30          NaN   \n",
       "1  CROSSHILLS GROUP PRACTICE       2015-09-30          NaN   \n",
       "2      FISHER MEDICAL CENTRE       2015-09-30          NaN   \n",
       "\n",
       "   Registered patients (65+)  SFLU001  SFLUMI002    ...      SFLUMI011  \\\n",
       "0                     2687.0    247.0        0.0    ...            0.0   \n",
       "1                     2705.0    534.0        0.0    ...            0.0   \n",
       "2                     3556.0    440.0        NaN    ...            NaN   \n",
       "\n",
       "   Registered patients (6m to 9yrs)  SFLU004  SFLU005  SFLUMI001  \\\n",
       "0                             384.0        0        0          0   \n",
       "1                             686.0        0        0          0   \n",
       "2                             756.0        0        0        NaN   \n",
       "\n",
       "   Registered patients (18+)  SFLUMI012  SFLUMI013  \\\n",
       "0                     7879.0        0.0        0.0   \n",
       "1                     9734.0        0.0        0.0   \n",
       "2                    11618.0        NaN        NaN   \n",
       "\n",
       "   Registered patients (18 to 64yrs)  SFLUMI014  \n",
       "0                             5192.0        0.0  \n",
       "1                             7029.0        0.0  \n",
       "2                             8062.0        NaN  \n",
       "\n",
       "[3 rows x 31 columns]"
      ]
     },
     "execution_count": 21,
     "metadata": {},
     "output_type": "execute_result"
    }
   ],
   "source": [
    "df=pd.read_excel('data/{}_XLS.xlsx'.format(typ),xl.sheet_names[SHEETS],skiprows=9,na_values=':')\n",
    "df.head(3)"
   ]
  },
  {
   "cell_type": "code",
   "execution_count": 22,
   "metadata": {
    "collapsed": false
   },
   "outputs": [
    {
     "name": "stdout",
     "output_type": "stream",
     "text": [
      "SFLU_1516 September 2015\n",
      "SFLU_1516 October 2015\n",
      "SFLU_1516 November 2015\n",
      "SFLU_1516 December 2015\n",
      "SFLU_1516 January 2016\n",
      "SFLU_1516 February 2016\n",
      "SFLU_1516 March 2016\n"
     ]
    },
    {
     "name": "stderr",
     "output_type": "stream",
     "text": [
      "/usr/local/lib/python3.5/site-packages/pandas/core/generic.py:1165: UserWarning: The spaces in these column names will not be changed. In pandas versions < 0.14, spaces were converted to underscores.\n",
      "  chunksize=chunksize, dtype=dtype)\n"
     ]
    }
   ],
   "source": [
    "#load the database\n",
    "db_loader(con,typ,xl.sheet_names[SHEETS:],['Practice Code','Achievement Date'])"
   ]
  },
  {
   "cell_type": "code",
   "execution_count": 23,
   "metadata": {
    "collapsed": false
   },
   "outputs": [
    {
     "data": {
      "text/html": [
       "<div>\n",
       "<table border=\"1\" class=\"dataframe\">\n",
       "  <thead>\n",
       "    <tr style=\"text-align: right;\">\n",
       "      <th></th>\n",
       "      <th>Practice Code</th>\n",
       "      <th>Achievement Date</th>\n",
       "      <th>ONS Code</th>\n",
       "      <th>CCG Code</th>\n",
       "      <th>CCG Name</th>\n",
       "      <th>Practice Name</th>\n",
       "      <th>Data Quality</th>\n",
       "      <th>Registered patients (65+)</th>\n",
       "      <th>SFLU001</th>\n",
       "      <th>SFLUMI002</th>\n",
       "      <th>...</th>\n",
       "      <th>SFLUMI011</th>\n",
       "      <th>Registered patients (6m to 9yrs)</th>\n",
       "      <th>SFLU004</th>\n",
       "      <th>SFLU005</th>\n",
       "      <th>SFLUMI001</th>\n",
       "      <th>Registered patients (18+)</th>\n",
       "      <th>SFLUMI012</th>\n",
       "      <th>SFLUMI013</th>\n",
       "      <th>Registered patients (18 to 64yrs)</th>\n",
       "      <th>SFLUMI014</th>\n",
       "    </tr>\n",
       "  </thead>\n",
       "  <tbody>\n",
       "    <tr>\n",
       "      <th>0</th>\n",
       "      <td>J84005</td>\n",
       "      <td>2015-10-31 00:00:00</td>\n",
       "      <td>E38000087</td>\n",
       "      <td>10L</td>\n",
       "      <td>NHS ISLE OF WIGHT CCG</td>\n",
       "      <td>ESPLANADE SURGERY</td>\n",
       "      <td>None</td>\n",
       "      <td>2511.0</td>\n",
       "      <td>550.0</td>\n",
       "      <td>2.0</td>\n",
       "      <td>...</td>\n",
       "      <td>636.0</td>\n",
       "      <td>505.0</td>\n",
       "      <td>0</td>\n",
       "      <td>0</td>\n",
       "      <td>0</td>\n",
       "      <td>8343.0</td>\n",
       "      <td>188.0</td>\n",
       "      <td>31.0</td>\n",
       "      <td>5832.0</td>\n",
       "      <td>4.0</td>\n",
       "    </tr>\n",
       "    <tr>\n",
       "      <th>1</th>\n",
       "      <td>J84005</td>\n",
       "      <td>2015-11-30 00:00:00</td>\n",
       "      <td>E38000087</td>\n",
       "      <td>10L</td>\n",
       "      <td>NHS ISLE OF WIGHT CCG</td>\n",
       "      <td>ESPLANADE SURGERY</td>\n",
       "      <td>None</td>\n",
       "      <td>2511.0</td>\n",
       "      <td>133.0</td>\n",
       "      <td>5.0</td>\n",
       "      <td>...</td>\n",
       "      <td>578.0</td>\n",
       "      <td>505.0</td>\n",
       "      <td>0</td>\n",
       "      <td>0</td>\n",
       "      <td>0</td>\n",
       "      <td>8343.0</td>\n",
       "      <td>192.0</td>\n",
       "      <td>35.0</td>\n",
       "      <td>5832.0</td>\n",
       "      <td>5.0</td>\n",
       "    </tr>\n",
       "    <tr>\n",
       "      <th>2</th>\n",
       "      <td>J84005</td>\n",
       "      <td>2015-12-31 00:00:00</td>\n",
       "      <td>E38000087</td>\n",
       "      <td>10L</td>\n",
       "      <td>NHS ISLE OF WIGHT CCG</td>\n",
       "      <td>ESPLANADE SURGERY</td>\n",
       "      <td>None</td>\n",
       "      <td>2511.0</td>\n",
       "      <td>80.0</td>\n",
       "      <td>NaN</td>\n",
       "      <td>...</td>\n",
       "      <td>NaN</td>\n",
       "      <td>505.0</td>\n",
       "      <td>0</td>\n",
       "      <td>0</td>\n",
       "      <td>None</td>\n",
       "      <td>8343.0</td>\n",
       "      <td>None</td>\n",
       "      <td>None</td>\n",
       "      <td>5832.0</td>\n",
       "      <td>None</td>\n",
       "    </tr>\n",
       "  </tbody>\n",
       "</table>\n",
       "<p>3 rows × 31 columns</p>\n",
       "</div>"
      ],
      "text/plain": [
       "  Practice Code     Achievement Date   ONS Code CCG Code  \\\n",
       "0        J84005  2015-10-31 00:00:00  E38000087      10L   \n",
       "1        J84005  2015-11-30 00:00:00  E38000087      10L   \n",
       "2        J84005  2015-12-31 00:00:00  E38000087      10L   \n",
       "\n",
       "                CCG Name      Practice Name Data Quality  \\\n",
       "0  NHS ISLE OF WIGHT CCG  ESPLANADE SURGERY         None   \n",
       "1  NHS ISLE OF WIGHT CCG  ESPLANADE SURGERY         None   \n",
       "2  NHS ISLE OF WIGHT CCG  ESPLANADE SURGERY         None   \n",
       "\n",
       "   Registered patients (65+)  SFLU001  SFLUMI002    ...      SFLUMI011  \\\n",
       "0                     2511.0    550.0        2.0    ...          636.0   \n",
       "1                     2511.0    133.0        5.0    ...          578.0   \n",
       "2                     2511.0     80.0        NaN    ...            NaN   \n",
       "\n",
       "   Registered patients (6m to 9yrs)  SFLU004  SFLU005  SFLUMI001  \\\n",
       "0                             505.0        0        0          0   \n",
       "1                             505.0        0        0          0   \n",
       "2                             505.0        0        0       None   \n",
       "\n",
       "   Registered patients (18+)  SFLUMI012  SFLUMI013  \\\n",
       "0                     8343.0      188.0       31.0   \n",
       "1                     8343.0      192.0       35.0   \n",
       "2                     8343.0       None       None   \n",
       "\n",
       "   Registered patients (18 to 64yrs)  SFLUMI014  \n",
       "0                             5832.0        4.0  \n",
       "1                             5832.0        5.0  \n",
       "2                             5832.0       None  \n",
       "\n",
       "[3 rows x 31 columns]"
      ]
     },
     "execution_count": 23,
     "metadata": {},
     "output_type": "execute_result"
    }
   ],
   "source": [
    "gpcode='J84005'\n",
    "tmp=pd.read_sql_query('SELECT * from {typ} where \"Practice Code\"=\"{gpcode}\"'.format(typ=typ,gpcode=gpcode), con)\n",
    "tmp.head(3)"
   ]
  },
  {
   "cell_type": "code",
   "execution_count": 24,
   "metadata": {
    "collapsed": false
   },
   "outputs": [
    {
     "data": {
      "text/html": [
       "<div>\n",
       "<table border=\"1\" class=\"dataframe\">\n",
       "  <thead>\n",
       "    <tr style=\"text-align: right;\">\n",
       "      <th></th>\n",
       "      <th>code</th>\n",
       "      <th>explanation</th>\n",
       "    </tr>\n",
       "  </thead>\n",
       "  <tbody>\n",
       "    <tr>\n",
       "      <th>0</th>\n",
       "      <td>SFLU001</td>\n",
       "      <td>Monthly count of patients aged 65 years and ov...</td>\n",
       "    </tr>\n",
       "    <tr>\n",
       "      <th>1</th>\n",
       "      <td>SFLU002</td>\n",
       "      <td>Monthly count of the number of eligible patien...</td>\n",
       "    </tr>\n",
       "    <tr>\n",
       "      <th>2</th>\n",
       "      <td>SFLU003</td>\n",
       "      <td>Monthly count of the number of eligible patien...</td>\n",
       "    </tr>\n",
       "    <tr>\n",
       "      <th>3</th>\n",
       "      <td>SFLU004</td>\n",
       "      <td>Monthly count of the number of eligible patien...</td>\n",
       "    </tr>\n",
       "    <tr>\n",
       "      <th>4</th>\n",
       "      <td>SFLU005</td>\n",
       "      <td>Monthly count of the number of eligible patien...</td>\n",
       "    </tr>\n",
       "    <tr>\n",
       "      <th>5</th>\n",
       "      <td>SFLUMI001</td>\n",
       "      <td>Monthly count of eligible patients identified ...</td>\n",
       "    </tr>\n",
       "    <tr>\n",
       "      <th>6</th>\n",
       "      <td>SFLUMI002</td>\n",
       "      <td>Monthly count of patients aged 65 years and ov...</td>\n",
       "    </tr>\n",
       "    <tr>\n",
       "      <th>7</th>\n",
       "      <td>SFLUMI003</td>\n",
       "      <td>Monthly count of eligible patients identified ...</td>\n",
       "    </tr>\n",
       "    <tr>\n",
       "      <th>8</th>\n",
       "      <td>SFLUMI004</td>\n",
       "      <td>Monthly count of patients aged 65 years and ov...</td>\n",
       "    </tr>\n",
       "    <tr>\n",
       "      <th>9</th>\n",
       "      <td>SFLUMI005</td>\n",
       "      <td>Monthly count of patients identified as at ris...</td>\n",
       "    </tr>\n",
       "    <tr>\n",
       "      <th>10</th>\n",
       "      <td>SFLUMI006</td>\n",
       "      <td>Monthly count of patients aged 65 years and ov...</td>\n",
       "    </tr>\n",
       "    <tr>\n",
       "      <th>11</th>\n",
       "      <td>SFLUMI007</td>\n",
       "      <td>Monthly count of eligible patients identified ...</td>\n",
       "    </tr>\n",
       "    <tr>\n",
       "      <th>12</th>\n",
       "      <td>SFLUMI008</td>\n",
       "      <td>Monthly count of patients aged 65 years and ov...</td>\n",
       "    </tr>\n",
       "    <tr>\n",
       "      <th>13</th>\n",
       "      <td>SFLUMI009</td>\n",
       "      <td>The number of eligible patients identified as ...</td>\n",
       "    </tr>\n",
       "    <tr>\n",
       "      <th>14</th>\n",
       "      <td>SFLUMI010</td>\n",
       "      <td>Monthly count of patients aged 65 years and ov...</td>\n",
       "    </tr>\n",
       "    <tr>\n",
       "      <th>15</th>\n",
       "      <td>SFLUMI011</td>\n",
       "      <td>Monthly count of eligible patients identified ...</td>\n",
       "    </tr>\n",
       "    <tr>\n",
       "      <th>16</th>\n",
       "      <td>SFLUMI012</td>\n",
       "      <td>The number of patients defined as morbidly obe...</td>\n",
       "    </tr>\n",
       "    <tr>\n",
       "      <th>17</th>\n",
       "      <td>SFLUMI013</td>\n",
       "      <td>The number of patients defined as morbidly obe...</td>\n",
       "    </tr>\n",
       "    <tr>\n",
       "      <th>18</th>\n",
       "      <td>SFLUMI014</td>\n",
       "      <td>The number of patients defined as morbidly obe...</td>\n",
       "    </tr>\n",
       "  </tbody>\n",
       "</table>\n",
       "</div>"
      ],
      "text/plain": [
       "         code                                        explanation\n",
       "0     SFLU001  Monthly count of patients aged 65 years and ov...\n",
       "1     SFLU002  Monthly count of the number of eligible patien...\n",
       "2     SFLU003  Monthly count of the number of eligible patien...\n",
       "3     SFLU004  Monthly count of the number of eligible patien...\n",
       "4     SFLU005  Monthly count of the number of eligible patien...\n",
       "5   SFLUMI001  Monthly count of eligible patients identified ...\n",
       "6   SFLUMI002  Monthly count of patients aged 65 years and ov...\n",
       "7   SFLUMI003  Monthly count of eligible patients identified ...\n",
       "8   SFLUMI004  Monthly count of patients aged 65 years and ov...\n",
       "9   SFLUMI005  Monthly count of patients identified as at ris...\n",
       "10  SFLUMI006  Monthly count of patients aged 65 years and ov...\n",
       "11  SFLUMI007  Monthly count of eligible patients identified ...\n",
       "12  SFLUMI008  Monthly count of patients aged 65 years and ov...\n",
       "13  SFLUMI009  The number of eligible patients identified as ...\n",
       "14  SFLUMI010  Monthly count of patients aged 65 years and ov...\n",
       "15  SFLUMI011  Monthly count of eligible patients identified ...\n",
       "16  SFLUMI012  The number of patients defined as morbidly obe...\n",
       "17  SFLUMI013  The number of patients defined as morbidly obe...\n",
       "18  SFLUMI014  The number of patients defined as morbidly obe..."
      ]
     },
     "execution_count": 24,
     "metadata": {},
     "output_type": "execute_result"
    }
   ],
   "source": [
    "metadata_loader(con,typ,sheet=xl.sheet_names[1])\n",
    "pd.read_sql_query('SELECT * from metadata_{typ}'.format(typ=typ), con)"
   ]
  },
  {
   "cell_type": "markdown",
   "metadata": {},
   "source": [
    "## Childhood seasonal influenza vaccination programme 2015-16.csv\n"
   ]
  },
  {
   "cell_type": "code",
   "execution_count": 25,
   "metadata": {
    "collapsed": true
   },
   "outputs": [],
   "source": [
    "typ='CFLU_1516'"
   ]
  },
  {
   "cell_type": "code",
   "execution_count": 26,
   "metadata": {
    "collapsed": false
   },
   "outputs": [
    {
     "name": "stdout",
     "output_type": "stream",
     "text": [
      "--2016-10-21 00:08:45--  http://www.content.digital.nhs.uk/catalogue/PUB22004/CFLU_1516_XLS.xlsx\n",
      "Resolving www.content.digital.nhs.uk... 194.189.27.28\n",
      "Connecting to www.content.digital.nhs.uk|194.189.27.28|:80... connected.\n",
      "HTTP request sent, awaiting response... 200 OK\n",
      "Length: 4460849 (4.3M) [application/vnd.ms-excel.12]\n",
      "Saving to: 'data/CFLU_1516_XLS.xlsx'\n",
      "\n",
      "CFLU_1516_XLS.xlsx  100%[=====================>]   4.25M  2.69MB/s   in 1.6s   \n",
      "\n",
      "2016-10-21 00:08:48 (2.69 MB/s) - 'data/CFLU_1516_XLS.xlsx' saved [4460849/4460849]\n",
      "\n"
     ]
    }
   ],
   "source": [
    "#downloader('CFLU_1516_CSV')\n",
    "downloader_xl(typ)"
   ]
  },
  {
   "cell_type": "code",
   "execution_count": 27,
   "metadata": {
    "collapsed": false
   },
   "outputs": [
    {
     "data": {
      "text/plain": [
       "['Title sheet',\n",
       " 'Note and definitions',\n",
       " 'Data Quality',\n",
       " 'Data Quality Table',\n",
       " 'September 2015',\n",
       " 'October 2015',\n",
       " 'November 2015',\n",
       " 'December 2015',\n",
       " 'January 2016',\n",
       " 'February 2016',\n",
       " 'March 2016']"
      ]
     },
     "execution_count": 27,
     "metadata": {},
     "output_type": "execute_result"
    }
   ],
   "source": [
    "xl=pd.ExcelFile('data/{}_XLS.xlsx'.format(typ))\n",
    "xl.sheet_names"
   ]
  },
  {
   "cell_type": "code",
   "execution_count": 28,
   "metadata": {
    "collapsed": false
   },
   "outputs": [
    {
     "data": {
      "text/html": [
       "<div>\n",
       "<table border=\"1\" class=\"dataframe\">\n",
       "  <thead>\n",
       "    <tr style=\"text-align: right;\">\n",
       "      <th></th>\n",
       "      <th>ONS Code</th>\n",
       "      <th>CCG Code</th>\n",
       "      <th>CCG Name</th>\n",
       "      <th>GP Practice Code</th>\n",
       "      <th>GP Practice Name</th>\n",
       "      <th>Data Quality</th>\n",
       "      <th>CFLU002</th>\n",
       "      <th>CFLU003</th>\n",
       "      <th>CFLUMI001</th>\n",
       "      <th>CFLUMI009</th>\n",
       "      <th>CFLUMI002</th>\n",
       "      <th>CFLUMI003</th>\n",
       "      <th>CFLUMI007</th>\n",
       "      <th>CFLUMI008</th>\n",
       "      <th>Registered Patients (aged 2,3,4)</th>\n",
       "    </tr>\n",
       "  </thead>\n",
       "  <tbody>\n",
       "    <tr>\n",
       "      <th>0</th>\n",
       "      <td>E38000042</td>\n",
       "      <td>00C</td>\n",
       "      <td>NHS DARLINGTON CCG</td>\n",
       "      <td>A83005</td>\n",
       "      <td>WHINFIELD MEDICAL PRACTICE</td>\n",
       "      <td>NaN</td>\n",
       "      <td>0</td>\n",
       "      <td>0</td>\n",
       "      <td>0</td>\n",
       "      <td>0</td>\n",
       "      <td>0</td>\n",
       "      <td>0.0</td>\n",
       "      <td>418.0</td>\n",
       "      <td>0.0</td>\n",
       "      <td>415.0</td>\n",
       "    </tr>\n",
       "    <tr>\n",
       "      <th>1</th>\n",
       "      <td>E38000042</td>\n",
       "      <td>00C</td>\n",
       "      <td>NHS DARLINGTON CCG</td>\n",
       "      <td>A83006</td>\n",
       "      <td>ORCHARD COURT SURGERY</td>\n",
       "      <td>NaN</td>\n",
       "      <td>0</td>\n",
       "      <td>0</td>\n",
       "      <td>0</td>\n",
       "      <td>0</td>\n",
       "      <td>0</td>\n",
       "      <td>0.0</td>\n",
       "      <td>274.0</td>\n",
       "      <td>0.0</td>\n",
       "      <td>270.0</td>\n",
       "    </tr>\n",
       "    <tr>\n",
       "      <th>2</th>\n",
       "      <td>E38000042</td>\n",
       "      <td>00C</td>\n",
       "      <td>NHS DARLINGTON CCG</td>\n",
       "      <td>A83010</td>\n",
       "      <td>MOORLANDS SURGERY</td>\n",
       "      <td>NaN</td>\n",
       "      <td>0</td>\n",
       "      <td>0</td>\n",
       "      <td>0</td>\n",
       "      <td>0</td>\n",
       "      <td>0</td>\n",
       "      <td>0.0</td>\n",
       "      <td>457.0</td>\n",
       "      <td>0.0</td>\n",
       "      <td>450.0</td>\n",
       "    </tr>\n",
       "  </tbody>\n",
       "</table>\n",
       "</div>"
      ],
      "text/plain": [
       "    ONS Code CCG Code            CCG Name GP Practice Code  \\\n",
       "0  E38000042      00C  NHS DARLINGTON CCG           A83005   \n",
       "1  E38000042      00C  NHS DARLINGTON CCG           A83006   \n",
       "2  E38000042      00C  NHS DARLINGTON CCG           A83010   \n",
       "\n",
       "             GP Practice Name Data Quality CFLU002 CFLU003 CFLUMI001  \\\n",
       "0  WHINFIELD MEDICAL PRACTICE          NaN       0       0         0   \n",
       "1       ORCHARD COURT SURGERY          NaN       0       0         0   \n",
       "2           MOORLANDS SURGERY          NaN       0       0         0   \n",
       "\n",
       "  CFLUMI009 CFLUMI002  CFLUMI003  CFLUMI007  CFLUMI008  \\\n",
       "0         0         0        0.0      418.0        0.0   \n",
       "1         0         0        0.0      274.0        0.0   \n",
       "2         0         0        0.0      457.0        0.0   \n",
       "\n",
       "   Registered Patients (aged 2,3,4)  \n",
       "0                             415.0  \n",
       "1                             270.0  \n",
       "2                             450.0  "
      ]
     },
     "execution_count": 28,
     "metadata": {},
     "output_type": "execute_result"
    }
   ],
   "source": [
    "df=pd.read_excel('data/{}_XLS.xlsx'.format(typ),xl.sheet_names[SHEETS],skiprows=9,na_values=':')\n",
    "df.head(3)"
   ]
  },
  {
   "cell_type": "code",
   "execution_count": 29,
   "metadata": {
    "collapsed": false
   },
   "outputs": [
    {
     "name": "stdout",
     "output_type": "stream",
     "text": [
      "CFLU_1516 September 2015\n",
      "CFLU_1516 October 2015\n",
      "CFLU_1516 November 2015\n",
      "CFLU_1516 December 2015\n",
      "CFLU_1516 January 2016\n",
      "CFLU_1516 February 2016\n",
      "CFLU_1516 March 2016\n"
     ]
    },
    {
     "name": "stderr",
     "output_type": "stream",
     "text": [
      "/usr/local/lib/python3.5/site-packages/pandas/core/generic.py:1165: UserWarning: The spaces in these column names will not be changed. In pandas versions < 0.14, spaces were converted to underscores.\n",
      "  chunksize=chunksize, dtype=dtype)\n"
     ]
    }
   ],
   "source": [
    "#load the database\n",
    "db_loader(con,typ,xl.sheet_names[SHEETS:],['GP Practice Code','Period'],add_sheet_index='Period')"
   ]
  },
  {
   "cell_type": "code",
   "execution_count": 30,
   "metadata": {
    "collapsed": false
   },
   "outputs": [
    {
     "data": {
      "text/html": [
       "<div>\n",
       "<table border=\"1\" class=\"dataframe\">\n",
       "  <thead>\n",
       "    <tr style=\"text-align: right;\">\n",
       "      <th></th>\n",
       "      <th>GP Practice Code</th>\n",
       "      <th>Period</th>\n",
       "      <th>ONS Code</th>\n",
       "      <th>CCG Code</th>\n",
       "      <th>CCG Name</th>\n",
       "      <th>GP Practice Name</th>\n",
       "      <th>Data Quality</th>\n",
       "      <th>CFLU002</th>\n",
       "      <th>CFLU003</th>\n",
       "      <th>CFLUMI001</th>\n",
       "      <th>CFLUMI009</th>\n",
       "      <th>CFLUMI002</th>\n",
       "      <th>CFLUMI003</th>\n",
       "      <th>CFLUMI007</th>\n",
       "      <th>CFLUMI008</th>\n",
       "      <th>Registered Patients (aged 2,3,4)</th>\n",
       "    </tr>\n",
       "  </thead>\n",
       "  <tbody>\n",
       "    <tr>\n",
       "      <th>0</th>\n",
       "      <td>J84005</td>\n",
       "      <td>December 2015</td>\n",
       "      <td>E38000087</td>\n",
       "      <td>10L</td>\n",
       "      <td>NHS ISLE OF WIGHT CCG</td>\n",
       "      <td>ESPLANADE SURGERY</td>\n",
       "      <td>None</td>\n",
       "      <td>12.0</td>\n",
       "      <td>0.0</td>\n",
       "      <td>8.0</td>\n",
       "      <td>0.0</td>\n",
       "      <td>4.0</td>\n",
       "      <td>0.0</td>\n",
       "      <td>182.0</td>\n",
       "      <td>1.0</td>\n",
       "      <td>244.0</td>\n",
       "    </tr>\n",
       "    <tr>\n",
       "      <th>1</th>\n",
       "      <td>J84005</td>\n",
       "      <td>February 2016</td>\n",
       "      <td>E38000087</td>\n",
       "      <td>10L</td>\n",
       "      <td>NHS ISLE OF WIGHT CCG</td>\n",
       "      <td>ESPLANADE SURGERY</td>\n",
       "      <td>None</td>\n",
       "      <td>3.0</td>\n",
       "      <td>0.0</td>\n",
       "      <td>0.0</td>\n",
       "      <td>0.0</td>\n",
       "      <td>3.0</td>\n",
       "      <td>0.0</td>\n",
       "      <td>183.0</td>\n",
       "      <td>0.0</td>\n",
       "      <td>244.0</td>\n",
       "    </tr>\n",
       "    <tr>\n",
       "      <th>2</th>\n",
       "      <td>J84005</td>\n",
       "      <td>January 2016</td>\n",
       "      <td>E38000087</td>\n",
       "      <td>10L</td>\n",
       "      <td>NHS ISLE OF WIGHT CCG</td>\n",
       "      <td>ESPLANADE SURGERY</td>\n",
       "      <td>None</td>\n",
       "      <td>0.0</td>\n",
       "      <td>0.0</td>\n",
       "      <td>0.0</td>\n",
       "      <td>0.0</td>\n",
       "      <td>0.0</td>\n",
       "      <td>0.0</td>\n",
       "      <td>182.0</td>\n",
       "      <td>0.0</td>\n",
       "      <td>244.0</td>\n",
       "    </tr>\n",
       "  </tbody>\n",
       "</table>\n",
       "</div>"
      ],
      "text/plain": [
       "  GP Practice Code         Period   ONS Code CCG Code               CCG Name  \\\n",
       "0           J84005  December 2015  E38000087      10L  NHS ISLE OF WIGHT CCG   \n",
       "1           J84005  February 2016  E38000087      10L  NHS ISLE OF WIGHT CCG   \n",
       "2           J84005   January 2016  E38000087      10L  NHS ISLE OF WIGHT CCG   \n",
       "\n",
       "    GP Practice Name Data Quality  CFLU002  CFLU003  CFLUMI001  CFLUMI009  \\\n",
       "0  ESPLANADE SURGERY         None     12.0      0.0        8.0        0.0   \n",
       "1  ESPLANADE SURGERY         None      3.0      0.0        0.0        0.0   \n",
       "2  ESPLANADE SURGERY         None      0.0      0.0        0.0        0.0   \n",
       "\n",
       "   CFLUMI002  CFLUMI003  CFLUMI007  CFLUMI008  \\\n",
       "0        4.0        0.0      182.0        1.0   \n",
       "1        3.0        0.0      183.0        0.0   \n",
       "2        0.0        0.0      182.0        0.0   \n",
       "\n",
       "   Registered Patients (aged 2,3,4)  \n",
       "0                             244.0  \n",
       "1                             244.0  \n",
       "2                             244.0  "
      ]
     },
     "execution_count": 30,
     "metadata": {},
     "output_type": "execute_result"
    }
   ],
   "source": [
    "gpcode='J84005'\n",
    "tmp=pd.read_sql_query('SELECT * from {typ} where \"GP Practice Code\"=\"{gpcode}\"'.format(typ=typ,gpcode=gpcode), con)\n",
    "tmp.head(3)"
   ]
  },
  {
   "cell_type": "code",
   "execution_count": 31,
   "metadata": {
    "collapsed": false
   },
   "outputs": [
    {
     "data": {
      "text/html": [
       "<div>\n",
       "<table border=\"1\" class=\"dataframe\">\n",
       "  <thead>\n",
       "    <tr style=\"text-align: right;\">\n",
       "      <th></th>\n",
       "      <th>code</th>\n",
       "      <th>explanation</th>\n",
       "    </tr>\n",
       "  </thead>\n",
       "  <tbody>\n",
       "    <tr>\n",
       "      <th>0</th>\n",
       "      <td>CFLU002</td>\n",
       "      <td>Monthly count of the number of patients aged t...</td>\n",
       "    </tr>\n",
       "    <tr>\n",
       "      <th>1</th>\n",
       "      <td>CFLU003</td>\n",
       "      <td>Monthly count of the number of patients aged t...</td>\n",
       "    </tr>\n",
       "    <tr>\n",
       "      <th>2</th>\n",
       "      <td>CFLUMI001</td>\n",
       "      <td>The number of patients aged two, three and fou...</td>\n",
       "    </tr>\n",
       "    <tr>\n",
       "      <th>3</th>\n",
       "      <td>CFLUMI009</td>\n",
       "      <td>The number of patients aged two, three and fou...</td>\n",
       "    </tr>\n",
       "    <tr>\n",
       "      <th>4</th>\n",
       "      <td>CFLUMI002</td>\n",
       "      <td>The number of patients aged two, three and fou...</td>\n",
       "    </tr>\n",
       "    <tr>\n",
       "      <th>5</th>\n",
       "      <td>CFLUMI003</td>\n",
       "      <td>The number of patients aged two, three and fou...</td>\n",
       "    </tr>\n",
       "    <tr>\n",
       "      <th>6</th>\n",
       "      <td>CFLUMI007</td>\n",
       "      <td>The number of patients aged two, three and fou...</td>\n",
       "    </tr>\n",
       "    <tr>\n",
       "      <th>7</th>\n",
       "      <td>CFLUMI008</td>\n",
       "      <td>The number of patients aged two, three and fou...</td>\n",
       "    </tr>\n",
       "  </tbody>\n",
       "</table>\n",
       "</div>"
      ],
      "text/plain": [
       "        code                                        explanation\n",
       "0    CFLU002  Monthly count of the number of patients aged t...\n",
       "1    CFLU003  Monthly count of the number of patients aged t...\n",
       "2  CFLUMI001  The number of patients aged two, three and fou...\n",
       "3  CFLUMI009  The number of patients aged two, three and fou...\n",
       "4  CFLUMI002  The number of patients aged two, three and fou...\n",
       "5  CFLUMI003  The number of patients aged two, three and fou...\n",
       "6  CFLUMI007  The number of patients aged two, three and fou...\n",
       "7  CFLUMI008  The number of patients aged two, three and fou..."
      ]
     },
     "execution_count": 31,
     "metadata": {},
     "output_type": "execute_result"
    }
   ],
   "source": [
    "metadata_loader(con,typ,sheet=xl.sheet_names[1])\n",
    "pd.read_sql_query('SELECT * from metadata_{typ}'.format(typ=typ), con)"
   ]
  },
  {
   "cell_type": "markdown",
   "metadata": {},
   "source": [
    "## Facilitating timely diagnosis for people with dementia scheme 2015-16.csv"
   ]
  },
  {
   "cell_type": "code",
   "execution_count": 32,
   "metadata": {
    "collapsed": true
   },
   "outputs": [],
   "source": [
    "typ='DEM_1516'"
   ]
  },
  {
   "cell_type": "code",
   "execution_count": 33,
   "metadata": {
    "collapsed": false
   },
   "outputs": [
    {
     "name": "stdout",
     "output_type": "stream",
     "text": [
      "--2016-10-21 00:10:25--  http://www.content.digital.nhs.uk/catalogue/PUB22004/DEM_1516_XLS.xlsx\n",
      "Resolving www.content.digital.nhs.uk... 194.189.27.28\n",
      "Connecting to www.content.digital.nhs.uk|194.189.27.28|:80... connected.\n",
      "HTTP request sent, awaiting response... 200 OK\n",
      "Length: 1757027 (1.7M) [application/vnd.ms-excel.12]\n",
      "Saving to: 'data/DEM_1516_XLS.xlsx'\n",
      "\n",
      "DEM_1516_XLS.xlsx   100%[=====================>]   1.67M  2.69MB/s   in 0.6s   \n",
      "\n",
      "2016-10-21 00:10:27 (2.69 MB/s) - 'data/DEM_1516_XLS.xlsx' saved [1757027/1757027]\n",
      "\n"
     ]
    }
   ],
   "source": [
    "#downloader('DEM_1516_CSV')\n",
    "downloader_xl(typ)"
   ]
  },
  {
   "cell_type": "code",
   "execution_count": 34,
   "metadata": {
    "collapsed": false
   },
   "outputs": [
    {
     "data": {
      "text/plain": [
       "['Title sheet',\n",
       " 'Note and definitions',\n",
       " 'Data Quality',\n",
       " 'Practice Data Quality',\n",
       " '\"Assessment\"',\n",
       " '\"At risk\"',\n",
       " '\"Non professional carer\"',\n",
       " '\"Advanced care plan\"']"
      ]
     },
     "execution_count": 34,
     "metadata": {},
     "output_type": "execute_result"
    }
   ],
   "source": [
    "xl=pd.ExcelFile('data/{}_XLS.xlsx'.format(typ))\n",
    "xl.sheet_names"
   ]
  },
  {
   "cell_type": "code",
   "execution_count": 35,
   "metadata": {
    "collapsed": false
   },
   "outputs": [
    {
     "data": {
      "text/html": [
       "<div>\n",
       "<table border=\"1\" class=\"dataframe\">\n",
       "  <thead>\n",
       "    <tr style=\"text-align: right;\">\n",
       "      <th></th>\n",
       "      <th>ONS Code</th>\n",
       "      <th>CCG Code</th>\n",
       "      <th>CCG Name</th>\n",
       "      <th>GP practice Code</th>\n",
       "      <th>GP practice Name</th>\n",
       "      <th>Data Quality Issues</th>\n",
       "      <th>DEMC201</th>\n",
       "      <th>DEMMI01</th>\n",
       "      <th>DEMMI06</th>\n",
       "      <th>DEMMI07</th>\n",
       "      <th>DEMMI08</th>\n",
       "      <th>DEMMI09</th>\n",
       "    </tr>\n",
       "  </thead>\n",
       "  <tbody>\n",
       "    <tr>\n",
       "      <th>0</th>\n",
       "      <td>E38000001</td>\n",
       "      <td>02N</td>\n",
       "      <td>NHS AIREDALE, WHARFEDALE AND CRAVEN CCG</td>\n",
       "      <td>B82007</td>\n",
       "      <td>TOWNHEAD SURGERY</td>\n",
       "      <td>NaN</td>\n",
       "      <td>36</td>\n",
       "      <td>28.0</td>\n",
       "      <td>2</td>\n",
       "      <td>0</td>\n",
       "      <td>5</td>\n",
       "      <td>1</td>\n",
       "    </tr>\n",
       "    <tr>\n",
       "      <th>1</th>\n",
       "      <td>E38000001</td>\n",
       "      <td>02N</td>\n",
       "      <td>NHS AIREDALE, WHARFEDALE AND CRAVEN CCG</td>\n",
       "      <td>B82020</td>\n",
       "      <td>CROSSHILLS GROUP PRACTICE</td>\n",
       "      <td>NaN</td>\n",
       "      <td>226</td>\n",
       "      <td>4.0</td>\n",
       "      <td>200</td>\n",
       "      <td>0</td>\n",
       "      <td>17</td>\n",
       "      <td>2</td>\n",
       "    </tr>\n",
       "    <tr>\n",
       "      <th>2</th>\n",
       "      <td>E38000001</td>\n",
       "      <td>02N</td>\n",
       "      <td>NHS AIREDALE, WHARFEDALE AND CRAVEN CCG</td>\n",
       "      <td>B82053</td>\n",
       "      <td>DYNELEY HOUSE SURGERY</td>\n",
       "      <td>NaN</td>\n",
       "      <td>47</td>\n",
       "      <td>2.0</td>\n",
       "      <td>11</td>\n",
       "      <td>0</td>\n",
       "      <td>2</td>\n",
       "      <td>3</td>\n",
       "    </tr>\n",
       "  </tbody>\n",
       "</table>\n",
       "</div>"
      ],
      "text/plain": [
       "    ONS Code CCG Code                                 CCG Name  \\\n",
       "0  E38000001      02N  NHS AIREDALE, WHARFEDALE AND CRAVEN CCG   \n",
       "1  E38000001      02N  NHS AIREDALE, WHARFEDALE AND CRAVEN CCG   \n",
       "2  E38000001      02N  NHS AIREDALE, WHARFEDALE AND CRAVEN CCG   \n",
       "\n",
       "  GP practice Code           GP practice Name Data Quality Issues DEMC201  \\\n",
       "0           B82007           TOWNHEAD SURGERY                 NaN      36   \n",
       "1           B82020  CROSSHILLS GROUP PRACTICE                 NaN     226   \n",
       "2           B82053      DYNELEY HOUSE SURGERY                 NaN      47   \n",
       "\n",
       "   DEMMI01 DEMMI06 DEMMI07 DEMMI08 DEMMI09  \n",
       "0     28.0       2       0       5       1  \n",
       "1      4.0     200       0      17       2  \n",
       "2      2.0      11       0       2       3  "
      ]
     },
     "execution_count": 35,
     "metadata": {},
     "output_type": "execute_result"
    }
   ],
   "source": [
    "df=pd.read_excel('data/{}_XLS.xlsx'.format(typ),xl.sheet_names[SHEETS],skiprows=9,na_values=':')\n",
    "df.head(3)"
   ]
  },
  {
   "cell_type": "code",
   "execution_count": 36,
   "metadata": {
    "collapsed": false
   },
   "outputs": [
    {
     "name": "stdout",
     "output_type": "stream",
     "text": [
      "DEM_1516 \"Assessment\"\n",
      "DEM_1516 \"At risk\"\n",
      "DEM_1516 \"Non professional carer\"\n",
      "DEM_1516 \"Advanced care plan\"\n"
     ]
    },
    {
     "name": "stderr",
     "output_type": "stream",
     "text": [
      "/usr/local/lib/python3.5/site-packages/pandas/core/generic.py:1165: UserWarning: The spaces in these column names will not be changed. In pandas versions < 0.14, spaces were converted to underscores.\n",
      "  chunksize=chunksize, dtype=dtype)\n"
     ]
    }
   ],
   "source": [
    "#load the database\n",
    "db_loader(con,typ,xl.sheet_names[SHEETS:],['GP practice Code','Type'],add_sheet_index=\"Type\")"
   ]
  },
  {
   "cell_type": "code",
   "execution_count": 37,
   "metadata": {
    "collapsed": false
   },
   "outputs": [
    {
     "data": {
      "text/html": [
       "<div>\n",
       "<table border=\"1\" class=\"dataframe\">\n",
       "  <thead>\n",
       "    <tr style=\"text-align: right;\">\n",
       "      <th></th>\n",
       "      <th>GP practice Code</th>\n",
       "      <th>Type</th>\n",
       "      <th>CCG Code</th>\n",
       "      <th>CCG Name</th>\n",
       "      <th>DEMC201</th>\n",
       "      <th>DEMMI01</th>\n",
       "      <th>DEMMI02</th>\n",
       "      <th>DEMMI03</th>\n",
       "      <th>DEMMI04</th>\n",
       "      <th>DEMMI05</th>\n",
       "      <th>...</th>\n",
       "      <th>DEMMI10</th>\n",
       "      <th>DEMMI11</th>\n",
       "      <th>DEMMI12</th>\n",
       "      <th>DEMMI13</th>\n",
       "      <th>DEMMI14</th>\n",
       "      <th>DEMMI15</th>\n",
       "      <th>DEMMI16</th>\n",
       "      <th>Data Quality Issues</th>\n",
       "      <th>GP practice Name</th>\n",
       "      <th>ONS Code</th>\n",
       "    </tr>\n",
       "  </thead>\n",
       "  <tbody>\n",
       "    <tr>\n",
       "      <th>0</th>\n",
       "      <td>J84005</td>\n",
       "      <td>Advanced care plan</td>\n",
       "      <td>10L</td>\n",
       "      <td>NHS ISLE OF WIGHT CCG</td>\n",
       "      <td>NaN</td>\n",
       "      <td>NaN</td>\n",
       "      <td>NaN</td>\n",
       "      <td>NaN</td>\n",
       "      <td>NaN</td>\n",
       "      <td>NaN</td>\n",
       "      <td>...</td>\n",
       "      <td>NaN</td>\n",
       "      <td>NaN</td>\n",
       "      <td>NaN</td>\n",
       "      <td>NaN</td>\n",
       "      <td>0.0</td>\n",
       "      <td>0.0</td>\n",
       "      <td>26.0</td>\n",
       "      <td>None</td>\n",
       "      <td>ESPLANADE SURGERY</td>\n",
       "      <td>E38000087</td>\n",
       "    </tr>\n",
       "    <tr>\n",
       "      <th>1</th>\n",
       "      <td>J84005</td>\n",
       "      <td>Assessment</td>\n",
       "      <td>10L</td>\n",
       "      <td>NHS ISLE OF WIGHT CCG</td>\n",
       "      <td>25.0</td>\n",
       "      <td>0.0</td>\n",
       "      <td>NaN</td>\n",
       "      <td>NaN</td>\n",
       "      <td>NaN</td>\n",
       "      <td>NaN</td>\n",
       "      <td>...</td>\n",
       "      <td>NaN</td>\n",
       "      <td>NaN</td>\n",
       "      <td>NaN</td>\n",
       "      <td>NaN</td>\n",
       "      <td>NaN</td>\n",
       "      <td>NaN</td>\n",
       "      <td>NaN</td>\n",
       "      <td>None</td>\n",
       "      <td>ESPLANADE SURGERY</td>\n",
       "      <td>E38000087</td>\n",
       "    </tr>\n",
       "    <tr>\n",
       "      <th>2</th>\n",
       "      <td>J84005</td>\n",
       "      <td>At risk</td>\n",
       "      <td>10L</td>\n",
       "      <td>NHS ISLE OF WIGHT CCG</td>\n",
       "      <td>NaN</td>\n",
       "      <td>NaN</td>\n",
       "      <td>20.0</td>\n",
       "      <td>0.0</td>\n",
       "      <td>0.0</td>\n",
       "      <td>20.0</td>\n",
       "      <td>...</td>\n",
       "      <td>NaN</td>\n",
       "      <td>NaN</td>\n",
       "      <td>NaN</td>\n",
       "      <td>NaN</td>\n",
       "      <td>NaN</td>\n",
       "      <td>NaN</td>\n",
       "      <td>NaN</td>\n",
       "      <td>None</td>\n",
       "      <td>ESPLANADE SURGERY</td>\n",
       "      <td>E38000087</td>\n",
       "    </tr>\n",
       "  </tbody>\n",
       "</table>\n",
       "<p>3 rows × 24 columns</p>\n",
       "</div>"
      ],
      "text/plain": [
       "  GP practice Code                Type CCG Code               CCG Name  \\\n",
       "0           J84005  Advanced care plan      10L  NHS ISLE OF WIGHT CCG   \n",
       "1           J84005          Assessment      10L  NHS ISLE OF WIGHT CCG   \n",
       "2           J84005             At risk      10L  NHS ISLE OF WIGHT CCG   \n",
       "\n",
       "   DEMC201  DEMMI01  DEMMI02  DEMMI03  DEMMI04  DEMMI05    ...      DEMMI10  \\\n",
       "0      NaN      NaN      NaN      NaN      NaN      NaN    ...          NaN   \n",
       "1     25.0      0.0      NaN      NaN      NaN      NaN    ...          NaN   \n",
       "2      NaN      NaN     20.0      0.0      0.0     20.0    ...          NaN   \n",
       "\n",
       "   DEMMI11  DEMMI12  DEMMI13  DEMMI14  DEMMI15  DEMMI16  Data Quality Issues  \\\n",
       "0      NaN      NaN      NaN      0.0      0.0     26.0                 None   \n",
       "1      NaN      NaN      NaN      NaN      NaN      NaN                 None   \n",
       "2      NaN      NaN      NaN      NaN      NaN      NaN                 None   \n",
       "\n",
       "    GP practice Name   ONS Code  \n",
       "0  ESPLANADE SURGERY  E38000087  \n",
       "1  ESPLANADE SURGERY  E38000087  \n",
       "2  ESPLANADE SURGERY  E38000087  \n",
       "\n",
       "[3 rows x 24 columns]"
      ]
     },
     "execution_count": 37,
     "metadata": {},
     "output_type": "execute_result"
    }
   ],
   "source": [
    "gpcode='J84005'\n",
    "tmp=pd.read_sql_query('SELECT * from {typ} WHERE \"GP practice Code\"=\"{gpcode}\"'.format(typ=typ,gpcode=gpcode), con)\n",
    "tmp.head(3)"
   ]
  },
  {
   "cell_type": "code",
   "execution_count": 38,
   "metadata": {
    "collapsed": false
   },
   "outputs": [
    {
     "data": {
      "text/html": [
       "<div>\n",
       "<table border=\"1\" class=\"dataframe\">\n",
       "  <thead>\n",
       "    <tr style=\"text-align: right;\">\n",
       "      <th></th>\n",
       "      <th>code</th>\n",
       "      <th>explanation</th>\n",
       "    </tr>\n",
       "  </thead>\n",
       "  <tbody>\n",
       "    <tr>\n",
       "      <th>0</th>\n",
       "      <td>DEMC201</td>\n",
       "      <td>Number of patients with a record of receiving ...</td>\n",
       "    </tr>\n",
       "    <tr>\n",
       "      <th>1</th>\n",
       "      <td>DEMMI01</td>\n",
       "      <td>The number of patients with a record of declin...</td>\n",
       "    </tr>\n",
       "    <tr>\n",
       "      <th>2</th>\n",
       "      <td>DEMMI03</td>\n",
       "      <td>The number of patients recorded as being ‘at r...</td>\n",
       "    </tr>\n",
       "    <tr>\n",
       "      <th>3</th>\n",
       "      <td>DEMMI04</td>\n",
       "      <td>The number of patients recorded as being ‘at r...</td>\n",
       "    </tr>\n",
       "    <tr>\n",
       "      <th>4</th>\n",
       "      <td>DEMMI06</td>\n",
       "      <td>The number of patients with a record of receiv...</td>\n",
       "    </tr>\n",
       "    <tr>\n",
       "      <th>5</th>\n",
       "      <td>DEMMI08</td>\n",
       "      <td>The number of patients with a record of receiv...</td>\n",
       "    </tr>\n",
       "    <tr>\n",
       "      <th>6</th>\n",
       "      <td>DEMMI09</td>\n",
       "      <td>The number of patients with a record of receiv...</td>\n",
       "    </tr>\n",
       "    <tr>\n",
       "      <th>7</th>\n",
       "      <td>DEMMI10</td>\n",
       "      <td>The number of patients recorded as a non-profe...</td>\n",
       "    </tr>\n",
       "    <tr>\n",
       "      <th>8</th>\n",
       "      <td>DEMMI11</td>\n",
       "      <td>The number of patients recorded as a non-profe...</td>\n",
       "    </tr>\n",
       "    <tr>\n",
       "      <th>9</th>\n",
       "      <td>DEMMI12</td>\n",
       "      <td>The number of patients recorded as a non-profe...</td>\n",
       "    </tr>\n",
       "    <tr>\n",
       "      <th>10</th>\n",
       "      <td>DEMMI13</td>\n",
       "      <td>The number of patients recorded as a non-profe...</td>\n",
       "    </tr>\n",
       "    <tr>\n",
       "      <th>11</th>\n",
       "      <td>DEMMI14</td>\n",
       "      <td>The number of patients diagnosed with dementia...</td>\n",
       "    </tr>\n",
       "    <tr>\n",
       "      <th>12</th>\n",
       "      <td>DEMMI15</td>\n",
       "      <td>The number of patients diagnosed with dementia...</td>\n",
       "    </tr>\n",
       "    <tr>\n",
       "      <th>13</th>\n",
       "      <td>DEMMI16</td>\n",
       "      <td>The number of patients diagnosed with dementia...</td>\n",
       "    </tr>\n",
       "  </tbody>\n",
       "</table>\n",
       "</div>"
      ],
      "text/plain": [
       "       code                                        explanation\n",
       "0   DEMC201  Number of patients with a record of receiving ...\n",
       "1   DEMMI01  The number of patients with a record of declin...\n",
       "2   DEMMI03  The number of patients recorded as being ‘at r...\n",
       "3   DEMMI04  The number of patients recorded as being ‘at r...\n",
       "4   DEMMI06  The number of patients with a record of receiv...\n",
       "5   DEMMI08  The number of patients with a record of receiv...\n",
       "6   DEMMI09  The number of patients with a record of receiv...\n",
       "7   DEMMI10  The number of patients recorded as a non-profe...\n",
       "8   DEMMI11  The number of patients recorded as a non-profe...\n",
       "9   DEMMI12  The number of patients recorded as a non-profe...\n",
       "10  DEMMI13  The number of patients recorded as a non-profe...\n",
       "11  DEMMI14  The number of patients diagnosed with dementia...\n",
       "12  DEMMI15  The number of patients diagnosed with dementia...\n",
       "13  DEMMI16  The number of patients diagnosed with dementia..."
      ]
     },
     "execution_count": 38,
     "metadata": {},
     "output_type": "execute_result"
    }
   ],
   "source": [
    "metadata_loader(con,typ,sheet=xl.sheet_names[1])\n",
    "pd.read_sql_query('SELECT * from metadata_{typ}'.format(typ=typ), con)"
   ]
  },
  {
   "cell_type": "markdown",
   "metadata": {},
   "source": [
    "## Named accountable GP for all patients 2015-16.csv"
   ]
  },
  {
   "cell_type": "code",
   "execution_count": 39,
   "metadata": {
    "collapsed": true
   },
   "outputs": [],
   "source": [
    "typ='NAGP_1516'"
   ]
  },
  {
   "cell_type": "code",
   "execution_count": 40,
   "metadata": {
    "collapsed": false
   },
   "outputs": [
    {
     "name": "stdout",
     "output_type": "stream",
     "text": [
      "--2016-10-21 00:10:54--  http://www.content.digital.nhs.uk/catalogue/PUB22004/NAGP_1516_XLS.xlsx\n",
      "Resolving www.content.digital.nhs.uk... 194.189.27.28\n",
      "Connecting to www.content.digital.nhs.uk|194.189.27.28|:80... connected.\n",
      "HTTP request sent, awaiting response... 200 OK\n",
      "Length: 7452505 (7.1M) [application/vnd.ms-excel.12]\n",
      "Saving to: 'data/NAGP_1516_XLS.xlsx'\n",
      "\n",
      "NAGP_1516_XLS.xlsx  100%[=====================>]   7.11M  2.56MB/s   in 2.8s   \n",
      "\n",
      "2016-10-21 00:10:58 (2.56 MB/s) - 'data/NAGP_1516_XLS.xlsx' saved [7452505/7452505]\n",
      "\n"
     ]
    }
   ],
   "source": [
    "#downloader('NAGP_1516_CSV')\n",
    "downloader_xl(typ)"
   ]
  },
  {
   "cell_type": "code",
   "execution_count": 41,
   "metadata": {
    "collapsed": false
   },
   "outputs": [
    {
     "data": {
      "text/plain": [
       "['Title sheet',\n",
       " 'Notes and definitions',\n",
       " 'Data quality',\n",
       " 'Practice data quality',\n",
       " 'April 2015',\n",
       " 'May 2015',\n",
       " 'June 2015',\n",
       " 'July 2015',\n",
       " 'August 2015',\n",
       " 'September 2015',\n",
       " 'October 2015',\n",
       " 'November 2015',\n",
       " 'December 2015',\n",
       " 'January 2016',\n",
       " 'February 2016',\n",
       " 'March 2016']"
      ]
     },
     "execution_count": 41,
     "metadata": {},
     "output_type": "execute_result"
    }
   ],
   "source": [
    "xl=pd.ExcelFile('data/{}_XLS.xlsx'.format(typ))\n",
    "xl.sheet_names"
   ]
  },
  {
   "cell_type": "code",
   "execution_count": 42,
   "metadata": {
    "collapsed": false
   },
   "outputs": [
    {
     "data": {
      "text/html": [
       "<div>\n",
       "<table border=\"1\" class=\"dataframe\">\n",
       "  <thead>\n",
       "    <tr style=\"text-align: right;\">\n",
       "      <th></th>\n",
       "      <th>ONS code</th>\n",
       "      <th>CCG code</th>\n",
       "      <th>CCG name</th>\n",
       "      <th>GP practice code</th>\n",
       "      <th>GP practice name</th>\n",
       "      <th>Achievement date</th>\n",
       "      <th>Data quality</th>\n",
       "      <th>NAGPMI011</th>\n",
       "      <th>NAGPMI001</th>\n",
       "      <th>NAGPMI002</th>\n",
       "      <th>NAGPMI003</th>\n",
       "      <th>NAGPMI004</th>\n",
       "      <th>NAGPMI005</th>\n",
       "      <th>NAGPMI006</th>\n",
       "      <th>NAGPMI007</th>\n",
       "      <th>NAGPMI008</th>\n",
       "      <th>NAGPMI009</th>\n",
       "      <th>NAGPMI010</th>\n",
       "    </tr>\n",
       "  </thead>\n",
       "  <tbody>\n",
       "    <tr>\n",
       "      <th>0</th>\n",
       "      <td>E38000001</td>\n",
       "      <td>02N</td>\n",
       "      <td>NHS AIREDALE, WHARFEDALE AND CRAVEN CCG</td>\n",
       "      <td>B83624</td>\n",
       "      <td>I G MEDICAL</td>\n",
       "      <td>2015-04-30</td>\n",
       "      <td>NaN</td>\n",
       "      <td>0.0</td>\n",
       "      <td>0.0</td>\n",
       "      <td>0.0</td>\n",
       "      <td>0.0</td>\n",
       "      <td>0.0</td>\n",
       "      <td>0.0</td>\n",
       "      <td>0.0</td>\n",
       "      <td>0.0</td>\n",
       "      <td>0.0</td>\n",
       "      <td>0.0</td>\n",
       "      <td>0.0</td>\n",
       "    </tr>\n",
       "    <tr>\n",
       "      <th>1</th>\n",
       "      <td>E38000002</td>\n",
       "      <td>09C</td>\n",
       "      <td>NHS ASHFORD CCG</td>\n",
       "      <td>G82735</td>\n",
       "      <td>SOUTH ASHFORD MEDICS</td>\n",
       "      <td>2015-04-30</td>\n",
       "      <td>See data quality table</td>\n",
       "      <td>8069.0</td>\n",
       "      <td>0.0</td>\n",
       "      <td>0.0</td>\n",
       "      <td>0.0</td>\n",
       "      <td>0.0</td>\n",
       "      <td>282.0</td>\n",
       "      <td>282.0</td>\n",
       "      <td>0.0</td>\n",
       "      <td>0.0</td>\n",
       "      <td>0.0</td>\n",
       "      <td>0.0</td>\n",
       "    </tr>\n",
       "    <tr>\n",
       "      <th>2</th>\n",
       "      <td>E38000004</td>\n",
       "      <td>07L</td>\n",
       "      <td>NHS BARKING AND DAGENHAM CCG</td>\n",
       "      <td>F82604</td>\n",
       "      <td>MARKS GATE HEALTH CENTRE</td>\n",
       "      <td>2015-04-30</td>\n",
       "      <td>NaN</td>\n",
       "      <td>3765.0</td>\n",
       "      <td>252.0</td>\n",
       "      <td>3513.0</td>\n",
       "      <td>0.0</td>\n",
       "      <td>0.0</td>\n",
       "      <td>219.0</td>\n",
       "      <td>219.0</td>\n",
       "      <td>0.0</td>\n",
       "      <td>0.0</td>\n",
       "      <td>0.0</td>\n",
       "      <td>0.0</td>\n",
       "    </tr>\n",
       "  </tbody>\n",
       "</table>\n",
       "</div>"
      ],
      "text/plain": [
       "    ONS code CCG code                                 CCG name  \\\n",
       "0  E38000001      02N  NHS AIREDALE, WHARFEDALE AND CRAVEN CCG   \n",
       "1  E38000002      09C                          NHS ASHFORD CCG   \n",
       "2  E38000004      07L             NHS BARKING AND DAGENHAM CCG   \n",
       "\n",
       "  GP practice code          GP practice name Achievement date  \\\n",
       "0           B83624               I G MEDICAL       2015-04-30   \n",
       "1           G82735      SOUTH ASHFORD MEDICS       2015-04-30   \n",
       "2           F82604  MARKS GATE HEALTH CENTRE       2015-04-30   \n",
       "\n",
       "             Data quality  NAGPMI011  NAGPMI001  NAGPMI002  NAGPMI003  \\\n",
       "0                     NaN        0.0        0.0        0.0        0.0   \n",
       "1  See data quality table     8069.0        0.0        0.0        0.0   \n",
       "2                     NaN     3765.0      252.0     3513.0        0.0   \n",
       "\n",
       "   NAGPMI004  NAGPMI005  NAGPMI006  NAGPMI007  NAGPMI008  NAGPMI009  NAGPMI010  \n",
       "0        0.0        0.0        0.0        0.0        0.0        0.0        0.0  \n",
       "1        0.0      282.0      282.0        0.0        0.0        0.0        0.0  \n",
       "2        0.0      219.0      219.0        0.0        0.0        0.0        0.0  "
      ]
     },
     "execution_count": 42,
     "metadata": {},
     "output_type": "execute_result"
    }
   ],
   "source": [
    "df=pd.read_excel('data/{}_XLS.xlsx'.format(typ),xl.sheet_names[SHEETS],skiprows=9,na_values=':')\n",
    "df.head(3)"
   ]
  },
  {
   "cell_type": "code",
   "execution_count": 43,
   "metadata": {
    "collapsed": false
   },
   "outputs": [
    {
     "name": "stdout",
     "output_type": "stream",
     "text": [
      "NAGP_1516 April 2015\n",
      "NAGP_1516 May 2015\n",
      "NAGP_1516 June 2015\n",
      "NAGP_1516 July 2015\n",
      "NAGP_1516 August 2015\n",
      "NAGP_1516 September 2015\n",
      "NAGP_1516 October 2015\n",
      "NAGP_1516 November 2015\n",
      "NAGP_1516 December 2015\n",
      "NAGP_1516 January 2016\n",
      "NAGP_1516 February 2016\n",
      "NAGP_1516 March 2016\n"
     ]
    },
    {
     "name": "stderr",
     "output_type": "stream",
     "text": [
      "/usr/local/lib/python3.5/site-packages/pandas/core/generic.py:1165: UserWarning: The spaces in these column names will not be changed. In pandas versions < 0.14, spaces were converted to underscores.\n",
      "  chunksize=chunksize, dtype=dtype)\n"
     ]
    }
   ],
   "source": [
    "#load the database\n",
    "db_loader(con,typ,xl.sheet_names[SHEETS:],['GP practice code','Achievement date'])"
   ]
  },
  {
   "cell_type": "code",
   "execution_count": 44,
   "metadata": {
    "collapsed": false
   },
   "outputs": [
    {
     "data": {
      "text/html": [
       "<div>\n",
       "<table border=\"1\" class=\"dataframe\">\n",
       "  <thead>\n",
       "    <tr style=\"text-align: right;\">\n",
       "      <th></th>\n",
       "      <th>GP practice code</th>\n",
       "      <th>Achievement date</th>\n",
       "      <th>ONS code</th>\n",
       "      <th>CCG code</th>\n",
       "      <th>CCG name</th>\n",
       "      <th>GP practice name</th>\n",
       "      <th>Data quality</th>\n",
       "      <th>NAGPMI011</th>\n",
       "      <th>NAGPMI001</th>\n",
       "      <th>NAGPMI002</th>\n",
       "      <th>NAGPMI003</th>\n",
       "      <th>NAGPMI004</th>\n",
       "      <th>NAGPMI005</th>\n",
       "      <th>NAGPMI006</th>\n",
       "      <th>NAGPMI007</th>\n",
       "      <th>NAGPMI008</th>\n",
       "      <th>NAGPMI009</th>\n",
       "      <th>NAGPMI010</th>\n",
       "    </tr>\n",
       "  </thead>\n",
       "  <tbody>\n",
       "    <tr>\n",
       "      <th>0</th>\n",
       "      <td>J84005</td>\n",
       "      <td>2015-09-30 00:00:00</td>\n",
       "      <td>E38000087</td>\n",
       "      <td>10L</td>\n",
       "      <td>NHS ISLE OF WIGHT CCG</td>\n",
       "      <td>ESPLANADE SURGERY</td>\n",
       "      <td>None</td>\n",
       "      <td>9898.0</td>\n",
       "      <td>1333.0</td>\n",
       "      <td>8530.0</td>\n",
       "      <td>9.0</td>\n",
       "      <td>26.0</td>\n",
       "      <td>1146.0</td>\n",
       "      <td>1072.0</td>\n",
       "      <td>71.0</td>\n",
       "      <td>1.0</td>\n",
       "      <td>2.0</td>\n",
       "      <td>0.0</td>\n",
       "    </tr>\n",
       "    <tr>\n",
       "      <th>1</th>\n",
       "      <td>J84005</td>\n",
       "      <td>2015-10-31 00:00:00</td>\n",
       "      <td>E38000087</td>\n",
       "      <td>10L</td>\n",
       "      <td>NHS ISLE OF WIGHT CCG</td>\n",
       "      <td>ESPLANADE SURGERY</td>\n",
       "      <td>None</td>\n",
       "      <td>9900.0</td>\n",
       "      <td>1451.0</td>\n",
       "      <td>8405.0</td>\n",
       "      <td>4.0</td>\n",
       "      <td>40.0</td>\n",
       "      <td>1135.0</td>\n",
       "      <td>1102.0</td>\n",
       "      <td>27.0</td>\n",
       "      <td>2.0</td>\n",
       "      <td>4.0</td>\n",
       "      <td>0.0</td>\n",
       "    </tr>\n",
       "    <tr>\n",
       "      <th>2</th>\n",
       "      <td>J84005</td>\n",
       "      <td>2015-11-30 00:00:00</td>\n",
       "      <td>E38000087</td>\n",
       "      <td>10L</td>\n",
       "      <td>NHS ISLE OF WIGHT CCG</td>\n",
       "      <td>ESPLANADE SURGERY</td>\n",
       "      <td>None</td>\n",
       "      <td>9884.0</td>\n",
       "      <td>3598.0</td>\n",
       "      <td>6240.0</td>\n",
       "      <td>8.0</td>\n",
       "      <td>38.0</td>\n",
       "      <td>1120.0</td>\n",
       "      <td>1095.0</td>\n",
       "      <td>20.0</td>\n",
       "      <td>4.0</td>\n",
       "      <td>1.0</td>\n",
       "      <td>0.0</td>\n",
       "    </tr>\n",
       "  </tbody>\n",
       "</table>\n",
       "</div>"
      ],
      "text/plain": [
       "  GP practice code     Achievement date   ONS code CCG code  \\\n",
       "0           J84005  2015-09-30 00:00:00  E38000087      10L   \n",
       "1           J84005  2015-10-31 00:00:00  E38000087      10L   \n",
       "2           J84005  2015-11-30 00:00:00  E38000087      10L   \n",
       "\n",
       "                CCG name   GP practice name Data quality  NAGPMI011  \\\n",
       "0  NHS ISLE OF WIGHT CCG  ESPLANADE SURGERY         None     9898.0   \n",
       "1  NHS ISLE OF WIGHT CCG  ESPLANADE SURGERY         None     9900.0   \n",
       "2  NHS ISLE OF WIGHT CCG  ESPLANADE SURGERY         None     9884.0   \n",
       "\n",
       "   NAGPMI001  NAGPMI002  NAGPMI003  NAGPMI004  NAGPMI005  NAGPMI006  \\\n",
       "0     1333.0     8530.0        9.0       26.0     1146.0     1072.0   \n",
       "1     1451.0     8405.0        4.0       40.0     1135.0     1102.0   \n",
       "2     3598.0     6240.0        8.0       38.0     1120.0     1095.0   \n",
       "\n",
       "   NAGPMI007  NAGPMI008  NAGPMI009  NAGPMI010  \n",
       "0       71.0        1.0        2.0        0.0  \n",
       "1       27.0        2.0        4.0        0.0  \n",
       "2       20.0        4.0        1.0        0.0  "
      ]
     },
     "execution_count": 44,
     "metadata": {},
     "output_type": "execute_result"
    }
   ],
   "source": [
    "gpcode='J84005'\n",
    "tmp=pd.read_sql_query('SELECT * from {typ} WHERE \"GP practice code\"=\"{gpcode}\"'.format(typ=typ,gpcode=gpcode), con)\n",
    "tmp.head(3)"
   ]
  },
  {
   "cell_type": "code",
   "execution_count": 45,
   "metadata": {
    "collapsed": false
   },
   "outputs": [
    {
     "data": {
      "text/html": [
       "<div>\n",
       "<table border=\"1\" class=\"dataframe\">\n",
       "  <thead>\n",
       "    <tr style=\"text-align: right;\">\n",
       "      <th></th>\n",
       "      <th>code</th>\n",
       "      <th>explanation</th>\n",
       "    </tr>\n",
       "  </thead>\n",
       "  <tbody>\n",
       "    <tr>\n",
       "      <th>0</th>\n",
       "      <td>NAGPMI001</td>\n",
       "      <td>The number of patients who have been allocated...</td>\n",
       "    </tr>\n",
       "    <tr>\n",
       "      <th>1</th>\n",
       "      <td>NAGPMI002</td>\n",
       "      <td>The number of patients who have been allocated...</td>\n",
       "    </tr>\n",
       "    <tr>\n",
       "      <th>2</th>\n",
       "      <td>NAGPMI003</td>\n",
       "      <td>The total number of patients who have no recor...</td>\n",
       "    </tr>\n",
       "    <tr>\n",
       "      <th>3</th>\n",
       "      <td>NAGPMI004</td>\n",
       "      <td>The number of patients who have not been alloc...</td>\n",
       "    </tr>\n",
       "    <tr>\n",
       "      <th>4</th>\n",
       "      <td>NAGPMI005</td>\n",
       "      <td>The number of patients on the GP practice list...</td>\n",
       "    </tr>\n",
       "    <tr>\n",
       "      <th>5</th>\n",
       "      <td>NAGPMI006</td>\n",
       "      <td>The number of patients aged 75 years or over w...</td>\n",
       "    </tr>\n",
       "    <tr>\n",
       "      <th>6</th>\n",
       "      <td>NAGPMI007</td>\n",
       "      <td>The number of patients aged 75 years or over w...</td>\n",
       "    </tr>\n",
       "    <tr>\n",
       "      <th>7</th>\n",
       "      <td>NAGPMI008</td>\n",
       "      <td>The total number of patients aged 75 years or ...</td>\n",
       "    </tr>\n",
       "    <tr>\n",
       "      <th>8</th>\n",
       "      <td>NAGPMI009</td>\n",
       "      <td>The number of patients aged 75 years or over w...</td>\n",
       "    </tr>\n",
       "    <tr>\n",
       "      <th>9</th>\n",
       "      <td>NAGPMI010</td>\n",
       "      <td>The number of patients aged 75 years or over w...</td>\n",
       "    </tr>\n",
       "    <tr>\n",
       "      <th>10</th>\n",
       "      <td>NAGPMI011</td>\n",
       "      <td>The number of patients on the GP practice list...</td>\n",
       "    </tr>\n",
       "  </tbody>\n",
       "</table>\n",
       "</div>"
      ],
      "text/plain": [
       "         code                                        explanation\n",
       "0   NAGPMI001  The number of patients who have been allocated...\n",
       "1   NAGPMI002  The number of patients who have been allocated...\n",
       "2   NAGPMI003  The total number of patients who have no recor...\n",
       "3   NAGPMI004  The number of patients who have not been alloc...\n",
       "4   NAGPMI005  The number of patients on the GP practice list...\n",
       "5   NAGPMI006  The number of patients aged 75 years or over w...\n",
       "6   NAGPMI007  The number of patients aged 75 years or over w...\n",
       "7   NAGPMI008  The total number of patients aged 75 years or ...\n",
       "8   NAGPMI009  The number of patients aged 75 years or over w...\n",
       "9   NAGPMI010  The number of patients aged 75 years or over w...\n",
       "10  NAGPMI011  The number of patients on the GP practice list..."
      ]
     },
     "execution_count": 45,
     "metadata": {},
     "output_type": "execute_result"
    }
   ],
   "source": [
    "metadata_loader(con,typ,sheet=xl.sheet_names[1])\n",
    "pd.read_sql_query('SELECT * from metadata_{typ}'.format(typ=typ), con)"
   ]
  }
 ],
 "metadata": {
  "kernelspec": {
   "display_name": "Python 3",
   "language": "python",
   "name": "python3"
  },
  "language_info": {
   "codemirror_mode": {
    "name": "ipython",
    "version": 3
   },
   "file_extension": ".py",
   "mimetype": "text/x-python",
   "name": "python",
   "nbconvert_exporter": "python",
   "pygments_lexer": "ipython3",
   "version": "3.5.1"
  },
  "widgets": {
   "state": {},
   "version": "1.1.2"
  }
 },
 "nbformat": 4,
 "nbformat_minor": 0
}
